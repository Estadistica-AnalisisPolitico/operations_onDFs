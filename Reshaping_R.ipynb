{
  "cells": [
    {
      "cell_type": "markdown",
      "id": "5cd47911",
      "metadata": {
        "id": "5cd47911"
      },
      "source": [
        "Let get some data:"
      ]
    },
    {
      "cell_type": "code",
      "execution_count": null,
      "id": "932301d0",
      "metadata": {
        "id": "932301d0"
      },
      "outputs": [],
      "source": [
        "fragile = read.csv(\"https://github.com/DACSS-PreProcessing/DFops_concatenating_Py/raw/refs/heads/main/allDFs.csv\")"
      ]
    },
    {
      "cell_type": "markdown",
      "source": [
        "A basic look:"
      ],
      "metadata": {
        "id": "SO9KA7SAHHAG"
      },
      "id": "SO9KA7SAHHAG"
    },
    {
      "cell_type": "code",
      "execution_count": null,
      "id": "044081dd-8d36-4a91-94fd-8a9d3d176f8a",
      "metadata": {
        "id": "044081dd-8d36-4a91-94fd-8a9d3d176f8a",
        "colab": {
          "base_uri": "https://localhost:8080/"
        },
        "outputId": "02b4e9d5-1593-4195-c3f5-7b2e263f7800"
      },
      "outputs": [
        {
          "output_type": "stream",
          "name": "stdout",
          "text": [
            "'data.frame':\t3170 obs. of  16 variables:\n",
            " $ Country                        : chr  \"Yemen\" \"Somalia\" \"South Sudan\" \"Syria\" ...\n",
            " $ Year                           : int  2020 2020 2020 2020 2020 2020 2020 2020 2020 2020 ...\n",
            " $ Rank                           : chr  \"1st\" \"2nd\" \"3rd\" \"4th\" ...\n",
            " $ Total                          : num  112 111 111 111 109 ...\n",
            " $ C1_Security_Apparatus          : num  9.7 9.81 9.4 9.9 8.5 ...\n",
            " $ C2_Factionalized_Elites        : num  10 10 9.7 9.9 9.8 ...\n",
            " $ C3_Group_Grievance             : num  9.7 8.6 9.1 10 9.7 ...\n",
            " $ E1_Economy                     : num  9.4 9.1 9.5 8.69 8 ...\n",
            " $ E2_Economic_Inequality         : num  7.8 9.37 9.2 7.2 8.62 ...\n",
            " $ E3_Human_Flight_and_Brain_Drain: num  7 8.9 6.8 8.41 6.9 ...\n",
            " $ P1_State_Legitimacy            : num  9.89 8.89 9.94 9.95 9.66 ...\n",
            " $ P2_Public_Services             : num  9.5 9.1 9.5 9.1 9.46 ...\n",
            " $ P3_Human_Rights                : num  9.95 9 9 10 9.55 ...\n",
            " $ S1_Demographic_Pressures       : num  9.8 9.98 9.45 7.6 9.8 ...\n",
            " $ S2_Refugees_and_IDPs           : num  9.7 9.1 9.7 10 10 10 9.2 9.3 9.3 8.5 ...\n",
            " $ X1_External_Intervention       : num  10 9.04 9.46 10 9.4 ...\n"
          ]
        }
      ],
      "source": [
        "str(fragile)"
      ]
    },
    {
      "cell_type": "markdown",
      "id": "dc50bcd5-d47c-4ecc-b32e-d265063d361f",
      "metadata": {
        "id": "dc50bcd5-d47c-4ecc-b32e-d265063d361f"
      },
      "source": [
        "We have data about countries (index of fragility and its components). The data is several years:"
      ]
    },
    {
      "cell_type": "code",
      "source": [
        "table(fragile$Year)"
      ],
      "metadata": {
        "id": "zqHrGvWCHZKt",
        "colab": {
          "base_uri": "https://localhost:8080/",
          "height": 106
        },
        "outputId": "7941c9ac-63d4-4b9f-ffda-c7ec897aa0f8"
      },
      "id": "zqHrGvWCHZKt",
      "execution_count": null,
      "outputs": [
        {
          "output_type": "display_data",
          "data": {
            "text/plain": [
              "\n",
              "2006 2007 2008 2009 2010 2011 2012 2013 2014 2015 2016 2017 2018 2019 2020 2021 \n",
              " 146  177  177  177  177  177  178  178  178  178  178  178  178  178  178  179 \n",
              "2022 2023 \n",
              " 179  179 "
            ]
          },
          "metadata": {}
        }
      ]
    },
    {
      "cell_type": "markdown",
      "source": [
        "Take a look:"
      ],
      "metadata": {
        "id": "JNw8jgFQZFsz"
      },
      "id": "JNw8jgFQZFsz"
    },
    {
      "cell_type": "code",
      "source": [
        "head(fragile)"
      ],
      "metadata": {
        "id": "UhrSgRa3ZFGA",
        "colab": {
          "base_uri": "https://localhost:8080/",
          "height": 393
        },
        "outputId": "eb1e05aa-e4e1-4620-ebce-c029f5d562fa"
      },
      "id": "UhrSgRa3ZFGA",
      "execution_count": null,
      "outputs": [
        {
          "output_type": "display_data",
          "data": {
            "text/html": [
              "<table class=\"dataframe\">\n",
              "<caption>A data.frame: 6 × 16</caption>\n",
              "<thead>\n",
              "\t<tr><th></th><th scope=col>Country</th><th scope=col>Year</th><th scope=col>Rank</th><th scope=col>Total</th><th scope=col>C1_Security_Apparatus</th><th scope=col>C2_Factionalized_Elites</th><th scope=col>C3_Group_Grievance</th><th scope=col>E1_Economy</th><th scope=col>E2_Economic_Inequality</th><th scope=col>E3_Human_Flight_and_Brain_Drain</th><th scope=col>P1_State_Legitimacy</th><th scope=col>P2_Public_Services</th><th scope=col>P3_Human_Rights</th><th scope=col>S1_Demographic_Pressures</th><th scope=col>S2_Refugees_and_IDPs</th><th scope=col>X1_External_Intervention</th></tr>\n",
              "\t<tr><th></th><th scope=col>&lt;chr&gt;</th><th scope=col>&lt;int&gt;</th><th scope=col>&lt;chr&gt;</th><th scope=col>&lt;dbl&gt;</th><th scope=col>&lt;dbl&gt;</th><th scope=col>&lt;dbl&gt;</th><th scope=col>&lt;dbl&gt;</th><th scope=col>&lt;dbl&gt;</th><th scope=col>&lt;dbl&gt;</th><th scope=col>&lt;dbl&gt;</th><th scope=col>&lt;dbl&gt;</th><th scope=col>&lt;dbl&gt;</th><th scope=col>&lt;dbl&gt;</th><th scope=col>&lt;dbl&gt;</th><th scope=col>&lt;dbl&gt;</th><th scope=col>&lt;dbl&gt;</th></tr>\n",
              "</thead>\n",
              "<tbody>\n",
              "\t<tr><th scope=row>1</th><td>Yemen                    </td><td>2020</td><td>1st</td><td>112.4387</td><td>9.700000</td><td>10.000</td><td> 9.69887</td><td>9.400000</td><td>7.800000</td><td>7.000000</td><td>9.889823</td><td>9.500000</td><td> 9.950000</td><td>9.800000</td><td> 9.7</td><td>10.000000</td></tr>\n",
              "\t<tr><th scope=row>2</th><td>Somalia                  </td><td>2020</td><td>2nd</td><td>110.8890</td><td>9.811328</td><td>10.000</td><td> 8.60000</td><td>9.100000</td><td>9.367151</td><td>8.900000</td><td>8.888107</td><td>9.100000</td><td> 9.000000</td><td>9.981087</td><td> 9.1</td><td> 9.041286</td></tr>\n",
              "\t<tr><th scope=row>3</th><td>South Sudan              </td><td>2020</td><td>3rd</td><td>110.7522</td><td>9.400000</td><td> 9.700</td><td> 9.10000</td><td>9.500000</td><td>9.200000</td><td>6.800000</td><td>9.944415</td><td>9.500000</td><td> 9.000000</td><td>9.450357</td><td> 9.7</td><td> 9.457419</td></tr>\n",
              "\t<tr><th scope=row>4</th><td>Syria                    </td><td>2020</td><td>4th</td><td>110.7497</td><td>9.900000</td><td> 9.900</td><td>10.00000</td><td>8.686367</td><td>7.200000</td><td>8.413343</td><td>9.950000</td><td>9.100000</td><td>10.000000</td><td>7.600000</td><td>10.0</td><td> 9.999986</td></tr>\n",
              "\t<tr><th scope=row>5</th><td>Congo Democratic Republic</td><td>2020</td><td>5th</td><td>109.3946</td><td>8.500000</td><td> 9.800</td><td> 9.70000</td><td>8.000000</td><td>8.619842</td><td>6.900000</td><td>9.660971</td><td>9.464911</td><td> 9.548897</td><td>9.800000</td><td>10.0</td><td> 9.400000</td></tr>\n",
              "\t<tr><th scope=row>6</th><td>Central African Republic </td><td>2020</td><td>6th</td><td>107.4866</td><td>8.300000</td><td> 9.682</td><td> 8.00000</td><td>8.400000</td><td>9.934481</td><td>6.800000</td><td>8.879979</td><td>9.990145</td><td> 9.200000</td><td>8.800000</td><td>10.0</td><td> 9.500000</td></tr>\n",
              "</tbody>\n",
              "</table>\n"
            ],
            "text/markdown": "\nA data.frame: 6 × 16\n\n| <!--/--> | Country &lt;chr&gt; | Year &lt;int&gt; | Rank &lt;chr&gt; | Total &lt;dbl&gt; | C1_Security_Apparatus &lt;dbl&gt; | C2_Factionalized_Elites &lt;dbl&gt; | C3_Group_Grievance &lt;dbl&gt; | E1_Economy &lt;dbl&gt; | E2_Economic_Inequality &lt;dbl&gt; | E3_Human_Flight_and_Brain_Drain &lt;dbl&gt; | P1_State_Legitimacy &lt;dbl&gt; | P2_Public_Services &lt;dbl&gt; | P3_Human_Rights &lt;dbl&gt; | S1_Demographic_Pressures &lt;dbl&gt; | S2_Refugees_and_IDPs &lt;dbl&gt; | X1_External_Intervention &lt;dbl&gt; |\n|---|---|---|---|---|---|---|---|---|---|---|---|---|---|---|---|---|\n| 1 | Yemen                     | 2020 | 1st | 112.4387 | 9.700000 | 10.000 |  9.69887 | 9.400000 | 7.800000 | 7.000000 | 9.889823 | 9.500000 |  9.950000 | 9.800000 |  9.7 | 10.000000 |\n| 2 | Somalia                   | 2020 | 2nd | 110.8890 | 9.811328 | 10.000 |  8.60000 | 9.100000 | 9.367151 | 8.900000 | 8.888107 | 9.100000 |  9.000000 | 9.981087 |  9.1 |  9.041286 |\n| 3 | South Sudan               | 2020 | 3rd | 110.7522 | 9.400000 |  9.700 |  9.10000 | 9.500000 | 9.200000 | 6.800000 | 9.944415 | 9.500000 |  9.000000 | 9.450357 |  9.7 |  9.457419 |\n| 4 | Syria                     | 2020 | 4th | 110.7497 | 9.900000 |  9.900 | 10.00000 | 8.686367 | 7.200000 | 8.413343 | 9.950000 | 9.100000 | 10.000000 | 7.600000 | 10.0 |  9.999986 |\n| 5 | Congo Democratic Republic | 2020 | 5th | 109.3946 | 8.500000 |  9.800 |  9.70000 | 8.000000 | 8.619842 | 6.900000 | 9.660971 | 9.464911 |  9.548897 | 9.800000 | 10.0 |  9.400000 |\n| 6 | Central African Republic  | 2020 | 6th | 107.4866 | 8.300000 |  9.682 |  8.00000 | 8.400000 | 9.934481 | 6.800000 | 8.879979 | 9.990145 |  9.200000 | 8.800000 | 10.0 |  9.500000 |\n\n",
            "text/latex": "A data.frame: 6 × 16\n\\begin{tabular}{r|llllllllllllllll}\n  & Country & Year & Rank & Total & C1\\_Security\\_Apparatus & C2\\_Factionalized\\_Elites & C3\\_Group\\_Grievance & E1\\_Economy & E2\\_Economic\\_Inequality & E3\\_Human\\_Flight\\_and\\_Brain\\_Drain & P1\\_State\\_Legitimacy & P2\\_Public\\_Services & P3\\_Human\\_Rights & S1\\_Demographic\\_Pressures & S2\\_Refugees\\_and\\_IDPs & X1\\_External\\_Intervention\\\\\n  & <chr> & <int> & <chr> & <dbl> & <dbl> & <dbl> & <dbl> & <dbl> & <dbl> & <dbl> & <dbl> & <dbl> & <dbl> & <dbl> & <dbl> & <dbl>\\\\\n\\hline\n\t1 & Yemen                     & 2020 & 1st & 112.4387 & 9.700000 & 10.000 &  9.69887 & 9.400000 & 7.800000 & 7.000000 & 9.889823 & 9.500000 &  9.950000 & 9.800000 &  9.7 & 10.000000\\\\\n\t2 & Somalia                   & 2020 & 2nd & 110.8890 & 9.811328 & 10.000 &  8.60000 & 9.100000 & 9.367151 & 8.900000 & 8.888107 & 9.100000 &  9.000000 & 9.981087 &  9.1 &  9.041286\\\\\n\t3 & South Sudan               & 2020 & 3rd & 110.7522 & 9.400000 &  9.700 &  9.10000 & 9.500000 & 9.200000 & 6.800000 & 9.944415 & 9.500000 &  9.000000 & 9.450357 &  9.7 &  9.457419\\\\\n\t4 & Syria                     & 2020 & 4th & 110.7497 & 9.900000 &  9.900 & 10.00000 & 8.686367 & 7.200000 & 8.413343 & 9.950000 & 9.100000 & 10.000000 & 7.600000 & 10.0 &  9.999986\\\\\n\t5 & Congo Democratic Republic & 2020 & 5th & 109.3946 & 8.500000 &  9.800 &  9.70000 & 8.000000 & 8.619842 & 6.900000 & 9.660971 & 9.464911 &  9.548897 & 9.800000 & 10.0 &  9.400000\\\\\n\t6 & Central African Republic  & 2020 & 6th & 107.4866 & 8.300000 &  9.682 &  8.00000 & 8.400000 & 9.934481 & 6.800000 & 8.879979 & 9.990145 &  9.200000 & 8.800000 & 10.0 &  9.500000\\\\\n\\end{tabular}\n",
            "text/plain": [
              "  Country                   Year Rank Total    C1_Security_Apparatus\n",
              "1 Yemen                     2020 1st  112.4387 9.700000             \n",
              "2 Somalia                   2020 2nd  110.8890 9.811328             \n",
              "3 South Sudan               2020 3rd  110.7522 9.400000             \n",
              "4 Syria                     2020 4th  110.7497 9.900000             \n",
              "5 Congo Democratic Republic 2020 5th  109.3946 8.500000             \n",
              "6 Central African Republic  2020 6th  107.4866 8.300000             \n",
              "  C2_Factionalized_Elites C3_Group_Grievance E1_Economy E2_Economic_Inequality\n",
              "1 10.000                   9.69887           9.400000   7.800000              \n",
              "2 10.000                   8.60000           9.100000   9.367151              \n",
              "3  9.700                   9.10000           9.500000   9.200000              \n",
              "4  9.900                  10.00000           8.686367   7.200000              \n",
              "5  9.800                   9.70000           8.000000   8.619842              \n",
              "6  9.682                   8.00000           8.400000   9.934481              \n",
              "  E3_Human_Flight_and_Brain_Drain P1_State_Legitimacy P2_Public_Services\n",
              "1 7.000000                        9.889823            9.500000          \n",
              "2 8.900000                        8.888107            9.100000          \n",
              "3 6.800000                        9.944415            9.500000          \n",
              "4 8.413343                        9.950000            9.100000          \n",
              "5 6.900000                        9.660971            9.464911          \n",
              "6 6.800000                        8.879979            9.990145          \n",
              "  P3_Human_Rights S1_Demographic_Pressures S2_Refugees_and_IDPs\n",
              "1  9.950000       9.800000                  9.7                \n",
              "2  9.000000       9.981087                  9.1                \n",
              "3  9.000000       9.450357                  9.7                \n",
              "4 10.000000       7.600000                 10.0                \n",
              "5  9.548897       9.800000                 10.0                \n",
              "6  9.200000       8.800000                 10.0                \n",
              "  X1_External_Intervention\n",
              "1 10.000000               \n",
              "2  9.041286               \n",
              "3  9.457419               \n",
              "4  9.999986               \n",
              "5  9.400000               \n",
              "6  9.500000               "
            ]
          },
          "metadata": {}
        }
      ]
    },
    {
      "cell_type": "markdown",
      "source": [
        "What **shape** does the table have? The presence of year in a column could make us think it is in a long shape.\n",
        "\n",
        "This could be a LONG:"
      ],
      "metadata": {
        "id": "Bf_LtSyvZRYV"
      },
      "id": "Bf_LtSyvZRYV"
    },
    {
      "cell_type": "code",
      "source": [
        "head(fragile[,c('Country','Year','Total')])"
      ],
      "metadata": {
        "id": "BsuBxiv7aOX_",
        "colab": {
          "base_uri": "https://localhost:8080/",
          "height": 286
        },
        "outputId": "ee47f2ff-6019-4db2-f1f4-c4a7d19e7889"
      },
      "id": "BsuBxiv7aOX_",
      "execution_count": null,
      "outputs": [
        {
          "output_type": "display_data",
          "data": {
            "text/html": [
              "<table class=\"dataframe\">\n",
              "<caption>A data.frame: 6 × 3</caption>\n",
              "<thead>\n",
              "\t<tr><th></th><th scope=col>Country</th><th scope=col>Year</th><th scope=col>Total</th></tr>\n",
              "\t<tr><th></th><th scope=col>&lt;chr&gt;</th><th scope=col>&lt;int&gt;</th><th scope=col>&lt;dbl&gt;</th></tr>\n",
              "</thead>\n",
              "<tbody>\n",
              "\t<tr><th scope=row>1</th><td>Yemen                    </td><td>2020</td><td>112.4387</td></tr>\n",
              "\t<tr><th scope=row>2</th><td>Somalia                  </td><td>2020</td><td>110.8890</td></tr>\n",
              "\t<tr><th scope=row>3</th><td>South Sudan              </td><td>2020</td><td>110.7522</td></tr>\n",
              "\t<tr><th scope=row>4</th><td>Syria                    </td><td>2020</td><td>110.7497</td></tr>\n",
              "\t<tr><th scope=row>5</th><td>Congo Democratic Republic</td><td>2020</td><td>109.3946</td></tr>\n",
              "\t<tr><th scope=row>6</th><td>Central African Republic </td><td>2020</td><td>107.4866</td></tr>\n",
              "</tbody>\n",
              "</table>\n"
            ],
            "text/markdown": "\nA data.frame: 6 × 3\n\n| <!--/--> | Country &lt;chr&gt; | Year &lt;int&gt; | Total &lt;dbl&gt; |\n|---|---|---|---|\n| 1 | Yemen                     | 2020 | 112.4387 |\n| 2 | Somalia                   | 2020 | 110.8890 |\n| 3 | South Sudan               | 2020 | 110.7522 |\n| 4 | Syria                     | 2020 | 110.7497 |\n| 5 | Congo Democratic Republic | 2020 | 109.3946 |\n| 6 | Central African Republic  | 2020 | 107.4866 |\n\n",
            "text/latex": "A data.frame: 6 × 3\n\\begin{tabular}{r|lll}\n  & Country & Year & Total\\\\\n  & <chr> & <int> & <dbl>\\\\\n\\hline\n\t1 & Yemen                     & 2020 & 112.4387\\\\\n\t2 & Somalia                   & 2020 & 110.8890\\\\\n\t3 & South Sudan               & 2020 & 110.7522\\\\\n\t4 & Syria                     & 2020 & 110.7497\\\\\n\t5 & Congo Democratic Republic & 2020 & 109.3946\\\\\n\t6 & Central African Republic  & 2020 & 107.4866\\\\\n\\end{tabular}\n",
            "text/plain": [
              "  Country                   Year Total   \n",
              "1 Yemen                     2020 112.4387\n",
              "2 Somalia                   2020 110.8890\n",
              "3 South Sudan               2020 110.7522\n",
              "4 Syria                     2020 110.7497\n",
              "5 Congo Democratic Republic 2020 109.3946\n",
              "6 Central African Republic  2020 107.4866"
            ]
          },
          "metadata": {}
        }
      ]
    },
    {
      "cell_type": "markdown",
      "source": [
        "But this is WIDE:"
      ],
      "metadata": {
        "id": "PMveaPUPaPGG"
      },
      "id": "PMveaPUPaPGG"
    },
    {
      "cell_type": "code",
      "source": [
        "head(fragile[fragile$Year==2023,c('Country','C1_Security_Apparatus',\t'C2_Factionalized_Elites',\t'C3_Group_Grievance')])"
      ],
      "metadata": {
        "id": "hPFEb888Z7T5",
        "colab": {
          "base_uri": "https://localhost:8080/",
          "height": 286
        },
        "outputId": "1aed0be7-2f8f-4c44-ae3e-f170bdb4c76c"
      },
      "id": "hPFEb888Z7T5",
      "execution_count": null,
      "outputs": [
        {
          "output_type": "display_data",
          "data": {
            "text/html": [
              "<table class=\"dataframe\">\n",
              "<caption>A data.frame: 6 × 4</caption>\n",
              "<thead>\n",
              "\t<tr><th></th><th scope=col>Country</th><th scope=col>C1_Security_Apparatus</th><th scope=col>C2_Factionalized_Elites</th><th scope=col>C3_Group_Grievance</th></tr>\n",
              "\t<tr><th></th><th scope=col>&lt;chr&gt;</th><th scope=col>&lt;dbl&gt;</th><th scope=col>&lt;dbl&gt;</th><th scope=col>&lt;dbl&gt;</th></tr>\n",
              "</thead>\n",
              "<tbody>\n",
              "\t<tr><th scope=row>2636</th><td>Somalia                  </td><td>9.5</td><td>10.0</td><td>8.7</td></tr>\n",
              "\t<tr><th scope=row>2637</th><td>Yemen                    </td><td>8.6</td><td> 9.9</td><td>8.8</td></tr>\n",
              "\t<tr><th scope=row>2638</th><td>South Sudan              </td><td>9.9</td><td> 9.2</td><td>8.6</td></tr>\n",
              "\t<tr><th scope=row>2639</th><td>Congo Democratic Republic</td><td>8.8</td><td> 9.6</td><td>9.4</td></tr>\n",
              "\t<tr><th scope=row>2640</th><td>Syria                    </td><td>9.4</td><td> 9.9</td><td>9.1</td></tr>\n",
              "\t<tr><th scope=row>2641</th><td>Afghanistan              </td><td>9.7</td><td> 8.7</td><td>8.3</td></tr>\n",
              "</tbody>\n",
              "</table>\n"
            ],
            "text/markdown": "\nA data.frame: 6 × 4\n\n| <!--/--> | Country &lt;chr&gt; | C1_Security_Apparatus &lt;dbl&gt; | C2_Factionalized_Elites &lt;dbl&gt; | C3_Group_Grievance &lt;dbl&gt; |\n|---|---|---|---|---|\n| 2636 | Somalia                   | 9.5 | 10.0 | 8.7 |\n| 2637 | Yemen                     | 8.6 |  9.9 | 8.8 |\n| 2638 | South Sudan               | 9.9 |  9.2 | 8.6 |\n| 2639 | Congo Democratic Republic | 8.8 |  9.6 | 9.4 |\n| 2640 | Syria                     | 9.4 |  9.9 | 9.1 |\n| 2641 | Afghanistan               | 9.7 |  8.7 | 8.3 |\n\n",
            "text/latex": "A data.frame: 6 × 4\n\\begin{tabular}{r|llll}\n  & Country & C1\\_Security\\_Apparatus & C2\\_Factionalized\\_Elites & C3\\_Group\\_Grievance\\\\\n  & <chr> & <dbl> & <dbl> & <dbl>\\\\\n\\hline\n\t2636 & Somalia                   & 9.5 & 10.0 & 8.7\\\\\n\t2637 & Yemen                     & 8.6 &  9.9 & 8.8\\\\\n\t2638 & South Sudan               & 9.9 &  9.2 & 8.6\\\\\n\t2639 & Congo Democratic Republic & 8.8 &  9.6 & 9.4\\\\\n\t2640 & Syria                     & 9.4 &  9.9 & 9.1\\\\\n\t2641 & Afghanistan               & 9.7 &  8.7 & 8.3\\\\\n\\end{tabular}\n",
            "text/plain": [
              "     Country                   C1_Security_Apparatus C2_Factionalized_Elites\n",
              "2636 Somalia                   9.5                   10.0                   \n",
              "2637 Yemen                     8.6                    9.9                   \n",
              "2638 South Sudan               9.9                    9.2                   \n",
              "2639 Congo Democratic Republic 8.8                    9.6                   \n",
              "2640 Syria                     9.4                    9.9                   \n",
              "2641 Afghanistan               9.7                    8.7                   \n",
              "     C3_Group_Grievance\n",
              "2636 8.7               \n",
              "2637 8.8               \n",
              "2638 8.6               \n",
              "2639 9.4               \n",
              "2640 9.1               \n",
              "2641 8.3               "
            ]
          },
          "metadata": {}
        }
      ]
    },
    {
      "cell_type": "markdown",
      "source": [
        "## From Long to Wide"
      ],
      "metadata": {
        "id": "-ft2MgTja2l1"
      },
      "id": "-ft2MgTja2l1"
    },
    {
      "cell_type": "code",
      "source": [
        "fragileWide=tidyr::pivot_wider(fragile[,c('Country','Year','Total')],names_from = Year, values_from = Total,names_sort=T)\n",
        "fragileWide"
      ],
      "metadata": {
        "id": "zsnHNhsf_-z1",
        "colab": {
          "base_uri": "https://localhost:8080/",
          "height": 1000
        },
        "outputId": "7f4086d7-7095-4bcd-bff3-5bfc8995d9e7"
      },
      "id": "zsnHNhsf_-z1",
      "execution_count": null,
      "outputs": [
        {
          "output_type": "display_data",
          "data": {
            "text/html": [
              "<table class=\"dataframe\">\n",
              "<caption>A tibble: 179 × 19</caption>\n",
              "<thead>\n",
              "\t<tr><th scope=col>Country</th><th scope=col>2006</th><th scope=col>2007</th><th scope=col>2008</th><th scope=col>2009</th><th scope=col>2010</th><th scope=col>2011</th><th scope=col>2012</th><th scope=col>2013</th><th scope=col>2014</th><th scope=col>2015</th><th scope=col>2016</th><th scope=col>2017</th><th scope=col>2018</th><th scope=col>2019</th><th scope=col>2020</th><th scope=col>2021</th><th scope=col>2022</th><th scope=col>2023</th></tr>\n",
              "\t<tr><th scope=col>&lt;chr&gt;</th><th scope=col>&lt;dbl&gt;</th><th scope=col>&lt;dbl&gt;</th><th scope=col>&lt;dbl&gt;</th><th scope=col>&lt;dbl&gt;</th><th scope=col>&lt;dbl&gt;</th><th scope=col>&lt;dbl&gt;</th><th scope=col>&lt;dbl&gt;</th><th scope=col>&lt;dbl&gt;</th><th scope=col>&lt;dbl&gt;</th><th scope=col>&lt;dbl&gt;</th><th scope=col>&lt;dbl&gt;</th><th scope=col>&lt;dbl&gt;</th><th scope=col>&lt;dbl&gt;</th><th scope=col>&lt;dbl&gt;</th><th scope=col>&lt;dbl&gt;</th><th scope=col>&lt;dbl&gt;</th><th scope=col>&lt;dbl&gt;</th><th scope=col>&lt;dbl&gt;</th></tr>\n",
              "</thead>\n",
              "<tbody>\n",
              "\t<tr><td>Yemen                    </td><td> 96.6</td><td> 93.2</td><td> 95.4</td><td> 98.1</td><td>100.0</td><td>100.3</td><td>104.8</td><td>107.0</td><td>105.4</td><td>108.2</td><td>111.5</td><td>111.1</td><td>112.67150</td><td>113.5</td><td>112.43869</td><td>111.7</td><td>111.7</td><td>108.9</td></tr>\n",
              "\t<tr><td>Somalia                  </td><td>105.9</td><td>111.1</td><td>114.2</td><td>114.7</td><td>114.3</td><td>113.4</td><td>114.9</td><td>113.9</td><td>112.6</td><td>114.0</td><td>114.0</td><td>113.4</td><td>113.20080</td><td>112.3</td><td>110.88896</td><td>110.9</td><td>110.5</td><td>111.9</td></tr>\n",
              "\t<tr><td>South Sudan              </td><td>   NA</td><td>   NA</td><td>   NA</td><td>   NA</td><td>   NA</td><td>   NA</td><td>108.4</td><td>110.6</td><td>112.9</td><td>114.5</td><td>113.8</td><td>113.9</td><td>113.35732</td><td>112.2</td><td>110.75219</td><td>109.4</td><td>108.4</td><td>108.5</td></tr>\n",
              "\t<tr><td>Syria                    </td><td> 88.6</td><td> 88.6</td><td> 90.1</td><td> 89.8</td><td> 87.9</td><td> 85.9</td><td> 94.5</td><td> 97.4</td><td>101.6</td><td>107.8</td><td>110.8</td><td>110.6</td><td>111.39303</td><td>111.5</td><td>110.74970</td><td>110.7</td><td>108.4</td><td>107.1</td></tr>\n",
              "\t<tr><td>Congo Democratic Republic</td><td>110.1</td><td>105.5</td><td>106.7</td><td>108.7</td><td>109.9</td><td>108.2</td><td>111.2</td><td>111.9</td><td>110.2</td><td>109.7</td><td>110.0</td><td>110.0</td><td>110.67036</td><td>110.2</td><td>109.39462</td><td>108.4</td><td>107.3</td><td>107.2</td></tr>\n",
              "\t<tr><td>Central African Republic </td><td> 97.5</td><td>101.0</td><td>103.7</td><td>105.4</td><td>106.4</td><td>105.0</td><td>103.8</td><td>105.3</td><td>110.6</td><td>111.9</td><td>112.1</td><td>112.6</td><td>111.12634</td><td>108.9</td><td>107.48660</td><td>107.0</td><td>108.1</td><td>105.7</td></tr>\n",
              "\t<tr><td>Chad                     </td><td>105.9</td><td>108.8</td><td>110.9</td><td>112.2</td><td>113.3</td><td>110.3</td><td>107.6</td><td>109.0</td><td>108.7</td><td>108.4</td><td>110.1</td><td>109.4</td><td>108.31187</td><td>108.5</td><td>106.43382</td><td>105.8</td><td>105.7</td><td>104.6</td></tr>\n",
              "\t<tr><td>Sudan                    </td><td>112.3</td><td>113.7</td><td>113.0</td><td>112.4</td><td>111.8</td><td>108.7</td><td>109.4</td><td>111.0</td><td>110.1</td><td>110.8</td><td>111.5</td><td>110.6</td><td>108.66319</td><td>108.0</td><td>104.76589</td><td>105.2</td><td>107.1</td><td>106.2</td></tr>\n",
              "\t<tr><td>Afghanistan              </td><td> 99.8</td><td>102.3</td><td>105.4</td><td>108.2</td><td>109.3</td><td>107.5</td><td>106.0</td><td>106.7</td><td>106.5</td><td>107.9</td><td>107.9</td><td>107.3</td><td>106.62077</td><td>105.0</td><td>102.90119</td><td>102.1</td><td>105.9</td><td>106.6</td></tr>\n",
              "\t<tr><td>Zimbabwe                 </td><td>108.9</td><td>110.1</td><td>112.5</td><td>114.0</td><td>110.2</td><td>107.9</td><td>106.3</td><td>105.2</td><td>102.8</td><td>100.0</td><td>100.5</td><td>101.6</td><td>102.29375</td><td> 99.5</td><td> 99.22086</td><td> 99.1</td><td> 97.8</td><td> 96.9</td></tr>\n",
              "\t<tr><td>Burundi                  </td><td> 96.7</td><td> 95.2</td><td> 94.1</td><td> 95.7</td><td> 96.7</td><td> 98.6</td><td> 97.5</td><td> 97.6</td><td> 97.1</td><td> 98.0</td><td>100.7</td><td> 98.9</td><td> 97.36424</td><td> 98.2</td><td> 97.87603</td><td> 97.1</td><td> 95.4</td><td> 94.2</td></tr>\n",
              "\t<tr><td>Cameroon                 </td><td> 88.4</td><td> 89.4</td><td> 91.2</td><td> 95.3</td><td> 95.4</td><td> 94.6</td><td> 93.1</td><td> 93.5</td><td> 93.1</td><td> 94.3</td><td> 97.8</td><td> 95.6</td><td> 95.31218</td><td> 97.0</td><td> 97.85508</td><td> 97.2</td><td> 96.0</td><td> 94.0</td></tr>\n",
              "\t<tr><td>Haiti                    </td><td>104.6</td><td>100.9</td><td> 99.3</td><td>101.8</td><td>101.6</td><td>108.0</td><td>104.9</td><td>105.8</td><td>104.3</td><td>104.5</td><td>105.1</td><td>105.3</td><td>101.96955</td><td> 99.3</td><td> 97.67900</td><td> 97.5</td><td> 99.7</td><td>102.9</td></tr>\n",
              "\t<tr><td>Nigeria                  </td><td> 94.4</td><td> 95.6</td><td> 95.7</td><td> 99.8</td><td>100.2</td><td> 99.9</td><td>101.1</td><td>100.7</td><td> 99.7</td><td>102.5</td><td>103.5</td><td>101.6</td><td> 99.90823</td><td> 98.5</td><td> 97.26751</td><td> 98.0</td><td> 97.2</td><td> 98.0</td></tr>\n",
              "\t<tr><td>Guinea                   </td><td> 99.0</td><td>101.3</td><td>101.8</td><td>104.6</td><td>105.0</td><td>102.5</td><td>101.9</td><td>101.3</td><td>102.7</td><td>104.9</td><td>103.8</td><td>102.4</td><td>101.61674</td><td> 99.4</td><td> 97.16761</td><td> 97.4</td><td> 99.6</td><td> 98.5</td></tr>\n",
              "\t<tr><td>Mali                     </td><td> 74.6</td><td> 75.5</td><td> 75.6</td><td> 78.7</td><td> 79.3</td><td> 79.3</td><td> 77.9</td><td> 89.3</td><td> 89.8</td><td> 92.9</td><td> 95.2</td><td> 92.9</td><td> 93.58132</td><td> 94.5</td><td> 96.04331</td><td> 96.6</td><td> 98.6</td><td> 99.5</td></tr>\n",
              "\t<tr><td>Iraq                     </td><td>109.0</td><td>111.4</td><td>110.6</td><td>108.6</td><td>107.3</td><td>104.8</td><td>104.3</td><td>103.9</td><td>102.2</td><td>104.4</td><td>104.7</td><td>105.4</td><td>102.20569</td><td> 99.1</td><td> 95.94117</td><td> 96.2</td><td> 93.8</td><td> 91.4</td></tr>\n",
              "\t<tr><td>Eritrea                  </td><td> 83.9</td><td> 85.5</td><td> 87.4</td><td> 90.3</td><td> 93.3</td><td> 93.6</td><td> 94.5</td><td> 95.0</td><td> 95.5</td><td> 96.9</td><td> 98.6</td><td> 98.1</td><td> 97.20824</td><td> 96.4</td><td> 95.84423</td><td> 97.0</td><td> 95.9</td><td> 94.5</td></tr>\n",
              "\t<tr><td>Niger                    </td><td> 87.0</td><td> 91.2</td><td> 94.5</td><td> 96.5</td><td> 97.8</td><td> 99.1</td><td> 96.9</td><td> 99.0</td><td> 97.9</td><td> 97.8</td><td> 98.4</td><td> 97.4</td><td> 96.15290</td><td> 96.2</td><td> 95.31488</td><td> 96.0</td><td> 95.2</td><td> 93.4</td></tr>\n",
              "\t<tr><td>Libya                    </td><td> 68.5</td><td> 69.3</td><td> 70.0</td><td> 69.4</td><td> 69.1</td><td> 68.7</td><td> 84.9</td><td> 84.5</td><td> 87.8</td><td> 95.3</td><td> 96.4</td><td> 96.3</td><td> 94.60000</td><td> 92.2</td><td> 95.19372</td><td> 97.0</td><td> 94.3</td><td> 96.1</td></tr>\n",
              "\t<tr><td>Ethiopia                 </td><td> 91.9</td><td> 95.3</td><td> 96.1</td><td> 98.9</td><td> 98.8</td><td> 98.2</td><td> 97.9</td><td> 98.9</td><td> 97.9</td><td> 97.5</td><td> 97.2</td><td>101.1</td><td> 99.56910</td><td> 94.2</td><td> 94.59578</td><td> 99.0</td><td> 99.3</td><td>100.4</td></tr>\n",
              "\t<tr><td>Myanmar                  </td><td> 96.5</td><td> 97.0</td><td>100.3</td><td>101.5</td><td> 99.4</td><td> 98.3</td><td> 96.2</td><td> 94.6</td><td> 94.3</td><td> 94.7</td><td> 96.3</td><td> 95.7</td><td> 96.09231</td><td> 94.3</td><td> 94.00000</td><td> 93.8</td><td>100.0</td><td>100.2</td></tr>\n",
              "\t<tr><td>Guinea Bissau            </td><td> 85.4</td><td> 88.8</td><td> 91.3</td><td> 94.8</td><td> 97.2</td><td> 98.3</td><td> 99.2</td><td>101.1</td><td>100.6</td><td> 99.9</td><td> 99.8</td><td> 99.5</td><td> 98.09459</td><td> 95.5</td><td> 92.90208</td><td> 92.0</td><td> 91.3</td><td> 89.9</td></tr>\n",
              "\t<tr><td>Uganda                   </td><td> 94.5</td><td> 96.4</td><td> 96.1</td><td> 96.9</td><td> 97.5</td><td> 96.3</td><td> 96.5</td><td> 96.6</td><td> 96.0</td><td> 97.0</td><td> 97.7</td><td> 96.0</td><td> 95.14380</td><td> 95.3</td><td> 92.77037</td><td> 92.9</td><td> 92.1</td><td> 91.5</td></tr>\n",
              "\t<tr><td>Pakistan                 </td><td>103.1</td><td>100.1</td><td>103.8</td><td>104.1</td><td>102.5</td><td>102.3</td><td>101.6</td><td>102.9</td><td>103.0</td><td>103.0</td><td>101.7</td><td> 98.9</td><td> 96.33806</td><td> 94.2</td><td> 92.07809</td><td> 90.5</td><td> 89.7</td><td> 89.9</td></tr>\n",
              "\t<tr><td>Congo Republic           </td><td>   NA</td><td> 93.0</td><td> 93.4</td><td> 93.1</td><td> 92.5</td><td> 91.4</td><td> 90.1</td><td> 90.0</td><td> 89.6</td><td> 90.8</td><td> 92.2</td><td> 93.4</td><td> 93.12763</td><td> 92.5</td><td> 92.06820</td><td> 92.4</td><td> 92.2</td><td> 90.7</td></tr>\n",
              "\t<tr><td>Mozambique               </td><td> 74.8</td><td> 76.9</td><td> 76.8</td><td> 80.7</td><td> 81.7</td><td> 83.6</td><td> 82.4</td><td> 82.8</td><td> 85.9</td><td> 86.9</td><td> 87.8</td><td> 89.0</td><td> 88.65413</td><td> 88.7</td><td> 91.69371</td><td> 93.9</td><td> 94.3</td><td> 94.0</td></tr>\n",
              "\t<tr><td>Venezuela                </td><td> 81.2</td><td> 79.8</td><td> 77.9</td><td> 79.5</td><td> 78.7</td><td> 78.2</td><td> 77.3</td><td> 75.3</td><td> 76.7</td><td> 78.7</td><td> 81.6</td><td> 82.9</td><td> 86.20693</td><td> 89.3</td><td> 91.15759</td><td> 92.6</td><td> 91.6</td><td> 90.5</td></tr>\n",
              "\t<tr><td>Kenya                    </td><td> 88.6</td><td> 91.3</td><td> 93.4</td><td>101.4</td><td>100.7</td><td> 98.7</td><td> 98.4</td><td> 99.6</td><td> 99.0</td><td> 97.3</td><td> 98.3</td><td> 96.4</td><td> 97.38051</td><td> 93.5</td><td> 90.31587</td><td> 89.2</td><td> 88.2</td><td> 87.8</td></tr>\n",
              "\t<tr><td>North Korea              </td><td> 97.3</td><td> 97.7</td><td> 97.7</td><td> 98.3</td><td> 97.8</td><td> 95.6</td><td> 95.5</td><td> 95.1</td><td> 94.0</td><td> 93.8</td><td> 93.9</td><td> 93.3</td><td> 93.20000</td><td> 92.7</td><td> 90.21130</td><td> 90.0</td><td> 89.1</td><td> 87.0</td></tr>\n",
              "\t<tr><td>⋮</td><td>⋮</td><td>⋮</td><td>⋮</td><td>⋮</td><td>⋮</td><td>⋮</td><td>⋮</td><td>⋮</td><td>⋮</td><td>⋮</td><td>⋮</td><td>⋮</td><td>⋮</td><td>⋮</td><td>⋮</td><td>⋮</td><td>⋮</td><td>⋮</td></tr>\n",
              "\t<tr><td>United Kingdom      </td><td>34.2</td><td>34.1</td><td>32.9</td><td>33.6</td><td>33.9</td><td>34.1</td><td>35.3</td><td>33.2</td><td>34.3</td><td>33.4</td><td>32.4</td><td>33.2</td><td>34.29882</td><td>36.7</td><td>38.26048</td><td>41.5</td><td>40.6</td><td>41.9</td></tr>\n",
              "\t<tr><td>Slovakia            </td><td>49.9</td><td>49.3</td><td>48.8</td><td>48.6</td><td>48.8</td><td>47.1</td><td>47.4</td><td>45.3</td><td>45.3</td><td>42.6</td><td>44.9</td><td>44.3</td><td>42.47489</td><td>40.5</td><td>38.22181</td><td>39.0</td><td>37.1</td><td>37.8</td></tr>\n",
              "\t<tr><td>United Arab Emirates</td><td>  NA</td><td>51.6</td><td>51.2</td><td>51.8</td><td>52.4</td><td>50.4</td><td>48.9</td><td>47.3</td><td>47.6</td><td>46.2</td><td>44.5</td><td>43.7</td><td>42.82924</td><td>40.1</td><td>38.09923</td><td>40.3</td><td>39.1</td><td>37.0</td></tr>\n",
              "\t<tr><td>Mauritius           </td><td>41.9</td><td>42.7</td><td>42.4</td><td>44.7</td><td>44.4</td><td>44.2</td><td>44.7</td><td>44.5</td><td>46.1</td><td>45.2</td><td>43.2</td><td>41.7</td><td>40.49020</td><td>38.9</td><td>37.18472</td><td>38.1</td><td>37.9</td><td>38.0</td></tr>\n",
              "\t<tr><td>Lithuania           </td><td>49.7</td><td>49.0</td><td>48.7</td><td>48.0</td><td>47.8</td><td>45.3</td><td>44.2</td><td>43.0</td><td>43.2</td><td>43.0</td><td>42.4</td><td>41.7</td><td>39.40955</td><td>38.1</td><td>36.47089</td><td>38.7</td><td>38.6</td><td>39.4</td></tr>\n",
              "\t<tr><td>Czechia             </td><td>41.8</td><td>42.1</td><td>42.1</td><td>42.6</td><td>41.5</td><td>42.4</td><td>39.5</td><td>39.9</td><td>39.4</td><td>37.4</td><td>40.8</td><td>40.1</td><td>39.04760</td><td>37.6</td><td>35.74162</td><td>39.3</td><td>39.9</td><td>40.2</td></tr>\n",
              "\t<tr><td>Malta               </td><td>  NA</td><td>48.5</td><td>48.3</td><td>48.8</td><td>48.2</td><td>45.4</td><td>43.8</td><td>42.4</td><td>43.0</td><td>40.9</td><td>39.6</td><td>38.6</td><td>36.20624</td><td>34.5</td><td>33.59365</td><td>36.2</td><td>34.7</td><td>33.0</td></tr>\n",
              "\t<tr><td>Uruguay             </td><td>41.2</td><td>40.9</td><td>41.4</td><td>41.2</td><td>41.3</td><td>40.4</td><td>40.5</td><td>38.4</td><td>37.9</td><td>36.4</td><td>36.2</td><td>36.8</td><td>35.44475</td><td>34.0</td><td>33.40578</td><td>35.9</td><td>35.2</td><td>34.4</td></tr>\n",
              "\t<tr><td>Japan               </td><td>28.0</td><td>28.5</td><td>29.7</td><td>31.2</td><td>31.3</td><td>31.0</td><td>43.5</td><td>36.1</td><td>36.3</td><td>36.0</td><td>35.1</td><td>37.4</td><td>34.47490</td><td>34.3</td><td>32.33229</td><td>32.2</td><td>31.0</td><td>30.5</td></tr>\n",
              "\t<tr><td>South Korea         </td><td>39.9</td><td>39.7</td><td>40.6</td><td>41.6</td><td>41.3</td><td>38.8</td><td>37.6</td><td>35.4</td><td>36.4</td><td>36.3</td><td>36.1</td><td>38.1</td><td>35.73391</td><td>33.7</td><td>32.01527</td><td>32.5</td><td>32.7</td><td>31.5</td></tr>\n",
              "\t<tr><td>France              </td><td>34.3</td><td>34.1</td><td>34.8</td><td>35.3</td><td>34.9</td><td>34.0</td><td>33.6</td><td>32.6</td><td>34.8</td><td>33.7</td><td>34.5</td><td>33.5</td><td>32.22701</td><td>32.0</td><td>30.48111</td><td>32.5</td><td>30.9</td><td>28.8</td></tr>\n",
              "\t<tr><td>Belgium             </td><td>24.0</td><td>25.5</td><td>29.0</td><td>33.5</td><td>32.0</td><td>34.1</td><td>33.5</td><td>30.9</td><td>32.0</td><td>30.5</td><td>29.0</td><td>30.8</td><td>29.65365</td><td>28.6</td><td>27.09814</td><td>31.0</td><td>31.9</td><td>31.4</td></tr>\n",
              "\t<tr><td>Singapore           </td><td>30.8</td><td>33.0</td><td>33.3</td><td>33.8</td><td>34.8</td><td>35.1</td><td>35.6</td><td>34.0</td><td>35.9</td><td>34.4</td><td>32.9</td><td>32.5</td><td>30.42120</td><td>28.1</td><td>26.32619</td><td>26.6</td><td>25.8</td><td>25.5</td></tr>\n",
              "\t<tr><td>Slovenia            </td><td>36.8</td><td>37.5</td><td>37.1</td><td>36.3</td><td>36.0</td><td>35.5</td><td>34.0</td><td>32.3</td><td>32.6</td><td>31.5</td><td>33.9</td><td>32.4</td><td>30.33350</td><td>28.0</td><td>25.84648</td><td>28.2</td><td>27.7</td><td>27.3</td></tr>\n",
              "\t<tr><td>Austria             </td><td>26.1</td><td>26.0</td><td>25.9</td><td>27.6</td><td>27.2</td><td>27.3</td><td>27.5</td><td>26.9</td><td>28.5</td><td>25.8</td><td>27.5</td><td>27.7</td><td>26.18188</td><td>25.0</td><td>24.10870</td><td>26.1</td><td>25.4</td><td>24.4</td></tr>\n",
              "\t<tr><td>Portugal            </td><td>32.7</td><td>32.4</td><td>31.8</td><td>32.7</td><td>33.1</td><td>32.3</td><td>34.2</td><td>32.6</td><td>33.1</td><td>29.7</td><td>29.2</td><td>29.0</td><td>27.27345</td><td>25.3</td><td>23.51466</td><td>26.8</td><td>27.5</td><td>25.7</td></tr>\n",
              "\t<tr><td>Germany             </td><td>39.7</td><td>38.4</td><td>37.3</td><td>36.2</td><td>35.4</td><td>33.9</td><td>31.7</td><td>29.7</td><td>30.6</td><td>28.1</td><td>28.6</td><td>28.1</td><td>25.83337</td><td>24.7</td><td>23.18849</td><td>24.8</td><td>23.6</td><td>24.6</td></tr>\n",
              "\t<tr><td>Netherlands         </td><td>28.1</td><td>28.6</td><td>27.3</td><td>27.0</td><td>27.9</td><td>28.3</td><td>28.1</td><td>26.9</td><td>28.6</td><td>26.9</td><td>28.2</td><td>27.4</td><td>26.16999</td><td>24.8</td><td>22.85984</td><td>24.1</td><td>22.1</td><td>21.0</td></tr>\n",
              "\t<tr><td>Ireland             </td><td>18.6</td><td>19.5</td><td>19.9</td><td>21.6</td><td>22.4</td><td>25.3</td><td>26.5</td><td>24.8</td><td>26.1</td><td>24.6</td><td>22.5</td><td>22.3</td><td>20.73930</td><td>20.6</td><td>19.93942</td><td>22.2</td><td>20.8</td><td>19.5</td></tr>\n",
              "\t<tr><td>Australia           </td><td>22.0</td><td>23.2</td><td>24.6</td><td>25.9</td><td>27.3</td><td>28.1</td><td>29.2</td><td>25.4</td><td>26.3</td><td>24.3</td><td>22.5</td><td>22.3</td><td>20.77077</td><td>19.7</td><td>19.74641</td><td>21.8</td><td>22.7</td><td>22.0</td></tr>\n",
              "\t<tr><td>Luxembourg          </td><td>  NA</td><td>28.1</td><td>27.9</td><td>27.6</td><td>27.3</td><td>26.1</td><td>25.5</td><td>23.3</td><td>24.6</td><td>22.1</td><td>24.1</td><td>23.4</td><td>20.75728</td><td>20.4</td><td>18.84924</td><td>21.1</td><td>20.0</td><td>19.5</td></tr>\n",
              "\t<tr><td>Canada              </td><td>23.1</td><td>25.1</td><td>26.3</td><td>27.7</td><td>27.9</td><td>27.7</td><td>26.8</td><td>26.0</td><td>27.4</td><td>25.6</td><td>23.8</td><td>22.6</td><td>21.50558</td><td>20.0</td><td>18.66890</td><td>21.7</td><td>20.1</td><td>18.9</td></tr>\n",
              "\t<tr><td>Sweden              </td><td>18.2</td><td>19.3</td><td>19.8</td><td>20.6</td><td>20.9</td><td>22.8</td><td>21.3</td><td>19.7</td><td>21.4</td><td>20.2</td><td>22.6</td><td>22.1</td><td>20.81881</td><td>20.3</td><td>18.20920</td><td>21.4</td><td>20.9</td><td>20.6</td></tr>\n",
              "\t<tr><td>New Zealand         </td><td>19.4</td><td>20.5</td><td>21.4</td><td>23.3</td><td>23.9</td><td>24.8</td><td>25.6</td><td>22.7</td><td>24.1</td><td>22.6</td><td>21.3</td><td>22.6</td><td>20.88870</td><td>20.1</td><td>17.87990</td><td>18.4</td><td>17.5</td><td>16.7</td></tr>\n",
              "\t<tr><td>Iceland             </td><td>  NA</td><td>21.1</td><td>20.9</td><td>29.0</td><td>29.8</td><td>30.1</td><td>29.1</td><td>24.7</td><td>25.9</td><td>23.4</td><td>22.8</td><td>22.5</td><td>20.30000</td><td>19.8</td><td>17.80000</td><td>18.0</td><td>17.1</td><td>15.7</td></tr>\n",
              "\t<tr><td>Denmark             </td><td>24.8</td><td>22.2</td><td>21.5</td><td>23.2</td><td>22.9</td><td>23.8</td><td>23.0</td><td>21.9</td><td>22.8</td><td>21.4</td><td>21.5</td><td>21.5</td><td>19.78518</td><td>19.5</td><td>17.21359</td><td>18.8</td><td>18.1</td><td>17.9</td></tr>\n",
              "\t<tr><td>Switzerland         </td><td>18.7</td><td>20.2</td><td>20.3</td><td>21.2</td><td>21.8</td><td>23.2</td><td>23.3</td><td>21.5</td><td>23.3</td><td>22.3</td><td>21.8</td><td>21.1</td><td>19.20953</td><td>18.7</td><td>17.09409</td><td>19.9</td><td>18.9</td><td>17.8</td></tr>\n",
              "\t<tr><td>Norway              </td><td>16.8</td><td>17.1</td><td>16.8</td><td>18.3</td><td>18.7</td><td>20.4</td><td>23.9</td><td>21.5</td><td>23.0</td><td>20.9</td><td>21.2</td><td>20.5</td><td>18.25872</td><td>18.0</td><td>16.19121</td><td>16.6</td><td>15.6</td><td>14.5</td></tr>\n",
              "\t<tr><td>Finland             </td><td>18.2</td><td>18.5</td><td>18.4</td><td>19.2</td><td>19.3</td><td>19.7</td><td>20.0</td><td>18.0</td><td>18.7</td><td>17.7</td><td>18.8</td><td>18.7</td><td>17.93425</td><td>16.9</td><td>14.62667</td><td>16.2</td><td>15.1</td><td>16.0</td></tr>\n",
              "\t<tr><td>Palestine           </td><td>  NA</td><td>  NA</td><td>  NA</td><td>  NA</td><td>  NA</td><td>  NA</td><td>  NA</td><td>  NA</td><td>  NA</td><td>  NA</td><td>  NA</td><td>  NA</td><td>      NA</td><td>  NA</td><td>      NA</td><td>86.0</td><td>85.6</td><td>87.9</td></tr>\n",
              "</tbody>\n",
              "</table>\n"
            ],
            "text/markdown": "\nA tibble: 179 × 19\n\n| Country &lt;chr&gt; | 2006 &lt;dbl&gt; | 2007 &lt;dbl&gt; | 2008 &lt;dbl&gt; | 2009 &lt;dbl&gt; | 2010 &lt;dbl&gt; | 2011 &lt;dbl&gt; | 2012 &lt;dbl&gt; | 2013 &lt;dbl&gt; | 2014 &lt;dbl&gt; | 2015 &lt;dbl&gt; | 2016 &lt;dbl&gt; | 2017 &lt;dbl&gt; | 2018 &lt;dbl&gt; | 2019 &lt;dbl&gt; | 2020 &lt;dbl&gt; | 2021 &lt;dbl&gt; | 2022 &lt;dbl&gt; | 2023 &lt;dbl&gt; |\n|---|---|---|---|---|---|---|---|---|---|---|---|---|---|---|---|---|---|---|\n| Yemen                     |  96.6 |  93.2 |  95.4 |  98.1 | 100.0 | 100.3 | 104.8 | 107.0 | 105.4 | 108.2 | 111.5 | 111.1 | 112.67150 | 113.5 | 112.43869 | 111.7 | 111.7 | 108.9 |\n| Somalia                   | 105.9 | 111.1 | 114.2 | 114.7 | 114.3 | 113.4 | 114.9 | 113.9 | 112.6 | 114.0 | 114.0 | 113.4 | 113.20080 | 112.3 | 110.88896 | 110.9 | 110.5 | 111.9 |\n| South Sudan               |    NA |    NA |    NA |    NA |    NA |    NA | 108.4 | 110.6 | 112.9 | 114.5 | 113.8 | 113.9 | 113.35732 | 112.2 | 110.75219 | 109.4 | 108.4 | 108.5 |\n| Syria                     |  88.6 |  88.6 |  90.1 |  89.8 |  87.9 |  85.9 |  94.5 |  97.4 | 101.6 | 107.8 | 110.8 | 110.6 | 111.39303 | 111.5 | 110.74970 | 110.7 | 108.4 | 107.1 |\n| Congo Democratic Republic | 110.1 | 105.5 | 106.7 | 108.7 | 109.9 | 108.2 | 111.2 | 111.9 | 110.2 | 109.7 | 110.0 | 110.0 | 110.67036 | 110.2 | 109.39462 | 108.4 | 107.3 | 107.2 |\n| Central African Republic  |  97.5 | 101.0 | 103.7 | 105.4 | 106.4 | 105.0 | 103.8 | 105.3 | 110.6 | 111.9 | 112.1 | 112.6 | 111.12634 | 108.9 | 107.48660 | 107.0 | 108.1 | 105.7 |\n| Chad                      | 105.9 | 108.8 | 110.9 | 112.2 | 113.3 | 110.3 | 107.6 | 109.0 | 108.7 | 108.4 | 110.1 | 109.4 | 108.31187 | 108.5 | 106.43382 | 105.8 | 105.7 | 104.6 |\n| Sudan                     | 112.3 | 113.7 | 113.0 | 112.4 | 111.8 | 108.7 | 109.4 | 111.0 | 110.1 | 110.8 | 111.5 | 110.6 | 108.66319 | 108.0 | 104.76589 | 105.2 | 107.1 | 106.2 |\n| Afghanistan               |  99.8 | 102.3 | 105.4 | 108.2 | 109.3 | 107.5 | 106.0 | 106.7 | 106.5 | 107.9 | 107.9 | 107.3 | 106.62077 | 105.0 | 102.90119 | 102.1 | 105.9 | 106.6 |\n| Zimbabwe                  | 108.9 | 110.1 | 112.5 | 114.0 | 110.2 | 107.9 | 106.3 | 105.2 | 102.8 | 100.0 | 100.5 | 101.6 | 102.29375 |  99.5 |  99.22086 |  99.1 |  97.8 |  96.9 |\n| Burundi                   |  96.7 |  95.2 |  94.1 |  95.7 |  96.7 |  98.6 |  97.5 |  97.6 |  97.1 |  98.0 | 100.7 |  98.9 |  97.36424 |  98.2 |  97.87603 |  97.1 |  95.4 |  94.2 |\n| Cameroon                  |  88.4 |  89.4 |  91.2 |  95.3 |  95.4 |  94.6 |  93.1 |  93.5 |  93.1 |  94.3 |  97.8 |  95.6 |  95.31218 |  97.0 |  97.85508 |  97.2 |  96.0 |  94.0 |\n| Haiti                     | 104.6 | 100.9 |  99.3 | 101.8 | 101.6 | 108.0 | 104.9 | 105.8 | 104.3 | 104.5 | 105.1 | 105.3 | 101.96955 |  99.3 |  97.67900 |  97.5 |  99.7 | 102.9 |\n| Nigeria                   |  94.4 |  95.6 |  95.7 |  99.8 | 100.2 |  99.9 | 101.1 | 100.7 |  99.7 | 102.5 | 103.5 | 101.6 |  99.90823 |  98.5 |  97.26751 |  98.0 |  97.2 |  98.0 |\n| Guinea                    |  99.0 | 101.3 | 101.8 | 104.6 | 105.0 | 102.5 | 101.9 | 101.3 | 102.7 | 104.9 | 103.8 | 102.4 | 101.61674 |  99.4 |  97.16761 |  97.4 |  99.6 |  98.5 |\n| Mali                      |  74.6 |  75.5 |  75.6 |  78.7 |  79.3 |  79.3 |  77.9 |  89.3 |  89.8 |  92.9 |  95.2 |  92.9 |  93.58132 |  94.5 |  96.04331 |  96.6 |  98.6 |  99.5 |\n| Iraq                      | 109.0 | 111.4 | 110.6 | 108.6 | 107.3 | 104.8 | 104.3 | 103.9 | 102.2 | 104.4 | 104.7 | 105.4 | 102.20569 |  99.1 |  95.94117 |  96.2 |  93.8 |  91.4 |\n| Eritrea                   |  83.9 |  85.5 |  87.4 |  90.3 |  93.3 |  93.6 |  94.5 |  95.0 |  95.5 |  96.9 |  98.6 |  98.1 |  97.20824 |  96.4 |  95.84423 |  97.0 |  95.9 |  94.5 |\n| Niger                     |  87.0 |  91.2 |  94.5 |  96.5 |  97.8 |  99.1 |  96.9 |  99.0 |  97.9 |  97.8 |  98.4 |  97.4 |  96.15290 |  96.2 |  95.31488 |  96.0 |  95.2 |  93.4 |\n| Libya                     |  68.5 |  69.3 |  70.0 |  69.4 |  69.1 |  68.7 |  84.9 |  84.5 |  87.8 |  95.3 |  96.4 |  96.3 |  94.60000 |  92.2 |  95.19372 |  97.0 |  94.3 |  96.1 |\n| Ethiopia                  |  91.9 |  95.3 |  96.1 |  98.9 |  98.8 |  98.2 |  97.9 |  98.9 |  97.9 |  97.5 |  97.2 | 101.1 |  99.56910 |  94.2 |  94.59578 |  99.0 |  99.3 | 100.4 |\n| Myanmar                   |  96.5 |  97.0 | 100.3 | 101.5 |  99.4 |  98.3 |  96.2 |  94.6 |  94.3 |  94.7 |  96.3 |  95.7 |  96.09231 |  94.3 |  94.00000 |  93.8 | 100.0 | 100.2 |\n| Guinea Bissau             |  85.4 |  88.8 |  91.3 |  94.8 |  97.2 |  98.3 |  99.2 | 101.1 | 100.6 |  99.9 |  99.8 |  99.5 |  98.09459 |  95.5 |  92.90208 |  92.0 |  91.3 |  89.9 |\n| Uganda                    |  94.5 |  96.4 |  96.1 |  96.9 |  97.5 |  96.3 |  96.5 |  96.6 |  96.0 |  97.0 |  97.7 |  96.0 |  95.14380 |  95.3 |  92.77037 |  92.9 |  92.1 |  91.5 |\n| Pakistan                  | 103.1 | 100.1 | 103.8 | 104.1 | 102.5 | 102.3 | 101.6 | 102.9 | 103.0 | 103.0 | 101.7 |  98.9 |  96.33806 |  94.2 |  92.07809 |  90.5 |  89.7 |  89.9 |\n| Congo Republic            |    NA |  93.0 |  93.4 |  93.1 |  92.5 |  91.4 |  90.1 |  90.0 |  89.6 |  90.8 |  92.2 |  93.4 |  93.12763 |  92.5 |  92.06820 |  92.4 |  92.2 |  90.7 |\n| Mozambique                |  74.8 |  76.9 |  76.8 |  80.7 |  81.7 |  83.6 |  82.4 |  82.8 |  85.9 |  86.9 |  87.8 |  89.0 |  88.65413 |  88.7 |  91.69371 |  93.9 |  94.3 |  94.0 |\n| Venezuela                 |  81.2 |  79.8 |  77.9 |  79.5 |  78.7 |  78.2 |  77.3 |  75.3 |  76.7 |  78.7 |  81.6 |  82.9 |  86.20693 |  89.3 |  91.15759 |  92.6 |  91.6 |  90.5 |\n| Kenya                     |  88.6 |  91.3 |  93.4 | 101.4 | 100.7 |  98.7 |  98.4 |  99.6 |  99.0 |  97.3 |  98.3 |  96.4 |  97.38051 |  93.5 |  90.31587 |  89.2 |  88.2 |  87.8 |\n| North Korea               |  97.3 |  97.7 |  97.7 |  98.3 |  97.8 |  95.6 |  95.5 |  95.1 |  94.0 |  93.8 |  93.9 |  93.3 |  93.20000 |  92.7 |  90.21130 |  90.0 |  89.1 |  87.0 |\n| ⋮ | ⋮ | ⋮ | ⋮ | ⋮ | ⋮ | ⋮ | ⋮ | ⋮ | ⋮ | ⋮ | ⋮ | ⋮ | ⋮ | ⋮ | ⋮ | ⋮ | ⋮ | ⋮ |\n| United Kingdom       | 34.2 | 34.1 | 32.9 | 33.6 | 33.9 | 34.1 | 35.3 | 33.2 | 34.3 | 33.4 | 32.4 | 33.2 | 34.29882 | 36.7 | 38.26048 | 41.5 | 40.6 | 41.9 |\n| Slovakia             | 49.9 | 49.3 | 48.8 | 48.6 | 48.8 | 47.1 | 47.4 | 45.3 | 45.3 | 42.6 | 44.9 | 44.3 | 42.47489 | 40.5 | 38.22181 | 39.0 | 37.1 | 37.8 |\n| United Arab Emirates |   NA | 51.6 | 51.2 | 51.8 | 52.4 | 50.4 | 48.9 | 47.3 | 47.6 | 46.2 | 44.5 | 43.7 | 42.82924 | 40.1 | 38.09923 | 40.3 | 39.1 | 37.0 |\n| Mauritius            | 41.9 | 42.7 | 42.4 | 44.7 | 44.4 | 44.2 | 44.7 | 44.5 | 46.1 | 45.2 | 43.2 | 41.7 | 40.49020 | 38.9 | 37.18472 | 38.1 | 37.9 | 38.0 |\n| Lithuania            | 49.7 | 49.0 | 48.7 | 48.0 | 47.8 | 45.3 | 44.2 | 43.0 | 43.2 | 43.0 | 42.4 | 41.7 | 39.40955 | 38.1 | 36.47089 | 38.7 | 38.6 | 39.4 |\n| Czechia              | 41.8 | 42.1 | 42.1 | 42.6 | 41.5 | 42.4 | 39.5 | 39.9 | 39.4 | 37.4 | 40.8 | 40.1 | 39.04760 | 37.6 | 35.74162 | 39.3 | 39.9 | 40.2 |\n| Malta                |   NA | 48.5 | 48.3 | 48.8 | 48.2 | 45.4 | 43.8 | 42.4 | 43.0 | 40.9 | 39.6 | 38.6 | 36.20624 | 34.5 | 33.59365 | 36.2 | 34.7 | 33.0 |\n| Uruguay              | 41.2 | 40.9 | 41.4 | 41.2 | 41.3 | 40.4 | 40.5 | 38.4 | 37.9 | 36.4 | 36.2 | 36.8 | 35.44475 | 34.0 | 33.40578 | 35.9 | 35.2 | 34.4 |\n| Japan                | 28.0 | 28.5 | 29.7 | 31.2 | 31.3 | 31.0 | 43.5 | 36.1 | 36.3 | 36.0 | 35.1 | 37.4 | 34.47490 | 34.3 | 32.33229 | 32.2 | 31.0 | 30.5 |\n| South Korea          | 39.9 | 39.7 | 40.6 | 41.6 | 41.3 | 38.8 | 37.6 | 35.4 | 36.4 | 36.3 | 36.1 | 38.1 | 35.73391 | 33.7 | 32.01527 | 32.5 | 32.7 | 31.5 |\n| France               | 34.3 | 34.1 | 34.8 | 35.3 | 34.9 | 34.0 | 33.6 | 32.6 | 34.8 | 33.7 | 34.5 | 33.5 | 32.22701 | 32.0 | 30.48111 | 32.5 | 30.9 | 28.8 |\n| Belgium              | 24.0 | 25.5 | 29.0 | 33.5 | 32.0 | 34.1 | 33.5 | 30.9 | 32.0 | 30.5 | 29.0 | 30.8 | 29.65365 | 28.6 | 27.09814 | 31.0 | 31.9 | 31.4 |\n| Singapore            | 30.8 | 33.0 | 33.3 | 33.8 | 34.8 | 35.1 | 35.6 | 34.0 | 35.9 | 34.4 | 32.9 | 32.5 | 30.42120 | 28.1 | 26.32619 | 26.6 | 25.8 | 25.5 |\n| Slovenia             | 36.8 | 37.5 | 37.1 | 36.3 | 36.0 | 35.5 | 34.0 | 32.3 | 32.6 | 31.5 | 33.9 | 32.4 | 30.33350 | 28.0 | 25.84648 | 28.2 | 27.7 | 27.3 |\n| Austria              | 26.1 | 26.0 | 25.9 | 27.6 | 27.2 | 27.3 | 27.5 | 26.9 | 28.5 | 25.8 | 27.5 | 27.7 | 26.18188 | 25.0 | 24.10870 | 26.1 | 25.4 | 24.4 |\n| Portugal             | 32.7 | 32.4 | 31.8 | 32.7 | 33.1 | 32.3 | 34.2 | 32.6 | 33.1 | 29.7 | 29.2 | 29.0 | 27.27345 | 25.3 | 23.51466 | 26.8 | 27.5 | 25.7 |\n| Germany              | 39.7 | 38.4 | 37.3 | 36.2 | 35.4 | 33.9 | 31.7 | 29.7 | 30.6 | 28.1 | 28.6 | 28.1 | 25.83337 | 24.7 | 23.18849 | 24.8 | 23.6 | 24.6 |\n| Netherlands          | 28.1 | 28.6 | 27.3 | 27.0 | 27.9 | 28.3 | 28.1 | 26.9 | 28.6 | 26.9 | 28.2 | 27.4 | 26.16999 | 24.8 | 22.85984 | 24.1 | 22.1 | 21.0 |\n| Ireland              | 18.6 | 19.5 | 19.9 | 21.6 | 22.4 | 25.3 | 26.5 | 24.8 | 26.1 | 24.6 | 22.5 | 22.3 | 20.73930 | 20.6 | 19.93942 | 22.2 | 20.8 | 19.5 |\n| Australia            | 22.0 | 23.2 | 24.6 | 25.9 | 27.3 | 28.1 | 29.2 | 25.4 | 26.3 | 24.3 | 22.5 | 22.3 | 20.77077 | 19.7 | 19.74641 | 21.8 | 22.7 | 22.0 |\n| Luxembourg           |   NA | 28.1 | 27.9 | 27.6 | 27.3 | 26.1 | 25.5 | 23.3 | 24.6 | 22.1 | 24.1 | 23.4 | 20.75728 | 20.4 | 18.84924 | 21.1 | 20.0 | 19.5 |\n| Canada               | 23.1 | 25.1 | 26.3 | 27.7 | 27.9 | 27.7 | 26.8 | 26.0 | 27.4 | 25.6 | 23.8 | 22.6 | 21.50558 | 20.0 | 18.66890 | 21.7 | 20.1 | 18.9 |\n| Sweden               | 18.2 | 19.3 | 19.8 | 20.6 | 20.9 | 22.8 | 21.3 | 19.7 | 21.4 | 20.2 | 22.6 | 22.1 | 20.81881 | 20.3 | 18.20920 | 21.4 | 20.9 | 20.6 |\n| New Zealand          | 19.4 | 20.5 | 21.4 | 23.3 | 23.9 | 24.8 | 25.6 | 22.7 | 24.1 | 22.6 | 21.3 | 22.6 | 20.88870 | 20.1 | 17.87990 | 18.4 | 17.5 | 16.7 |\n| Iceland              |   NA | 21.1 | 20.9 | 29.0 | 29.8 | 30.1 | 29.1 | 24.7 | 25.9 | 23.4 | 22.8 | 22.5 | 20.30000 | 19.8 | 17.80000 | 18.0 | 17.1 | 15.7 |\n| Denmark              | 24.8 | 22.2 | 21.5 | 23.2 | 22.9 | 23.8 | 23.0 | 21.9 | 22.8 | 21.4 | 21.5 | 21.5 | 19.78518 | 19.5 | 17.21359 | 18.8 | 18.1 | 17.9 |\n| Switzerland          | 18.7 | 20.2 | 20.3 | 21.2 | 21.8 | 23.2 | 23.3 | 21.5 | 23.3 | 22.3 | 21.8 | 21.1 | 19.20953 | 18.7 | 17.09409 | 19.9 | 18.9 | 17.8 |\n| Norway               | 16.8 | 17.1 | 16.8 | 18.3 | 18.7 | 20.4 | 23.9 | 21.5 | 23.0 | 20.9 | 21.2 | 20.5 | 18.25872 | 18.0 | 16.19121 | 16.6 | 15.6 | 14.5 |\n| Finland              | 18.2 | 18.5 | 18.4 | 19.2 | 19.3 | 19.7 | 20.0 | 18.0 | 18.7 | 17.7 | 18.8 | 18.7 | 17.93425 | 16.9 | 14.62667 | 16.2 | 15.1 | 16.0 |\n| Palestine            |   NA |   NA |   NA |   NA |   NA |   NA |   NA |   NA |   NA |   NA |   NA |   NA |       NA |   NA |       NA | 86.0 | 85.6 | 87.9 |\n\n",
            "text/latex": "A tibble: 179 × 19\n\\begin{tabular}{lllllllllllllllllll}\n Country & 2006 & 2007 & 2008 & 2009 & 2010 & 2011 & 2012 & 2013 & 2014 & 2015 & 2016 & 2017 & 2018 & 2019 & 2020 & 2021 & 2022 & 2023\\\\\n <chr> & <dbl> & <dbl> & <dbl> & <dbl> & <dbl> & <dbl> & <dbl> & <dbl> & <dbl> & <dbl> & <dbl> & <dbl> & <dbl> & <dbl> & <dbl> & <dbl> & <dbl> & <dbl>\\\\\n\\hline\n\t Yemen                     &  96.6 &  93.2 &  95.4 &  98.1 & 100.0 & 100.3 & 104.8 & 107.0 & 105.4 & 108.2 & 111.5 & 111.1 & 112.67150 & 113.5 & 112.43869 & 111.7 & 111.7 & 108.9\\\\\n\t Somalia                   & 105.9 & 111.1 & 114.2 & 114.7 & 114.3 & 113.4 & 114.9 & 113.9 & 112.6 & 114.0 & 114.0 & 113.4 & 113.20080 & 112.3 & 110.88896 & 110.9 & 110.5 & 111.9\\\\\n\t South Sudan               &    NA &    NA &    NA &    NA &    NA &    NA & 108.4 & 110.6 & 112.9 & 114.5 & 113.8 & 113.9 & 113.35732 & 112.2 & 110.75219 & 109.4 & 108.4 & 108.5\\\\\n\t Syria                     &  88.6 &  88.6 &  90.1 &  89.8 &  87.9 &  85.9 &  94.5 &  97.4 & 101.6 & 107.8 & 110.8 & 110.6 & 111.39303 & 111.5 & 110.74970 & 110.7 & 108.4 & 107.1\\\\\n\t Congo Democratic Republic & 110.1 & 105.5 & 106.7 & 108.7 & 109.9 & 108.2 & 111.2 & 111.9 & 110.2 & 109.7 & 110.0 & 110.0 & 110.67036 & 110.2 & 109.39462 & 108.4 & 107.3 & 107.2\\\\\n\t Central African Republic  &  97.5 & 101.0 & 103.7 & 105.4 & 106.4 & 105.0 & 103.8 & 105.3 & 110.6 & 111.9 & 112.1 & 112.6 & 111.12634 & 108.9 & 107.48660 & 107.0 & 108.1 & 105.7\\\\\n\t Chad                      & 105.9 & 108.8 & 110.9 & 112.2 & 113.3 & 110.3 & 107.6 & 109.0 & 108.7 & 108.4 & 110.1 & 109.4 & 108.31187 & 108.5 & 106.43382 & 105.8 & 105.7 & 104.6\\\\\n\t Sudan                     & 112.3 & 113.7 & 113.0 & 112.4 & 111.8 & 108.7 & 109.4 & 111.0 & 110.1 & 110.8 & 111.5 & 110.6 & 108.66319 & 108.0 & 104.76589 & 105.2 & 107.1 & 106.2\\\\\n\t Afghanistan               &  99.8 & 102.3 & 105.4 & 108.2 & 109.3 & 107.5 & 106.0 & 106.7 & 106.5 & 107.9 & 107.9 & 107.3 & 106.62077 & 105.0 & 102.90119 & 102.1 & 105.9 & 106.6\\\\\n\t Zimbabwe                  & 108.9 & 110.1 & 112.5 & 114.0 & 110.2 & 107.9 & 106.3 & 105.2 & 102.8 & 100.0 & 100.5 & 101.6 & 102.29375 &  99.5 &  99.22086 &  99.1 &  97.8 &  96.9\\\\\n\t Burundi                   &  96.7 &  95.2 &  94.1 &  95.7 &  96.7 &  98.6 &  97.5 &  97.6 &  97.1 &  98.0 & 100.7 &  98.9 &  97.36424 &  98.2 &  97.87603 &  97.1 &  95.4 &  94.2\\\\\n\t Cameroon                  &  88.4 &  89.4 &  91.2 &  95.3 &  95.4 &  94.6 &  93.1 &  93.5 &  93.1 &  94.3 &  97.8 &  95.6 &  95.31218 &  97.0 &  97.85508 &  97.2 &  96.0 &  94.0\\\\\n\t Haiti                     & 104.6 & 100.9 &  99.3 & 101.8 & 101.6 & 108.0 & 104.9 & 105.8 & 104.3 & 104.5 & 105.1 & 105.3 & 101.96955 &  99.3 &  97.67900 &  97.5 &  99.7 & 102.9\\\\\n\t Nigeria                   &  94.4 &  95.6 &  95.7 &  99.8 & 100.2 &  99.9 & 101.1 & 100.7 &  99.7 & 102.5 & 103.5 & 101.6 &  99.90823 &  98.5 &  97.26751 &  98.0 &  97.2 &  98.0\\\\\n\t Guinea                    &  99.0 & 101.3 & 101.8 & 104.6 & 105.0 & 102.5 & 101.9 & 101.3 & 102.7 & 104.9 & 103.8 & 102.4 & 101.61674 &  99.4 &  97.16761 &  97.4 &  99.6 &  98.5\\\\\n\t Mali                      &  74.6 &  75.5 &  75.6 &  78.7 &  79.3 &  79.3 &  77.9 &  89.3 &  89.8 &  92.9 &  95.2 &  92.9 &  93.58132 &  94.5 &  96.04331 &  96.6 &  98.6 &  99.5\\\\\n\t Iraq                      & 109.0 & 111.4 & 110.6 & 108.6 & 107.3 & 104.8 & 104.3 & 103.9 & 102.2 & 104.4 & 104.7 & 105.4 & 102.20569 &  99.1 &  95.94117 &  96.2 &  93.8 &  91.4\\\\\n\t Eritrea                   &  83.9 &  85.5 &  87.4 &  90.3 &  93.3 &  93.6 &  94.5 &  95.0 &  95.5 &  96.9 &  98.6 &  98.1 &  97.20824 &  96.4 &  95.84423 &  97.0 &  95.9 &  94.5\\\\\n\t Niger                     &  87.0 &  91.2 &  94.5 &  96.5 &  97.8 &  99.1 &  96.9 &  99.0 &  97.9 &  97.8 &  98.4 &  97.4 &  96.15290 &  96.2 &  95.31488 &  96.0 &  95.2 &  93.4\\\\\n\t Libya                     &  68.5 &  69.3 &  70.0 &  69.4 &  69.1 &  68.7 &  84.9 &  84.5 &  87.8 &  95.3 &  96.4 &  96.3 &  94.60000 &  92.2 &  95.19372 &  97.0 &  94.3 &  96.1\\\\\n\t Ethiopia                  &  91.9 &  95.3 &  96.1 &  98.9 &  98.8 &  98.2 &  97.9 &  98.9 &  97.9 &  97.5 &  97.2 & 101.1 &  99.56910 &  94.2 &  94.59578 &  99.0 &  99.3 & 100.4\\\\\n\t Myanmar                   &  96.5 &  97.0 & 100.3 & 101.5 &  99.4 &  98.3 &  96.2 &  94.6 &  94.3 &  94.7 &  96.3 &  95.7 &  96.09231 &  94.3 &  94.00000 &  93.8 & 100.0 & 100.2\\\\\n\t Guinea Bissau             &  85.4 &  88.8 &  91.3 &  94.8 &  97.2 &  98.3 &  99.2 & 101.1 & 100.6 &  99.9 &  99.8 &  99.5 &  98.09459 &  95.5 &  92.90208 &  92.0 &  91.3 &  89.9\\\\\n\t Uganda                    &  94.5 &  96.4 &  96.1 &  96.9 &  97.5 &  96.3 &  96.5 &  96.6 &  96.0 &  97.0 &  97.7 &  96.0 &  95.14380 &  95.3 &  92.77037 &  92.9 &  92.1 &  91.5\\\\\n\t Pakistan                  & 103.1 & 100.1 & 103.8 & 104.1 & 102.5 & 102.3 & 101.6 & 102.9 & 103.0 & 103.0 & 101.7 &  98.9 &  96.33806 &  94.2 &  92.07809 &  90.5 &  89.7 &  89.9\\\\\n\t Congo Republic            &    NA &  93.0 &  93.4 &  93.1 &  92.5 &  91.4 &  90.1 &  90.0 &  89.6 &  90.8 &  92.2 &  93.4 &  93.12763 &  92.5 &  92.06820 &  92.4 &  92.2 &  90.7\\\\\n\t Mozambique                &  74.8 &  76.9 &  76.8 &  80.7 &  81.7 &  83.6 &  82.4 &  82.8 &  85.9 &  86.9 &  87.8 &  89.0 &  88.65413 &  88.7 &  91.69371 &  93.9 &  94.3 &  94.0\\\\\n\t Venezuela                 &  81.2 &  79.8 &  77.9 &  79.5 &  78.7 &  78.2 &  77.3 &  75.3 &  76.7 &  78.7 &  81.6 &  82.9 &  86.20693 &  89.3 &  91.15759 &  92.6 &  91.6 &  90.5\\\\\n\t Kenya                     &  88.6 &  91.3 &  93.4 & 101.4 & 100.7 &  98.7 &  98.4 &  99.6 &  99.0 &  97.3 &  98.3 &  96.4 &  97.38051 &  93.5 &  90.31587 &  89.2 &  88.2 &  87.8\\\\\n\t North Korea               &  97.3 &  97.7 &  97.7 &  98.3 &  97.8 &  95.6 &  95.5 &  95.1 &  94.0 &  93.8 &  93.9 &  93.3 &  93.20000 &  92.7 &  90.21130 &  90.0 &  89.1 &  87.0\\\\\n\t ⋮ & ⋮ & ⋮ & ⋮ & ⋮ & ⋮ & ⋮ & ⋮ & ⋮ & ⋮ & ⋮ & ⋮ & ⋮ & ⋮ & ⋮ & ⋮ & ⋮ & ⋮ & ⋮\\\\\n\t United Kingdom       & 34.2 & 34.1 & 32.9 & 33.6 & 33.9 & 34.1 & 35.3 & 33.2 & 34.3 & 33.4 & 32.4 & 33.2 & 34.29882 & 36.7 & 38.26048 & 41.5 & 40.6 & 41.9\\\\\n\t Slovakia             & 49.9 & 49.3 & 48.8 & 48.6 & 48.8 & 47.1 & 47.4 & 45.3 & 45.3 & 42.6 & 44.9 & 44.3 & 42.47489 & 40.5 & 38.22181 & 39.0 & 37.1 & 37.8\\\\\n\t United Arab Emirates &   NA & 51.6 & 51.2 & 51.8 & 52.4 & 50.4 & 48.9 & 47.3 & 47.6 & 46.2 & 44.5 & 43.7 & 42.82924 & 40.1 & 38.09923 & 40.3 & 39.1 & 37.0\\\\\n\t Mauritius            & 41.9 & 42.7 & 42.4 & 44.7 & 44.4 & 44.2 & 44.7 & 44.5 & 46.1 & 45.2 & 43.2 & 41.7 & 40.49020 & 38.9 & 37.18472 & 38.1 & 37.9 & 38.0\\\\\n\t Lithuania            & 49.7 & 49.0 & 48.7 & 48.0 & 47.8 & 45.3 & 44.2 & 43.0 & 43.2 & 43.0 & 42.4 & 41.7 & 39.40955 & 38.1 & 36.47089 & 38.7 & 38.6 & 39.4\\\\\n\t Czechia              & 41.8 & 42.1 & 42.1 & 42.6 & 41.5 & 42.4 & 39.5 & 39.9 & 39.4 & 37.4 & 40.8 & 40.1 & 39.04760 & 37.6 & 35.74162 & 39.3 & 39.9 & 40.2\\\\\n\t Malta                &   NA & 48.5 & 48.3 & 48.8 & 48.2 & 45.4 & 43.8 & 42.4 & 43.0 & 40.9 & 39.6 & 38.6 & 36.20624 & 34.5 & 33.59365 & 36.2 & 34.7 & 33.0\\\\\n\t Uruguay              & 41.2 & 40.9 & 41.4 & 41.2 & 41.3 & 40.4 & 40.5 & 38.4 & 37.9 & 36.4 & 36.2 & 36.8 & 35.44475 & 34.0 & 33.40578 & 35.9 & 35.2 & 34.4\\\\\n\t Japan                & 28.0 & 28.5 & 29.7 & 31.2 & 31.3 & 31.0 & 43.5 & 36.1 & 36.3 & 36.0 & 35.1 & 37.4 & 34.47490 & 34.3 & 32.33229 & 32.2 & 31.0 & 30.5\\\\\n\t South Korea          & 39.9 & 39.7 & 40.6 & 41.6 & 41.3 & 38.8 & 37.6 & 35.4 & 36.4 & 36.3 & 36.1 & 38.1 & 35.73391 & 33.7 & 32.01527 & 32.5 & 32.7 & 31.5\\\\\n\t France               & 34.3 & 34.1 & 34.8 & 35.3 & 34.9 & 34.0 & 33.6 & 32.6 & 34.8 & 33.7 & 34.5 & 33.5 & 32.22701 & 32.0 & 30.48111 & 32.5 & 30.9 & 28.8\\\\\n\t Belgium              & 24.0 & 25.5 & 29.0 & 33.5 & 32.0 & 34.1 & 33.5 & 30.9 & 32.0 & 30.5 & 29.0 & 30.8 & 29.65365 & 28.6 & 27.09814 & 31.0 & 31.9 & 31.4\\\\\n\t Singapore            & 30.8 & 33.0 & 33.3 & 33.8 & 34.8 & 35.1 & 35.6 & 34.0 & 35.9 & 34.4 & 32.9 & 32.5 & 30.42120 & 28.1 & 26.32619 & 26.6 & 25.8 & 25.5\\\\\n\t Slovenia             & 36.8 & 37.5 & 37.1 & 36.3 & 36.0 & 35.5 & 34.0 & 32.3 & 32.6 & 31.5 & 33.9 & 32.4 & 30.33350 & 28.0 & 25.84648 & 28.2 & 27.7 & 27.3\\\\\n\t Austria              & 26.1 & 26.0 & 25.9 & 27.6 & 27.2 & 27.3 & 27.5 & 26.9 & 28.5 & 25.8 & 27.5 & 27.7 & 26.18188 & 25.0 & 24.10870 & 26.1 & 25.4 & 24.4\\\\\n\t Portugal             & 32.7 & 32.4 & 31.8 & 32.7 & 33.1 & 32.3 & 34.2 & 32.6 & 33.1 & 29.7 & 29.2 & 29.0 & 27.27345 & 25.3 & 23.51466 & 26.8 & 27.5 & 25.7\\\\\n\t Germany              & 39.7 & 38.4 & 37.3 & 36.2 & 35.4 & 33.9 & 31.7 & 29.7 & 30.6 & 28.1 & 28.6 & 28.1 & 25.83337 & 24.7 & 23.18849 & 24.8 & 23.6 & 24.6\\\\\n\t Netherlands          & 28.1 & 28.6 & 27.3 & 27.0 & 27.9 & 28.3 & 28.1 & 26.9 & 28.6 & 26.9 & 28.2 & 27.4 & 26.16999 & 24.8 & 22.85984 & 24.1 & 22.1 & 21.0\\\\\n\t Ireland              & 18.6 & 19.5 & 19.9 & 21.6 & 22.4 & 25.3 & 26.5 & 24.8 & 26.1 & 24.6 & 22.5 & 22.3 & 20.73930 & 20.6 & 19.93942 & 22.2 & 20.8 & 19.5\\\\\n\t Australia            & 22.0 & 23.2 & 24.6 & 25.9 & 27.3 & 28.1 & 29.2 & 25.4 & 26.3 & 24.3 & 22.5 & 22.3 & 20.77077 & 19.7 & 19.74641 & 21.8 & 22.7 & 22.0\\\\\n\t Luxembourg           &   NA & 28.1 & 27.9 & 27.6 & 27.3 & 26.1 & 25.5 & 23.3 & 24.6 & 22.1 & 24.1 & 23.4 & 20.75728 & 20.4 & 18.84924 & 21.1 & 20.0 & 19.5\\\\\n\t Canada               & 23.1 & 25.1 & 26.3 & 27.7 & 27.9 & 27.7 & 26.8 & 26.0 & 27.4 & 25.6 & 23.8 & 22.6 & 21.50558 & 20.0 & 18.66890 & 21.7 & 20.1 & 18.9\\\\\n\t Sweden               & 18.2 & 19.3 & 19.8 & 20.6 & 20.9 & 22.8 & 21.3 & 19.7 & 21.4 & 20.2 & 22.6 & 22.1 & 20.81881 & 20.3 & 18.20920 & 21.4 & 20.9 & 20.6\\\\\n\t New Zealand          & 19.4 & 20.5 & 21.4 & 23.3 & 23.9 & 24.8 & 25.6 & 22.7 & 24.1 & 22.6 & 21.3 & 22.6 & 20.88870 & 20.1 & 17.87990 & 18.4 & 17.5 & 16.7\\\\\n\t Iceland              &   NA & 21.1 & 20.9 & 29.0 & 29.8 & 30.1 & 29.1 & 24.7 & 25.9 & 23.4 & 22.8 & 22.5 & 20.30000 & 19.8 & 17.80000 & 18.0 & 17.1 & 15.7\\\\\n\t Denmark              & 24.8 & 22.2 & 21.5 & 23.2 & 22.9 & 23.8 & 23.0 & 21.9 & 22.8 & 21.4 & 21.5 & 21.5 & 19.78518 & 19.5 & 17.21359 & 18.8 & 18.1 & 17.9\\\\\n\t Switzerland          & 18.7 & 20.2 & 20.3 & 21.2 & 21.8 & 23.2 & 23.3 & 21.5 & 23.3 & 22.3 & 21.8 & 21.1 & 19.20953 & 18.7 & 17.09409 & 19.9 & 18.9 & 17.8\\\\\n\t Norway               & 16.8 & 17.1 & 16.8 & 18.3 & 18.7 & 20.4 & 23.9 & 21.5 & 23.0 & 20.9 & 21.2 & 20.5 & 18.25872 & 18.0 & 16.19121 & 16.6 & 15.6 & 14.5\\\\\n\t Finland              & 18.2 & 18.5 & 18.4 & 19.2 & 19.3 & 19.7 & 20.0 & 18.0 & 18.7 & 17.7 & 18.8 & 18.7 & 17.93425 & 16.9 & 14.62667 & 16.2 & 15.1 & 16.0\\\\\n\t Palestine            &   NA &   NA &   NA &   NA &   NA &   NA &   NA &   NA &   NA &   NA &   NA &   NA &       NA &   NA &       NA & 86.0 & 85.6 & 87.9\\\\\n\\end{tabular}\n",
            "text/plain": [
              "    Country                   2006  2007  2008  2009  2010  2011  2012  2013 \n",
              "1   Yemen                      96.6  93.2  95.4  98.1 100.0 100.3 104.8 107.0\n",
              "2   Somalia                   105.9 111.1 114.2 114.7 114.3 113.4 114.9 113.9\n",
              "3   South Sudan                  NA    NA    NA    NA    NA    NA 108.4 110.6\n",
              "4   Syria                      88.6  88.6  90.1  89.8  87.9  85.9  94.5  97.4\n",
              "5   Congo Democratic Republic 110.1 105.5 106.7 108.7 109.9 108.2 111.2 111.9\n",
              "6   Central African Republic   97.5 101.0 103.7 105.4 106.4 105.0 103.8 105.3\n",
              "7   Chad                      105.9 108.8 110.9 112.2 113.3 110.3 107.6 109.0\n",
              "8   Sudan                     112.3 113.7 113.0 112.4 111.8 108.7 109.4 111.0\n",
              "9   Afghanistan                99.8 102.3 105.4 108.2 109.3 107.5 106.0 106.7\n",
              "10  Zimbabwe                  108.9 110.1 112.5 114.0 110.2 107.9 106.3 105.2\n",
              "11  Burundi                    96.7  95.2  94.1  95.7  96.7  98.6  97.5  97.6\n",
              "12  Cameroon                   88.4  89.4  91.2  95.3  95.4  94.6  93.1  93.5\n",
              "13  Haiti                     104.6 100.9  99.3 101.8 101.6 108.0 104.9 105.8\n",
              "14  Nigeria                    94.4  95.6  95.7  99.8 100.2  99.9 101.1 100.7\n",
              "15  Guinea                     99.0 101.3 101.8 104.6 105.0 102.5 101.9 101.3\n",
              "16  Mali                       74.6  75.5  75.6  78.7  79.3  79.3  77.9  89.3\n",
              "17  Iraq                      109.0 111.4 110.6 108.6 107.3 104.8 104.3 103.9\n",
              "18  Eritrea                    83.9  85.5  87.4  90.3  93.3  93.6  94.5  95.0\n",
              "19  Niger                      87.0  91.2  94.5  96.5  97.8  99.1  96.9  99.0\n",
              "20  Libya                      68.5  69.3  70.0  69.4  69.1  68.7  84.9  84.5\n",
              "21  Ethiopia                   91.9  95.3  96.1  98.9  98.8  98.2  97.9  98.9\n",
              "22  Myanmar                    96.5  97.0 100.3 101.5  99.4  98.3  96.2  94.6\n",
              "23  Guinea Bissau              85.4  88.8  91.3  94.8  97.2  98.3  99.2 101.1\n",
              "24  Uganda                     94.5  96.4  96.1  96.9  97.5  96.3  96.5  96.6\n",
              "25  Pakistan                  103.1 100.1 103.8 104.1 102.5 102.3 101.6 102.9\n",
              "26  Congo Republic               NA  93.0  93.4  93.1  92.5  91.4  90.1  90.0\n",
              "27  Mozambique                 74.8  76.9  76.8  80.7  81.7  83.6  82.4  82.8\n",
              "28  Venezuela                  81.2  79.8  77.9  79.5  78.7  78.2  77.3  75.3\n",
              "29  Kenya                      88.6  91.3  93.4 101.4 100.7  98.7  98.4  99.6\n",
              "30  North Korea                97.3  97.7  97.7  98.3  97.8  95.6  95.5  95.1\n",
              "⋮   ⋮                         ⋮     ⋮     ⋮     ⋮     ⋮     ⋮     ⋮     ⋮    \n",
              "150 United Kingdom            34.2  34.1  32.9  33.6  33.9  34.1  35.3  33.2 \n",
              "151 Slovakia                  49.9  49.3  48.8  48.6  48.8  47.1  47.4  45.3 \n",
              "152 United Arab Emirates        NA  51.6  51.2  51.8  52.4  50.4  48.9  47.3 \n",
              "153 Mauritius                 41.9  42.7  42.4  44.7  44.4  44.2  44.7  44.5 \n",
              "154 Lithuania                 49.7  49.0  48.7  48.0  47.8  45.3  44.2  43.0 \n",
              "155 Czechia                   41.8  42.1  42.1  42.6  41.5  42.4  39.5  39.9 \n",
              "156 Malta                       NA  48.5  48.3  48.8  48.2  45.4  43.8  42.4 \n",
              "157 Uruguay                   41.2  40.9  41.4  41.2  41.3  40.4  40.5  38.4 \n",
              "158 Japan                     28.0  28.5  29.7  31.2  31.3  31.0  43.5  36.1 \n",
              "159 South Korea               39.9  39.7  40.6  41.6  41.3  38.8  37.6  35.4 \n",
              "160 France                    34.3  34.1  34.8  35.3  34.9  34.0  33.6  32.6 \n",
              "161 Belgium                   24.0  25.5  29.0  33.5  32.0  34.1  33.5  30.9 \n",
              "162 Singapore                 30.8  33.0  33.3  33.8  34.8  35.1  35.6  34.0 \n",
              "163 Slovenia                  36.8  37.5  37.1  36.3  36.0  35.5  34.0  32.3 \n",
              "164 Austria                   26.1  26.0  25.9  27.6  27.2  27.3  27.5  26.9 \n",
              "165 Portugal                  32.7  32.4  31.8  32.7  33.1  32.3  34.2  32.6 \n",
              "166 Germany                   39.7  38.4  37.3  36.2  35.4  33.9  31.7  29.7 \n",
              "167 Netherlands               28.1  28.6  27.3  27.0  27.9  28.3  28.1  26.9 \n",
              "168 Ireland                   18.6  19.5  19.9  21.6  22.4  25.3  26.5  24.8 \n",
              "169 Australia                 22.0  23.2  24.6  25.9  27.3  28.1  29.2  25.4 \n",
              "170 Luxembourg                  NA  28.1  27.9  27.6  27.3  26.1  25.5  23.3 \n",
              "171 Canada                    23.1  25.1  26.3  27.7  27.9  27.7  26.8  26.0 \n",
              "172 Sweden                    18.2  19.3  19.8  20.6  20.9  22.8  21.3  19.7 \n",
              "173 New Zealand               19.4  20.5  21.4  23.3  23.9  24.8  25.6  22.7 \n",
              "174 Iceland                     NA  21.1  20.9  29.0  29.8  30.1  29.1  24.7 \n",
              "175 Denmark                   24.8  22.2  21.5  23.2  22.9  23.8  23.0  21.9 \n",
              "176 Switzerland               18.7  20.2  20.3  21.2  21.8  23.2  23.3  21.5 \n",
              "177 Norway                    16.8  17.1  16.8  18.3  18.7  20.4  23.9  21.5 \n",
              "178 Finland                   18.2  18.5  18.4  19.2  19.3  19.7  20.0  18.0 \n",
              "179 Palestine                   NA    NA    NA    NA    NA    NA    NA    NA \n",
              "    2014  2015  2016  2017  2018      2019  2020      2021  2022  2023 \n",
              "1   105.4 108.2 111.5 111.1 112.67150 113.5 112.43869 111.7 111.7 108.9\n",
              "2   112.6 114.0 114.0 113.4 113.20080 112.3 110.88896 110.9 110.5 111.9\n",
              "3   112.9 114.5 113.8 113.9 113.35732 112.2 110.75219 109.4 108.4 108.5\n",
              "4   101.6 107.8 110.8 110.6 111.39303 111.5 110.74970 110.7 108.4 107.1\n",
              "5   110.2 109.7 110.0 110.0 110.67036 110.2 109.39462 108.4 107.3 107.2\n",
              "6   110.6 111.9 112.1 112.6 111.12634 108.9 107.48660 107.0 108.1 105.7\n",
              "7   108.7 108.4 110.1 109.4 108.31187 108.5 106.43382 105.8 105.7 104.6\n",
              "8   110.1 110.8 111.5 110.6 108.66319 108.0 104.76589 105.2 107.1 106.2\n",
              "9   106.5 107.9 107.9 107.3 106.62077 105.0 102.90119 102.1 105.9 106.6\n",
              "10  102.8 100.0 100.5 101.6 102.29375  99.5  99.22086  99.1  97.8  96.9\n",
              "11   97.1  98.0 100.7  98.9  97.36424  98.2  97.87603  97.1  95.4  94.2\n",
              "12   93.1  94.3  97.8  95.6  95.31218  97.0  97.85508  97.2  96.0  94.0\n",
              "13  104.3 104.5 105.1 105.3 101.96955  99.3  97.67900  97.5  99.7 102.9\n",
              "14   99.7 102.5 103.5 101.6  99.90823  98.5  97.26751  98.0  97.2  98.0\n",
              "15  102.7 104.9 103.8 102.4 101.61674  99.4  97.16761  97.4  99.6  98.5\n",
              "16   89.8  92.9  95.2  92.9  93.58132  94.5  96.04331  96.6  98.6  99.5\n",
              "17  102.2 104.4 104.7 105.4 102.20569  99.1  95.94117  96.2  93.8  91.4\n",
              "18   95.5  96.9  98.6  98.1  97.20824  96.4  95.84423  97.0  95.9  94.5\n",
              "19   97.9  97.8  98.4  97.4  96.15290  96.2  95.31488  96.0  95.2  93.4\n",
              "20   87.8  95.3  96.4  96.3  94.60000  92.2  95.19372  97.0  94.3  96.1\n",
              "21   97.9  97.5  97.2 101.1  99.56910  94.2  94.59578  99.0  99.3 100.4\n",
              "22   94.3  94.7  96.3  95.7  96.09231  94.3  94.00000  93.8 100.0 100.2\n",
              "23  100.6  99.9  99.8  99.5  98.09459  95.5  92.90208  92.0  91.3  89.9\n",
              "24   96.0  97.0  97.7  96.0  95.14380  95.3  92.77037  92.9  92.1  91.5\n",
              "25  103.0 103.0 101.7  98.9  96.33806  94.2  92.07809  90.5  89.7  89.9\n",
              "26   89.6  90.8  92.2  93.4  93.12763  92.5  92.06820  92.4  92.2  90.7\n",
              "27   85.9  86.9  87.8  89.0  88.65413  88.7  91.69371  93.9  94.3  94.0\n",
              "28   76.7  78.7  81.6  82.9  86.20693  89.3  91.15759  92.6  91.6  90.5\n",
              "29   99.0  97.3  98.3  96.4  97.38051  93.5  90.31587  89.2  88.2  87.8\n",
              "30   94.0  93.8  93.9  93.3  93.20000  92.7  90.21130  90.0  89.1  87.0\n",
              "⋮   ⋮     ⋮     ⋮     ⋮     ⋮         ⋮     ⋮         ⋮     ⋮     ⋮    \n",
              "150 34.3  33.4  32.4  33.2  34.29882  36.7  38.26048  41.5  40.6  41.9 \n",
              "151 45.3  42.6  44.9  44.3  42.47489  40.5  38.22181  39.0  37.1  37.8 \n",
              "152 47.6  46.2  44.5  43.7  42.82924  40.1  38.09923  40.3  39.1  37.0 \n",
              "153 46.1  45.2  43.2  41.7  40.49020  38.9  37.18472  38.1  37.9  38.0 \n",
              "154 43.2  43.0  42.4  41.7  39.40955  38.1  36.47089  38.7  38.6  39.4 \n",
              "155 39.4  37.4  40.8  40.1  39.04760  37.6  35.74162  39.3  39.9  40.2 \n",
              "156 43.0  40.9  39.6  38.6  36.20624  34.5  33.59365  36.2  34.7  33.0 \n",
              "157 37.9  36.4  36.2  36.8  35.44475  34.0  33.40578  35.9  35.2  34.4 \n",
              "158 36.3  36.0  35.1  37.4  34.47490  34.3  32.33229  32.2  31.0  30.5 \n",
              "159 36.4  36.3  36.1  38.1  35.73391  33.7  32.01527  32.5  32.7  31.5 \n",
              "160 34.8  33.7  34.5  33.5  32.22701  32.0  30.48111  32.5  30.9  28.8 \n",
              "161 32.0  30.5  29.0  30.8  29.65365  28.6  27.09814  31.0  31.9  31.4 \n",
              "162 35.9  34.4  32.9  32.5  30.42120  28.1  26.32619  26.6  25.8  25.5 \n",
              "163 32.6  31.5  33.9  32.4  30.33350  28.0  25.84648  28.2  27.7  27.3 \n",
              "164 28.5  25.8  27.5  27.7  26.18188  25.0  24.10870  26.1  25.4  24.4 \n",
              "165 33.1  29.7  29.2  29.0  27.27345  25.3  23.51466  26.8  27.5  25.7 \n",
              "166 30.6  28.1  28.6  28.1  25.83337  24.7  23.18849  24.8  23.6  24.6 \n",
              "167 28.6  26.9  28.2  27.4  26.16999  24.8  22.85984  24.1  22.1  21.0 \n",
              "168 26.1  24.6  22.5  22.3  20.73930  20.6  19.93942  22.2  20.8  19.5 \n",
              "169 26.3  24.3  22.5  22.3  20.77077  19.7  19.74641  21.8  22.7  22.0 \n",
              "170 24.6  22.1  24.1  23.4  20.75728  20.4  18.84924  21.1  20.0  19.5 \n",
              "171 27.4  25.6  23.8  22.6  21.50558  20.0  18.66890  21.7  20.1  18.9 \n",
              "172 21.4  20.2  22.6  22.1  20.81881  20.3  18.20920  21.4  20.9  20.6 \n",
              "173 24.1  22.6  21.3  22.6  20.88870  20.1  17.87990  18.4  17.5  16.7 \n",
              "174 25.9  23.4  22.8  22.5  20.30000  19.8  17.80000  18.0  17.1  15.7 \n",
              "175 22.8  21.4  21.5  21.5  19.78518  19.5  17.21359  18.8  18.1  17.9 \n",
              "176 23.3  22.3  21.8  21.1  19.20953  18.7  17.09409  19.9  18.9  17.8 \n",
              "177 23.0  20.9  21.2  20.5  18.25872  18.0  16.19121  16.6  15.6  14.5 \n",
              "178 18.7  17.7  18.8  18.7  17.93425  16.9  14.62667  16.2  15.1  16.0 \n",
              "179   NA    NA    NA    NA        NA    NA        NA  86.0  85.6  87.9 "
            ]
          },
          "metadata": {}
        }
      ]
    },
    {
      "cell_type": "markdown",
      "source": [
        "Notice that for the column to be sorted properly you need to adding *names_sort*."
      ],
      "metadata": {
        "id": "RhNCNDwnq_ep"
      },
      "id": "RhNCNDwnq_ep"
    },
    {
      "cell_type": "markdown",
      "source": [
        "The wide format is useful in several cases. In general, it looks easy.\n",
        "\n",
        "In **base R**, you can use it directly for plotting:"
      ],
      "metadata": {
        "id": "Vh4aqXWfAzBE"
      },
      "id": "Vh4aqXWfAzBE"
    },
    {
      "cell_type": "code",
      "source": [
        "boxplot(fragileWide[,-1])"
      ],
      "metadata": {
        "id": "IMWT6b9sa_Ok",
        "colab": {
          "base_uri": "https://localhost:8080/",
          "height": 437
        },
        "outputId": "e13d076e-8f8b-4cc4-bd9f-8c20aff6dd6c"
      },
      "id": "IMWT6b9sa_Ok",
      "execution_count": null,
      "outputs": [
        {
          "output_type": "display_data",
          "data": {
            "text/plain": [
              "plot without title"
            ],
            "image/png": "[encoded data removed]"
          },
          "metadata": {
            "image/png": {
              "width": 420,
              "height": 420
            }
          }
        }
      ]
    },
    {
      "cell_type": "markdown",
      "source": [
        "BUT in others such as GGPLOT, it is troublesome to use that format:"
      ],
      "metadata": {
        "id": "3-NIckuJBOtZ"
      },
      "id": "3-NIckuJBOtZ"
    },
    {
      "cell_type": "code",
      "source": [
        "library(ggplot2)\n",
        "base=ggplot(fragileWide)\n",
        "base+geom_boxplot(aes(x=as.ordered(2006),y=`2006`)) +\n",
        "     geom_boxplot(aes(x=as.ordered(2010),y=`2010`)) +\n",
        "     geom_boxplot(aes(x=as.ordered(2015),y=`2015`)) + labs(y='')"
      ],
      "metadata": {
        "id": "Z-r68SqHBU_p",
        "colab": {
          "base_uri": "https://localhost:8080/",
          "height": 580
        },
        "outputId": "0b2133c7-b907-4c05-ad1f-eb0bd79b0fde"
      },
      "id": "Z-r68SqHBU_p",
      "execution_count": null,
      "outputs": [
        {
          "output_type": "stream",
          "name": "stderr",
          "text": [
            "Warning message:\n",
            "“\u001b[1m\u001b[22mRemoved 33 rows containing non-finite outside the scale range\n",
            "(`stat_boxplot()`).”\n",
            "Warning message:\n",
            "“\u001b[1m\u001b[22mRemoved 2 rows containing non-finite outside the scale range\n",
            "(`stat_boxplot()`).”\n",
            "Warning message:\n",
            "“\u001b[1m\u001b[22mRemoved 1 row containing non-finite outside the scale range (`stat_boxplot()`).”\n"
          ]
        },
        {
          "output_type": "display_data",
          "data": {
            "text/plain": [
              "plot without title"
            ],
            "image/png": "[encoded data removed]"
          },
          "metadata": {
            "image/png": {
              "width": 420,
              "height": 420
            }
          }
        }
      ]
    },
    {
      "cell_type": "markdown",
      "source": [
        "## From Wide to Long\n",
        "\n",
        "We have  **pivot_longer** :"
      ],
      "metadata": {
        "id": "OFGiBAE5vVX7"
      },
      "id": "OFGiBAE5vVX7"
    },
    {
      "cell_type": "code",
      "source": [
        "fragileLong=tidyr::pivot_longer(fragileWide,!Country, names_to = \"Year\", values_to = \"FragilityIndex\")\n",
        "fragileLong"
      ],
      "metadata": {
        "id": "KjwsiOEYr-TU",
        "colab": {
          "base_uri": "https://localhost:8080/",
          "height": 1000
        },
        "outputId": "bdbba491-8dc2-4ea0-e8a7-44aabcd61225"
      },
      "id": "KjwsiOEYr-TU",
      "execution_count": null,
      "outputs": [
        {
          "output_type": "display_data",
          "data": {
            "text/html": [
              "<table class=\"dataframe\">\n",
              "<caption>A tibble: 3222 × 3</caption>\n",
              "<thead>\n",
              "\t<tr><th scope=col>Country</th><th scope=col>Year</th><th scope=col>FragilityIndex</th></tr>\n",
              "\t<tr><th scope=col>&lt;chr&gt;</th><th scope=col>&lt;chr&gt;</th><th scope=col>&lt;dbl&gt;</th></tr>\n",
              "</thead>\n",
              "<tbody>\n",
              "\t<tr><td>Yemen  </td><td>2006</td><td> 96.6000</td></tr>\n",
              "\t<tr><td>Yemen  </td><td>2007</td><td> 93.2000</td></tr>\n",
              "\t<tr><td>Yemen  </td><td>2008</td><td> 95.4000</td></tr>\n",
              "\t<tr><td>Yemen  </td><td>2009</td><td> 98.1000</td></tr>\n",
              "\t<tr><td>Yemen  </td><td>2010</td><td>100.0000</td></tr>\n",
              "\t<tr><td>Yemen  </td><td>2011</td><td>100.3000</td></tr>\n",
              "\t<tr><td>Yemen  </td><td>2012</td><td>104.8000</td></tr>\n",
              "\t<tr><td>Yemen  </td><td>2013</td><td>107.0000</td></tr>\n",
              "\t<tr><td>Yemen  </td><td>2014</td><td>105.4000</td></tr>\n",
              "\t<tr><td>Yemen  </td><td>2015</td><td>108.2000</td></tr>\n",
              "\t<tr><td>Yemen  </td><td>2016</td><td>111.5000</td></tr>\n",
              "\t<tr><td>Yemen  </td><td>2017</td><td>111.1000</td></tr>\n",
              "\t<tr><td>Yemen  </td><td>2018</td><td>112.6715</td></tr>\n",
              "\t<tr><td>Yemen  </td><td>2019</td><td>113.5000</td></tr>\n",
              "\t<tr><td>Yemen  </td><td>2020</td><td>112.4387</td></tr>\n",
              "\t<tr><td>Yemen  </td><td>2021</td><td>111.7000</td></tr>\n",
              "\t<tr><td>Yemen  </td><td>2022</td><td>111.7000</td></tr>\n",
              "\t<tr><td>Yemen  </td><td>2023</td><td>108.9000</td></tr>\n",
              "\t<tr><td>Somalia</td><td>2006</td><td>105.9000</td></tr>\n",
              "\t<tr><td>Somalia</td><td>2007</td><td>111.1000</td></tr>\n",
              "\t<tr><td>Somalia</td><td>2008</td><td>114.2000</td></tr>\n",
              "\t<tr><td>Somalia</td><td>2009</td><td>114.7000</td></tr>\n",
              "\t<tr><td>Somalia</td><td>2010</td><td>114.3000</td></tr>\n",
              "\t<tr><td>Somalia</td><td>2011</td><td>113.4000</td></tr>\n",
              "\t<tr><td>Somalia</td><td>2012</td><td>114.9000</td></tr>\n",
              "\t<tr><td>Somalia</td><td>2013</td><td>113.9000</td></tr>\n",
              "\t<tr><td>Somalia</td><td>2014</td><td>112.6000</td></tr>\n",
              "\t<tr><td>Somalia</td><td>2015</td><td>114.0000</td></tr>\n",
              "\t<tr><td>Somalia</td><td>2016</td><td>114.0000</td></tr>\n",
              "\t<tr><td>Somalia</td><td>2017</td><td>113.4000</td></tr>\n",
              "\t<tr><td>⋮</td><td>⋮</td><td>⋮</td></tr>\n",
              "\t<tr><td>Finland  </td><td>2012</td><td>20.00000</td></tr>\n",
              "\t<tr><td>Finland  </td><td>2013</td><td>18.00000</td></tr>\n",
              "\t<tr><td>Finland  </td><td>2014</td><td>18.70000</td></tr>\n",
              "\t<tr><td>Finland  </td><td>2015</td><td>17.70000</td></tr>\n",
              "\t<tr><td>Finland  </td><td>2016</td><td>18.80000</td></tr>\n",
              "\t<tr><td>Finland  </td><td>2017</td><td>18.70000</td></tr>\n",
              "\t<tr><td>Finland  </td><td>2018</td><td>17.93425</td></tr>\n",
              "\t<tr><td>Finland  </td><td>2019</td><td>16.90000</td></tr>\n",
              "\t<tr><td>Finland  </td><td>2020</td><td>14.62667</td></tr>\n",
              "\t<tr><td>Finland  </td><td>2021</td><td>16.20000</td></tr>\n",
              "\t<tr><td>Finland  </td><td>2022</td><td>15.10000</td></tr>\n",
              "\t<tr><td>Finland  </td><td>2023</td><td>16.00000</td></tr>\n",
              "\t<tr><td>Palestine</td><td>2006</td><td>      NA</td></tr>\n",
              "\t<tr><td>Palestine</td><td>2007</td><td>      NA</td></tr>\n",
              "\t<tr><td>Palestine</td><td>2008</td><td>      NA</td></tr>\n",
              "\t<tr><td>Palestine</td><td>2009</td><td>      NA</td></tr>\n",
              "\t<tr><td>Palestine</td><td>2010</td><td>      NA</td></tr>\n",
              "\t<tr><td>Palestine</td><td>2011</td><td>      NA</td></tr>\n",
              "\t<tr><td>Palestine</td><td>2012</td><td>      NA</td></tr>\n",
              "\t<tr><td>Palestine</td><td>2013</td><td>      NA</td></tr>\n",
              "\t<tr><td>Palestine</td><td>2014</td><td>      NA</td></tr>\n",
              "\t<tr><td>Palestine</td><td>2015</td><td>      NA</td></tr>\n",
              "\t<tr><td>Palestine</td><td>2016</td><td>      NA</td></tr>\n",
              "\t<tr><td>Palestine</td><td>2017</td><td>      NA</td></tr>\n",
              "\t<tr><td>Palestine</td><td>2018</td><td>      NA</td></tr>\n",
              "\t<tr><td>Palestine</td><td>2019</td><td>      NA</td></tr>\n",
              "\t<tr><td>Palestine</td><td>2020</td><td>      NA</td></tr>\n",
              "\t<tr><td>Palestine</td><td>2021</td><td>86.00000</td></tr>\n",
              "\t<tr><td>Palestine</td><td>2022</td><td>85.60000</td></tr>\n",
              "\t<tr><td>Palestine</td><td>2023</td><td>87.90000</td></tr>\n",
              "</tbody>\n",
              "</table>\n"
            ],
            "text/markdown": "\nA tibble: 3222 × 3\n\n| Country &lt;chr&gt; | Year &lt;chr&gt; | FragilityIndex &lt;dbl&gt; |\n|---|---|---|\n| Yemen   | 2006 |  96.6000 |\n| Yemen   | 2007 |  93.2000 |\n| Yemen   | 2008 |  95.4000 |\n| Yemen   | 2009 |  98.1000 |\n| Yemen   | 2010 | 100.0000 |\n| Yemen   | 2011 | 100.3000 |\n| Yemen   | 2012 | 104.8000 |\n| Yemen   | 2013 | 107.0000 |\n| Yemen   | 2014 | 105.4000 |\n| Yemen   | 2015 | 108.2000 |\n| Yemen   | 2016 | 111.5000 |\n| Yemen   | 2017 | 111.1000 |\n| Yemen   | 2018 | 112.6715 |\n| Yemen   | 2019 | 113.5000 |\n| Yemen   | 2020 | 112.4387 |\n| Yemen   | 2021 | 111.7000 |\n| Yemen   | 2022 | 111.7000 |\n| Yemen   | 2023 | 108.9000 |\n| Somalia | 2006 | 105.9000 |\n| Somalia | 2007 | 111.1000 |\n| Somalia | 2008 | 114.2000 |\n| Somalia | 2009 | 114.7000 |\n| Somalia | 2010 | 114.3000 |\n| Somalia | 2011 | 113.4000 |\n| Somalia | 2012 | 114.9000 |\n| Somalia | 2013 | 113.9000 |\n| Somalia | 2014 | 112.6000 |\n| Somalia | 2015 | 114.0000 |\n| Somalia | 2016 | 114.0000 |\n| Somalia | 2017 | 113.4000 |\n| ⋮ | ⋮ | ⋮ |\n| Finland   | 2012 | 20.00000 |\n| Finland   | 2013 | 18.00000 |\n| Finland   | 2014 | 18.70000 |\n| Finland   | 2015 | 17.70000 |\n| Finland   | 2016 | 18.80000 |\n| Finland   | 2017 | 18.70000 |\n| Finland   | 2018 | 17.93425 |\n| Finland   | 2019 | 16.90000 |\n| Finland   | 2020 | 14.62667 |\n| Finland   | 2021 | 16.20000 |\n| Finland   | 2022 | 15.10000 |\n| Finland   | 2023 | 16.00000 |\n| Palestine | 2006 |       NA |\n| Palestine | 2007 |       NA |\n| Palestine | 2008 |       NA |\n| Palestine | 2009 |       NA |\n| Palestine | 2010 |       NA |\n| Palestine | 2011 |       NA |\n| Palestine | 2012 |       NA |\n| Palestine | 2013 |       NA |\n| Palestine | 2014 |       NA |\n| Palestine | 2015 |       NA |\n| Palestine | 2016 |       NA |\n| Palestine | 2017 |       NA |\n| Palestine | 2018 |       NA |\n| Palestine | 2019 |       NA |\n| Palestine | 2020 |       NA |\n| Palestine | 2021 | 86.00000 |\n| Palestine | 2022 | 85.60000 |\n| Palestine | 2023 | 87.90000 |\n\n",
            "text/latex": "A tibble: 3222 × 3\n\\begin{tabular}{lll}\n Country & Year & FragilityIndex\\\\\n <chr> & <chr> & <dbl>\\\\\n\\hline\n\t Yemen   & 2006 &  96.6000\\\\\n\t Yemen   & 2007 &  93.2000\\\\\n\t Yemen   & 2008 &  95.4000\\\\\n\t Yemen   & 2009 &  98.1000\\\\\n\t Yemen   & 2010 & 100.0000\\\\\n\t Yemen   & 2011 & 100.3000\\\\\n\t Yemen   & 2012 & 104.8000\\\\\n\t Yemen   & 2013 & 107.0000\\\\\n\t Yemen   & 2014 & 105.4000\\\\\n\t Yemen   & 2015 & 108.2000\\\\\n\t Yemen   & 2016 & 111.5000\\\\\n\t Yemen   & 2017 & 111.1000\\\\\n\t Yemen   & 2018 & 112.6715\\\\\n\t Yemen   & 2019 & 113.5000\\\\\n\t Yemen   & 2020 & 112.4387\\\\\n\t Yemen   & 2021 & 111.7000\\\\\n\t Yemen   & 2022 & 111.7000\\\\\n\t Yemen   & 2023 & 108.9000\\\\\n\t Somalia & 2006 & 105.9000\\\\\n\t Somalia & 2007 & 111.1000\\\\\n\t Somalia & 2008 & 114.2000\\\\\n\t Somalia & 2009 & 114.7000\\\\\n\t Somalia & 2010 & 114.3000\\\\\n\t Somalia & 2011 & 113.4000\\\\\n\t Somalia & 2012 & 114.9000\\\\\n\t Somalia & 2013 & 113.9000\\\\\n\t Somalia & 2014 & 112.6000\\\\\n\t Somalia & 2015 & 114.0000\\\\\n\t Somalia & 2016 & 114.0000\\\\\n\t Somalia & 2017 & 113.4000\\\\\n\t ⋮ & ⋮ & ⋮\\\\\n\t Finland   & 2012 & 20.00000\\\\\n\t Finland   & 2013 & 18.00000\\\\\n\t Finland   & 2014 & 18.70000\\\\\n\t Finland   & 2015 & 17.70000\\\\\n\t Finland   & 2016 & 18.80000\\\\\n\t Finland   & 2017 & 18.70000\\\\\n\t Finland   & 2018 & 17.93425\\\\\n\t Finland   & 2019 & 16.90000\\\\\n\t Finland   & 2020 & 14.62667\\\\\n\t Finland   & 2021 & 16.20000\\\\\n\t Finland   & 2022 & 15.10000\\\\\n\t Finland   & 2023 & 16.00000\\\\\n\t Palestine & 2006 &       NA\\\\\n\t Palestine & 2007 &       NA\\\\\n\t Palestine & 2008 &       NA\\\\\n\t Palestine & 2009 &       NA\\\\\n\t Palestine & 2010 &       NA\\\\\n\t Palestine & 2011 &       NA\\\\\n\t Palestine & 2012 &       NA\\\\\n\t Palestine & 2013 &       NA\\\\\n\t Palestine & 2014 &       NA\\\\\n\t Palestine & 2015 &       NA\\\\\n\t Palestine & 2016 &       NA\\\\\n\t Palestine & 2017 &       NA\\\\\n\t Palestine & 2018 &       NA\\\\\n\t Palestine & 2019 &       NA\\\\\n\t Palestine & 2020 &       NA\\\\\n\t Palestine & 2021 & 86.00000\\\\\n\t Palestine & 2022 & 85.60000\\\\\n\t Palestine & 2023 & 87.90000\\\\\n\\end{tabular}\n",
            "text/plain": [
              "     Country   Year FragilityIndex\n",
              "1    Yemen     2006  96.6000      \n",
              "2    Yemen     2007  93.2000      \n",
              "3    Yemen     2008  95.4000      \n",
              "4    Yemen     2009  98.1000      \n",
              "5    Yemen     2010 100.0000      \n",
              "6    Yemen     2011 100.3000      \n",
              "7    Yemen     2012 104.8000      \n",
              "8    Yemen     2013 107.0000      \n",
              "9    Yemen     2014 105.4000      \n",
              "10   Yemen     2015 108.2000      \n",
              "11   Yemen     2016 111.5000      \n",
              "12   Yemen     2017 111.1000      \n",
              "13   Yemen     2018 112.6715      \n",
              "14   Yemen     2019 113.5000      \n",
              "15   Yemen     2020 112.4387      \n",
              "16   Yemen     2021 111.7000      \n",
              "17   Yemen     2022 111.7000      \n",
              "18   Yemen     2023 108.9000      \n",
              "19   Somalia   2006 105.9000      \n",
              "20   Somalia   2007 111.1000      \n",
              "21   Somalia   2008 114.2000      \n",
              "22   Somalia   2009 114.7000      \n",
              "23   Somalia   2010 114.3000      \n",
              "24   Somalia   2011 113.4000      \n",
              "25   Somalia   2012 114.9000      \n",
              "26   Somalia   2013 113.9000      \n",
              "27   Somalia   2014 112.6000      \n",
              "28   Somalia   2015 114.0000      \n",
              "29   Somalia   2016 114.0000      \n",
              "30   Somalia   2017 113.4000      \n",
              "⋮    ⋮         ⋮    ⋮             \n",
              "3193 Finland   2012 20.00000      \n",
              "3194 Finland   2013 18.00000      \n",
              "3195 Finland   2014 18.70000      \n",
              "3196 Finland   2015 17.70000      \n",
              "3197 Finland   2016 18.80000      \n",
              "3198 Finland   2017 18.70000      \n",
              "3199 Finland   2018 17.93425      \n",
              "3200 Finland   2019 16.90000      \n",
              "3201 Finland   2020 14.62667      \n",
              "3202 Finland   2021 16.20000      \n",
              "3203 Finland   2022 15.10000      \n",
              "3204 Finland   2023 16.00000      \n",
              "3205 Palestine 2006       NA      \n",
              "3206 Palestine 2007       NA      \n",
              "3207 Palestine 2008       NA      \n",
              "3208 Palestine 2009       NA      \n",
              "3209 Palestine 2010       NA      \n",
              "3210 Palestine 2011       NA      \n",
              "3211 Palestine 2012       NA      \n",
              "3212 Palestine 2013       NA      \n",
              "3213 Palestine 2014       NA      \n",
              "3214 Palestine 2015       NA      \n",
              "3215 Palestine 2016       NA      \n",
              "3216 Palestine 2017       NA      \n",
              "3217 Palestine 2018       NA      \n",
              "3218 Palestine 2019       NA      \n",
              "3219 Palestine 2020       NA      \n",
              "3220 Palestine 2021 86.00000      \n",
              "3221 Palestine 2022 85.60000      \n",
              "3222 Palestine 2023 87.90000      "
            ]
          },
          "metadata": {}
        }
      ]
    },
    {
      "cell_type": "markdown",
      "source": [
        "GGPLOT will work with this:"
      ],
      "metadata": {
        "id": "5y_6ReEIEOSq"
      },
      "id": "5y_6ReEIEOSq"
    },
    {
      "cell_type": "code",
      "source": [
        "base = ggplot(data=fragileLong)\n",
        "base + geom_boxplot(aes(x=Year,y=FragilityIndex))\n"
      ],
      "metadata": {
        "id": "JMiEqF30bYbs",
        "colab": {
          "base_uri": "https://localhost:8080/",
          "height": 491
        },
        "outputId": "c31667e8-7e1d-4571-b13e-83d84b0d377e"
      },
      "id": "JMiEqF30bYbs",
      "execution_count": null,
      "outputs": [
        {
          "output_type": "stream",
          "name": "stderr",
          "text": [
            "Warning message:\n",
            "“\u001b[1m\u001b[22mRemoved 52 rows containing non-finite outside the scale range\n",
            "(`stat_boxplot()`).”\n"
          ]
        },
        {
          "output_type": "display_data",
          "data": {
            "text/plain": [
              "plot without title"
            ],
            "image/png": "[encoded data removed]"
          },
          "metadata": {
            "image/png": {
              "width": 420,
              "height": 420
            }
          }
        }
      ]
    },
    {
      "cell_type": "markdown",
      "source": [
        "We can also use **base R**:"
      ],
      "metadata": {
        "id": "5t-UHwJZEWaZ"
      },
      "id": "5t-UHwJZEWaZ"
    },
    {
      "cell_type": "code",
      "source": [
        "boxplot(data=fragileLong,FragilityIndex~Year)"
      ],
      "metadata": {
        "id": "PEtGiBAyf34e",
        "colab": {
          "base_uri": "https://localhost:8080/",
          "height": 437
        },
        "outputId": "9aa50c74-59a8-4f5c-9b53-3328a0bdbbfc"
      },
      "id": "PEtGiBAyf34e",
      "execution_count": null,
      "outputs": [
        {
          "output_type": "display_data",
          "data": {
            "text/plain": [
              "plot without title"
            ],
            "image/png": "[encoded data removed]"
          },
          "metadata": {
            "image/png": {
              "width": 420,
              "height": 420
            }
          }
        }
      ]
    },
    {
      "cell_type": "markdown",
      "source": [
        "This is another example without years.\n",
        "\n",
        "Let me keep one year, and some wide-shaped columns:"
      ],
      "metadata": {
        "id": "DLlTtXoHvpbm"
      },
      "id": "DLlTtXoHvpbm"
    },
    {
      "cell_type": "code",
      "source": [
        "CVars_columns=c('C1_Security_Apparatus',\t'C2_Factionalized_Elites',\t'C3_Group_Grievance')\n",
        "\n",
        "#only one year\n",
        "fragile_CVars_wide=fragile[fragile$Year==2020,c('Country',CVars_columns)]\n",
        "\n",
        "fragile_CVars_wide"
      ],
      "metadata": {
        "id": "zKIzD0XJvgw9",
        "colab": {
          "base_uri": "https://localhost:8080/",
          "height": 1000
        },
        "outputId": "af1d2498-c434-4828-f4ac-211034dc5033"
      },
      "id": "zKIzD0XJvgw9",
      "execution_count": null,
      "outputs": [
        {
          "output_type": "display_data",
          "data": {
            "text/html": [
              "<table class=\"dataframe\">\n",
              "<caption>A data.frame: 178 × 4</caption>\n",
              "<thead>\n",
              "\t<tr><th></th><th scope=col>Country</th><th scope=col>C1_Security_Apparatus</th><th scope=col>C2_Factionalized_Elites</th><th scope=col>C3_Group_Grievance</th></tr>\n",
              "\t<tr><th></th><th scope=col>&lt;chr&gt;</th><th scope=col>&lt;dbl&gt;</th><th scope=col>&lt;dbl&gt;</th><th scope=col>&lt;dbl&gt;</th></tr>\n",
              "</thead>\n",
              "<tbody>\n",
              "\t<tr><th scope=row>1</th><td>Yemen                    </td><td>9.700000</td><td>10.000</td><td> 9.698870</td></tr>\n",
              "\t<tr><th scope=row>2</th><td>Somalia                  </td><td>9.811328</td><td>10.000</td><td> 8.600000</td></tr>\n",
              "\t<tr><th scope=row>3</th><td>South Sudan              </td><td>9.400000</td><td> 9.700</td><td> 9.100000</td></tr>\n",
              "\t<tr><th scope=row>4</th><td>Syria                    </td><td>9.900000</td><td> 9.900</td><td>10.000000</td></tr>\n",
              "\t<tr><th scope=row>5</th><td>Congo Democratic Republic</td><td>8.500000</td><td> 9.800</td><td> 9.700000</td></tr>\n",
              "\t<tr><th scope=row>6</th><td>Central African Republic </td><td>8.300000</td><td> 9.682</td><td> 8.000000</td></tr>\n",
              "\t<tr><th scope=row>7</th><td>Chad                     </td><td>9.200000</td><td> 9.500</td><td> 8.300000</td></tr>\n",
              "\t<tr><th scope=row>8</th><td>Sudan                    </td><td>8.377030</td><td> 9.400</td><td> 9.399115</td></tr>\n",
              "\t<tr><th scope=row>9</th><td>Afghanistan              </td><td>9.932963</td><td> 8.900</td><td> 7.500000</td></tr>\n",
              "\t<tr><th scope=row>10</th><td>Zimbabwe                 </td><td>8.500000</td><td>10.000</td><td> 6.400000</td></tr>\n",
              "\t<tr><th scope=row>11</th><td>Burundi                  </td><td>8.300000</td><td> 7.900</td><td> 7.600000</td></tr>\n",
              "\t<tr><th scope=row>12</th><td>Cameroon                 </td><td>8.200000</td><td> 9.300</td><td> 8.600000</td></tr>\n",
              "\t<tr><th scope=row>13</th><td>Haiti                    </td><td>6.900000</td><td> 9.579</td><td> 5.600000</td></tr>\n",
              "\t<tr><th scope=row>14</th><td>Nigeria                  </td><td>8.700000</td><td> 9.900</td><td> 9.100000</td></tr>\n",
              "\t<tr><th scope=row>15</th><td>Guinea                   </td><td>8.300000</td><td> 9.600</td><td> 9.176613</td></tr>\n",
              "\t<tr><th scope=row>16</th><td>Mali                     </td><td>9.500000</td><td> 5.700</td><td> 8.400000</td></tr>\n",
              "\t<tr><th scope=row>17</th><td>Iraq                     </td><td>8.200000</td><td> 9.600</td><td> 8.500000</td></tr>\n",
              "\t<tr><th scope=row>18</th><td>Eritrea                  </td><td>6.485431</td><td> 8.100</td><td> 8.000000</td></tr>\n",
              "\t<tr><th scope=row>19</th><td>Niger                    </td><td>8.800000</td><td> 8.900</td><td> 7.800000</td></tr>\n",
              "\t<tr><th scope=row>20</th><td>Libya                    </td><td>9.500000</td><td> 9.700</td><td> 7.800000</td></tr>\n",
              "\t<tr><th scope=row>21</th><td>Ethiopia                 </td><td>7.900000</td><td> 8.900</td><td> 9.000000</td></tr>\n",
              "\t<tr><th scope=row>22</th><td>Myanmar                  </td><td>8.800000</td><td> 8.000</td><td> 9.800000</td></tr>\n",
              "\t<tr><th scope=row>23</th><td>Guinea Bissau            </td><td>8.000000</td><td> 9.600</td><td> 4.600000</td></tr>\n",
              "\t<tr><th scope=row>24</th><td>Uganda                   </td><td>7.200000</td><td> 8.900</td><td> 8.000000</td></tr>\n",
              "\t<tr><th scope=row>25</th><td>Pakistan                 </td><td>8.200000</td><td> 9.000</td><td> 9.100000</td></tr>\n",
              "\t<tr><th scope=row>26</th><td>Congo Republic           </td><td>7.274583</td><td> 6.700</td><td> 8.100000</td></tr>\n",
              "\t<tr><th scope=row>27</th><td>Mozambique               </td><td>6.849035</td><td> 7.100</td><td> 5.300000</td></tr>\n",
              "\t<tr><th scope=row>28</th><td>Venezuela                </td><td>7.244253</td><td> 9.152</td><td> 7.300000</td></tr>\n",
              "\t<tr><th scope=row>29</th><td>Kenya                    </td><td>7.660347</td><td> 8.600</td><td> 8.300000</td></tr>\n",
              "\t<tr><th scope=row>30</th><td>North Korea              </td><td>8.300000</td><td> 8.500</td><td> 5.500000</td></tr>\n",
              "\t<tr><th scope=row>⋮</th><td>⋮</td><td>⋮</td><td>⋮</td><td>⋮</td></tr>\n",
              "\t<tr><th scope=row>149</th><td>United States       </td><td>3.8000000</td><td>6.8</td><td>6.200000</td></tr>\n",
              "\t<tr><th scope=row>150</th><td>United Kingdom      </td><td>3.8000000</td><td>5.8</td><td>6.400000</td></tr>\n",
              "\t<tr><th scope=row>151</th><td>Slovakia            </td><td>1.5326605</td><td>5.0</td><td>6.000000</td></tr>\n",
              "\t<tr><th scope=row>152</th><td>United Arab Emirates</td><td>2.8000000</td><td>3.6</td><td>2.500000</td></tr>\n",
              "\t<tr><th scope=row>153</th><td>Mauritius           </td><td>1.5039479</td><td>3.2</td><td>4.100000</td></tr>\n",
              "\t<tr><th scope=row>154</th><td>Lithuania           </td><td>3.1000000</td><td>3.0</td><td>3.597544</td></tr>\n",
              "\t<tr><th scope=row>155</th><td>Czechia             </td><td>2.9000000</td><td>5.3</td><td>4.900000</td></tr>\n",
              "\t<tr><th scope=row>156</th><td>Malta               </td><td>2.7000000</td><td>2.0</td><td>3.000000</td></tr>\n",
              "\t<tr><th scope=row>157</th><td>Uruguay             </td><td>4.5031997</td><td>2.7</td><td>2.118165</td></tr>\n",
              "\t<tr><th scope=row>158</th><td>Japan               </td><td>1.9000000</td><td>2.6</td><td>2.800000</td></tr>\n",
              "\t<tr><th scope=row>159</th><td>South Korea         </td><td>2.4000000</td><td>3.9</td><td>2.400000</td></tr>\n",
              "\t<tr><th scope=row>160</th><td>France              </td><td>3.8000000</td><td>1.9</td><td>6.700000</td></tr>\n",
              "\t<tr><th scope=row>161</th><td>Belgium             </td><td>2.9000000</td><td>4.4</td><td>4.400000</td></tr>\n",
              "\t<tr><th scope=row>162</th><td>Singapore           </td><td>1.0000000</td><td>4.0</td><td>1.700000</td></tr>\n",
              "\t<tr><th scope=row>163</th><td>Slovenia            </td><td>0.7105729</td><td>2.0</td><td>3.900000</td></tr>\n",
              "\t<tr><th scope=row>164</th><td>Austria             </td><td>1.9000000</td><td>3.2</td><td>4.200000</td></tr>\n",
              "\t<tr><th scope=row>165</th><td>Portugal            </td><td>0.7000000</td><td>2.5</td><td>1.600000</td></tr>\n",
              "\t<tr><th scope=row>166</th><td>Germany             </td><td>2.6000000</td><td>2.6</td><td>4.300000</td></tr>\n",
              "\t<tr><th scope=row>167</th><td>Netherlands         </td><td>2.4000000</td><td>3.4</td><td>3.900000</td></tr>\n",
              "\t<tr><th scope=row>168</th><td>Ireland             </td><td>3.0000000</td><td>1.5</td><td>0.700000</td></tr>\n",
              "\t<tr><th scope=row>169</th><td>Australia           </td><td>3.0000000</td><td>1.7</td><td>3.400000</td></tr>\n",
              "\t<tr><th scope=row>170</th><td>Luxembourg          </td><td>1.0000000</td><td>3.4</td><td>2.400000</td></tr>\n",
              "\t<tr><th scope=row>171</th><td>Canada              </td><td>3.1000000</td><td>2.5</td><td>2.500000</td></tr>\n",
              "\t<tr><th scope=row>172</th><td>Sweden              </td><td>3.0000000</td><td>1.8</td><td>1.400000</td></tr>\n",
              "\t<tr><th scope=row>173</th><td>New Zealand         </td><td>1.5000000</td><td>1.4</td><td>2.900000</td></tr>\n",
              "\t<tr><th scope=row>174</th><td>Iceland             </td><td>1.0000000</td><td>1.8</td><td>0.700000</td></tr>\n",
              "\t<tr><th scope=row>175</th><td>Denmark             </td><td>1.6000000</td><td>1.4</td><td>4.000000</td></tr>\n",
              "\t<tr><th scope=row>176</th><td>Switzerland         </td><td>1.4000000</td><td>1.0</td><td>3.000000</td></tr>\n",
              "\t<tr><th scope=row>177</th><td>Norway              </td><td>1.8000000</td><td>1.1</td><td>3.600000</td></tr>\n",
              "\t<tr><th scope=row>178</th><td>Finland             </td><td>2.8000000</td><td>1.4</td><td>0.900000</td></tr>\n",
              "</tbody>\n",
              "</table>\n"
            ],
            "text/markdown": "\nA data.frame: 178 × 4\n\n| <!--/--> | Country &lt;chr&gt; | C1_Security_Apparatus &lt;dbl&gt; | C2_Factionalized_Elites &lt;dbl&gt; | C3_Group_Grievance &lt;dbl&gt; |\n|---|---|---|---|---|\n| 1 | Yemen                     | 9.700000 | 10.000 |  9.698870 |\n| 2 | Somalia                   | 9.811328 | 10.000 |  8.600000 |\n| 3 | South Sudan               | 9.400000 |  9.700 |  9.100000 |\n| 4 | Syria                     | 9.900000 |  9.900 | 10.000000 |\n| 5 | Congo Democratic Republic | 8.500000 |  9.800 |  9.700000 |\n| 6 | Central African Republic  | 8.300000 |  9.682 |  8.000000 |\n| 7 | Chad                      | 9.200000 |  9.500 |  8.300000 |\n| 8 | Sudan                     | 8.377030 |  9.400 |  9.399115 |\n| 9 | Afghanistan               | 9.932963 |  8.900 |  7.500000 |\n| 10 | Zimbabwe                  | 8.500000 | 10.000 |  6.400000 |\n| 11 | Burundi                   | 8.300000 |  7.900 |  7.600000 |\n| 12 | Cameroon                  | 8.200000 |  9.300 |  8.600000 |\n| 13 | Haiti                     | 6.900000 |  9.579 |  5.600000 |\n| 14 | Nigeria                   | 8.700000 |  9.900 |  9.100000 |\n| 15 | Guinea                    | 8.300000 |  9.600 |  9.176613 |\n| 16 | Mali                      | 9.500000 |  5.700 |  8.400000 |\n| 17 | Iraq                      | 8.200000 |  9.600 |  8.500000 |\n| 18 | Eritrea                   | 6.485431 |  8.100 |  8.000000 |\n| 19 | Niger                     | 8.800000 |  8.900 |  7.800000 |\n| 20 | Libya                     | 9.500000 |  9.700 |  7.800000 |\n| 21 | Ethiopia                  | 7.900000 |  8.900 |  9.000000 |\n| 22 | Myanmar                   | 8.800000 |  8.000 |  9.800000 |\n| 23 | Guinea Bissau             | 8.000000 |  9.600 |  4.600000 |\n| 24 | Uganda                    | 7.200000 |  8.900 |  8.000000 |\n| 25 | Pakistan                  | 8.200000 |  9.000 |  9.100000 |\n| 26 | Congo Republic            | 7.274583 |  6.700 |  8.100000 |\n| 27 | Mozambique                | 6.849035 |  7.100 |  5.300000 |\n| 28 | Venezuela                 | 7.244253 |  9.152 |  7.300000 |\n| 29 | Kenya                     | 7.660347 |  8.600 |  8.300000 |\n| 30 | North Korea               | 8.300000 |  8.500 |  5.500000 |\n| ⋮ | ⋮ | ⋮ | ⋮ | ⋮ |\n| 149 | United States        | 3.8000000 | 6.8 | 6.200000 |\n| 150 | United Kingdom       | 3.8000000 | 5.8 | 6.400000 |\n| 151 | Slovakia             | 1.5326605 | 5.0 | 6.000000 |\n| 152 | United Arab Emirates | 2.8000000 | 3.6 | 2.500000 |\n| 153 | Mauritius            | 1.5039479 | 3.2 | 4.100000 |\n| 154 | Lithuania            | 3.1000000 | 3.0 | 3.597544 |\n| 155 | Czechia              | 2.9000000 | 5.3 | 4.900000 |\n| 156 | Malta                | 2.7000000 | 2.0 | 3.000000 |\n| 157 | Uruguay              | 4.5031997 | 2.7 | 2.118165 |\n| 158 | Japan                | 1.9000000 | 2.6 | 2.800000 |\n| 159 | South Korea          | 2.4000000 | 3.9 | 2.400000 |\n| 160 | France               | 3.8000000 | 1.9 | 6.700000 |\n| 161 | Belgium              | 2.9000000 | 4.4 | 4.400000 |\n| 162 | Singapore            | 1.0000000 | 4.0 | 1.700000 |\n| 163 | Slovenia             | 0.7105729 | 2.0 | 3.900000 |\n| 164 | Austria              | 1.9000000 | 3.2 | 4.200000 |\n| 165 | Portugal             | 0.7000000 | 2.5 | 1.600000 |\n| 166 | Germany              | 2.6000000 | 2.6 | 4.300000 |\n| 167 | Netherlands          | 2.4000000 | 3.4 | 3.900000 |\n| 168 | Ireland              | 3.0000000 | 1.5 | 0.700000 |\n| 169 | Australia            | 3.0000000 | 1.7 | 3.400000 |\n| 170 | Luxembourg           | 1.0000000 | 3.4 | 2.400000 |\n| 171 | Canada               | 3.1000000 | 2.5 | 2.500000 |\n| 172 | Sweden               | 3.0000000 | 1.8 | 1.400000 |\n| 173 | New Zealand          | 1.5000000 | 1.4 | 2.900000 |\n| 174 | Iceland              | 1.0000000 | 1.8 | 0.700000 |\n| 175 | Denmark              | 1.6000000 | 1.4 | 4.000000 |\n| 176 | Switzerland          | 1.4000000 | 1.0 | 3.000000 |\n| 177 | Norway               | 1.8000000 | 1.1 | 3.600000 |\n| 178 | Finland              | 2.8000000 | 1.4 | 0.900000 |\n\n",
            "text/latex": "A data.frame: 178 × 4\n\\begin{tabular}{r|llll}\n  & Country & C1\\_Security\\_Apparatus & C2\\_Factionalized\\_Elites & C3\\_Group\\_Grievance\\\\\n  & <chr> & <dbl> & <dbl> & <dbl>\\\\\n\\hline\n\t1 & Yemen                     & 9.700000 & 10.000 &  9.698870\\\\\n\t2 & Somalia                   & 9.811328 & 10.000 &  8.600000\\\\\n\t3 & South Sudan               & 9.400000 &  9.700 &  9.100000\\\\\n\t4 & Syria                     & 9.900000 &  9.900 & 10.000000\\\\\n\t5 & Congo Democratic Republic & 8.500000 &  9.800 &  9.700000\\\\\n\t6 & Central African Republic  & 8.300000 &  9.682 &  8.000000\\\\\n\t7 & Chad                      & 9.200000 &  9.500 &  8.300000\\\\\n\t8 & Sudan                     & 8.377030 &  9.400 &  9.399115\\\\\n\t9 & Afghanistan               & 9.932963 &  8.900 &  7.500000\\\\\n\t10 & Zimbabwe                  & 8.500000 & 10.000 &  6.400000\\\\\n\t11 & Burundi                   & 8.300000 &  7.900 &  7.600000\\\\\n\t12 & Cameroon                  & 8.200000 &  9.300 &  8.600000\\\\\n\t13 & Haiti                     & 6.900000 &  9.579 &  5.600000\\\\\n\t14 & Nigeria                   & 8.700000 &  9.900 &  9.100000\\\\\n\t15 & Guinea                    & 8.300000 &  9.600 &  9.176613\\\\\n\t16 & Mali                      & 9.500000 &  5.700 &  8.400000\\\\\n\t17 & Iraq                      & 8.200000 &  9.600 &  8.500000\\\\\n\t18 & Eritrea                   & 6.485431 &  8.100 &  8.000000\\\\\n\t19 & Niger                     & 8.800000 &  8.900 &  7.800000\\\\\n\t20 & Libya                     & 9.500000 &  9.700 &  7.800000\\\\\n\t21 & Ethiopia                  & 7.900000 &  8.900 &  9.000000\\\\\n\t22 & Myanmar                   & 8.800000 &  8.000 &  9.800000\\\\\n\t23 & Guinea Bissau             & 8.000000 &  9.600 &  4.600000\\\\\n\t24 & Uganda                    & 7.200000 &  8.900 &  8.000000\\\\\n\t25 & Pakistan                  & 8.200000 &  9.000 &  9.100000\\\\\n\t26 & Congo Republic            & 7.274583 &  6.700 &  8.100000\\\\\n\t27 & Mozambique                & 6.849035 &  7.100 &  5.300000\\\\\n\t28 & Venezuela                 & 7.244253 &  9.152 &  7.300000\\\\\n\t29 & Kenya                     & 7.660347 &  8.600 &  8.300000\\\\\n\t30 & North Korea               & 8.300000 &  8.500 &  5.500000\\\\\n\t⋮ & ⋮ & ⋮ & ⋮ & ⋮\\\\\n\t149 & United States        & 3.8000000 & 6.8 & 6.200000\\\\\n\t150 & United Kingdom       & 3.8000000 & 5.8 & 6.400000\\\\\n\t151 & Slovakia             & 1.5326605 & 5.0 & 6.000000\\\\\n\t152 & United Arab Emirates & 2.8000000 & 3.6 & 2.500000\\\\\n\t153 & Mauritius            & 1.5039479 & 3.2 & 4.100000\\\\\n\t154 & Lithuania            & 3.1000000 & 3.0 & 3.597544\\\\\n\t155 & Czechia              & 2.9000000 & 5.3 & 4.900000\\\\\n\t156 & Malta                & 2.7000000 & 2.0 & 3.000000\\\\\n\t157 & Uruguay              & 4.5031997 & 2.7 & 2.118165\\\\\n\t158 & Japan                & 1.9000000 & 2.6 & 2.800000\\\\\n\t159 & South Korea          & 2.4000000 & 3.9 & 2.400000\\\\\n\t160 & France               & 3.8000000 & 1.9 & 6.700000\\\\\n\t161 & Belgium              & 2.9000000 & 4.4 & 4.400000\\\\\n\t162 & Singapore            & 1.0000000 & 4.0 & 1.700000\\\\\n\t163 & Slovenia             & 0.7105729 & 2.0 & 3.900000\\\\\n\t164 & Austria              & 1.9000000 & 3.2 & 4.200000\\\\\n\t165 & Portugal             & 0.7000000 & 2.5 & 1.600000\\\\\n\t166 & Germany              & 2.6000000 & 2.6 & 4.300000\\\\\n\t167 & Netherlands          & 2.4000000 & 3.4 & 3.900000\\\\\n\t168 & Ireland              & 3.0000000 & 1.5 & 0.700000\\\\\n\t169 & Australia            & 3.0000000 & 1.7 & 3.400000\\\\\n\t170 & Luxembourg           & 1.0000000 & 3.4 & 2.400000\\\\\n\t171 & Canada               & 3.1000000 & 2.5 & 2.500000\\\\\n\t172 & Sweden               & 3.0000000 & 1.8 & 1.400000\\\\\n\t173 & New Zealand          & 1.5000000 & 1.4 & 2.900000\\\\\n\t174 & Iceland              & 1.0000000 & 1.8 & 0.700000\\\\\n\t175 & Denmark              & 1.6000000 & 1.4 & 4.000000\\\\\n\t176 & Switzerland          & 1.4000000 & 1.0 & 3.000000\\\\\n\t177 & Norway               & 1.8000000 & 1.1 & 3.600000\\\\\n\t178 & Finland              & 2.8000000 & 1.4 & 0.900000\\\\\n\\end{tabular}\n",
            "text/plain": [
              "    Country                   C1_Security_Apparatus C2_Factionalized_Elites\n",
              "1   Yemen                     9.700000              10.000                 \n",
              "2   Somalia                   9.811328              10.000                 \n",
              "3   South Sudan               9.400000               9.700                 \n",
              "4   Syria                     9.900000               9.900                 \n",
              "5   Congo Democratic Republic 8.500000               9.800                 \n",
              "6   Central African Republic  8.300000               9.682                 \n",
              "7   Chad                      9.200000               9.500                 \n",
              "8   Sudan                     8.377030               9.400                 \n",
              "9   Afghanistan               9.932963               8.900                 \n",
              "10  Zimbabwe                  8.500000              10.000                 \n",
              "11  Burundi                   8.300000               7.900                 \n",
              "12  Cameroon                  8.200000               9.300                 \n",
              "13  Haiti                     6.900000               9.579                 \n",
              "14  Nigeria                   8.700000               9.900                 \n",
              "15  Guinea                    8.300000               9.600                 \n",
              "16  Mali                      9.500000               5.700                 \n",
              "17  Iraq                      8.200000               9.600                 \n",
              "18  Eritrea                   6.485431               8.100                 \n",
              "19  Niger                     8.800000               8.900                 \n",
              "20  Libya                     9.500000               9.700                 \n",
              "21  Ethiopia                  7.900000               8.900                 \n",
              "22  Myanmar                   8.800000               8.000                 \n",
              "23  Guinea Bissau             8.000000               9.600                 \n",
              "24  Uganda                    7.200000               8.900                 \n",
              "25  Pakistan                  8.200000               9.000                 \n",
              "26  Congo Republic            7.274583               6.700                 \n",
              "27  Mozambique                6.849035               7.100                 \n",
              "28  Venezuela                 7.244253               9.152                 \n",
              "29  Kenya                     7.660347               8.600                 \n",
              "30  North Korea               8.300000               8.500                 \n",
              "⋮   ⋮                         ⋮                     ⋮                      \n",
              "149 United States             3.8000000             6.8                    \n",
              "150 United Kingdom            3.8000000             5.8                    \n",
              "151 Slovakia                  1.5326605             5.0                    \n",
              "152 United Arab Emirates      2.8000000             3.6                    \n",
              "153 Mauritius                 1.5039479             3.2                    \n",
              "154 Lithuania                 3.1000000             3.0                    \n",
              "155 Czechia                   2.9000000             5.3                    \n",
              "156 Malta                     2.7000000             2.0                    \n",
              "157 Uruguay                   4.5031997             2.7                    \n",
              "158 Japan                     1.9000000             2.6                    \n",
              "159 South Korea               2.4000000             3.9                    \n",
              "160 France                    3.8000000             1.9                    \n",
              "161 Belgium                   2.9000000             4.4                    \n",
              "162 Singapore                 1.0000000             4.0                    \n",
              "163 Slovenia                  0.7105729             2.0                    \n",
              "164 Austria                   1.9000000             3.2                    \n",
              "165 Portugal                  0.7000000             2.5                    \n",
              "166 Germany                   2.6000000             2.6                    \n",
              "167 Netherlands               2.4000000             3.4                    \n",
              "168 Ireland                   3.0000000             1.5                    \n",
              "169 Australia                 3.0000000             1.7                    \n",
              "170 Luxembourg                1.0000000             3.4                    \n",
              "171 Canada                    3.1000000             2.5                    \n",
              "172 Sweden                    3.0000000             1.8                    \n",
              "173 New Zealand               1.5000000             1.4                    \n",
              "174 Iceland                   1.0000000             1.8                    \n",
              "175 Denmark                   1.6000000             1.4                    \n",
              "176 Switzerland               1.4000000             1.0                    \n",
              "177 Norway                    1.8000000             1.1                    \n",
              "178 Finland                   2.8000000             1.4                    \n",
              "    C3_Group_Grievance\n",
              "1    9.698870         \n",
              "2    8.600000         \n",
              "3    9.100000         \n",
              "4   10.000000         \n",
              "5    9.700000         \n",
              "6    8.000000         \n",
              "7    8.300000         \n",
              "8    9.399115         \n",
              "9    7.500000         \n",
              "10   6.400000         \n",
              "11   7.600000         \n",
              "12   8.600000         \n",
              "13   5.600000         \n",
              "14   9.100000         \n",
              "15   9.176613         \n",
              "16   8.400000         \n",
              "17   8.500000         \n",
              "18   8.000000         \n",
              "19   7.800000         \n",
              "20   7.800000         \n",
              "21   9.000000         \n",
              "22   9.800000         \n",
              "23   4.600000         \n",
              "24   8.000000         \n",
              "25   9.100000         \n",
              "26   8.100000         \n",
              "27   5.300000         \n",
              "28   7.300000         \n",
              "29   8.300000         \n",
              "30   5.500000         \n",
              "⋮   ⋮                 \n",
              "149 6.200000          \n",
              "150 6.400000          \n",
              "151 6.000000          \n",
              "152 2.500000          \n",
              "153 4.100000          \n",
              "154 3.597544          \n",
              "155 4.900000          \n",
              "156 3.000000          \n",
              "157 2.118165          \n",
              "158 2.800000          \n",
              "159 2.400000          \n",
              "160 6.700000          \n",
              "161 4.400000          \n",
              "162 1.700000          \n",
              "163 3.900000          \n",
              "164 4.200000          \n",
              "165 1.600000          \n",
              "166 4.300000          \n",
              "167 3.900000          \n",
              "168 0.700000          \n",
              "169 3.400000          \n",
              "170 2.400000          \n",
              "171 2.500000          \n",
              "172 1.400000          \n",
              "173 2.900000          \n",
              "174 0.700000          \n",
              "175 4.000000          \n",
              "176 3.000000          \n",
              "177 3.600000          \n",
              "178 0.900000          "
            ]
          },
          "metadata": {}
        }
      ]
    },
    {
      "cell_type": "code",
      "source": [
        "boxplot(fragile_CVars_wide[,-1])"
      ],
      "metadata": {
        "id": "gdvtQY-F68ht",
        "colab": {
          "base_uri": "https://localhost:8080/",
          "height": 437
        },
        "outputId": "c8afd78c-e25e-4098-a9ba-469d7164a67b"
      },
      "id": "gdvtQY-F68ht",
      "execution_count": null,
      "outputs": [
        {
          "output_type": "display_data",
          "data": {
            "text/plain": [
              "plot without title"
            ],
            "image/png": "[encoded data removed]"
          },
          "metadata": {
            "image/png": {
              "width": 420,
              "height": 420
            }
          }
        }
      ]
    },
    {
      "cell_type": "code",
      "source": [
        "fragile_CVars_long=tidyr::pivot_longer(fragile_CVars_wide,!Country, names_to = \"CVars_name\", values_to = \"CVars_value\")\n",
        "fragile_CVars_long"
      ],
      "metadata": {
        "id": "abGN6Ns2xBOU",
        "colab": {
          "base_uri": "https://localhost:8080/",
          "height": 1000
        },
        "outputId": "bdcb6d96-a9ac-4139-b06b-a058b280f531"
      },
      "id": "abGN6Ns2xBOU",
      "execution_count": null,
      "outputs": [
        {
          "output_type": "display_data",
          "data": {
            "text/html": [
              "<table class=\"dataframe\">\n",
              "<caption>A tibble: 534 × 3</caption>\n",
              "<thead>\n",
              "\t<tr><th scope=col>Country</th><th scope=col>CVars_name</th><th scope=col>CVars_value</th></tr>\n",
              "\t<tr><th scope=col>&lt;chr&gt;</th><th scope=col>&lt;chr&gt;</th><th scope=col>&lt;dbl&gt;</th></tr>\n",
              "</thead>\n",
              "<tbody>\n",
              "\t<tr><td>Yemen                    </td><td>C1_Security_Apparatus  </td><td> 9.700000</td></tr>\n",
              "\t<tr><td>Yemen                    </td><td>C2_Factionalized_Elites</td><td>10.000000</td></tr>\n",
              "\t<tr><td>Yemen                    </td><td>C3_Group_Grievance     </td><td> 9.698870</td></tr>\n",
              "\t<tr><td>Somalia                  </td><td>C1_Security_Apparatus  </td><td> 9.811328</td></tr>\n",
              "\t<tr><td>Somalia                  </td><td>C2_Factionalized_Elites</td><td>10.000000</td></tr>\n",
              "\t<tr><td>Somalia                  </td><td>C3_Group_Grievance     </td><td> 8.600000</td></tr>\n",
              "\t<tr><td>South Sudan              </td><td>C1_Security_Apparatus  </td><td> 9.400000</td></tr>\n",
              "\t<tr><td>South Sudan              </td><td>C2_Factionalized_Elites</td><td> 9.700000</td></tr>\n",
              "\t<tr><td>South Sudan              </td><td>C3_Group_Grievance     </td><td> 9.100000</td></tr>\n",
              "\t<tr><td>Syria                    </td><td>C1_Security_Apparatus  </td><td> 9.900000</td></tr>\n",
              "\t<tr><td>Syria                    </td><td>C2_Factionalized_Elites</td><td> 9.900000</td></tr>\n",
              "\t<tr><td>Syria                    </td><td>C3_Group_Grievance     </td><td>10.000000</td></tr>\n",
              "\t<tr><td>Congo Democratic Republic</td><td>C1_Security_Apparatus  </td><td> 8.500000</td></tr>\n",
              "\t<tr><td>Congo Democratic Republic</td><td>C2_Factionalized_Elites</td><td> 9.800000</td></tr>\n",
              "\t<tr><td>Congo Democratic Republic</td><td>C3_Group_Grievance     </td><td> 9.700000</td></tr>\n",
              "\t<tr><td>Central African Republic </td><td>C1_Security_Apparatus  </td><td> 8.300000</td></tr>\n",
              "\t<tr><td>Central African Republic </td><td>C2_Factionalized_Elites</td><td> 9.682000</td></tr>\n",
              "\t<tr><td>Central African Republic </td><td>C3_Group_Grievance     </td><td> 8.000000</td></tr>\n",
              "\t<tr><td>Chad                     </td><td>C1_Security_Apparatus  </td><td> 9.200000</td></tr>\n",
              "\t<tr><td>Chad                     </td><td>C2_Factionalized_Elites</td><td> 9.500000</td></tr>\n",
              "\t<tr><td>Chad                     </td><td>C3_Group_Grievance     </td><td> 8.300000</td></tr>\n",
              "\t<tr><td>Sudan                    </td><td>C1_Security_Apparatus  </td><td> 8.377030</td></tr>\n",
              "\t<tr><td>Sudan                    </td><td>C2_Factionalized_Elites</td><td> 9.400000</td></tr>\n",
              "\t<tr><td>Sudan                    </td><td>C3_Group_Grievance     </td><td> 9.399115</td></tr>\n",
              "\t<tr><td>Afghanistan              </td><td>C1_Security_Apparatus  </td><td> 9.932963</td></tr>\n",
              "\t<tr><td>Afghanistan              </td><td>C2_Factionalized_Elites</td><td> 8.900000</td></tr>\n",
              "\t<tr><td>Afghanistan              </td><td>C3_Group_Grievance     </td><td> 7.500000</td></tr>\n",
              "\t<tr><td>Zimbabwe                 </td><td>C1_Security_Apparatus  </td><td> 8.500000</td></tr>\n",
              "\t<tr><td>Zimbabwe                 </td><td>C2_Factionalized_Elites</td><td>10.000000</td></tr>\n",
              "\t<tr><td>Zimbabwe                 </td><td>C3_Group_Grievance     </td><td> 6.400000</td></tr>\n",
              "\t<tr><td>⋮</td><td>⋮</td><td>⋮</td></tr>\n",
              "\t<tr><td>Australia  </td><td>C1_Security_Apparatus  </td><td>3.0</td></tr>\n",
              "\t<tr><td>Australia  </td><td>C2_Factionalized_Elites</td><td>1.7</td></tr>\n",
              "\t<tr><td>Australia  </td><td>C3_Group_Grievance     </td><td>3.4</td></tr>\n",
              "\t<tr><td>Luxembourg </td><td>C1_Security_Apparatus  </td><td>1.0</td></tr>\n",
              "\t<tr><td>Luxembourg </td><td>C2_Factionalized_Elites</td><td>3.4</td></tr>\n",
              "\t<tr><td>Luxembourg </td><td>C3_Group_Grievance     </td><td>2.4</td></tr>\n",
              "\t<tr><td>Canada     </td><td>C1_Security_Apparatus  </td><td>3.1</td></tr>\n",
              "\t<tr><td>Canada     </td><td>C2_Factionalized_Elites</td><td>2.5</td></tr>\n",
              "\t<tr><td>Canada     </td><td>C3_Group_Grievance     </td><td>2.5</td></tr>\n",
              "\t<tr><td>Sweden     </td><td>C1_Security_Apparatus  </td><td>3.0</td></tr>\n",
              "\t<tr><td>Sweden     </td><td>C2_Factionalized_Elites</td><td>1.8</td></tr>\n",
              "\t<tr><td>Sweden     </td><td>C3_Group_Grievance     </td><td>1.4</td></tr>\n",
              "\t<tr><td>New Zealand</td><td>C1_Security_Apparatus  </td><td>1.5</td></tr>\n",
              "\t<tr><td>New Zealand</td><td>C2_Factionalized_Elites</td><td>1.4</td></tr>\n",
              "\t<tr><td>New Zealand</td><td>C3_Group_Grievance     </td><td>2.9</td></tr>\n",
              "\t<tr><td>Iceland    </td><td>C1_Security_Apparatus  </td><td>1.0</td></tr>\n",
              "\t<tr><td>Iceland    </td><td>C2_Factionalized_Elites</td><td>1.8</td></tr>\n",
              "\t<tr><td>Iceland    </td><td>C3_Group_Grievance     </td><td>0.7</td></tr>\n",
              "\t<tr><td>Denmark    </td><td>C1_Security_Apparatus  </td><td>1.6</td></tr>\n",
              "\t<tr><td>Denmark    </td><td>C2_Factionalized_Elites</td><td>1.4</td></tr>\n",
              "\t<tr><td>Denmark    </td><td>C3_Group_Grievance     </td><td>4.0</td></tr>\n",
              "\t<tr><td>Switzerland</td><td>C1_Security_Apparatus  </td><td>1.4</td></tr>\n",
              "\t<tr><td>Switzerland</td><td>C2_Factionalized_Elites</td><td>1.0</td></tr>\n",
              "\t<tr><td>Switzerland</td><td>C3_Group_Grievance     </td><td>3.0</td></tr>\n",
              "\t<tr><td>Norway     </td><td>C1_Security_Apparatus  </td><td>1.8</td></tr>\n",
              "\t<tr><td>Norway     </td><td>C2_Factionalized_Elites</td><td>1.1</td></tr>\n",
              "\t<tr><td>Norway     </td><td>C3_Group_Grievance     </td><td>3.6</td></tr>\n",
              "\t<tr><td>Finland    </td><td>C1_Security_Apparatus  </td><td>2.8</td></tr>\n",
              "\t<tr><td>Finland    </td><td>C2_Factionalized_Elites</td><td>1.4</td></tr>\n",
              "\t<tr><td>Finland    </td><td>C3_Group_Grievance     </td><td>0.9</td></tr>\n",
              "</tbody>\n",
              "</table>\n"
            ],
            "text/markdown": "\nA tibble: 534 × 3\n\n| Country &lt;chr&gt; | CVars_name &lt;chr&gt; | CVars_value &lt;dbl&gt; |\n|---|---|---|\n| Yemen                     | C1_Security_Apparatus   |  9.700000 |\n| Yemen                     | C2_Factionalized_Elites | 10.000000 |\n| Yemen                     | C3_Group_Grievance      |  9.698870 |\n| Somalia                   | C1_Security_Apparatus   |  9.811328 |\n| Somalia                   | C2_Factionalized_Elites | 10.000000 |\n| Somalia                   | C3_Group_Grievance      |  8.600000 |\n| South Sudan               | C1_Security_Apparatus   |  9.400000 |\n| South Sudan               | C2_Factionalized_Elites |  9.700000 |\n| South Sudan               | C3_Group_Grievance      |  9.100000 |\n| Syria                     | C1_Security_Apparatus   |  9.900000 |\n| Syria                     | C2_Factionalized_Elites |  9.900000 |\n| Syria                     | C3_Group_Grievance      | 10.000000 |\n| Congo Democratic Republic | C1_Security_Apparatus   |  8.500000 |\n| Congo Democratic Republic | C2_Factionalized_Elites |  9.800000 |\n| Congo Democratic Republic | C3_Group_Grievance      |  9.700000 |\n| Central African Republic  | C1_Security_Apparatus   |  8.300000 |\n| Central African Republic  | C2_Factionalized_Elites |  9.682000 |\n| Central African Republic  | C3_Group_Grievance      |  8.000000 |\n| Chad                      | C1_Security_Apparatus   |  9.200000 |\n| Chad                      | C2_Factionalized_Elites |  9.500000 |\n| Chad                      | C3_Group_Grievance      |  8.300000 |\n| Sudan                     | C1_Security_Apparatus   |  8.377030 |\n| Sudan                     | C2_Factionalized_Elites |  9.400000 |\n| Sudan                     | C3_Group_Grievance      |  9.399115 |\n| Afghanistan               | C1_Security_Apparatus   |  9.932963 |\n| Afghanistan               | C2_Factionalized_Elites |  8.900000 |\n| Afghanistan               | C3_Group_Grievance      |  7.500000 |\n| Zimbabwe                  | C1_Security_Apparatus   |  8.500000 |\n| Zimbabwe                  | C2_Factionalized_Elites | 10.000000 |\n| Zimbabwe                  | C3_Group_Grievance      |  6.400000 |\n| ⋮ | ⋮ | ⋮ |\n| Australia   | C1_Security_Apparatus   | 3.0 |\n| Australia   | C2_Factionalized_Elites | 1.7 |\n| Australia   | C3_Group_Grievance      | 3.4 |\n| Luxembourg  | C1_Security_Apparatus   | 1.0 |\n| Luxembourg  | C2_Factionalized_Elites | 3.4 |\n| Luxembourg  | C3_Group_Grievance      | 2.4 |\n| Canada      | C1_Security_Apparatus   | 3.1 |\n| Canada      | C2_Factionalized_Elites | 2.5 |\n| Canada      | C3_Group_Grievance      | 2.5 |\n| Sweden      | C1_Security_Apparatus   | 3.0 |\n| Sweden      | C2_Factionalized_Elites | 1.8 |\n| Sweden      | C3_Group_Grievance      | 1.4 |\n| New Zealand | C1_Security_Apparatus   | 1.5 |\n| New Zealand | C2_Factionalized_Elites | 1.4 |\n| New Zealand | C3_Group_Grievance      | 2.9 |\n| Iceland     | C1_Security_Apparatus   | 1.0 |\n| Iceland     | C2_Factionalized_Elites | 1.8 |\n| Iceland     | C3_Group_Grievance      | 0.7 |\n| Denmark     | C1_Security_Apparatus   | 1.6 |\n| Denmark     | C2_Factionalized_Elites | 1.4 |\n| Denmark     | C3_Group_Grievance      | 4.0 |\n| Switzerland | C1_Security_Apparatus   | 1.4 |\n| Switzerland | C2_Factionalized_Elites | 1.0 |\n| Switzerland | C3_Group_Grievance      | 3.0 |\n| Norway      | C1_Security_Apparatus   | 1.8 |\n| Norway      | C2_Factionalized_Elites | 1.1 |\n| Norway      | C3_Group_Grievance      | 3.6 |\n| Finland     | C1_Security_Apparatus   | 2.8 |\n| Finland     | C2_Factionalized_Elites | 1.4 |\n| Finland     | C3_Group_Grievance      | 0.9 |\n\n",
            "text/latex": "A tibble: 534 × 3\n\\begin{tabular}{lll}\n Country & CVars\\_name & CVars\\_value\\\\\n <chr> & <chr> & <dbl>\\\\\n\\hline\n\t Yemen                     & C1\\_Security\\_Apparatus   &  9.700000\\\\\n\t Yemen                     & C2\\_Factionalized\\_Elites & 10.000000\\\\\n\t Yemen                     & C3\\_Group\\_Grievance      &  9.698870\\\\\n\t Somalia                   & C1\\_Security\\_Apparatus   &  9.811328\\\\\n\t Somalia                   & C2\\_Factionalized\\_Elites & 10.000000\\\\\n\t Somalia                   & C3\\_Group\\_Grievance      &  8.600000\\\\\n\t South Sudan               & C1\\_Security\\_Apparatus   &  9.400000\\\\\n\t South Sudan               & C2\\_Factionalized\\_Elites &  9.700000\\\\\n\t South Sudan               & C3\\_Group\\_Grievance      &  9.100000\\\\\n\t Syria                     & C1\\_Security\\_Apparatus   &  9.900000\\\\\n\t Syria                     & C2\\_Factionalized\\_Elites &  9.900000\\\\\n\t Syria                     & C3\\_Group\\_Grievance      & 10.000000\\\\\n\t Congo Democratic Republic & C1\\_Security\\_Apparatus   &  8.500000\\\\\n\t Congo Democratic Republic & C2\\_Factionalized\\_Elites &  9.800000\\\\\n\t Congo Democratic Republic & C3\\_Group\\_Grievance      &  9.700000\\\\\n\t Central African Republic  & C1\\_Security\\_Apparatus   &  8.300000\\\\\n\t Central African Republic  & C2\\_Factionalized\\_Elites &  9.682000\\\\\n\t Central African Republic  & C3\\_Group\\_Grievance      &  8.000000\\\\\n\t Chad                      & C1\\_Security\\_Apparatus   &  9.200000\\\\\n\t Chad                      & C2\\_Factionalized\\_Elites &  9.500000\\\\\n\t Chad                      & C3\\_Group\\_Grievance      &  8.300000\\\\\n\t Sudan                     & C1\\_Security\\_Apparatus   &  8.377030\\\\\n\t Sudan                     & C2\\_Factionalized\\_Elites &  9.400000\\\\\n\t Sudan                     & C3\\_Group\\_Grievance      &  9.399115\\\\\n\t Afghanistan               & C1\\_Security\\_Apparatus   &  9.932963\\\\\n\t Afghanistan               & C2\\_Factionalized\\_Elites &  8.900000\\\\\n\t Afghanistan               & C3\\_Group\\_Grievance      &  7.500000\\\\\n\t Zimbabwe                  & C1\\_Security\\_Apparatus   &  8.500000\\\\\n\t Zimbabwe                  & C2\\_Factionalized\\_Elites & 10.000000\\\\\n\t Zimbabwe                  & C3\\_Group\\_Grievance      &  6.400000\\\\\n\t ⋮ & ⋮ & ⋮\\\\\n\t Australia   & C1\\_Security\\_Apparatus   & 3.0\\\\\n\t Australia   & C2\\_Factionalized\\_Elites & 1.7\\\\\n\t Australia   & C3\\_Group\\_Grievance      & 3.4\\\\\n\t Luxembourg  & C1\\_Security\\_Apparatus   & 1.0\\\\\n\t Luxembourg  & C2\\_Factionalized\\_Elites & 3.4\\\\\n\t Luxembourg  & C3\\_Group\\_Grievance      & 2.4\\\\\n\t Canada      & C1\\_Security\\_Apparatus   & 3.1\\\\\n\t Canada      & C2\\_Factionalized\\_Elites & 2.5\\\\\n\t Canada      & C3\\_Group\\_Grievance      & 2.5\\\\\n\t Sweden      & C1\\_Security\\_Apparatus   & 3.0\\\\\n\t Sweden      & C2\\_Factionalized\\_Elites & 1.8\\\\\n\t Sweden      & C3\\_Group\\_Grievance      & 1.4\\\\\n\t New Zealand & C1\\_Security\\_Apparatus   & 1.5\\\\\n\t New Zealand & C2\\_Factionalized\\_Elites & 1.4\\\\\n\t New Zealand & C3\\_Group\\_Grievance      & 2.9\\\\\n\t Iceland     & C1\\_Security\\_Apparatus   & 1.0\\\\\n\t Iceland     & C2\\_Factionalized\\_Elites & 1.8\\\\\n\t Iceland     & C3\\_Group\\_Grievance      & 0.7\\\\\n\t Denmark     & C1\\_Security\\_Apparatus   & 1.6\\\\\n\t Denmark     & C2\\_Factionalized\\_Elites & 1.4\\\\\n\t Denmark     & C3\\_Group\\_Grievance      & 4.0\\\\\n\t Switzerland & C1\\_Security\\_Apparatus   & 1.4\\\\\n\t Switzerland & C2\\_Factionalized\\_Elites & 1.0\\\\\n\t Switzerland & C3\\_Group\\_Grievance      & 3.0\\\\\n\t Norway      & C1\\_Security\\_Apparatus   & 1.8\\\\\n\t Norway      & C2\\_Factionalized\\_Elites & 1.1\\\\\n\t Norway      & C3\\_Group\\_Grievance      & 3.6\\\\\n\t Finland     & C1\\_Security\\_Apparatus   & 2.8\\\\\n\t Finland     & C2\\_Factionalized\\_Elites & 1.4\\\\\n\t Finland     & C3\\_Group\\_Grievance      & 0.9\\\\\n\\end{tabular}\n",
            "text/plain": [
              "    Country                   CVars_name              CVars_value\n",
              "1   Yemen                     C1_Security_Apparatus    9.700000  \n",
              "2   Yemen                     C2_Factionalized_Elites 10.000000  \n",
              "3   Yemen                     C3_Group_Grievance       9.698870  \n",
              "4   Somalia                   C1_Security_Apparatus    9.811328  \n",
              "5   Somalia                   C2_Factionalized_Elites 10.000000  \n",
              "6   Somalia                   C3_Group_Grievance       8.600000  \n",
              "7   South Sudan               C1_Security_Apparatus    9.400000  \n",
              "8   South Sudan               C2_Factionalized_Elites  9.700000  \n",
              "9   South Sudan               C3_Group_Grievance       9.100000  \n",
              "10  Syria                     C1_Security_Apparatus    9.900000  \n",
              "11  Syria                     C2_Factionalized_Elites  9.900000  \n",
              "12  Syria                     C3_Group_Grievance      10.000000  \n",
              "13  Congo Democratic Republic C1_Security_Apparatus    8.500000  \n",
              "14  Congo Democratic Republic C2_Factionalized_Elites  9.800000  \n",
              "15  Congo Democratic Republic C3_Group_Grievance       9.700000  \n",
              "16  Central African Republic  C1_Security_Apparatus    8.300000  \n",
              "17  Central African Republic  C2_Factionalized_Elites  9.682000  \n",
              "18  Central African Republic  C3_Group_Grievance       8.000000  \n",
              "19  Chad                      C1_Security_Apparatus    9.200000  \n",
              "20  Chad                      C2_Factionalized_Elites  9.500000  \n",
              "21  Chad                      C3_Group_Grievance       8.300000  \n",
              "22  Sudan                     C1_Security_Apparatus    8.377030  \n",
              "23  Sudan                     C2_Factionalized_Elites  9.400000  \n",
              "24  Sudan                     C3_Group_Grievance       9.399115  \n",
              "25  Afghanistan               C1_Security_Apparatus    9.932963  \n",
              "26  Afghanistan               C2_Factionalized_Elites  8.900000  \n",
              "27  Afghanistan               C3_Group_Grievance       7.500000  \n",
              "28  Zimbabwe                  C1_Security_Apparatus    8.500000  \n",
              "29  Zimbabwe                  C2_Factionalized_Elites 10.000000  \n",
              "30  Zimbabwe                  C3_Group_Grievance       6.400000  \n",
              "⋮   ⋮                         ⋮                       ⋮          \n",
              "505 Australia                 C1_Security_Apparatus   3.0        \n",
              "506 Australia                 C2_Factionalized_Elites 1.7        \n",
              "507 Australia                 C3_Group_Grievance      3.4        \n",
              "508 Luxembourg                C1_Security_Apparatus   1.0        \n",
              "509 Luxembourg                C2_Factionalized_Elites 3.4        \n",
              "510 Luxembourg                C3_Group_Grievance      2.4        \n",
              "511 Canada                    C1_Security_Apparatus   3.1        \n",
              "512 Canada                    C2_Factionalized_Elites 2.5        \n",
              "513 Canada                    C3_Group_Grievance      2.5        \n",
              "514 Sweden                    C1_Security_Apparatus   3.0        \n",
              "515 Sweden                    C2_Factionalized_Elites 1.8        \n",
              "516 Sweden                    C3_Group_Grievance      1.4        \n",
              "517 New Zealand               C1_Security_Apparatus   1.5        \n",
              "518 New Zealand               C2_Factionalized_Elites 1.4        \n",
              "519 New Zealand               C3_Group_Grievance      2.9        \n",
              "520 Iceland                   C1_Security_Apparatus   1.0        \n",
              "521 Iceland                   C2_Factionalized_Elites 1.8        \n",
              "522 Iceland                   C3_Group_Grievance      0.7        \n",
              "523 Denmark                   C1_Security_Apparatus   1.6        \n",
              "524 Denmark                   C2_Factionalized_Elites 1.4        \n",
              "525 Denmark                   C3_Group_Grievance      4.0        \n",
              "526 Switzerland               C1_Security_Apparatus   1.4        \n",
              "527 Switzerland               C2_Factionalized_Elites 1.0        \n",
              "528 Switzerland               C3_Group_Grievance      3.0        \n",
              "529 Norway                    C1_Security_Apparatus   1.8        \n",
              "530 Norway                    C2_Factionalized_Elites 1.1        \n",
              "531 Norway                    C3_Group_Grievance      3.6        \n",
              "532 Finland                   C1_Security_Apparatus   2.8        \n",
              "533 Finland                   C2_Factionalized_Elites 1.4        \n",
              "534 Finland                   C3_Group_Grievance      0.9        "
            ]
          },
          "metadata": {}
        }
      ]
    },
    {
      "cell_type": "code",
      "source": [
        "base=ggplot(data=fragile_CVars_long)\n",
        "base+geom_boxplot(aes(x=CVars_name,y=CVars_value))"
      ],
      "metadata": {
        "id": "i-3OmVAk6cmI",
        "colab": {
          "base_uri": "https://localhost:8080/",
          "height": 437
        },
        "outputId": "e0df7032-4a95-4823-c953-ec27fb1e2288"
      },
      "id": "i-3OmVAk6cmI",
      "execution_count": null,
      "outputs": [
        {
          "output_type": "display_data",
          "data": {
            "text/plain": [
              "plot without title"
            ],
            "image/png": "[encoded data removed]"
          },
          "metadata": {
            "image/png": {
              "width": 420,
              "height": 420
            }
          }
        }
      ]
    },
    {
      "cell_type": "markdown",
      "source": [
        "## LONG and WIDE madness\n",
        "\n",
        "Let me keep both long and wide elements:"
      ],
      "metadata": {
        "id": "y97UOYsrHh2q"
      },
      "id": "y97UOYsrHh2q"
    },
    {
      "cell_type": "code",
      "source": [
        "fragile_since2020=fragile[fragile$Year>=2020,c('Country','Year',CVars_columns)]\n",
        "fragile_since2020"
      ],
      "metadata": {
        "id": "ml_GA4AlHpBH",
        "colab": {
          "base_uri": "https://localhost:8080/",
          "height": 1000
        },
        "outputId": "4f43edbd-417d-4e1b-9947-67825c657b3d"
      },
      "id": "ml_GA4AlHpBH",
      "execution_count": null,
      "outputs": [
        {
          "output_type": "display_data",
          "data": {
            "text/html": [
              "<table class=\"dataframe\">\n",
              "<caption>A data.frame: 715 × 5</caption>\n",
              "<thead>\n",
              "\t<tr><th></th><th scope=col>Country</th><th scope=col>Year</th><th scope=col>C1_Security_Apparatus</th><th scope=col>C2_Factionalized_Elites</th><th scope=col>C3_Group_Grievance</th></tr>\n",
              "\t<tr><th></th><th scope=col>&lt;chr&gt;</th><th scope=col>&lt;int&gt;</th><th scope=col>&lt;dbl&gt;</th><th scope=col>&lt;dbl&gt;</th><th scope=col>&lt;dbl&gt;</th></tr>\n",
              "</thead>\n",
              "<tbody>\n",
              "\t<tr><th scope=row>1</th><td>Yemen                    </td><td>2020</td><td>9.700000</td><td>10.000</td><td> 9.698870</td></tr>\n",
              "\t<tr><th scope=row>2</th><td>Somalia                  </td><td>2020</td><td>9.811328</td><td>10.000</td><td> 8.600000</td></tr>\n",
              "\t<tr><th scope=row>3</th><td>South Sudan              </td><td>2020</td><td>9.400000</td><td> 9.700</td><td> 9.100000</td></tr>\n",
              "\t<tr><th scope=row>4</th><td>Syria                    </td><td>2020</td><td>9.900000</td><td> 9.900</td><td>10.000000</td></tr>\n",
              "\t<tr><th scope=row>5</th><td>Congo Democratic Republic</td><td>2020</td><td>8.500000</td><td> 9.800</td><td> 9.700000</td></tr>\n",
              "\t<tr><th scope=row>6</th><td>Central African Republic </td><td>2020</td><td>8.300000</td><td> 9.682</td><td> 8.000000</td></tr>\n",
              "\t<tr><th scope=row>7</th><td>Chad                     </td><td>2020</td><td>9.200000</td><td> 9.500</td><td> 8.300000</td></tr>\n",
              "\t<tr><th scope=row>8</th><td>Sudan                    </td><td>2020</td><td>8.377030</td><td> 9.400</td><td> 9.399115</td></tr>\n",
              "\t<tr><th scope=row>9</th><td>Afghanistan              </td><td>2020</td><td>9.932963</td><td> 8.900</td><td> 7.500000</td></tr>\n",
              "\t<tr><th scope=row>10</th><td>Zimbabwe                 </td><td>2020</td><td>8.500000</td><td>10.000</td><td> 6.400000</td></tr>\n",
              "\t<tr><th scope=row>11</th><td>Burundi                  </td><td>2020</td><td>8.300000</td><td> 7.900</td><td> 7.600000</td></tr>\n",
              "\t<tr><th scope=row>12</th><td>Cameroon                 </td><td>2020</td><td>8.200000</td><td> 9.300</td><td> 8.600000</td></tr>\n",
              "\t<tr><th scope=row>13</th><td>Haiti                    </td><td>2020</td><td>6.900000</td><td> 9.579</td><td> 5.600000</td></tr>\n",
              "\t<tr><th scope=row>14</th><td>Nigeria                  </td><td>2020</td><td>8.700000</td><td> 9.900</td><td> 9.100000</td></tr>\n",
              "\t<tr><th scope=row>15</th><td>Guinea                   </td><td>2020</td><td>8.300000</td><td> 9.600</td><td> 9.176613</td></tr>\n",
              "\t<tr><th scope=row>16</th><td>Mali                     </td><td>2020</td><td>9.500000</td><td> 5.700</td><td> 8.400000</td></tr>\n",
              "\t<tr><th scope=row>17</th><td>Iraq                     </td><td>2020</td><td>8.200000</td><td> 9.600</td><td> 8.500000</td></tr>\n",
              "\t<tr><th scope=row>18</th><td>Eritrea                  </td><td>2020</td><td>6.485431</td><td> 8.100</td><td> 8.000000</td></tr>\n",
              "\t<tr><th scope=row>19</th><td>Niger                    </td><td>2020</td><td>8.800000</td><td> 8.900</td><td> 7.800000</td></tr>\n",
              "\t<tr><th scope=row>20</th><td>Libya                    </td><td>2020</td><td>9.500000</td><td> 9.700</td><td> 7.800000</td></tr>\n",
              "\t<tr><th scope=row>21</th><td>Ethiopia                 </td><td>2020</td><td>7.900000</td><td> 8.900</td><td> 9.000000</td></tr>\n",
              "\t<tr><th scope=row>22</th><td>Myanmar                  </td><td>2020</td><td>8.800000</td><td> 8.000</td><td> 9.800000</td></tr>\n",
              "\t<tr><th scope=row>23</th><td>Guinea Bissau            </td><td>2020</td><td>8.000000</td><td> 9.600</td><td> 4.600000</td></tr>\n",
              "\t<tr><th scope=row>24</th><td>Uganda                   </td><td>2020</td><td>7.200000</td><td> 8.900</td><td> 8.000000</td></tr>\n",
              "\t<tr><th scope=row>25</th><td>Pakistan                 </td><td>2020</td><td>8.200000</td><td> 9.000</td><td> 9.100000</td></tr>\n",
              "\t<tr><th scope=row>26</th><td>Congo Republic           </td><td>2020</td><td>7.274583</td><td> 6.700</td><td> 8.100000</td></tr>\n",
              "\t<tr><th scope=row>27</th><td>Mozambique               </td><td>2020</td><td>6.849035</td><td> 7.100</td><td> 5.300000</td></tr>\n",
              "\t<tr><th scope=row>28</th><td>Venezuela                </td><td>2020</td><td>7.244253</td><td> 9.152</td><td> 7.300000</td></tr>\n",
              "\t<tr><th scope=row>29</th><td>Kenya                    </td><td>2020</td><td>7.660347</td><td> 8.600</td><td> 8.300000</td></tr>\n",
              "\t<tr><th scope=row>30</th><td>North Korea              </td><td>2020</td><td>8.300000</td><td> 8.500</td><td> 5.500000</td></tr>\n",
              "\t<tr><th scope=row>⋮</th><td>⋮</td><td>⋮</td><td>⋮</td><td>⋮</td><td>⋮</td></tr>\n",
              "\t<tr><th scope=row>2785</th><td>Costa Rica          </td><td>2023</td><td>2.9</td><td>3.8</td><td>2.4</td></tr>\n",
              "\t<tr><th scope=row>2786</th><td>Czechia             </td><td>2023</td><td>2.0</td><td>5.3</td><td>4.0</td></tr>\n",
              "\t<tr><th scope=row>2787</th><td>Lithuania           </td><td>2023</td><td>2.2</td><td>3.0</td><td>2.7</td></tr>\n",
              "\t<tr><th scope=row>2788</th><td>Estonia             </td><td>2023</td><td>1.7</td><td>5.8</td><td>6.8</td></tr>\n",
              "\t<tr><th scope=row>2789</th><td>Mauritius           </td><td>2023</td><td>1.0</td><td>3.1</td><td>5.0</td></tr>\n",
              "\t<tr><th scope=row>2790</th><td>Slovakia            </td><td>2023</td><td>1.2</td><td>4.7</td><td>5.5</td></tr>\n",
              "\t<tr><th scope=row>2791</th><td>United Arab Emirates</td><td>2023</td><td>2.3</td><td>3.6</td><td>2.2</td></tr>\n",
              "\t<tr><th scope=row>2792</th><td>Uruguay             </td><td>2023</td><td>3.6</td><td>2.7</td><td>2.3</td></tr>\n",
              "\t<tr><th scope=row>2793</th><td>Malta               </td><td>2023</td><td>1.8</td><td>2.0</td><td>2.1</td></tr>\n",
              "\t<tr><th scope=row>2794</th><td>South Korea         </td><td>2023</td><td>1.5</td><td>3.9</td><td>2.8</td></tr>\n",
              "\t<tr><th scope=row>2795</th><td>Belgium             </td><td>2023</td><td>2.4</td><td>4.4</td><td>3.5</td></tr>\n",
              "\t<tr><th scope=row>2796</th><td>Japan               </td><td>2023</td><td>1.5</td><td>2.6</td><td>1.9</td></tr>\n",
              "\t<tr><th scope=row>2797</th><td>France              </td><td>2023</td><td>2.9</td><td>1.9</td><td>6.4</td></tr>\n",
              "\t<tr><th scope=row>2798</th><td>Slovenia            </td><td>2023</td><td>0.3</td><td>2.0</td><td>3.0</td></tr>\n",
              "\t<tr><th scope=row>2799</th><td>Portugal            </td><td>2023</td><td>0.3</td><td>2.5</td><td>0.7</td></tr>\n",
              "\t<tr><th scope=row>2800</th><td>Singapore           </td><td>2023</td><td>0.4</td><td>4.0</td><td>2.8</td></tr>\n",
              "\t<tr><th scope=row>2801</th><td>Germany             </td><td>2023</td><td>2.3</td><td>2.3</td><td>3.4</td></tr>\n",
              "\t<tr><th scope=row>2802</th><td>Austria             </td><td>2023</td><td>1.4</td><td>3.2</td><td>3.3</td></tr>\n",
              "\t<tr><th scope=row>2803</th><td>Australia           </td><td>2023</td><td>2.1</td><td>1.7</td><td>2.9</td></tr>\n",
              "\t<tr><th scope=row>2804</th><td>Netherlands         </td><td>2023</td><td>1.8</td><td>3.4</td><td>3.0</td></tr>\n",
              "\t<tr><th scope=row>2805</th><td>Sweden              </td><td>2023</td><td>2.1</td><td>1.8</td><td>2.3</td></tr>\n",
              "\t<tr><th scope=row>2806</th><td>Luxembourg          </td><td>2023</td><td>0.4</td><td>3.4</td><td>1.5</td></tr>\n",
              "\t<tr><th scope=row>2807</th><td>Ireland             </td><td>2023</td><td>2.1</td><td>1.5</td><td>0.5</td></tr>\n",
              "\t<tr><th scope=row>2808</th><td>Canada              </td><td>2023</td><td>2.2</td><td>2.5</td><td>2.0</td></tr>\n",
              "\t<tr><th scope=row>2809</th><td>Denmark             </td><td>2023</td><td>1.1</td><td>1.4</td><td>3.1</td></tr>\n",
              "\t<tr><th scope=row>2810</th><td>Switzerland         </td><td>2023</td><td>1.4</td><td>1.0</td><td>2.1</td></tr>\n",
              "\t<tr><th scope=row>2811</th><td>New Zealand         </td><td>2023</td><td>1.6</td><td>1.4</td><td>2.0</td></tr>\n",
              "\t<tr><th scope=row>2812</th><td>Finland             </td><td>2023</td><td>2.0</td><td>1.4</td><td>0.3</td></tr>\n",
              "\t<tr><th scope=row>2813</th><td>Iceland             </td><td>2023</td><td>0.4</td><td>1.8</td><td>0.5</td></tr>\n",
              "\t<tr><th scope=row>2814</th><td>Norway              </td><td>2023</td><td>1.4</td><td>1.1</td><td>3.1</td></tr>\n",
              "</tbody>\n",
              "</table>\n"
            ],
            "text/markdown": "\nA data.frame: 715 × 5\n\n| <!--/--> | Country &lt;chr&gt; | Year &lt;int&gt; | C1_Security_Apparatus &lt;dbl&gt; | C2_Factionalized_Elites &lt;dbl&gt; | C3_Group_Grievance &lt;dbl&gt; |\n|---|---|---|---|---|---|\n| 1 | Yemen                     | 2020 | 9.700000 | 10.000 |  9.698870 |\n| 2 | Somalia                   | 2020 | 9.811328 | 10.000 |  8.600000 |\n| 3 | South Sudan               | 2020 | 9.400000 |  9.700 |  9.100000 |\n| 4 | Syria                     | 2020 | 9.900000 |  9.900 | 10.000000 |\n| 5 | Congo Democratic Republic | 2020 | 8.500000 |  9.800 |  9.700000 |\n| 6 | Central African Republic  | 2020 | 8.300000 |  9.682 |  8.000000 |\n| 7 | Chad                      | 2020 | 9.200000 |  9.500 |  8.300000 |\n| 8 | Sudan                     | 2020 | 8.377030 |  9.400 |  9.399115 |\n| 9 | Afghanistan               | 2020 | 9.932963 |  8.900 |  7.500000 |\n| 10 | Zimbabwe                  | 2020 | 8.500000 | 10.000 |  6.400000 |\n| 11 | Burundi                   | 2020 | 8.300000 |  7.900 |  7.600000 |\n| 12 | Cameroon                  | 2020 | 8.200000 |  9.300 |  8.600000 |\n| 13 | Haiti                     | 2020 | 6.900000 |  9.579 |  5.600000 |\n| 14 | Nigeria                   | 2020 | 8.700000 |  9.900 |  9.100000 |\n| 15 | Guinea                    | 2020 | 8.300000 |  9.600 |  9.176613 |\n| 16 | Mali                      | 2020 | 9.500000 |  5.700 |  8.400000 |\n| 17 | Iraq                      | 2020 | 8.200000 |  9.600 |  8.500000 |\n| 18 | Eritrea                   | 2020 | 6.485431 |  8.100 |  8.000000 |\n| 19 | Niger                     | 2020 | 8.800000 |  8.900 |  7.800000 |\n| 20 | Libya                     | 2020 | 9.500000 |  9.700 |  7.800000 |\n| 21 | Ethiopia                  | 2020 | 7.900000 |  8.900 |  9.000000 |\n| 22 | Myanmar                   | 2020 | 8.800000 |  8.000 |  9.800000 |\n| 23 | Guinea Bissau             | 2020 | 8.000000 |  9.600 |  4.600000 |\n| 24 | Uganda                    | 2020 | 7.200000 |  8.900 |  8.000000 |\n| 25 | Pakistan                  | 2020 | 8.200000 |  9.000 |  9.100000 |\n| 26 | Congo Republic            | 2020 | 7.274583 |  6.700 |  8.100000 |\n| 27 | Mozambique                | 2020 | 6.849035 |  7.100 |  5.300000 |\n| 28 | Venezuela                 | 2020 | 7.244253 |  9.152 |  7.300000 |\n| 29 | Kenya                     | 2020 | 7.660347 |  8.600 |  8.300000 |\n| 30 | North Korea               | 2020 | 8.300000 |  8.500 |  5.500000 |\n| ⋮ | ⋮ | ⋮ | ⋮ | ⋮ | ⋮ |\n| 2785 | Costa Rica           | 2023 | 2.9 | 3.8 | 2.4 |\n| 2786 | Czechia              | 2023 | 2.0 | 5.3 | 4.0 |\n| 2787 | Lithuania            | 2023 | 2.2 | 3.0 | 2.7 |\n| 2788 | Estonia              | 2023 | 1.7 | 5.8 | 6.8 |\n| 2789 | Mauritius            | 2023 | 1.0 | 3.1 | 5.0 |\n| 2790 | Slovakia             | 2023 | 1.2 | 4.7 | 5.5 |\n| 2791 | United Arab Emirates | 2023 | 2.3 | 3.6 | 2.2 |\n| 2792 | Uruguay              | 2023 | 3.6 | 2.7 | 2.3 |\n| 2793 | Malta                | 2023 | 1.8 | 2.0 | 2.1 |\n| 2794 | South Korea          | 2023 | 1.5 | 3.9 | 2.8 |\n| 2795 | Belgium              | 2023 | 2.4 | 4.4 | 3.5 |\n| 2796 | Japan                | 2023 | 1.5 | 2.6 | 1.9 |\n| 2797 | France               | 2023 | 2.9 | 1.9 | 6.4 |\n| 2798 | Slovenia             | 2023 | 0.3 | 2.0 | 3.0 |\n| 2799 | Portugal             | 2023 | 0.3 | 2.5 | 0.7 |\n| 2800 | Singapore            | 2023 | 0.4 | 4.0 | 2.8 |\n| 2801 | Germany              | 2023 | 2.3 | 2.3 | 3.4 |\n| 2802 | Austria              | 2023 | 1.4 | 3.2 | 3.3 |\n| 2803 | Australia            | 2023 | 2.1 | 1.7 | 2.9 |\n| 2804 | Netherlands          | 2023 | 1.8 | 3.4 | 3.0 |\n| 2805 | Sweden               | 2023 | 2.1 | 1.8 | 2.3 |\n| 2806 | Luxembourg           | 2023 | 0.4 | 3.4 | 1.5 |\n| 2807 | Ireland              | 2023 | 2.1 | 1.5 | 0.5 |\n| 2808 | Canada               | 2023 | 2.2 | 2.5 | 2.0 |\n| 2809 | Denmark              | 2023 | 1.1 | 1.4 | 3.1 |\n| 2810 | Switzerland          | 2023 | 1.4 | 1.0 | 2.1 |\n| 2811 | New Zealand          | 2023 | 1.6 | 1.4 | 2.0 |\n| 2812 | Finland              | 2023 | 2.0 | 1.4 | 0.3 |\n| 2813 | Iceland              | 2023 | 0.4 | 1.8 | 0.5 |\n| 2814 | Norway               | 2023 | 1.4 | 1.1 | 3.1 |\n\n",
            "text/latex": "A data.frame: 715 × 5\n\\begin{tabular}{r|lllll}\n  & Country & Year & C1\\_Security\\_Apparatus & C2\\_Factionalized\\_Elites & C3\\_Group\\_Grievance\\\\\n  & <chr> & <int> & <dbl> & <dbl> & <dbl>\\\\\n\\hline\n\t1 & Yemen                     & 2020 & 9.700000 & 10.000 &  9.698870\\\\\n\t2 & Somalia                   & 2020 & 9.811328 & 10.000 &  8.600000\\\\\n\t3 & South Sudan               & 2020 & 9.400000 &  9.700 &  9.100000\\\\\n\t4 & Syria                     & 2020 & 9.900000 &  9.900 & 10.000000\\\\\n\t5 & Congo Democratic Republic & 2020 & 8.500000 &  9.800 &  9.700000\\\\\n\t6 & Central African Republic  & 2020 & 8.300000 &  9.682 &  8.000000\\\\\n\t7 & Chad                      & 2020 & 9.200000 &  9.500 &  8.300000\\\\\n\t8 & Sudan                     & 2020 & 8.377030 &  9.400 &  9.399115\\\\\n\t9 & Afghanistan               & 2020 & 9.932963 &  8.900 &  7.500000\\\\\n\t10 & Zimbabwe                  & 2020 & 8.500000 & 10.000 &  6.400000\\\\\n\t11 & Burundi                   & 2020 & 8.300000 &  7.900 &  7.600000\\\\\n\t12 & Cameroon                  & 2020 & 8.200000 &  9.300 &  8.600000\\\\\n\t13 & Haiti                     & 2020 & 6.900000 &  9.579 &  5.600000\\\\\n\t14 & Nigeria                   & 2020 & 8.700000 &  9.900 &  9.100000\\\\\n\t15 & Guinea                    & 2020 & 8.300000 &  9.600 &  9.176613\\\\\n\t16 & Mali                      & 2020 & 9.500000 &  5.700 &  8.400000\\\\\n\t17 & Iraq                      & 2020 & 8.200000 &  9.600 &  8.500000\\\\\n\t18 & Eritrea                   & 2020 & 6.485431 &  8.100 &  8.000000\\\\\n\t19 & Niger                     & 2020 & 8.800000 &  8.900 &  7.800000\\\\\n\t20 & Libya                     & 2020 & 9.500000 &  9.700 &  7.800000\\\\\n\t21 & Ethiopia                  & 2020 & 7.900000 &  8.900 &  9.000000\\\\\n\t22 & Myanmar                   & 2020 & 8.800000 &  8.000 &  9.800000\\\\\n\t23 & Guinea Bissau             & 2020 & 8.000000 &  9.600 &  4.600000\\\\\n\t24 & Uganda                    & 2020 & 7.200000 &  8.900 &  8.000000\\\\\n\t25 & Pakistan                  & 2020 & 8.200000 &  9.000 &  9.100000\\\\\n\t26 & Congo Republic            & 2020 & 7.274583 &  6.700 &  8.100000\\\\\n\t27 & Mozambique                & 2020 & 6.849035 &  7.100 &  5.300000\\\\\n\t28 & Venezuela                 & 2020 & 7.244253 &  9.152 &  7.300000\\\\\n\t29 & Kenya                     & 2020 & 7.660347 &  8.600 &  8.300000\\\\\n\t30 & North Korea               & 2020 & 8.300000 &  8.500 &  5.500000\\\\\n\t⋮ & ⋮ & ⋮ & ⋮ & ⋮ & ⋮\\\\\n\t2785 & Costa Rica           & 2023 & 2.9 & 3.8 & 2.4\\\\\n\t2786 & Czechia              & 2023 & 2.0 & 5.3 & 4.0\\\\\n\t2787 & Lithuania            & 2023 & 2.2 & 3.0 & 2.7\\\\\n\t2788 & Estonia              & 2023 & 1.7 & 5.8 & 6.8\\\\\n\t2789 & Mauritius            & 2023 & 1.0 & 3.1 & 5.0\\\\\n\t2790 & Slovakia             & 2023 & 1.2 & 4.7 & 5.5\\\\\n\t2791 & United Arab Emirates & 2023 & 2.3 & 3.6 & 2.2\\\\\n\t2792 & Uruguay              & 2023 & 3.6 & 2.7 & 2.3\\\\\n\t2793 & Malta                & 2023 & 1.8 & 2.0 & 2.1\\\\\n\t2794 & South Korea          & 2023 & 1.5 & 3.9 & 2.8\\\\\n\t2795 & Belgium              & 2023 & 2.4 & 4.4 & 3.5\\\\\n\t2796 & Japan                & 2023 & 1.5 & 2.6 & 1.9\\\\\n\t2797 & France               & 2023 & 2.9 & 1.9 & 6.4\\\\\n\t2798 & Slovenia             & 2023 & 0.3 & 2.0 & 3.0\\\\\n\t2799 & Portugal             & 2023 & 0.3 & 2.5 & 0.7\\\\\n\t2800 & Singapore            & 2023 & 0.4 & 4.0 & 2.8\\\\\n\t2801 & Germany              & 2023 & 2.3 & 2.3 & 3.4\\\\\n\t2802 & Austria              & 2023 & 1.4 & 3.2 & 3.3\\\\\n\t2803 & Australia            & 2023 & 2.1 & 1.7 & 2.9\\\\\n\t2804 & Netherlands          & 2023 & 1.8 & 3.4 & 3.0\\\\\n\t2805 & Sweden               & 2023 & 2.1 & 1.8 & 2.3\\\\\n\t2806 & Luxembourg           & 2023 & 0.4 & 3.4 & 1.5\\\\\n\t2807 & Ireland              & 2023 & 2.1 & 1.5 & 0.5\\\\\n\t2808 & Canada               & 2023 & 2.2 & 2.5 & 2.0\\\\\n\t2809 & Denmark              & 2023 & 1.1 & 1.4 & 3.1\\\\\n\t2810 & Switzerland          & 2023 & 1.4 & 1.0 & 2.1\\\\\n\t2811 & New Zealand          & 2023 & 1.6 & 1.4 & 2.0\\\\\n\t2812 & Finland              & 2023 & 2.0 & 1.4 & 0.3\\\\\n\t2813 & Iceland              & 2023 & 0.4 & 1.8 & 0.5\\\\\n\t2814 & Norway               & 2023 & 1.4 & 1.1 & 3.1\\\\\n\\end{tabular}\n",
            "text/plain": [
              "     Country                   Year C1_Security_Apparatus\n",
              "1    Yemen                     2020 9.700000             \n",
              "2    Somalia                   2020 9.811328             \n",
              "3    South Sudan               2020 9.400000             \n",
              "4    Syria                     2020 9.900000             \n",
              "5    Congo Democratic Republic 2020 8.500000             \n",
              "6    Central African Republic  2020 8.300000             \n",
              "7    Chad                      2020 9.200000             \n",
              "8    Sudan                     2020 8.377030             \n",
              "9    Afghanistan               2020 9.932963             \n",
              "10   Zimbabwe                  2020 8.500000             \n",
              "11   Burundi                   2020 8.300000             \n",
              "12   Cameroon                  2020 8.200000             \n",
              "13   Haiti                     2020 6.900000             \n",
              "14   Nigeria                   2020 8.700000             \n",
              "15   Guinea                    2020 8.300000             \n",
              "16   Mali                      2020 9.500000             \n",
              "17   Iraq                      2020 8.200000             \n",
              "18   Eritrea                   2020 6.485431             \n",
              "19   Niger                     2020 8.800000             \n",
              "20   Libya                     2020 9.500000             \n",
              "21   Ethiopia                  2020 7.900000             \n",
              "22   Myanmar                   2020 8.800000             \n",
              "23   Guinea Bissau             2020 8.000000             \n",
              "24   Uganda                    2020 7.200000             \n",
              "25   Pakistan                  2020 8.200000             \n",
              "26   Congo Republic            2020 7.274583             \n",
              "27   Mozambique                2020 6.849035             \n",
              "28   Venezuela                 2020 7.244253             \n",
              "29   Kenya                     2020 7.660347             \n",
              "30   North Korea               2020 8.300000             \n",
              "⋮    ⋮                         ⋮    ⋮                    \n",
              "2785 Costa Rica                2023 2.9                  \n",
              "2786 Czechia                   2023 2.0                  \n",
              "2787 Lithuania                 2023 2.2                  \n",
              "2788 Estonia                   2023 1.7                  \n",
              "2789 Mauritius                 2023 1.0                  \n",
              "2790 Slovakia                  2023 1.2                  \n",
              "2791 United Arab Emirates      2023 2.3                  \n",
              "2792 Uruguay                   2023 3.6                  \n",
              "2793 Malta                     2023 1.8                  \n",
              "2794 South Korea               2023 1.5                  \n",
              "2795 Belgium                   2023 2.4                  \n",
              "2796 Japan                     2023 1.5                  \n",
              "2797 France                    2023 2.9                  \n",
              "2798 Slovenia                  2023 0.3                  \n",
              "2799 Portugal                  2023 0.3                  \n",
              "2800 Singapore                 2023 0.4                  \n",
              "2801 Germany                   2023 2.3                  \n",
              "2802 Austria                   2023 1.4                  \n",
              "2803 Australia                 2023 2.1                  \n",
              "2804 Netherlands               2023 1.8                  \n",
              "2805 Sweden                    2023 2.1                  \n",
              "2806 Luxembourg                2023 0.4                  \n",
              "2807 Ireland                   2023 2.1                  \n",
              "2808 Canada                    2023 2.2                  \n",
              "2809 Denmark                   2023 1.1                  \n",
              "2810 Switzerland               2023 1.4                  \n",
              "2811 New Zealand               2023 1.6                  \n",
              "2812 Finland                   2023 2.0                  \n",
              "2813 Iceland                   2023 0.4                  \n",
              "2814 Norway                    2023 1.4                  \n",
              "     C2_Factionalized_Elites C3_Group_Grievance\n",
              "1    10.000                   9.698870         \n",
              "2    10.000                   8.600000         \n",
              "3     9.700                   9.100000         \n",
              "4     9.900                  10.000000         \n",
              "5     9.800                   9.700000         \n",
              "6     9.682                   8.000000         \n",
              "7     9.500                   8.300000         \n",
              "8     9.400                   9.399115         \n",
              "9     8.900                   7.500000         \n",
              "10   10.000                   6.400000         \n",
              "11    7.900                   7.600000         \n",
              "12    9.300                   8.600000         \n",
              "13    9.579                   5.600000         \n",
              "14    9.900                   9.100000         \n",
              "15    9.600                   9.176613         \n",
              "16    5.700                   8.400000         \n",
              "17    9.600                   8.500000         \n",
              "18    8.100                   8.000000         \n",
              "19    8.900                   7.800000         \n",
              "20    9.700                   7.800000         \n",
              "21    8.900                   9.000000         \n",
              "22    8.000                   9.800000         \n",
              "23    9.600                   4.600000         \n",
              "24    8.900                   8.000000         \n",
              "25    9.000                   9.100000         \n",
              "26    6.700                   8.100000         \n",
              "27    7.100                   5.300000         \n",
              "28    9.152                   7.300000         \n",
              "29    8.600                   8.300000         \n",
              "30    8.500                   5.500000         \n",
              "⋮    ⋮                       ⋮                 \n",
              "2785 3.8                     2.4               \n",
              "2786 5.3                     4.0               \n",
              "2787 3.0                     2.7               \n",
              "2788 5.8                     6.8               \n",
              "2789 3.1                     5.0               \n",
              "2790 4.7                     5.5               \n",
              "2791 3.6                     2.2               \n",
              "2792 2.7                     2.3               \n",
              "2793 2.0                     2.1               \n",
              "2794 3.9                     2.8               \n",
              "2795 4.4                     3.5               \n",
              "2796 2.6                     1.9               \n",
              "2797 1.9                     6.4               \n",
              "2798 2.0                     3.0               \n",
              "2799 2.5                     0.7               \n",
              "2800 4.0                     2.8               \n",
              "2801 2.3                     3.4               \n",
              "2802 3.2                     3.3               \n",
              "2803 1.7                     2.9               \n",
              "2804 3.4                     3.0               \n",
              "2805 1.8                     2.3               \n",
              "2806 3.4                     1.5               \n",
              "2807 1.5                     0.5               \n",
              "2808 2.5                     2.0               \n",
              "2809 1.4                     3.1               \n",
              "2810 1.0                     2.1               \n",
              "2811 1.4                     2.0               \n",
              "2812 1.4                     0.3               \n",
              "2813 1.8                     0.5               \n",
              "2814 1.1                     3.1               "
            ]
          },
          "metadata": {}
        }
      ]
    },
    {
      "cell_type": "markdown",
      "source": [
        "See this result when sending a long column into a wide format when other variables are already wide:"
      ],
      "metadata": {
        "id": "pWeGMMqz73-E"
      },
      "id": "pWeGMMqz73-E"
    },
    {
      "cell_type": "code",
      "source": [
        "fragile_since2020_wide=tidyr::pivot_wider(fragile_since2020,names_from = Year, values_from = CVars_columns)\n",
        "fragile_since2020_wide\n"
      ],
      "metadata": {
        "id": "5AED05CeiCp0",
        "colab": {
          "base_uri": "https://localhost:8080/",
          "height": 1000
        },
        "outputId": "19c78027-b067-4043-b781-357b3f337ffd"
      },
      "id": "5AED05CeiCp0",
      "execution_count": null,
      "outputs": [
        {
          "output_type": "display_data",
          "data": {
            "text/html": [
              "<table class=\"dataframe\">\n",
              "<caption>A tibble: 179 × 13</caption>\n",
              "<thead>\n",
              "\t<tr><th scope=col>Country</th><th scope=col>C1_Security_Apparatus_2020</th><th scope=col>C1_Security_Apparatus_2022</th><th scope=col>C1_Security_Apparatus_2021</th><th scope=col>C1_Security_Apparatus_2023</th><th scope=col>C2_Factionalized_Elites_2020</th><th scope=col>C2_Factionalized_Elites_2022</th><th scope=col>C2_Factionalized_Elites_2021</th><th scope=col>C2_Factionalized_Elites_2023</th><th scope=col>C3_Group_Grievance_2020</th><th scope=col>C3_Group_Grievance_2022</th><th scope=col>C3_Group_Grievance_2021</th><th scope=col>C3_Group_Grievance_2023</th></tr>\n",
              "\t<tr><th scope=col>&lt;chr&gt;</th><th scope=col>&lt;dbl&gt;</th><th scope=col>&lt;dbl&gt;</th><th scope=col>&lt;dbl&gt;</th><th scope=col>&lt;dbl&gt;</th><th scope=col>&lt;dbl&gt;</th><th scope=col>&lt;dbl&gt;</th><th scope=col>&lt;dbl&gt;</th><th scope=col>&lt;dbl&gt;</th><th scope=col>&lt;dbl&gt;</th><th scope=col>&lt;dbl&gt;</th><th scope=col>&lt;dbl&gt;</th><th scope=col>&lt;dbl&gt;</th></tr>\n",
              "</thead>\n",
              "<tbody>\n",
              "\t<tr><td>Yemen                    </td><td>9.700000</td><td> 9.1</td><td> 9.4</td><td>8.6</td><td>10.000</td><td>10.0</td><td>10.0</td><td> 9.9</td><td> 9.698870</td><td>9.1</td><td>9.4</td><td>8.8</td></tr>\n",
              "\t<tr><td>Somalia                  </td><td>9.811328</td><td> 9.4</td><td> 9.3</td><td>9.5</td><td>10.000</td><td>10.0</td><td>10.0</td><td>10.0</td><td> 8.600000</td><td>8.4</td><td>8.3</td><td>8.7</td></tr>\n",
              "\t<tr><td>South Sudan              </td><td>9.400000</td><td> 9.8</td><td> 9.7</td><td>9.9</td><td> 9.700</td><td> 9.2</td><td> 9.2</td><td> 9.2</td><td> 9.100000</td><td>8.5</td><td>8.8</td><td>8.6</td></tr>\n",
              "\t<tr><td>Syria                    </td><td>9.900000</td><td> 9.5</td><td> 9.6</td><td>9.4</td><td> 9.900</td><td> 9.9</td><td> 9.9</td><td> 9.9</td><td>10.000000</td><td>9.4</td><td>9.7</td><td>9.1</td></tr>\n",
              "\t<tr><td>Congo Democratic Republic</td><td>8.500000</td><td> 8.7</td><td> 8.6</td><td>8.8</td><td> 9.800</td><td> 9.6</td><td> 9.5</td><td> 9.6</td><td> 9.700000</td><td>9.3</td><td>9.4</td><td>9.4</td></tr>\n",
              "\t<tr><td>Central African Republic </td><td>8.300000</td><td> 8.3</td><td> 8.0</td><td>8.0</td><td> 9.682</td><td> 9.7</td><td> 9.7</td><td> 9.4</td><td> 8.000000</td><td>8.4</td><td>8.1</td><td>8.1</td></tr>\n",
              "\t<tr><td>Chad                     </td><td>9.200000</td><td> 8.6</td><td> 8.9</td><td>8.7</td><td> 9.500</td><td> 9.5</td><td> 9.5</td><td> 9.5</td><td> 8.300000</td><td>8.4</td><td>8.0</td><td>8.1</td></tr>\n",
              "\t<tr><td>Sudan                    </td><td>8.377030</td><td> 8.2</td><td> 8.1</td><td>8.3</td><td> 9.400</td><td> 9.6</td><td> 9.1</td><td> 9.6</td><td> 9.399115</td><td>9.6</td><td>9.5</td><td>9.3</td></tr>\n",
              "\t<tr><td>Afghanistan              </td><td>9.932963</td><td>10.0</td><td>10.0</td><td>9.7</td><td> 8.900</td><td> 8.7</td><td> 8.6</td><td> 8.7</td><td> 7.500000</td><td>8.2</td><td>7.2</td><td>8.3</td></tr>\n",
              "\t<tr><td>Zimbabwe                 </td><td>8.500000</td><td> 8.7</td><td> 8.6</td><td>8.4</td><td>10.000</td><td> 9.9</td><td>10.0</td><td>10.0</td><td> 6.400000</td><td>5.8</td><td>6.1</td><td>5.9</td></tr>\n",
              "\t<tr><td>Burundi                  </td><td>8.300000</td><td> 7.7</td><td> 8.0</td><td>7.8</td><td> 7.900</td><td> 8.5</td><td> 8.2</td><td> 8.5</td><td> 7.600000</td><td>7.0</td><td>7.3</td><td>6.7</td></tr>\n",
              "\t<tr><td>Cameroon                 </td><td>8.200000</td><td> 8.4</td><td> 8.3</td><td>8.1</td><td> 9.300</td><td> 9.3</td><td> 9.3</td><td> 9.3</td><td> 8.600000</td><td>8.4</td><td>8.7</td><td>8.1</td></tr>\n",
              "\t<tr><td>Haiti                    </td><td>6.900000</td><td> 6.3</td><td> 6.6</td><td>6.8</td><td> 9.579</td><td> 9.6</td><td> 9.6</td><td> 9.7</td><td> 5.600000</td><td>5.4</td><td>5.3</td><td>5.5</td></tr>\n",
              "\t<tr><td>Nigeria                  </td><td>8.700000</td><td> 8.9</td><td> 8.8</td><td>9.0</td><td> 9.900</td><td> 9.3</td><td> 9.6</td><td> 9.6</td><td> 9.100000</td><td>8.9</td><td>8.8</td><td>8.6</td></tr>\n",
              "\t<tr><td>Guinea                   </td><td>8.300000</td><td> 9.0</td><td> 8.0</td><td>8.7</td><td> 9.600</td><td>10.0</td><td> 9.9</td><td>10.0</td><td> 9.176613</td><td>9.7</td><td>9.3</td><td>9.4</td></tr>\n",
              "\t<tr><td>Mali                     </td><td>9.500000</td><td> 9.7</td><td> 9.6</td><td>9.6</td><td> 5.700</td><td> 7.2</td><td> 6.2</td><td> 7.2</td><td> 8.400000</td><td>8.2</td><td>8.1</td><td>8.5</td></tr>\n",
              "\t<tr><td>Iraq                     </td><td>8.200000</td><td> 7.8</td><td> 7.9</td><td>7.5</td><td> 9.600</td><td> 9.6</td><td> 9.6</td><td> 9.6</td><td> 8.500000</td><td>7.9</td><td>8.2</td><td>8.0</td></tr>\n",
              "\t<tr><td>Eritrea                  </td><td>6.485431</td><td> 5.9</td><td> 6.2</td><td>6.0</td><td> 8.100</td><td> 8.7</td><td> 8.4</td><td> 8.4</td><td> 8.000000</td><td>8.6</td><td>8.3</td><td>8.7</td></tr>\n",
              "\t<tr><td>Niger                    </td><td>8.800000</td><td> 8.6</td><td> 8.9</td><td>8.3</td><td> 8.900</td><td> 9.6</td><td> 9.3</td><td> 9.6</td><td> 7.800000</td><td>7.6</td><td>7.5</td><td>7.7</td></tr>\n",
              "\t<tr><td>Libya                    </td><td>9.500000</td><td> 9.3</td><td> 9.6</td><td>9.5</td><td> 9.700</td><td> 9.1</td><td> 9.4</td><td> 9.3</td><td> 7.800000</td><td>7.2</td><td>7.5</td><td>7.3</td></tr>\n",
              "\t<tr><td>Ethiopia                 </td><td>7.900000</td><td> 8.5</td><td> 8.4</td><td>8.6</td><td> 8.900</td><td> 9.2</td><td> 9.2</td><td> 9.3</td><td> 9.000000</td><td>9.2</td><td>9.5</td><td>8.9</td></tr>\n",
              "\t<tr><td>Myanmar                  </td><td>8.800000</td><td> 9.0</td><td> 8.9</td><td>9.1</td><td> 8.000</td><td> 9.0</td><td> 8.3</td><td> 9.0</td><td> 9.800000</td><td>9.6</td><td>9.9</td><td>9.7</td></tr>\n",
              "\t<tr><td>Guinea Bissau            </td><td>8.000000</td><td> 7.4</td><td> 7.7</td><td>7.9</td><td> 9.600</td><td> 9.6</td><td> 9.6</td><td> 9.9</td><td> 4.600000</td><td>4.0</td><td>4.3</td><td>3.7</td></tr>\n",
              "\t<tr><td>Uganda                   </td><td>7.200000</td><td> 6.6</td><td> 6.9</td><td>6.3</td><td> 8.900</td><td> 8.9</td><td> 8.9</td><td> 8.9</td><td> 8.000000</td><td>7.9</td><td>7.8</td><td>7.6</td></tr>\n",
              "\t<tr><td>Pakistan                 </td><td>8.200000</td><td> 7.9</td><td> 7.9</td><td>7.6</td><td> 9.000</td><td> 9.0</td><td> 9.0</td><td> 9.3</td><td> 9.100000</td><td>8.9</td><td>8.8</td><td>9.0</td></tr>\n",
              "\t<tr><td>Congo Republic           </td><td>7.274583</td><td> 6.7</td><td> 7.0</td><td>6.4</td><td> 6.700</td><td> 6.7</td><td> 6.7</td><td> 6.7</td><td> 8.100000</td><td>8.7</td><td>8.4</td><td>8.8</td></tr>\n",
              "\t<tr><td>Mozambique               </td><td>6.849035</td><td> 7.3</td><td> 7.3</td><td>7.0</td><td> 7.100</td><td> 6.3</td><td> 6.6</td><td> 6.3</td><td> 5.300000</td><td>6.9</td><td>5.8</td><td>7.4</td></tr>\n",
              "\t<tr><td>Venezuela                </td><td>7.244253</td><td> 7.0</td><td> 7.3</td><td>6.7</td><td> 9.152</td><td> 9.4</td><td> 9.3</td><td> 9.4</td><td> 7.300000</td><td>6.7</td><td>7.0</td><td>6.4</td></tr>\n",
              "\t<tr><td>Kenya                    </td><td>7.660347</td><td> 7.1</td><td> 7.4</td><td>6.8</td><td> 8.600</td><td> 8.6</td><td> 8.6</td><td> 8.9</td><td> 8.300000</td><td>8.0</td><td>8.0</td><td>8.0</td></tr>\n",
              "\t<tr><td>North Korea              </td><td>8.300000</td><td> 7.7</td><td> 8.0</td><td>7.4</td><td> 8.500</td><td> 9.2</td><td> 8.8</td><td> 9.2</td><td> 5.500000</td><td>4.9</td><td>5.2</td><td>4.6</td></tr>\n",
              "\t<tr><td>⋮</td><td>⋮</td><td>⋮</td><td>⋮</td><td>⋮</td><td>⋮</td><td>⋮</td><td>⋮</td><td>⋮</td><td>⋮</td><td>⋮</td><td>⋮</td><td>⋮</td></tr>\n",
              "\t<tr><td>United Kingdom      </td><td>3.8000000</td><td>3.2</td><td>3.5</td><td>2.9</td><td>5.8</td><td>5.8</td><td>5.8</td><td>5.8</td><td>6.400000</td><td>6.1</td><td>6.1</td><td>6.1</td></tr>\n",
              "\t<tr><td>Slovakia            </td><td>1.5326605</td><td>0.9</td><td>1.2</td><td>1.2</td><td>5.0</td><td>4.7</td><td>4.7</td><td>4.7</td><td>6.000000</td><td>5.4</td><td>5.7</td><td>5.5</td></tr>\n",
              "\t<tr><td>United Arab Emirates</td><td>2.8000000</td><td>2.6</td><td>2.5</td><td>2.3</td><td>3.6</td><td>3.6</td><td>3.6</td><td>3.6</td><td>2.500000</td><td>2.5</td><td>2.8</td><td>2.2</td></tr>\n",
              "\t<tr><td>Mauritius           </td><td>1.5039479</td><td>1.1</td><td>1.2</td><td>1.0</td><td>3.2</td><td>3.1</td><td>3.2</td><td>3.1</td><td>4.100000</td><td>4.7</td><td>4.4</td><td>5.0</td></tr>\n",
              "\t<tr><td>Lithuania           </td><td>3.1000000</td><td>2.5</td><td>2.8</td><td>2.2</td><td>3.0</td><td>3.0</td><td>3.0</td><td>3.0</td><td>3.597544</td><td>3.0</td><td>3.3</td><td>2.7</td></tr>\n",
              "\t<tr><td>Czechia             </td><td>2.9000000</td><td>2.3</td><td>2.6</td><td>2.0</td><td>5.3</td><td>5.3</td><td>5.3</td><td>5.3</td><td>4.900000</td><td>4.3</td><td>4.6</td><td>4.0</td></tr>\n",
              "\t<tr><td>Malta               </td><td>2.7000000</td><td>2.1</td><td>2.4</td><td>1.8</td><td>2.0</td><td>2.0</td><td>2.0</td><td>2.0</td><td>3.000000</td><td>2.4</td><td>2.7</td><td>2.1</td></tr>\n",
              "\t<tr><td>Uruguay             </td><td>4.5031997</td><td>3.9</td><td>4.2</td><td>3.6</td><td>2.7</td><td>2.7</td><td>2.7</td><td>2.7</td><td>2.118165</td><td>2.3</td><td>2.4</td><td>2.3</td></tr>\n",
              "\t<tr><td>Japan               </td><td>1.9000000</td><td>1.5</td><td>1.8</td><td>1.5</td><td>2.6</td><td>2.6</td><td>2.6</td><td>2.6</td><td>2.800000</td><td>2.2</td><td>2.5</td><td>1.9</td></tr>\n",
              "\t<tr><td>South Korea         </td><td>2.4000000</td><td>1.8</td><td>2.1</td><td>1.5</td><td>3.9</td><td>3.9</td><td>3.9</td><td>3.9</td><td>2.400000</td><td>2.6</td><td>2.3</td><td>2.8</td></tr>\n",
              "\t<tr><td>France              </td><td>3.8000000</td><td>3.2</td><td>3.5</td><td>2.9</td><td>1.9</td><td>1.9</td><td>1.9</td><td>1.9</td><td>6.700000</td><td>6.7</td><td>6.4</td><td>6.4</td></tr>\n",
              "\t<tr><td>Belgium             </td><td>2.9000000</td><td>2.3</td><td>2.6</td><td>2.4</td><td>4.4</td><td>4.4</td><td>4.4</td><td>4.4</td><td>4.400000</td><td>3.8</td><td>4.1</td><td>3.5</td></tr>\n",
              "\t<tr><td>Singapore           </td><td>1.0000000</td><td>0.4</td><td>0.7</td><td>0.4</td><td>4.0</td><td>4.0</td><td>4.0</td><td>4.0</td><td>1.700000</td><td>2.5</td><td>2.2</td><td>2.8</td></tr>\n",
              "\t<tr><td>Slovenia            </td><td>0.7105729</td><td>0.3</td><td>0.5</td><td>0.3</td><td>2.0</td><td>2.0</td><td>2.0</td><td>2.0</td><td>3.900000</td><td>3.3</td><td>3.6</td><td>3.0</td></tr>\n",
              "\t<tr><td>Austria             </td><td>1.9000000</td><td>1.7</td><td>1.6</td><td>1.4</td><td>3.2</td><td>3.2</td><td>3.2</td><td>3.2</td><td>4.200000</td><td>3.6</td><td>3.9</td><td>3.3</td></tr>\n",
              "\t<tr><td>Portugal            </td><td>0.7000000</td><td>0.3</td><td>0.5</td><td>0.3</td><td>2.5</td><td>2.5</td><td>2.5</td><td>2.5</td><td>1.600000</td><td>1.0</td><td>1.3</td><td>0.7</td></tr>\n",
              "\t<tr><td>Germany             </td><td>2.6000000</td><td>2.0</td><td>2.3</td><td>2.3</td><td>2.6</td><td>2.3</td><td>2.3</td><td>2.3</td><td>4.300000</td><td>3.7</td><td>4.0</td><td>3.4</td></tr>\n",
              "\t<tr><td>Netherlands         </td><td>2.4000000</td><td>2.1</td><td>2.2</td><td>1.8</td><td>3.4</td><td>3.4</td><td>3.4</td><td>3.4</td><td>3.900000</td><td>3.3</td><td>3.6</td><td>3.0</td></tr>\n",
              "\t<tr><td>Ireland             </td><td>3.0000000</td><td>2.4</td><td>2.7</td><td>2.1</td><td>1.5</td><td>1.5</td><td>1.5</td><td>1.5</td><td>0.700000</td><td>0.6</td><td>0.5</td><td>0.5</td></tr>\n",
              "\t<tr><td>Australia           </td><td>3.0000000</td><td>2.4</td><td>2.7</td><td>2.1</td><td>1.7</td><td>1.7</td><td>1.7</td><td>1.7</td><td>3.400000</td><td>3.2</td><td>3.1</td><td>2.9</td></tr>\n",
              "\t<tr><td>Luxembourg          </td><td>1.0000000</td><td>0.4</td><td>0.7</td><td>0.4</td><td>3.4</td><td>3.4</td><td>3.4</td><td>3.4</td><td>2.400000</td><td>1.8</td><td>2.1</td><td>1.5</td></tr>\n",
              "\t<tr><td>Canada              </td><td>3.1000000</td><td>2.5</td><td>2.8</td><td>2.2</td><td>2.5</td><td>2.5</td><td>2.5</td><td>2.5</td><td>2.500000</td><td>2.3</td><td>2.2</td><td>2.0</td></tr>\n",
              "\t<tr><td>Sweden              </td><td>3.0000000</td><td>2.4</td><td>2.7</td><td>2.1</td><td>1.8</td><td>1.8</td><td>1.8</td><td>1.8</td><td>1.400000</td><td>2.0</td><td>1.7</td><td>2.3</td></tr>\n",
              "\t<tr><td>New Zealand         </td><td>1.5000000</td><td>1.7</td><td>1.4</td><td>1.6</td><td>1.4</td><td>1.4</td><td>1.4</td><td>1.4</td><td>2.900000</td><td>2.3</td><td>2.6</td><td>2.0</td></tr>\n",
              "\t<tr><td>Iceland             </td><td>1.0000000</td><td>0.4</td><td>0.7</td><td>0.4</td><td>1.8</td><td>1.8</td><td>1.8</td><td>1.8</td><td>0.700000</td><td>0.5</td><td>0.5</td><td>0.5</td></tr>\n",
              "\t<tr><td>Denmark             </td><td>1.6000000</td><td>1.4</td><td>1.7</td><td>1.1</td><td>1.4</td><td>1.4</td><td>1.4</td><td>1.4</td><td>4.000000</td><td>3.4</td><td>3.7</td><td>3.1</td></tr>\n",
              "\t<tr><td>Switzerland         </td><td>1.4000000</td><td>1.7</td><td>1.6</td><td>1.4</td><td>1.0</td><td>1.0</td><td>1.0</td><td>1.0</td><td>3.000000</td><td>2.4</td><td>2.7</td><td>2.1</td></tr>\n",
              "\t<tr><td>Norway              </td><td>1.8000000</td><td>1.5</td><td>1.8</td><td>1.4</td><td>1.1</td><td>1.1</td><td>1.1</td><td>1.1</td><td>3.600000</td><td>3.4</td><td>3.3</td><td>3.1</td></tr>\n",
              "\t<tr><td>Finland             </td><td>2.8000000</td><td>2.2</td><td>2.5</td><td>2.0</td><td>1.4</td><td>1.4</td><td>1.4</td><td>1.4</td><td>0.900000</td><td>0.3</td><td>0.6</td><td>0.3</td></tr>\n",
              "\t<tr><td>Palestine           </td><td>       NA</td><td>6.1</td><td>6.0</td><td>7.9</td><td> NA</td><td>8.9</td><td>8.9</td><td>8.6</td><td>      NA</td><td>5.3</td><td>5.0</td><td>5.8</td></tr>\n",
              "</tbody>\n",
              "</table>\n"
            ],
            "text/markdown": "\nA tibble: 179 × 13\n\n| Country &lt;chr&gt; | C1_Security_Apparatus_2020 &lt;dbl&gt; | C1_Security_Apparatus_2022 &lt;dbl&gt; | C1_Security_Apparatus_2021 &lt;dbl&gt; | C1_Security_Apparatus_2023 &lt;dbl&gt; | C2_Factionalized_Elites_2020 &lt;dbl&gt; | C2_Factionalized_Elites_2022 &lt;dbl&gt; | C2_Factionalized_Elites_2021 &lt;dbl&gt; | C2_Factionalized_Elites_2023 &lt;dbl&gt; | C3_Group_Grievance_2020 &lt;dbl&gt; | C3_Group_Grievance_2022 &lt;dbl&gt; | C3_Group_Grievance_2021 &lt;dbl&gt; | C3_Group_Grievance_2023 &lt;dbl&gt; |\n|---|---|---|---|---|---|---|---|---|---|---|---|---|\n| Yemen                     | 9.700000 |  9.1 |  9.4 | 8.6 | 10.000 | 10.0 | 10.0 |  9.9 |  9.698870 | 9.1 | 9.4 | 8.8 |\n| Somalia                   | 9.811328 |  9.4 |  9.3 | 9.5 | 10.000 | 10.0 | 10.0 | 10.0 |  8.600000 | 8.4 | 8.3 | 8.7 |\n| South Sudan               | 9.400000 |  9.8 |  9.7 | 9.9 |  9.700 |  9.2 |  9.2 |  9.2 |  9.100000 | 8.5 | 8.8 | 8.6 |\n| Syria                     | 9.900000 |  9.5 |  9.6 | 9.4 |  9.900 |  9.9 |  9.9 |  9.9 | 10.000000 | 9.4 | 9.7 | 9.1 |\n| Congo Democratic Republic | 8.500000 |  8.7 |  8.6 | 8.8 |  9.800 |  9.6 |  9.5 |  9.6 |  9.700000 | 9.3 | 9.4 | 9.4 |\n| Central African Republic  | 8.300000 |  8.3 |  8.0 | 8.0 |  9.682 |  9.7 |  9.7 |  9.4 |  8.000000 | 8.4 | 8.1 | 8.1 |\n| Chad                      | 9.200000 |  8.6 |  8.9 | 8.7 |  9.500 |  9.5 |  9.5 |  9.5 |  8.300000 | 8.4 | 8.0 | 8.1 |\n| Sudan                     | 8.377030 |  8.2 |  8.1 | 8.3 |  9.400 |  9.6 |  9.1 |  9.6 |  9.399115 | 9.6 | 9.5 | 9.3 |\n| Afghanistan               | 9.932963 | 10.0 | 10.0 | 9.7 |  8.900 |  8.7 |  8.6 |  8.7 |  7.500000 | 8.2 | 7.2 | 8.3 |\n| Zimbabwe                  | 8.500000 |  8.7 |  8.6 | 8.4 | 10.000 |  9.9 | 10.0 | 10.0 |  6.400000 | 5.8 | 6.1 | 5.9 |\n| Burundi                   | 8.300000 |  7.7 |  8.0 | 7.8 |  7.900 |  8.5 |  8.2 |  8.5 |  7.600000 | 7.0 | 7.3 | 6.7 |\n| Cameroon                  | 8.200000 |  8.4 |  8.3 | 8.1 |  9.300 |  9.3 |  9.3 |  9.3 |  8.600000 | 8.4 | 8.7 | 8.1 |\n| Haiti                     | 6.900000 |  6.3 |  6.6 | 6.8 |  9.579 |  9.6 |  9.6 |  9.7 |  5.600000 | 5.4 | 5.3 | 5.5 |\n| Nigeria                   | 8.700000 |  8.9 |  8.8 | 9.0 |  9.900 |  9.3 |  9.6 |  9.6 |  9.100000 | 8.9 | 8.8 | 8.6 |\n| Guinea                    | 8.300000 |  9.0 |  8.0 | 8.7 |  9.600 | 10.0 |  9.9 | 10.0 |  9.176613 | 9.7 | 9.3 | 9.4 |\n| Mali                      | 9.500000 |  9.7 |  9.6 | 9.6 |  5.700 |  7.2 |  6.2 |  7.2 |  8.400000 | 8.2 | 8.1 | 8.5 |\n| Iraq                      | 8.200000 |  7.8 |  7.9 | 7.5 |  9.600 |  9.6 |  9.6 |  9.6 |  8.500000 | 7.9 | 8.2 | 8.0 |\n| Eritrea                   | 6.485431 |  5.9 |  6.2 | 6.0 |  8.100 |  8.7 |  8.4 |  8.4 |  8.000000 | 8.6 | 8.3 | 8.7 |\n| Niger                     | 8.800000 |  8.6 |  8.9 | 8.3 |  8.900 |  9.6 |  9.3 |  9.6 |  7.800000 | 7.6 | 7.5 | 7.7 |\n| Libya                     | 9.500000 |  9.3 |  9.6 | 9.5 |  9.700 |  9.1 |  9.4 |  9.3 |  7.800000 | 7.2 | 7.5 | 7.3 |\n| Ethiopia                  | 7.900000 |  8.5 |  8.4 | 8.6 |  8.900 |  9.2 |  9.2 |  9.3 |  9.000000 | 9.2 | 9.5 | 8.9 |\n| Myanmar                   | 8.800000 |  9.0 |  8.9 | 9.1 |  8.000 |  9.0 |  8.3 |  9.0 |  9.800000 | 9.6 | 9.9 | 9.7 |\n| Guinea Bissau             | 8.000000 |  7.4 |  7.7 | 7.9 |  9.600 |  9.6 |  9.6 |  9.9 |  4.600000 | 4.0 | 4.3 | 3.7 |\n| Uganda                    | 7.200000 |  6.6 |  6.9 | 6.3 |  8.900 |  8.9 |  8.9 |  8.9 |  8.000000 | 7.9 | 7.8 | 7.6 |\n| Pakistan                  | 8.200000 |  7.9 |  7.9 | 7.6 |  9.000 |  9.0 |  9.0 |  9.3 |  9.100000 | 8.9 | 8.8 | 9.0 |\n| Congo Republic            | 7.274583 |  6.7 |  7.0 | 6.4 |  6.700 |  6.7 |  6.7 |  6.7 |  8.100000 | 8.7 | 8.4 | 8.8 |\n| Mozambique                | 6.849035 |  7.3 |  7.3 | 7.0 |  7.100 |  6.3 |  6.6 |  6.3 |  5.300000 | 6.9 | 5.8 | 7.4 |\n| Venezuela                 | 7.244253 |  7.0 |  7.3 | 6.7 |  9.152 |  9.4 |  9.3 |  9.4 |  7.300000 | 6.7 | 7.0 | 6.4 |\n| Kenya                     | 7.660347 |  7.1 |  7.4 | 6.8 |  8.600 |  8.6 |  8.6 |  8.9 |  8.300000 | 8.0 | 8.0 | 8.0 |\n| North Korea               | 8.300000 |  7.7 |  8.0 | 7.4 |  8.500 |  9.2 |  8.8 |  9.2 |  5.500000 | 4.9 | 5.2 | 4.6 |\n| ⋮ | ⋮ | ⋮ | ⋮ | ⋮ | ⋮ | ⋮ | ⋮ | ⋮ | ⋮ | ⋮ | ⋮ | ⋮ |\n| United Kingdom       | 3.8000000 | 3.2 | 3.5 | 2.9 | 5.8 | 5.8 | 5.8 | 5.8 | 6.400000 | 6.1 | 6.1 | 6.1 |\n| Slovakia             | 1.5326605 | 0.9 | 1.2 | 1.2 | 5.0 | 4.7 | 4.7 | 4.7 | 6.000000 | 5.4 | 5.7 | 5.5 |\n| United Arab Emirates | 2.8000000 | 2.6 | 2.5 | 2.3 | 3.6 | 3.6 | 3.6 | 3.6 | 2.500000 | 2.5 | 2.8 | 2.2 |\n| Mauritius            | 1.5039479 | 1.1 | 1.2 | 1.0 | 3.2 | 3.1 | 3.2 | 3.1 | 4.100000 | 4.7 | 4.4 | 5.0 |\n| Lithuania            | 3.1000000 | 2.5 | 2.8 | 2.2 | 3.0 | 3.0 | 3.0 | 3.0 | 3.597544 | 3.0 | 3.3 | 2.7 |\n| Czechia              | 2.9000000 | 2.3 | 2.6 | 2.0 | 5.3 | 5.3 | 5.3 | 5.3 | 4.900000 | 4.3 | 4.6 | 4.0 |\n| Malta                | 2.7000000 | 2.1 | 2.4 | 1.8 | 2.0 | 2.0 | 2.0 | 2.0 | 3.000000 | 2.4 | 2.7 | 2.1 |\n| Uruguay              | 4.5031997 | 3.9 | 4.2 | 3.6 | 2.7 | 2.7 | 2.7 | 2.7 | 2.118165 | 2.3 | 2.4 | 2.3 |\n| Japan                | 1.9000000 | 1.5 | 1.8 | 1.5 | 2.6 | 2.6 | 2.6 | 2.6 | 2.800000 | 2.2 | 2.5 | 1.9 |\n| South Korea          | 2.4000000 | 1.8 | 2.1 | 1.5 | 3.9 | 3.9 | 3.9 | 3.9 | 2.400000 | 2.6 | 2.3 | 2.8 |\n| France               | 3.8000000 | 3.2 | 3.5 | 2.9 | 1.9 | 1.9 | 1.9 | 1.9 | 6.700000 | 6.7 | 6.4 | 6.4 |\n| Belgium              | 2.9000000 | 2.3 | 2.6 | 2.4 | 4.4 | 4.4 | 4.4 | 4.4 | 4.400000 | 3.8 | 4.1 | 3.5 |\n| Singapore            | 1.0000000 | 0.4 | 0.7 | 0.4 | 4.0 | 4.0 | 4.0 | 4.0 | 1.700000 | 2.5 | 2.2 | 2.8 |\n| Slovenia             | 0.7105729 | 0.3 | 0.5 | 0.3 | 2.0 | 2.0 | 2.0 | 2.0 | 3.900000 | 3.3 | 3.6 | 3.0 |\n| Austria              | 1.9000000 | 1.7 | 1.6 | 1.4 | 3.2 | 3.2 | 3.2 | 3.2 | 4.200000 | 3.6 | 3.9 | 3.3 |\n| Portugal             | 0.7000000 | 0.3 | 0.5 | 0.3 | 2.5 | 2.5 | 2.5 | 2.5 | 1.600000 | 1.0 | 1.3 | 0.7 |\n| Germany              | 2.6000000 | 2.0 | 2.3 | 2.3 | 2.6 | 2.3 | 2.3 | 2.3 | 4.300000 | 3.7 | 4.0 | 3.4 |\n| Netherlands          | 2.4000000 | 2.1 | 2.2 | 1.8 | 3.4 | 3.4 | 3.4 | 3.4 | 3.900000 | 3.3 | 3.6 | 3.0 |\n| Ireland              | 3.0000000 | 2.4 | 2.7 | 2.1 | 1.5 | 1.5 | 1.5 | 1.5 | 0.700000 | 0.6 | 0.5 | 0.5 |\n| Australia            | 3.0000000 | 2.4 | 2.7 | 2.1 | 1.7 | 1.7 | 1.7 | 1.7 | 3.400000 | 3.2 | 3.1 | 2.9 |\n| Luxembourg           | 1.0000000 | 0.4 | 0.7 | 0.4 | 3.4 | 3.4 | 3.4 | 3.4 | 2.400000 | 1.8 | 2.1 | 1.5 |\n| Canada               | 3.1000000 | 2.5 | 2.8 | 2.2 | 2.5 | 2.5 | 2.5 | 2.5 | 2.500000 | 2.3 | 2.2 | 2.0 |\n| Sweden               | 3.0000000 | 2.4 | 2.7 | 2.1 | 1.8 | 1.8 | 1.8 | 1.8 | 1.400000 | 2.0 | 1.7 | 2.3 |\n| New Zealand          | 1.5000000 | 1.7 | 1.4 | 1.6 | 1.4 | 1.4 | 1.4 | 1.4 | 2.900000 | 2.3 | 2.6 | 2.0 |\n| Iceland              | 1.0000000 | 0.4 | 0.7 | 0.4 | 1.8 | 1.8 | 1.8 | 1.8 | 0.700000 | 0.5 | 0.5 | 0.5 |\n| Denmark              | 1.6000000 | 1.4 | 1.7 | 1.1 | 1.4 | 1.4 | 1.4 | 1.4 | 4.000000 | 3.4 | 3.7 | 3.1 |\n| Switzerland          | 1.4000000 | 1.7 | 1.6 | 1.4 | 1.0 | 1.0 | 1.0 | 1.0 | 3.000000 | 2.4 | 2.7 | 2.1 |\n| Norway               | 1.8000000 | 1.5 | 1.8 | 1.4 | 1.1 | 1.1 | 1.1 | 1.1 | 3.600000 | 3.4 | 3.3 | 3.1 |\n| Finland              | 2.8000000 | 2.2 | 2.5 | 2.0 | 1.4 | 1.4 | 1.4 | 1.4 | 0.900000 | 0.3 | 0.6 | 0.3 |\n| Palestine            |        NA | 6.1 | 6.0 | 7.9 |  NA | 8.9 | 8.9 | 8.6 |       NA | 5.3 | 5.0 | 5.8 |\n\n",
            "text/latex": "A tibble: 179 × 13\n\\begin{tabular}{lllllllllllll}\n Country & C1\\_Security\\_Apparatus\\_2020 & C1\\_Security\\_Apparatus\\_2022 & C1\\_Security\\_Apparatus\\_2021 & C1\\_Security\\_Apparatus\\_2023 & C2\\_Factionalized\\_Elites\\_2020 & C2\\_Factionalized\\_Elites\\_2022 & C2\\_Factionalized\\_Elites\\_2021 & C2\\_Factionalized\\_Elites\\_2023 & C3\\_Group\\_Grievance\\_2020 & C3\\_Group\\_Grievance\\_2022 & C3\\_Group\\_Grievance\\_2021 & C3\\_Group\\_Grievance\\_2023\\\\\n <chr> & <dbl> & <dbl> & <dbl> & <dbl> & <dbl> & <dbl> & <dbl> & <dbl> & <dbl> & <dbl> & <dbl> & <dbl>\\\\\n\\hline\n\t Yemen                     & 9.700000 &  9.1 &  9.4 & 8.6 & 10.000 & 10.0 & 10.0 &  9.9 &  9.698870 & 9.1 & 9.4 & 8.8\\\\\n\t Somalia                   & 9.811328 &  9.4 &  9.3 & 9.5 & 10.000 & 10.0 & 10.0 & 10.0 &  8.600000 & 8.4 & 8.3 & 8.7\\\\\n\t South Sudan               & 9.400000 &  9.8 &  9.7 & 9.9 &  9.700 &  9.2 &  9.2 &  9.2 &  9.100000 & 8.5 & 8.8 & 8.6\\\\\n\t Syria                     & 9.900000 &  9.5 &  9.6 & 9.4 &  9.900 &  9.9 &  9.9 &  9.9 & 10.000000 & 9.4 & 9.7 & 9.1\\\\\n\t Congo Democratic Republic & 8.500000 &  8.7 &  8.6 & 8.8 &  9.800 &  9.6 &  9.5 &  9.6 &  9.700000 & 9.3 & 9.4 & 9.4\\\\\n\t Central African Republic  & 8.300000 &  8.3 &  8.0 & 8.0 &  9.682 &  9.7 &  9.7 &  9.4 &  8.000000 & 8.4 & 8.1 & 8.1\\\\\n\t Chad                      & 9.200000 &  8.6 &  8.9 & 8.7 &  9.500 &  9.5 &  9.5 &  9.5 &  8.300000 & 8.4 & 8.0 & 8.1\\\\\n\t Sudan                     & 8.377030 &  8.2 &  8.1 & 8.3 &  9.400 &  9.6 &  9.1 &  9.6 &  9.399115 & 9.6 & 9.5 & 9.3\\\\\n\t Afghanistan               & 9.932963 & 10.0 & 10.0 & 9.7 &  8.900 &  8.7 &  8.6 &  8.7 &  7.500000 & 8.2 & 7.2 & 8.3\\\\\n\t Zimbabwe                  & 8.500000 &  8.7 &  8.6 & 8.4 & 10.000 &  9.9 & 10.0 & 10.0 &  6.400000 & 5.8 & 6.1 & 5.9\\\\\n\t Burundi                   & 8.300000 &  7.7 &  8.0 & 7.8 &  7.900 &  8.5 &  8.2 &  8.5 &  7.600000 & 7.0 & 7.3 & 6.7\\\\\n\t Cameroon                  & 8.200000 &  8.4 &  8.3 & 8.1 &  9.300 &  9.3 &  9.3 &  9.3 &  8.600000 & 8.4 & 8.7 & 8.1\\\\\n\t Haiti                     & 6.900000 &  6.3 &  6.6 & 6.8 &  9.579 &  9.6 &  9.6 &  9.7 &  5.600000 & 5.4 & 5.3 & 5.5\\\\\n\t Nigeria                   & 8.700000 &  8.9 &  8.8 & 9.0 &  9.900 &  9.3 &  9.6 &  9.6 &  9.100000 & 8.9 & 8.8 & 8.6\\\\\n\t Guinea                    & 8.300000 &  9.0 &  8.0 & 8.7 &  9.600 & 10.0 &  9.9 & 10.0 &  9.176613 & 9.7 & 9.3 & 9.4\\\\\n\t Mali                      & 9.500000 &  9.7 &  9.6 & 9.6 &  5.700 &  7.2 &  6.2 &  7.2 &  8.400000 & 8.2 & 8.1 & 8.5\\\\\n\t Iraq                      & 8.200000 &  7.8 &  7.9 & 7.5 &  9.600 &  9.6 &  9.6 &  9.6 &  8.500000 & 7.9 & 8.2 & 8.0\\\\\n\t Eritrea                   & 6.485431 &  5.9 &  6.2 & 6.0 &  8.100 &  8.7 &  8.4 &  8.4 &  8.000000 & 8.6 & 8.3 & 8.7\\\\\n\t Niger                     & 8.800000 &  8.6 &  8.9 & 8.3 &  8.900 &  9.6 &  9.3 &  9.6 &  7.800000 & 7.6 & 7.5 & 7.7\\\\\n\t Libya                     & 9.500000 &  9.3 &  9.6 & 9.5 &  9.700 &  9.1 &  9.4 &  9.3 &  7.800000 & 7.2 & 7.5 & 7.3\\\\\n\t Ethiopia                  & 7.900000 &  8.5 &  8.4 & 8.6 &  8.900 &  9.2 &  9.2 &  9.3 &  9.000000 & 9.2 & 9.5 & 8.9\\\\\n\t Myanmar                   & 8.800000 &  9.0 &  8.9 & 9.1 &  8.000 &  9.0 &  8.3 &  9.0 &  9.800000 & 9.6 & 9.9 & 9.7\\\\\n\t Guinea Bissau             & 8.000000 &  7.4 &  7.7 & 7.9 &  9.600 &  9.6 &  9.6 &  9.9 &  4.600000 & 4.0 & 4.3 & 3.7\\\\\n\t Uganda                    & 7.200000 &  6.6 &  6.9 & 6.3 &  8.900 &  8.9 &  8.9 &  8.9 &  8.000000 & 7.9 & 7.8 & 7.6\\\\\n\t Pakistan                  & 8.200000 &  7.9 &  7.9 & 7.6 &  9.000 &  9.0 &  9.0 &  9.3 &  9.100000 & 8.9 & 8.8 & 9.0\\\\\n\t Congo Republic            & 7.274583 &  6.7 &  7.0 & 6.4 &  6.700 &  6.7 &  6.7 &  6.7 &  8.100000 & 8.7 & 8.4 & 8.8\\\\\n\t Mozambique                & 6.849035 &  7.3 &  7.3 & 7.0 &  7.100 &  6.3 &  6.6 &  6.3 &  5.300000 & 6.9 & 5.8 & 7.4\\\\\n\t Venezuela                 & 7.244253 &  7.0 &  7.3 & 6.7 &  9.152 &  9.4 &  9.3 &  9.4 &  7.300000 & 6.7 & 7.0 & 6.4\\\\\n\t Kenya                     & 7.660347 &  7.1 &  7.4 & 6.8 &  8.600 &  8.6 &  8.6 &  8.9 &  8.300000 & 8.0 & 8.0 & 8.0\\\\\n\t North Korea               & 8.300000 &  7.7 &  8.0 & 7.4 &  8.500 &  9.2 &  8.8 &  9.2 &  5.500000 & 4.9 & 5.2 & 4.6\\\\\n\t ⋮ & ⋮ & ⋮ & ⋮ & ⋮ & ⋮ & ⋮ & ⋮ & ⋮ & ⋮ & ⋮ & ⋮ & ⋮\\\\\n\t United Kingdom       & 3.8000000 & 3.2 & 3.5 & 2.9 & 5.8 & 5.8 & 5.8 & 5.8 & 6.400000 & 6.1 & 6.1 & 6.1\\\\\n\t Slovakia             & 1.5326605 & 0.9 & 1.2 & 1.2 & 5.0 & 4.7 & 4.7 & 4.7 & 6.000000 & 5.4 & 5.7 & 5.5\\\\\n\t United Arab Emirates & 2.8000000 & 2.6 & 2.5 & 2.3 & 3.6 & 3.6 & 3.6 & 3.6 & 2.500000 & 2.5 & 2.8 & 2.2\\\\\n\t Mauritius            & 1.5039479 & 1.1 & 1.2 & 1.0 & 3.2 & 3.1 & 3.2 & 3.1 & 4.100000 & 4.7 & 4.4 & 5.0\\\\\n\t Lithuania            & 3.1000000 & 2.5 & 2.8 & 2.2 & 3.0 & 3.0 & 3.0 & 3.0 & 3.597544 & 3.0 & 3.3 & 2.7\\\\\n\t Czechia              & 2.9000000 & 2.3 & 2.6 & 2.0 & 5.3 & 5.3 & 5.3 & 5.3 & 4.900000 & 4.3 & 4.6 & 4.0\\\\\n\t Malta                & 2.7000000 & 2.1 & 2.4 & 1.8 & 2.0 & 2.0 & 2.0 & 2.0 & 3.000000 & 2.4 & 2.7 & 2.1\\\\\n\t Uruguay              & 4.5031997 & 3.9 & 4.2 & 3.6 & 2.7 & 2.7 & 2.7 & 2.7 & 2.118165 & 2.3 & 2.4 & 2.3\\\\\n\t Japan                & 1.9000000 & 1.5 & 1.8 & 1.5 & 2.6 & 2.6 & 2.6 & 2.6 & 2.800000 & 2.2 & 2.5 & 1.9\\\\\n\t South Korea          & 2.4000000 & 1.8 & 2.1 & 1.5 & 3.9 & 3.9 & 3.9 & 3.9 & 2.400000 & 2.6 & 2.3 & 2.8\\\\\n\t France               & 3.8000000 & 3.2 & 3.5 & 2.9 & 1.9 & 1.9 & 1.9 & 1.9 & 6.700000 & 6.7 & 6.4 & 6.4\\\\\n\t Belgium              & 2.9000000 & 2.3 & 2.6 & 2.4 & 4.4 & 4.4 & 4.4 & 4.4 & 4.400000 & 3.8 & 4.1 & 3.5\\\\\n\t Singapore            & 1.0000000 & 0.4 & 0.7 & 0.4 & 4.0 & 4.0 & 4.0 & 4.0 & 1.700000 & 2.5 & 2.2 & 2.8\\\\\n\t Slovenia             & 0.7105729 & 0.3 & 0.5 & 0.3 & 2.0 & 2.0 & 2.0 & 2.0 & 3.900000 & 3.3 & 3.6 & 3.0\\\\\n\t Austria              & 1.9000000 & 1.7 & 1.6 & 1.4 & 3.2 & 3.2 & 3.2 & 3.2 & 4.200000 & 3.6 & 3.9 & 3.3\\\\\n\t Portugal             & 0.7000000 & 0.3 & 0.5 & 0.3 & 2.5 & 2.5 & 2.5 & 2.5 & 1.600000 & 1.0 & 1.3 & 0.7\\\\\n\t Germany              & 2.6000000 & 2.0 & 2.3 & 2.3 & 2.6 & 2.3 & 2.3 & 2.3 & 4.300000 & 3.7 & 4.0 & 3.4\\\\\n\t Netherlands          & 2.4000000 & 2.1 & 2.2 & 1.8 & 3.4 & 3.4 & 3.4 & 3.4 & 3.900000 & 3.3 & 3.6 & 3.0\\\\\n\t Ireland              & 3.0000000 & 2.4 & 2.7 & 2.1 & 1.5 & 1.5 & 1.5 & 1.5 & 0.700000 & 0.6 & 0.5 & 0.5\\\\\n\t Australia            & 3.0000000 & 2.4 & 2.7 & 2.1 & 1.7 & 1.7 & 1.7 & 1.7 & 3.400000 & 3.2 & 3.1 & 2.9\\\\\n\t Luxembourg           & 1.0000000 & 0.4 & 0.7 & 0.4 & 3.4 & 3.4 & 3.4 & 3.4 & 2.400000 & 1.8 & 2.1 & 1.5\\\\\n\t Canada               & 3.1000000 & 2.5 & 2.8 & 2.2 & 2.5 & 2.5 & 2.5 & 2.5 & 2.500000 & 2.3 & 2.2 & 2.0\\\\\n\t Sweden               & 3.0000000 & 2.4 & 2.7 & 2.1 & 1.8 & 1.8 & 1.8 & 1.8 & 1.400000 & 2.0 & 1.7 & 2.3\\\\\n\t New Zealand          & 1.5000000 & 1.7 & 1.4 & 1.6 & 1.4 & 1.4 & 1.4 & 1.4 & 2.900000 & 2.3 & 2.6 & 2.0\\\\\n\t Iceland              & 1.0000000 & 0.4 & 0.7 & 0.4 & 1.8 & 1.8 & 1.8 & 1.8 & 0.700000 & 0.5 & 0.5 & 0.5\\\\\n\t Denmark              & 1.6000000 & 1.4 & 1.7 & 1.1 & 1.4 & 1.4 & 1.4 & 1.4 & 4.000000 & 3.4 & 3.7 & 3.1\\\\\n\t Switzerland          & 1.4000000 & 1.7 & 1.6 & 1.4 & 1.0 & 1.0 & 1.0 & 1.0 & 3.000000 & 2.4 & 2.7 & 2.1\\\\\n\t Norway               & 1.8000000 & 1.5 & 1.8 & 1.4 & 1.1 & 1.1 & 1.1 & 1.1 & 3.600000 & 3.4 & 3.3 & 3.1\\\\\n\t Finland              & 2.8000000 & 2.2 & 2.5 & 2.0 & 1.4 & 1.4 & 1.4 & 1.4 & 0.900000 & 0.3 & 0.6 & 0.3\\\\\n\t Palestine            &        NA & 6.1 & 6.0 & 7.9 &  NA & 8.9 & 8.9 & 8.6 &       NA & 5.3 & 5.0 & 5.8\\\\\n\\end{tabular}\n",
            "text/plain": [
              "    Country                   C1_Security_Apparatus_2020\n",
              "1   Yemen                     9.700000                  \n",
              "2   Somalia                   9.811328                  \n",
              "3   South Sudan               9.400000                  \n",
              "4   Syria                     9.900000                  \n",
              "5   Congo Democratic Republic 8.500000                  \n",
              "6   Central African Republic  8.300000                  \n",
              "7   Chad                      9.200000                  \n",
              "8   Sudan                     8.377030                  \n",
              "9   Afghanistan               9.932963                  \n",
              "10  Zimbabwe                  8.500000                  \n",
              "11  Burundi                   8.300000                  \n",
              "12  Cameroon                  8.200000                  \n",
              "13  Haiti                     6.900000                  \n",
              "14  Nigeria                   8.700000                  \n",
              "15  Guinea                    8.300000                  \n",
              "16  Mali                      9.500000                  \n",
              "17  Iraq                      8.200000                  \n",
              "18  Eritrea                   6.485431                  \n",
              "19  Niger                     8.800000                  \n",
              "20  Libya                     9.500000                  \n",
              "21  Ethiopia                  7.900000                  \n",
              "22  Myanmar                   8.800000                  \n",
              "23  Guinea Bissau             8.000000                  \n",
              "24  Uganda                    7.200000                  \n",
              "25  Pakistan                  8.200000                  \n",
              "26  Congo Republic            7.274583                  \n",
              "27  Mozambique                6.849035                  \n",
              "28  Venezuela                 7.244253                  \n",
              "29  Kenya                     7.660347                  \n",
              "30  North Korea               8.300000                  \n",
              "⋮   ⋮                         ⋮                         \n",
              "150 United Kingdom            3.8000000                 \n",
              "151 Slovakia                  1.5326605                 \n",
              "152 United Arab Emirates      2.8000000                 \n",
              "153 Mauritius                 1.5039479                 \n",
              "154 Lithuania                 3.1000000                 \n",
              "155 Czechia                   2.9000000                 \n",
              "156 Malta                     2.7000000                 \n",
              "157 Uruguay                   4.5031997                 \n",
              "158 Japan                     1.9000000                 \n",
              "159 South Korea               2.4000000                 \n",
              "160 France                    3.8000000                 \n",
              "161 Belgium                   2.9000000                 \n",
              "162 Singapore                 1.0000000                 \n",
              "163 Slovenia                  0.7105729                 \n",
              "164 Austria                   1.9000000                 \n",
              "165 Portugal                  0.7000000                 \n",
              "166 Germany                   2.6000000                 \n",
              "167 Netherlands               2.4000000                 \n",
              "168 Ireland                   3.0000000                 \n",
              "169 Australia                 3.0000000                 \n",
              "170 Luxembourg                1.0000000                 \n",
              "171 Canada                    3.1000000                 \n",
              "172 Sweden                    3.0000000                 \n",
              "173 New Zealand               1.5000000                 \n",
              "174 Iceland                   1.0000000                 \n",
              "175 Denmark                   1.6000000                 \n",
              "176 Switzerland               1.4000000                 \n",
              "177 Norway                    1.8000000                 \n",
              "178 Finland                   2.8000000                 \n",
              "179 Palestine                        NA                 \n",
              "    C1_Security_Apparatus_2022 C1_Security_Apparatus_2021\n",
              "1    9.1                        9.4                      \n",
              "2    9.4                        9.3                      \n",
              "3    9.8                        9.7                      \n",
              "4    9.5                        9.6                      \n",
              "5    8.7                        8.6                      \n",
              "6    8.3                        8.0                      \n",
              "7    8.6                        8.9                      \n",
              "8    8.2                        8.1                      \n",
              "9   10.0                       10.0                      \n",
              "10   8.7                        8.6                      \n",
              "11   7.7                        8.0                      \n",
              "12   8.4                        8.3                      \n",
              "13   6.3                        6.6                      \n",
              "14   8.9                        8.8                      \n",
              "15   9.0                        8.0                      \n",
              "16   9.7                        9.6                      \n",
              "17   7.8                        7.9                      \n",
              "18   5.9                        6.2                      \n",
              "19   8.6                        8.9                      \n",
              "20   9.3                        9.6                      \n",
              "21   8.5                        8.4                      \n",
              "22   9.0                        8.9                      \n",
              "23   7.4                        7.7                      \n",
              "24   6.6                        6.9                      \n",
              "25   7.9                        7.9                      \n",
              "26   6.7                        7.0                      \n",
              "27   7.3                        7.3                      \n",
              "28   7.0                        7.3                      \n",
              "29   7.1                        7.4                      \n",
              "30   7.7                        8.0                      \n",
              "⋮   ⋮                          ⋮                         \n",
              "150 3.2                        3.5                       \n",
              "151 0.9                        1.2                       \n",
              "152 2.6                        2.5                       \n",
              "153 1.1                        1.2                       \n",
              "154 2.5                        2.8                       \n",
              "155 2.3                        2.6                       \n",
              "156 2.1                        2.4                       \n",
              "157 3.9                        4.2                       \n",
              "158 1.5                        1.8                       \n",
              "159 1.8                        2.1                       \n",
              "160 3.2                        3.5                       \n",
              "161 2.3                        2.6                       \n",
              "162 0.4                        0.7                       \n",
              "163 0.3                        0.5                       \n",
              "164 1.7                        1.6                       \n",
              "165 0.3                        0.5                       \n",
              "166 2.0                        2.3                       \n",
              "167 2.1                        2.2                       \n",
              "168 2.4                        2.7                       \n",
              "169 2.4                        2.7                       \n",
              "170 0.4                        0.7                       \n",
              "171 2.5                        2.8                       \n",
              "172 2.4                        2.7                       \n",
              "173 1.7                        1.4                       \n",
              "174 0.4                        0.7                       \n",
              "175 1.4                        1.7                       \n",
              "176 1.7                        1.6                       \n",
              "177 1.5                        1.8                       \n",
              "178 2.2                        2.5                       \n",
              "179 6.1                        6.0                       \n",
              "    C1_Security_Apparatus_2023 C2_Factionalized_Elites_2020\n",
              "1   8.6                        10.000                      \n",
              "2   9.5                        10.000                      \n",
              "3   9.9                         9.700                      \n",
              "4   9.4                         9.900                      \n",
              "5   8.8                         9.800                      \n",
              "6   8.0                         9.682                      \n",
              "7   8.7                         9.500                      \n",
              "8   8.3                         9.400                      \n",
              "9   9.7                         8.900                      \n",
              "10  8.4                        10.000                      \n",
              "11  7.8                         7.900                      \n",
              "12  8.1                         9.300                      \n",
              "13  6.8                         9.579                      \n",
              "14  9.0                         9.900                      \n",
              "15  8.7                         9.600                      \n",
              "16  9.6                         5.700                      \n",
              "17  7.5                         9.600                      \n",
              "18  6.0                         8.100                      \n",
              "19  8.3                         8.900                      \n",
              "20  9.5                         9.700                      \n",
              "21  8.6                         8.900                      \n",
              "22  9.1                         8.000                      \n",
              "23  7.9                         9.600                      \n",
              "24  6.3                         8.900                      \n",
              "25  7.6                         9.000                      \n",
              "26  6.4                         6.700                      \n",
              "27  7.0                         7.100                      \n",
              "28  6.7                         9.152                      \n",
              "29  6.8                         8.600                      \n",
              "30  7.4                         8.500                      \n",
              "⋮   ⋮                          ⋮                           \n",
              "150 2.9                        5.8                         \n",
              "151 1.2                        5.0                         \n",
              "152 2.3                        3.6                         \n",
              "153 1.0                        3.2                         \n",
              "154 2.2                        3.0                         \n",
              "155 2.0                        5.3                         \n",
              "156 1.8                        2.0                         \n",
              "157 3.6                        2.7                         \n",
              "158 1.5                        2.6                         \n",
              "159 1.5                        3.9                         \n",
              "160 2.9                        1.9                         \n",
              "161 2.4                        4.4                         \n",
              "162 0.4                        4.0                         \n",
              "163 0.3                        2.0                         \n",
              "164 1.4                        3.2                         \n",
              "165 0.3                        2.5                         \n",
              "166 2.3                        2.6                         \n",
              "167 1.8                        3.4                         \n",
              "168 2.1                        1.5                         \n",
              "169 2.1                        1.7                         \n",
              "170 0.4                        3.4                         \n",
              "171 2.2                        2.5                         \n",
              "172 2.1                        1.8                         \n",
              "173 1.6                        1.4                         \n",
              "174 0.4                        1.8                         \n",
              "175 1.1                        1.4                         \n",
              "176 1.4                        1.0                         \n",
              "177 1.4                        1.1                         \n",
              "178 2.0                        1.4                         \n",
              "179 7.9                         NA                         \n",
              "    C2_Factionalized_Elites_2022 C2_Factionalized_Elites_2021\n",
              "1   10.0                         10.0                        \n",
              "2   10.0                         10.0                        \n",
              "3    9.2                          9.2                        \n",
              "4    9.9                          9.9                        \n",
              "5    9.6                          9.5                        \n",
              "6    9.7                          9.7                        \n",
              "7    9.5                          9.5                        \n",
              "8    9.6                          9.1                        \n",
              "9    8.7                          8.6                        \n",
              "10   9.9                         10.0                        \n",
              "11   8.5                          8.2                        \n",
              "12   9.3                          9.3                        \n",
              "13   9.6                          9.6                        \n",
              "14   9.3                          9.6                        \n",
              "15  10.0                          9.9                        \n",
              "16   7.2                          6.2                        \n",
              "17   9.6                          9.6                        \n",
              "18   8.7                          8.4                        \n",
              "19   9.6                          9.3                        \n",
              "20   9.1                          9.4                        \n",
              "21   9.2                          9.2                        \n",
              "22   9.0                          8.3                        \n",
              "23   9.6                          9.6                        \n",
              "24   8.9                          8.9                        \n",
              "25   9.0                          9.0                        \n",
              "26   6.7                          6.7                        \n",
              "27   6.3                          6.6                        \n",
              "28   9.4                          9.3                        \n",
              "29   8.6                          8.6                        \n",
              "30   9.2                          8.8                        \n",
              "⋮   ⋮                            ⋮                           \n",
              "150 5.8                          5.8                         \n",
              "151 4.7                          4.7                         \n",
              "152 3.6                          3.6                         \n",
              "153 3.1                          3.2                         \n",
              "154 3.0                          3.0                         \n",
              "155 5.3                          5.3                         \n",
              "156 2.0                          2.0                         \n",
              "157 2.7                          2.7                         \n",
              "158 2.6                          2.6                         \n",
              "159 3.9                          3.9                         \n",
              "160 1.9                          1.9                         \n",
              "161 4.4                          4.4                         \n",
              "162 4.0                          4.0                         \n",
              "163 2.0                          2.0                         \n",
              "164 3.2                          3.2                         \n",
              "165 2.5                          2.5                         \n",
              "166 2.3                          2.3                         \n",
              "167 3.4                          3.4                         \n",
              "168 1.5                          1.5                         \n",
              "169 1.7                          1.7                         \n",
              "170 3.4                          3.4                         \n",
              "171 2.5                          2.5                         \n",
              "172 1.8                          1.8                         \n",
              "173 1.4                          1.4                         \n",
              "174 1.8                          1.8                         \n",
              "175 1.4                          1.4                         \n",
              "176 1.0                          1.0                         \n",
              "177 1.1                          1.1                         \n",
              "178 1.4                          1.4                         \n",
              "179 8.9                          8.9                         \n",
              "    C2_Factionalized_Elites_2023 C3_Group_Grievance_2020\n",
              "1    9.9                          9.698870              \n",
              "2   10.0                          8.600000              \n",
              "3    9.2                          9.100000              \n",
              "4    9.9                         10.000000              \n",
              "5    9.6                          9.700000              \n",
              "6    9.4                          8.000000              \n",
              "7    9.5                          8.300000              \n",
              "8    9.6                          9.399115              \n",
              "9    8.7                          7.500000              \n",
              "10  10.0                          6.400000              \n",
              "11   8.5                          7.600000              \n",
              "12   9.3                          8.600000              \n",
              "13   9.7                          5.600000              \n",
              "14   9.6                          9.100000              \n",
              "15  10.0                          9.176613              \n",
              "16   7.2                          8.400000              \n",
              "17   9.6                          8.500000              \n",
              "18   8.4                          8.000000              \n",
              "19   9.6                          7.800000              \n",
              "20   9.3                          7.800000              \n",
              "21   9.3                          9.000000              \n",
              "22   9.0                          9.800000              \n",
              "23   9.9                          4.600000              \n",
              "24   8.9                          8.000000              \n",
              "25   9.3                          9.100000              \n",
              "26   6.7                          8.100000              \n",
              "27   6.3                          5.300000              \n",
              "28   9.4                          7.300000              \n",
              "29   8.9                          8.300000              \n",
              "30   9.2                          5.500000              \n",
              "⋮   ⋮                            ⋮                      \n",
              "150 5.8                          6.400000               \n",
              "151 4.7                          6.000000               \n",
              "152 3.6                          2.500000               \n",
              "153 3.1                          4.100000               \n",
              "154 3.0                          3.597544               \n",
              "155 5.3                          4.900000               \n",
              "156 2.0                          3.000000               \n",
              "157 2.7                          2.118165               \n",
              "158 2.6                          2.800000               \n",
              "159 3.9                          2.400000               \n",
              "160 1.9                          6.700000               \n",
              "161 4.4                          4.400000               \n",
              "162 4.0                          1.700000               \n",
              "163 2.0                          3.900000               \n",
              "164 3.2                          4.200000               \n",
              "165 2.5                          1.600000               \n",
              "166 2.3                          4.300000               \n",
              "167 3.4                          3.900000               \n",
              "168 1.5                          0.700000               \n",
              "169 1.7                          3.400000               \n",
              "170 3.4                          2.400000               \n",
              "171 2.5                          2.500000               \n",
              "172 1.8                          1.400000               \n",
              "173 1.4                          2.900000               \n",
              "174 1.8                          0.700000               \n",
              "175 1.4                          4.000000               \n",
              "176 1.0                          3.000000               \n",
              "177 1.1                          3.600000               \n",
              "178 1.4                          0.900000               \n",
              "179 8.6                                NA               \n",
              "    C3_Group_Grievance_2022 C3_Group_Grievance_2021 C3_Group_Grievance_2023\n",
              "1   9.1                     9.4                     8.8                    \n",
              "2   8.4                     8.3                     8.7                    \n",
              "3   8.5                     8.8                     8.6                    \n",
              "4   9.4                     9.7                     9.1                    \n",
              "5   9.3                     9.4                     9.4                    \n",
              "6   8.4                     8.1                     8.1                    \n",
              "7   8.4                     8.0                     8.1                    \n",
              "8   9.6                     9.5                     9.3                    \n",
              "9   8.2                     7.2                     8.3                    \n",
              "10  5.8                     6.1                     5.9                    \n",
              "11  7.0                     7.3                     6.7                    \n",
              "12  8.4                     8.7                     8.1                    \n",
              "13  5.4                     5.3                     5.5                    \n",
              "14  8.9                     8.8                     8.6                    \n",
              "15  9.7                     9.3                     9.4                    \n",
              "16  8.2                     8.1                     8.5                    \n",
              "17  7.9                     8.2                     8.0                    \n",
              "18  8.6                     8.3                     8.7                    \n",
              "19  7.6                     7.5                     7.7                    \n",
              "20  7.2                     7.5                     7.3                    \n",
              "21  9.2                     9.5                     8.9                    \n",
              "22  9.6                     9.9                     9.7                    \n",
              "23  4.0                     4.3                     3.7                    \n",
              "24  7.9                     7.8                     7.6                    \n",
              "25  8.9                     8.8                     9.0                    \n",
              "26  8.7                     8.4                     8.8                    \n",
              "27  6.9                     5.8                     7.4                    \n",
              "28  6.7                     7.0                     6.4                    \n",
              "29  8.0                     8.0                     8.0                    \n",
              "30  4.9                     5.2                     4.6                    \n",
              "⋮   ⋮                       ⋮                       ⋮                      \n",
              "150 6.1                     6.1                     6.1                    \n",
              "151 5.4                     5.7                     5.5                    \n",
              "152 2.5                     2.8                     2.2                    \n",
              "153 4.7                     4.4                     5.0                    \n",
              "154 3.0                     3.3                     2.7                    \n",
              "155 4.3                     4.6                     4.0                    \n",
              "156 2.4                     2.7                     2.1                    \n",
              "157 2.3                     2.4                     2.3                    \n",
              "158 2.2                     2.5                     1.9                    \n",
              "159 2.6                     2.3                     2.8                    \n",
              "160 6.7                     6.4                     6.4                    \n",
              "161 3.8                     4.1                     3.5                    \n",
              "162 2.5                     2.2                     2.8                    \n",
              "163 3.3                     3.6                     3.0                    \n",
              "164 3.6                     3.9                     3.3                    \n",
              "165 1.0                     1.3                     0.7                    \n",
              "166 3.7                     4.0                     3.4                    \n",
              "167 3.3                     3.6                     3.0                    \n",
              "168 0.6                     0.5                     0.5                    \n",
              "169 3.2                     3.1                     2.9                    \n",
              "170 1.8                     2.1                     1.5                    \n",
              "171 2.3                     2.2                     2.0                    \n",
              "172 2.0                     1.7                     2.3                    \n",
              "173 2.3                     2.6                     2.0                    \n",
              "174 0.5                     0.5                     0.5                    \n",
              "175 3.4                     3.7                     3.1                    \n",
              "176 2.4                     2.7                     2.1                    \n",
              "177 3.4                     3.3                     3.1                    \n",
              "178 0.3                     0.6                     0.3                    \n",
              "179 5.3                     5.0                     5.8                    "
            ]
          },
          "metadata": {}
        }
      ]
    },
    {
      "cell_type": "markdown",
      "source": [
        "As you saw, the conversion into the wide format changed the column names."
      ],
      "metadata": {
        "id": "bT1HGy5NGYcy"
      },
      "id": "bT1HGy5NGYcy"
    },
    {
      "cell_type": "code",
      "source": [
        "#save your work!\n",
        "write.csv(fragile_since2020_wide,'fragile_since2020_wide.csv', row.names=F )"
      ],
      "metadata": {
        "id": "0DawvNQh7IOk"
      },
      "id": "0DawvNQh7IOk",
      "execution_count": null,
      "outputs": []
    },
    {
      "cell_type": "markdown",
      "source": [
        "Now, sending the wide columns next to the long column:"
      ],
      "metadata": {
        "id": "ZnaSMh488I1T"
      },
      "id": "ZnaSMh488I1T"
    },
    {
      "cell_type": "code",
      "source": [
        "fragile_since2020_long=tidyr::pivot_longer(fragile_since2020,!c(Country,Year),names_to = \"CVars_name\", values_to = \"CVars_value\")\n",
        "fragile_since2020_long"
      ],
      "metadata": {
        "id": "Hjo2mi8TiQ0s"
      },
      "id": "Hjo2mi8TiQ0s",
      "execution_count": null,
      "outputs": []
    }
  ],
  "metadata": {
    "kernelspec": {
      "display_name": "R",
      "name": "ir"
    },
    "language_info": {
      "name": "R"
    },
    "colab": {
      "provenance": []
    }
  },
  "nbformat": 4,
  "nbformat_minor": 5
}