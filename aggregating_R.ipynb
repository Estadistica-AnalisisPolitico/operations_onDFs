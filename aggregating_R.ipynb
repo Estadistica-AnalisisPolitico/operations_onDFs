{
  "nbformat": 4,
  "nbformat_minor": 0,
  "metadata": {
    "colab": {
      "provenance": []
    },
    "kernelspec": {
      "name": "ir",
      "display_name": "R"
    },
    "language_info": {
      "name": "R"
    }
  },
  "cells": [
    {
      "cell_type": "markdown",
      "source": [
        "Let's bring some data of COVID from Brazil:"
      ],
      "metadata": {
        "id": "ydhjHVPeL8NB"
      }
    },
    {
      "cell_type": "code",
      "source": [
        "linkCovid1='https://github.com/DACSS-PreProcessing/DFaggregating/raw/refs/heads/main/datafiles/HIST_PAINEL_COVIDBR_2022_Parte1_20jul2022.csv'\n",
        "linkCovid2='https://github.com/DACSS-PreProcessing/DFaggregating/raw/refs/heads/main/datafiles/HIST_PAINEL_COVIDBR_2022_Parte2_20jul2022.csv'\n",
        "dataCovid1=read.csv(linkCovid1,sep = ';')\n",
        "dataCovid2=read.csv(linkCovid2,sep = ';')\n"
      ],
      "metadata": {
        "id": "JAccLGgNcQUG"
      },
      "execution_count": 1,
      "outputs": []
    },
    {
      "cell_type": "markdown",
      "source": [
        "Let's concatenate both data frames:"
      ],
      "metadata": {
        "id": "B4fghWWIMCqn"
      }
    },
    {
      "cell_type": "code",
      "source": [
        "dataCovid=do.call(rbind,list(dataCovid1, dataCovid2))"
      ],
      "metadata": {
        "id": "7bhJFqVPmu_q"
      },
      "execution_count": 2,
      "outputs": []
    },
    {
      "cell_type": "code",
      "source": [
        "dataCovid$data=strptime(dataCovid$data, \"%Y-%m-%d\")\n",
        "dataCovid$day=format(dataCovid$data,\"%d\")\n",
        "dataCovid$year=format(dataCovid$data,\"%Y\")\n",
        "dataCovid$month=format(dataCovid$data,\"%m\")\n",
        "head(dataCovid)"
      ],
      "metadata": {
        "colab": {
          "base_uri": "https://localhost:8080/",
          "height": 410
        },
        "id": "1lEnAhYX0Xwx",
        "outputId": "6e6d1828-00c8-4eff-9be1-5263f2371c17"
      },
      "execution_count": 4,
      "outputs": [
        {
          "output_type": "display_data",
          "data": {
            "text/html": [
              "<table class=\"dataframe\">\n",
              "<caption>A data.frame: 6 × 20</caption>\n",
              "<thead>\n",
              "\t<tr><th></th><th scope=col>regiao</th><th scope=col>estado</th><th scope=col>municipio</th><th scope=col>coduf</th><th scope=col>codmun</th><th scope=col>codRegiaoSaude</th><th scope=col>nomeRegiaoSaude</th><th scope=col>data</th><th scope=col>semanaEpi</th><th scope=col>populacaoTCU2019</th><th scope=col>casosAcumulado</th><th scope=col>casosNovos</th><th scope=col>obitosAcumulado</th><th scope=col>obitosNovos</th><th scope=col>Recuperadosnovos</th><th scope=col>emAcompanhamentoNovos</th><th scope=col>interior.metropolitana</th><th scope=col>day</th><th scope=col>year</th><th scope=col>month</th></tr>\n",
              "\t<tr><th></th><th scope=col>&lt;chr&gt;</th><th scope=col>&lt;chr&gt;</th><th scope=col>&lt;chr&gt;</th><th scope=col>&lt;int&gt;</th><th scope=col>&lt;int&gt;</th><th scope=col>&lt;int&gt;</th><th scope=col>&lt;chr&gt;</th><th scope=col>&lt;dttm&gt;</th><th scope=col>&lt;int&gt;</th><th scope=col>&lt;int&gt;</th><th scope=col>&lt;dbl&gt;</th><th scope=col>&lt;int&gt;</th><th scope=col>&lt;int&gt;</th><th scope=col>&lt;int&gt;</th><th scope=col>&lt;int&gt;</th><th scope=col>&lt;int&gt;</th><th scope=col>&lt;int&gt;</th><th scope=col>&lt;chr&gt;</th><th scope=col>&lt;chr&gt;</th><th scope=col>&lt;chr&gt;</th></tr>\n",
              "</thead>\n",
              "<tbody>\n",
              "\t<tr><th scope=row>1</th><td>Brasil</td><td></td><td></td><td>76</td><td>NA</td><td>NA</td><td></td><td>2022-01-01</td><td>52</td><td>210147125</td><td>22291507</td><td> 3986</td><td>619105</td><td> 49</td><td>21581668</td><td> 90734</td><td>NA</td><td>01</td><td>2022</td><td>01</td></tr>\n",
              "\t<tr><th scope=row>2</th><td>Brasil</td><td></td><td></td><td>76</td><td>NA</td><td>NA</td><td></td><td>2022-01-02</td><td> 1</td><td>210147125</td><td>22293228</td><td> 1721</td><td>619133</td><td> 28</td><td>21581717</td><td> 92378</td><td>NA</td><td>02</td><td>2022</td><td>01</td></tr>\n",
              "\t<tr><th scope=row>3</th><td>Brasil</td><td></td><td></td><td>76</td><td>NA</td><td>NA</td><td></td><td>2022-01-03</td><td> 1</td><td>210147125</td><td>22305078</td><td>11850</td><td>619209</td><td> 76</td><td>21591847</td><td> 94022</td><td>NA</td><td>03</td><td>2022</td><td>01</td></tr>\n",
              "\t<tr><th scope=row>4</th><td>Brasil</td><td></td><td></td><td>76</td><td>NA</td><td>NA</td><td></td><td>2022-01-04</td><td> 1</td><td>210147125</td><td>22323837</td><td>18759</td><td>619384</td><td>175</td><td>21603954</td><td>100499</td><td>NA</td><td>04</td><td>2022</td><td>01</td></tr>\n",
              "\t<tr><th scope=row>5</th><td>Brasil</td><td></td><td></td><td>76</td><td>NA</td><td>NA</td><td></td><td>2022-01-05</td><td> 1</td><td>210147125</td><td>22351104</td><td>27267</td><td>619513</td><td>129</td><td>21615473</td><td>116118</td><td>NA</td><td>05</td><td>2022</td><td>01</td></tr>\n",
              "\t<tr><th scope=row>6</th><td>Brasil</td><td></td><td></td><td>76</td><td>NA</td><td>NA</td><td></td><td>2022-01-06</td><td> 1</td><td>210147125</td><td>22386930</td><td>35826</td><td>619641</td><td>128</td><td>21626836</td><td>140453</td><td>NA</td><td>06</td><td>2022</td><td>01</td></tr>\n",
              "</tbody>\n",
              "</table>\n"
            ],
            "text/markdown": "\nA data.frame: 6 × 20\n\n| <!--/--> | regiao &lt;chr&gt; | estado &lt;chr&gt; | municipio &lt;chr&gt; | coduf &lt;int&gt; | codmun &lt;int&gt; | codRegiaoSaude &lt;int&gt; | nomeRegiaoSaude &lt;chr&gt; | data &lt;dttm&gt; | semanaEpi &lt;int&gt; | populacaoTCU2019 &lt;int&gt; | casosAcumulado &lt;dbl&gt; | casosNovos &lt;int&gt; | obitosAcumulado &lt;int&gt; | obitosNovos &lt;int&gt; | Recuperadosnovos &lt;int&gt; | emAcompanhamentoNovos &lt;int&gt; | interior.metropolitana &lt;int&gt; | day &lt;chr&gt; | year &lt;chr&gt; | month &lt;chr&gt; |\n|---|---|---|---|---|---|---|---|---|---|---|---|---|---|---|---|---|---|---|---|---|\n| 1 | Brasil | <!----> | <!----> | 76 | NA | NA | <!----> | 2022-01-01 | 52 | 210147125 | 22291507 |  3986 | 619105 |  49 | 21581668 |  90734 | NA | 01 | 2022 | 01 |\n| 2 | Brasil | <!----> | <!----> | 76 | NA | NA | <!----> | 2022-01-02 |  1 | 210147125 | 22293228 |  1721 | 619133 |  28 | 21581717 |  92378 | NA | 02 | 2022 | 01 |\n| 3 | Brasil | <!----> | <!----> | 76 | NA | NA | <!----> | 2022-01-03 |  1 | 210147125 | 22305078 | 11850 | 619209 |  76 | 21591847 |  94022 | NA | 03 | 2022 | 01 |\n| 4 | Brasil | <!----> | <!----> | 76 | NA | NA | <!----> | 2022-01-04 |  1 | 210147125 | 22323837 | 18759 | 619384 | 175 | 21603954 | 100499 | NA | 04 | 2022 | 01 |\n| 5 | Brasil | <!----> | <!----> | 76 | NA | NA | <!----> | 2022-01-05 |  1 | 210147125 | 22351104 | 27267 | 619513 | 129 | 21615473 | 116118 | NA | 05 | 2022 | 01 |\n| 6 | Brasil | <!----> | <!----> | 76 | NA | NA | <!----> | 2022-01-06 |  1 | 210147125 | 22386930 | 35826 | 619641 | 128 | 21626836 | 140453 | NA | 06 | 2022 | 01 |\n\n",
            "text/latex": "A data.frame: 6 × 20\n\\begin{tabular}{r|llllllllllllllllllll}\n  & regiao & estado & municipio & coduf & codmun & codRegiaoSaude & nomeRegiaoSaude & data & semanaEpi & populacaoTCU2019 & casosAcumulado & casosNovos & obitosAcumulado & obitosNovos & Recuperadosnovos & emAcompanhamentoNovos & interior.metropolitana & day & year & month\\\\\n  & <chr> & <chr> & <chr> & <int> & <int> & <int> & <chr> & <dttm> & <int> & <int> & <dbl> & <int> & <int> & <int> & <int> & <int> & <int> & <chr> & <chr> & <chr>\\\\\n\\hline\n\t1 & Brasil &  &  & 76 & NA & NA &  & 2022-01-01 & 52 & 210147125 & 22291507 &  3986 & 619105 &  49 & 21581668 &  90734 & NA & 01 & 2022 & 01\\\\\n\t2 & Brasil &  &  & 76 & NA & NA &  & 2022-01-02 &  1 & 210147125 & 22293228 &  1721 & 619133 &  28 & 21581717 &  92378 & NA & 02 & 2022 & 01\\\\\n\t3 & Brasil &  &  & 76 & NA & NA &  & 2022-01-03 &  1 & 210147125 & 22305078 & 11850 & 619209 &  76 & 21591847 &  94022 & NA & 03 & 2022 & 01\\\\\n\t4 & Brasil &  &  & 76 & NA & NA &  & 2022-01-04 &  1 & 210147125 & 22323837 & 18759 & 619384 & 175 & 21603954 & 100499 & NA & 04 & 2022 & 01\\\\\n\t5 & Brasil &  &  & 76 & NA & NA &  & 2022-01-05 &  1 & 210147125 & 22351104 & 27267 & 619513 & 129 & 21615473 & 116118 & NA & 05 & 2022 & 01\\\\\n\t6 & Brasil &  &  & 76 & NA & NA &  & 2022-01-06 &  1 & 210147125 & 22386930 & 35826 & 619641 & 128 & 21626836 & 140453 & NA & 06 & 2022 & 01\\\\\n\\end{tabular}\n",
            "text/plain": [
              "  regiao estado municipio coduf codmun codRegiaoSaude nomeRegiaoSaude\n",
              "1 Brasil                  76    NA     NA                            \n",
              "2 Brasil                  76    NA     NA                            \n",
              "3 Brasil                  76    NA     NA                            \n",
              "4 Brasil                  76    NA     NA                            \n",
              "5 Brasil                  76    NA     NA                            \n",
              "6 Brasil                  76    NA     NA                            \n",
              "  data       semanaEpi populacaoTCU2019 casosAcumulado casosNovos\n",
              "1 2022-01-01 52        210147125        22291507        3986     \n",
              "2 2022-01-02  1        210147125        22293228        1721     \n",
              "3 2022-01-03  1        210147125        22305078       11850     \n",
              "4 2022-01-04  1        210147125        22323837       18759     \n",
              "5 2022-01-05  1        210147125        22351104       27267     \n",
              "6 2022-01-06  1        210147125        22386930       35826     \n",
              "  obitosAcumulado obitosNovos Recuperadosnovos emAcompanhamentoNovos\n",
              "1 619105           49         21581668          90734               \n",
              "2 619133           28         21581717          92378               \n",
              "3 619209           76         21591847          94022               \n",
              "4 619384          175         21603954         100499               \n",
              "5 619513          129         21615473         116118               \n",
              "6 619641          128         21626836         140453               \n",
              "  interior.metropolitana day year month\n",
              "1 NA                     01  2022 01   \n",
              "2 NA                     02  2022 01   \n",
              "3 NA                     03  2022 01   \n",
              "4 NA                     04  2022 01   \n",
              "5 NA                     05  2022 01   \n",
              "6 NA                     06  2022 01   "
            ]
          },
          "metadata": {}
        }
      ]
    },
    {
      "cell_type": "code",
      "source": [
        "saveRDS(dataCovid,\"BrasilCovid.rds\")"
      ],
      "metadata": {
        "id": "T13y8q2X0kTP"
      },
      "execution_count": 5,
      "outputs": []
    },
    {
      "cell_type": "markdown",
      "source": [
        "Now, check the data available:"
      ],
      "metadata": {
        "id": "uWuz2K6AMIlT"
      }
    },
    {
      "cell_type": "code",
      "source": [
        "str(dataCovid)"
      ],
      "metadata": {
        "id": "NHvn2lyDnCQG",
        "colab": {
          "base_uri": "https://localhost:8080/"
        },
        "outputId": "8095afed-90d2-408b-ccbc-73a9cea23c62"
      },
      "execution_count": null,
      "outputs": [
        {
          "output_type": "stream",
          "name": "stdout",
          "text": [
            "'data.frame':\t1129419 obs. of  17 variables:\n",
            " $ regiao                : chr  \"Brasil\" \"Brasil\" \"Brasil\" \"Brasil\" ...\n",
            " $ estado                : chr  \"\" \"\" \"\" \"\" ...\n",
            " $ municipio             : chr  \"\" \"\" \"\" \"\" ...\n",
            " $ coduf                 : int  76 76 76 76 76 76 76 76 76 76 ...\n",
            " $ codmun                : int  NA NA NA NA NA NA NA NA NA NA ...\n",
            " $ codRegiaoSaude        : int  NA NA NA NA NA NA NA NA NA NA ...\n",
            " $ nomeRegiaoSaude       : chr  \"\" \"\" \"\" \"\" ...\n",
            " $ data                  : chr  \"2022-01-01\" \"2022-01-02\" \"2022-01-03\" \"2022-01-04\" ...\n",
            " $ semanaEpi             : int  52 1 1 1 1 1 1 1 2 2 ...\n",
            " $ populacaoTCU2019      : int  210147125 210147125 210147125 210147125 210147125 210147125 210147125 210147125 210147125 210147125 ...\n",
            " $ casosAcumulado        : num  22291507 22293228 22305078 22323837 22351104 ...\n",
            " $ casosNovos            : int  3986 1721 11850 18759 27267 35826 63292 49303 24382 34788 ...\n",
            " $ obitosAcumulado       : int  619105 619133 619209 619384 619513 619641 619822 619937 619981 620091 ...\n",
            " $ obitosNovos           : int  49 28 76 175 129 128 181 115 44 110 ...\n",
            " $ Recuperadosnovos      : int  21581668 21581717 21591847 21603954 21615473 21626836 21650151 21652319 21634074 21636133 ...\n",
            " $ emAcompanhamentoNovos : int  90734 92378 94022 100499 116118 140453 180249 227269 269852 302471 ...\n",
            " $ interior.metropolitana: int  NA NA NA NA NA NA NA NA NA NA ...\n"
          ]
        }
      ]
    },
    {
      "cell_type": "markdown",
      "source": [
        "Let's keep complete data by \"ESTADO\":"
      ],
      "metadata": {
        "id": "0xc1OP8IQwJO"
      }
    },
    {
      "cell_type": "code",
      "source": [
        "dataCovid=dataCovid[dataCovid$estado!=\"\",]"
      ],
      "metadata": {
        "id": "JAyzLd7qQz0p"
      },
      "execution_count": null,
      "outputs": []
    },
    {
      "cell_type": "markdown",
      "source": [
        "Let's keep some columns:"
      ],
      "metadata": {
        "id": "VTflROcNMb6_"
      }
    },
    {
      "cell_type": "code",
      "source": [
        "\n",
        "toSelect=c('regiao', 'estado', 'municipio','data', 'semanaEpi','casosNovos', 'obitosNovos')\n",
        "covid=dataCovid[,toSelect]\n",
        "\n",
        "head(covid)\n"
      ],
      "metadata": {
        "id": "u5dht5PsnKvb",
        "colab": {
          "base_uri": "https://localhost:8080/",
          "height": 286
        },
        "outputId": "4f99b0e5-07af-4222-bb4a-977ed4fa7473"
      },
      "execution_count": null,
      "outputs": [
        {
          "output_type": "display_data",
          "data": {
            "text/html": [
              "<table class=\"dataframe\">\n",
              "<caption>A data.frame: 6 × 7</caption>\n",
              "<thead>\n",
              "\t<tr><th></th><th scope=col>regiao</th><th scope=col>estado</th><th scope=col>municipio</th><th scope=col>data</th><th scope=col>semanaEpi</th><th scope=col>casosNovos</th><th scope=col>obitosNovos</th></tr>\n",
              "\t<tr><th></th><th scope=col>&lt;chr&gt;</th><th scope=col>&lt;chr&gt;</th><th scope=col>&lt;chr&gt;</th><th scope=col>&lt;chr&gt;</th><th scope=col>&lt;int&gt;</th><th scope=col>&lt;int&gt;</th><th scope=col>&lt;int&gt;</th></tr>\n",
              "</thead>\n",
              "<tbody>\n",
              "\t<tr><th scope=row>182</th><td>Norte</td><td>RO</td><td></td><td>2022-01-01</td><td>52</td><td> 34</td><td>3</td></tr>\n",
              "\t<tr><th scope=row>183</th><td>Norte</td><td>RO</td><td></td><td>2022-01-02</td><td> 1</td><td> 32</td><td>2</td></tr>\n",
              "\t<tr><th scope=row>184</th><td>Norte</td><td>RO</td><td></td><td>2022-01-03</td><td> 1</td><td> 91</td><td>3</td></tr>\n",
              "\t<tr><th scope=row>185</th><td>Norte</td><td>RO</td><td></td><td>2022-01-04</td><td> 1</td><td>254</td><td>3</td></tr>\n",
              "\t<tr><th scope=row>186</th><td>Norte</td><td>RO</td><td></td><td>2022-01-05</td><td> 1</td><td>232</td><td>3</td></tr>\n",
              "\t<tr><th scope=row>187</th><td>Norte</td><td>RO</td><td></td><td>2022-01-06</td><td> 1</td><td>391</td><td>8</td></tr>\n",
              "</tbody>\n",
              "</table>\n"
            ],
            "text/markdown": "\nA data.frame: 6 × 7\n\n| <!--/--> | regiao &lt;chr&gt; | estado &lt;chr&gt; | municipio &lt;chr&gt; | data &lt;chr&gt; | semanaEpi &lt;int&gt; | casosNovos &lt;int&gt; | obitosNovos &lt;int&gt; |\n|---|---|---|---|---|---|---|---|\n| 182 | Norte | RO | <!----> | 2022-01-01 | 52 |  34 | 3 |\n| 183 | Norte | RO | <!----> | 2022-01-02 |  1 |  32 | 2 |\n| 184 | Norte | RO | <!----> | 2022-01-03 |  1 |  91 | 3 |\n| 185 | Norte | RO | <!----> | 2022-01-04 |  1 | 254 | 3 |\n| 186 | Norte | RO | <!----> | 2022-01-05 |  1 | 232 | 3 |\n| 187 | Norte | RO | <!----> | 2022-01-06 |  1 | 391 | 8 |\n\n",
            "text/latex": "A data.frame: 6 × 7\n\\begin{tabular}{r|lllllll}\n  & regiao & estado & municipio & data & semanaEpi & casosNovos & obitosNovos\\\\\n  & <chr> & <chr> & <chr> & <chr> & <int> & <int> & <int>\\\\\n\\hline\n\t182 & Norte & RO &  & 2022-01-01 & 52 &  34 & 3\\\\\n\t183 & Norte & RO &  & 2022-01-02 &  1 &  32 & 2\\\\\n\t184 & Norte & RO &  & 2022-01-03 &  1 &  91 & 3\\\\\n\t185 & Norte & RO &  & 2022-01-04 &  1 & 254 & 3\\\\\n\t186 & Norte & RO &  & 2022-01-05 &  1 & 232 & 3\\\\\n\t187 & Norte & RO &  & 2022-01-06 &  1 & 391 & 8\\\\\n\\end{tabular}\n",
            "text/plain": [
              "    regiao estado municipio data       semanaEpi casosNovos obitosNovos\n",
              "182 Norte  RO               2022-01-01 52         34        3          \n",
              "183 Norte  RO               2022-01-02  1         32        2          \n",
              "184 Norte  RO               2022-01-03  1         91        3          \n",
              "185 Norte  RO               2022-01-04  1        254        3          \n",
              "186 Norte  RO               2022-01-05  1        232        3          \n",
              "187 Norte  RO               2022-01-06  1        391        8          "
            ]
          },
          "metadata": {}
        }
      ]
    },
    {
      "cell_type": "markdown",
      "source": [
        "Let's format the dates, and get date details:"
      ],
      "metadata": {
        "id": "MnmaSn5EMlDq"
      }
    },
    {
      "cell_type": "code",
      "source": [
        "covid$data=strptime(covid$data, \"%Y-%m-%d\")\n",
        "covid$day=format(covid$data,\"%d\")\n",
        "covid$year=format(covid$data,\"%Y\")\n",
        "covid$month=format(covid$data,\"%m\")\n",
        "head(covid)\n"
      ],
      "metadata": {
        "id": "it-vRE9Qnx_G",
        "colab": {
          "base_uri": "https://localhost:8080/",
          "height": 233
        },
        "outputId": "bd54a1db-7549-458b-c098-c5165292bc96"
      },
      "execution_count": 3,
      "outputs": [
        {
          "output_type": "error",
          "ename": "ERROR",
          "evalue": "Error: object 'covid' not found\n",
          "traceback": [
            "Error: object 'covid' not found\nTraceback:\n",
            "1. .handleSimpleError(function (cnd) \n . {\n .     watcher$capture_plot_and_output()\n .     cnd <- sanitize_call(cnd)\n .     watcher$push(cnd)\n .     switch(on_error, continue = invokeRestart(\"eval_continue\"), \n .         stop = invokeRestart(\"eval_stop\"), error = NULL)\n . }, \"object 'covid' not found\", base::quote(eval(expr, envir)))"
          ]
        }
      ]
    },
    {
      "cell_type": "markdown",
      "source": [
        "Let's find out about years available:"
      ],
      "metadata": {
        "id": "yMU_q3i6Np9B"
      }
    },
    {
      "cell_type": "code",
      "source": [
        "unique(covid$year)"
      ],
      "metadata": {
        "id": "TWbPgtsnNq-H",
        "colab": {
          "base_uri": "https://localhost:8080/",
          "height": 34
        },
        "outputId": "086c8bbe-cf72-477c-deac-816904dc42b2"
      },
      "execution_count": null,
      "outputs": [
        {
          "output_type": "display_data",
          "data": {
            "text/html": [
              "'2022'"
            ],
            "text/markdown": "'2022'",
            "text/latex": "'2022'",
            "text/plain": [
              "[1] \"2022\""
            ]
          },
          "metadata": {}
        }
      ]
    },
    {
      "cell_type": "code",
      "source": [
        "unique(covid$month)"
      ],
      "metadata": {
        "id": "CsMrcxUUNxgJ",
        "colab": {
          "base_uri": "https://localhost:8080/",
          "height": 34
        },
        "outputId": "d9384b5b-a7b6-4c14-e828-98b99a480a80"
      },
      "execution_count": null,
      "outputs": [
        {
          "output_type": "display_data",
          "data": {
            "text/html": [
              "<style>\n",
              ".list-inline {list-style: none; margin:0; padding: 0}\n",
              ".list-inline>li {display: inline-block}\n",
              ".list-inline>li:not(:last-child)::after {content: \"\\00b7\"; padding: 0 .5ex}\n",
              "</style>\n",
              "<ol class=list-inline><li>'01'</li><li>'02'</li><li>'03'</li><li>'04'</li><li>'05'</li><li>'06'</li><li>'07'</li></ol>\n"
            ],
            "text/markdown": "1. '01'\n2. '02'\n3. '03'\n4. '04'\n5. '05'\n6. '06'\n7. '07'\n\n\n",
            "text/latex": "\\begin{enumerate*}\n\\item '01'\n\\item '02'\n\\item '03'\n\\item '04'\n\\item '05'\n\\item '06'\n\\item '07'\n\\end{enumerate*}\n",
            "text/plain": [
              "[1] \"01\" \"02\" \"03\" \"04\" \"05\" \"06\" \"07\""
            ]
          },
          "metadata": {}
        }
      ]
    },
    {
      "cell_type": "markdown",
      "source": [
        "So, we have data from January to July 2022.\n",
        "Let's find out: **count of new positive cases per month**:"
      ],
      "metadata": {
        "id": "a5z9WbG3N8rm"
      }
    },
    {
      "cell_type": "code",
      "source": [
        "sum(covid$casosNovos[covid$month=='07'])"
      ],
      "metadata": {
        "id": "icFBzJbcN_zY",
        "colab": {
          "base_uri": "https://localhost:8080/",
          "height": 34
        },
        "outputId": "8223dd4e-bb00-4126-844f-b30f24ece395"
      },
      "execution_count": null,
      "outputs": [
        {
          "output_type": "display_data",
          "data": {
            "text/html": [
              "2192552"
            ],
            "text/markdown": "2192552",
            "text/latex": "2192552",
            "text/plain": [
              "[1] 2192552"
            ]
          },
          "metadata": {}
        }
      ]
    },
    {
      "cell_type": "code",
      "source": [
        "sum(covid$casosNovos[covid$month=='06'])"
      ],
      "metadata": {
        "id": "Q97sqng2OQ15",
        "colab": {
          "base_uri": "https://localhost:8080/",
          "height": 34
        },
        "outputId": "372e6213-9e83-46c4-b7ed-42001ae7cf09"
      },
      "execution_count": null,
      "outputs": [
        {
          "output_type": "display_data",
          "data": {
            "text/html": [
              "2677960"
            ],
            "text/markdown": "2677960",
            "text/latex": "2677960",
            "text/plain": [
              "[1] 2677960"
            ]
          },
          "metadata": {}
        }
      ]
    },
    {
      "cell_type": "code",
      "source": [
        "sum(covid$casosNovos[covid$month=='05'])"
      ],
      "metadata": {
        "id": "_CqUV4M4OS-l",
        "colab": {
          "base_uri": "https://localhost:8080/",
          "height": 34
        },
        "outputId": "d99bf7ed-fe68-446b-c48c-c6da94d67302"
      },
      "execution_count": null,
      "outputs": [
        {
          "output_type": "display_data",
          "data": {
            "text/html": [
              "1141604"
            ],
            "text/markdown": "1141604",
            "text/latex": "1141604",
            "text/plain": [
              "[1] 1141604"
            ]
          },
          "metadata": {}
        }
      ]
    },
    {
      "cell_type": "markdown",
      "source": [
        "..."
      ],
      "metadata": {
        "id": "b0Y1YjiKOhel"
      }
    },
    {
      "cell_type": "code",
      "source": [
        "sum(covid$casosNovos[covid$month=='01'])"
      ],
      "metadata": {
        "id": "OLMmPgD8OjAA",
        "colab": {
          "base_uri": "https://localhost:8080/",
          "height": 34
        },
        "outputId": "b4d26363-c093-4f4b-9fa2-65e1cc71f5b2"
      },
      "execution_count": null,
      "outputs": [
        {
          "output_type": "display_data",
          "data": {
            "text/html": [
              "6278446"
            ],
            "text/markdown": "6278446",
            "text/latex": "6278446",
            "text/plain": [
              "[1] 6278446"
            ]
          },
          "metadata": {}
        }
      ]
    },
    {
      "cell_type": "markdown",
      "source": [
        "We use **aggregation** to simplify the previous steps:"
      ],
      "metadata": {
        "id": "SEspWcNMOnkx"
      }
    },
    {
      "cell_type": "code",
      "source": [
        "# sum of cases by month\n",
        "casesSumByMonth=aggregate(data=covid,casosNovos~month,sum)\n",
        "casesSumByMonth"
      ],
      "metadata": {
        "id": "IYZWu4sVfYbr",
        "colab": {
          "base_uri": "https://localhost:8080/",
          "height": 318
        },
        "outputId": "f9e4b81f-2cfe-4dfd-f195-d8e6d2d07e73"
      },
      "execution_count": null,
      "outputs": [
        {
          "output_type": "display_data",
          "data": {
            "text/html": [
              "<table class=\"dataframe\">\n",
              "<caption>A data.frame: 7 × 2</caption>\n",
              "<thead>\n",
              "\t<tr><th scope=col>month</th><th scope=col>casosNovos</th></tr>\n",
              "\t<tr><th scope=col>&lt;chr&gt;</th><th scope=col>&lt;int&gt;</th></tr>\n",
              "</thead>\n",
              "<tbody>\n",
              "\t<tr><td>01</td><td>6278446</td></tr>\n",
              "\t<tr><td>02</td><td>6721752</td></tr>\n",
              "\t<tr><td>03</td><td>2320550</td></tr>\n",
              "\t<tr><td>04</td><td>1000682</td></tr>\n",
              "\t<tr><td>05</td><td>1141604</td></tr>\n",
              "\t<tr><td>06</td><td>2677960</td></tr>\n",
              "\t<tr><td>07</td><td>2192552</td></tr>\n",
              "</tbody>\n",
              "</table>\n"
            ],
            "text/markdown": "\nA data.frame: 7 × 2\n\n| month &lt;chr&gt; | casosNovos &lt;int&gt; |\n|---|---|\n| 01 | 6278446 |\n| 02 | 6721752 |\n| 03 | 2320550 |\n| 04 | 1000682 |\n| 05 | 1141604 |\n| 06 | 2677960 |\n| 07 | 2192552 |\n\n",
            "text/latex": "A data.frame: 7 × 2\n\\begin{tabular}{ll}\n month & casosNovos\\\\\n <chr> & <int>\\\\\n\\hline\n\t 01 & 6278446\\\\\n\t 02 & 6721752\\\\\n\t 03 & 2320550\\\\\n\t 04 & 1000682\\\\\n\t 05 & 1141604\\\\\n\t 06 & 2677960\\\\\n\t 07 & 2192552\\\\\n\\end{tabular}\n",
            "text/plain": [
              "  month casosNovos\n",
              "1 01    6278446   \n",
              "2 02    6721752   \n",
              "3 03    2320550   \n",
              "4 04    1000682   \n",
              "5 05    1141604   \n",
              "6 06    2677960   \n",
              "7 07    2192552   "
            ]
          },
          "metadata": {}
        }
      ]
    },
    {
      "cell_type": "markdown",
      "source": [
        "**AGGREGATING** capabilities allow us to produce useful output with few code:"
      ],
      "metadata": {
        "id": "wYcWTH1YS5Pv"
      }
    },
    {
      "cell_type": "markdown",
      "source": [
        "* **The groupings**:\n",
        "\n",
        "In the last example, _month_ was the **grouping** variable. We can have more the one of those:"
      ],
      "metadata": {
        "id": "rDQ1XNyEPH0E"
      }
    },
    {
      "cell_type": "code",
      "source": [
        "# sum of cases by estado and week\n",
        "casesSumByStateAndMonth=aggregate(data=covid,casosNovos~estado + month,sum)\n",
        "casesSumByStateAndMonth"
      ],
      "metadata": {
        "id": "Fak2Oz70gjM3",
        "colab": {
          "base_uri": "https://localhost:8080/",
          "height": 1000
        },
        "outputId": "360fd5c8-185c-4d61-97c9-62df156c3bd1"
      },
      "execution_count": null,
      "outputs": [
        {
          "output_type": "display_data",
          "data": {
            "text/html": [
              "<table class=\"dataframe\">\n",
              "<caption>A data.frame: 189 × 3</caption>\n",
              "<thead>\n",
              "\t<tr><th scope=col>estado</th><th scope=col>month</th><th scope=col>casosNovos</th></tr>\n",
              "\t<tr><th scope=col>&lt;chr&gt;</th><th scope=col>&lt;chr&gt;</th><th scope=col>&lt;int&gt;</th></tr>\n",
              "</thead>\n",
              "<tbody>\n",
              "\t<tr><td>AC</td><td>01</td><td> 25752</td></tr>\n",
              "\t<tr><td>AL</td><td>01</td><td> 32320</td></tr>\n",
              "\t<tr><td>AM</td><td>01</td><td>192126</td></tr>\n",
              "\t<tr><td>AP</td><td>01</td><td> 49954</td></tr>\n",
              "\t<tr><td>BA</td><td>01</td><td>184908</td></tr>\n",
              "\t<tr><td>CE</td><td>01</td><td>336702</td></tr>\n",
              "\t<tr><td>DF</td><td>01</td><td>173908</td></tr>\n",
              "\t<tr><td>ES</td><td>01</td><td>426590</td></tr>\n",
              "\t<tr><td>GO</td><td>01</td><td>178684</td></tr>\n",
              "\t<tr><td>MA</td><td>01</td><td> 31844</td></tr>\n",
              "\t<tr><td>MG</td><td>01</td><td>979192</td></tr>\n",
              "\t<tr><td>MS</td><td>01</td><td> 85678</td></tr>\n",
              "\t<tr><td>MT</td><td>01</td><td>142290</td></tr>\n",
              "\t<tr><td>PA</td><td>01</td><td> 45352</td></tr>\n",
              "\t<tr><td>PB</td><td>01</td><td> 69176</td></tr>\n",
              "\t<tr><td>PE</td><td>01</td><td>105172</td></tr>\n",
              "\t<tr><td>PI</td><td>01</td><td> 17148</td></tr>\n",
              "\t<tr><td>PR</td><td>01</td><td>707518</td></tr>\n",
              "\t<tr><td>RJ</td><td>01</td><td>808654</td></tr>\n",
              "\t<tr><td>RN</td><td>01</td><td> 77328</td></tr>\n",
              "\t<tr><td>RO</td><td>01</td><td> 67374</td></tr>\n",
              "\t<tr><td>RR</td><td>01</td><td> 26960</td></tr>\n",
              "\t<tr><td>RS</td><td>01</td><td>638356</td></tr>\n",
              "\t<tr><td>SC</td><td>01</td><td>397952</td></tr>\n",
              "\t<tr><td>SE</td><td>01</td><td> 30372</td></tr>\n",
              "\t<tr><td>SP</td><td>01</td><td>379996</td></tr>\n",
              "\t<tr><td>TO</td><td>01</td><td> 67140</td></tr>\n",
              "\t<tr><td>AC</td><td>02</td><td> 38646</td></tr>\n",
              "\t<tr><td>AL</td><td>02</td><td> 66598</td></tr>\n",
              "\t<tr><td>AM</td><td>02</td><td> 87402</td></tr>\n",
              "\t<tr><td>⋮</td><td>⋮</td><td>⋮</td></tr>\n",
              "\t<tr><td>SE</td><td>06</td><td>  5738</td></tr>\n",
              "\t<tr><td>SP</td><td>06</td><td>413106</td></tr>\n",
              "\t<tr><td>TO</td><td>06</td><td> 28580</td></tr>\n",
              "\t<tr><td>AC</td><td>07</td><td> 22590</td></tr>\n",
              "\t<tr><td>AL</td><td>07</td><td> 21452</td></tr>\n",
              "\t<tr><td>AM</td><td>07</td><td> 27728</td></tr>\n",
              "\t<tr><td>AP</td><td>07</td><td> 23188</td></tr>\n",
              "\t<tr><td>BA</td><td>07</td><td>128418</td></tr>\n",
              "\t<tr><td>CE</td><td>07</td><td>156774</td></tr>\n",
              "\t<tr><td>DF</td><td>07</td><td> 41838</td></tr>\n",
              "\t<tr><td>ES</td><td>07</td><td>137658</td></tr>\n",
              "\t<tr><td>GO</td><td>07</td><td>171212</td></tr>\n",
              "\t<tr><td>MA</td><td>07</td><td> 22770</td></tr>\n",
              "\t<tr><td>MG</td><td>07</td><td>302132</td></tr>\n",
              "\t<tr><td>MS</td><td>07</td><td> 21770</td></tr>\n",
              "\t<tr><td>MT</td><td>07</td><td> 77988</td></tr>\n",
              "\t<tr><td>PA</td><td>07</td><td> 29618</td></tr>\n",
              "\t<tr><td>PB</td><td>07</td><td> 39846</td></tr>\n",
              "\t<tr><td>PE</td><td>07</td><td> 81004</td></tr>\n",
              "\t<tr><td>PI</td><td>07</td><td> 18726</td></tr>\n",
              "\t<tr><td>PR</td><td>07</td><td> 99222</td></tr>\n",
              "\t<tr><td>RJ</td><td>07</td><td>151322</td></tr>\n",
              "\t<tr><td>RN</td><td>07</td><td> 32328</td></tr>\n",
              "\t<tr><td>RO</td><td>07</td><td> 40884</td></tr>\n",
              "\t<tr><td>RR</td><td>07</td><td> 21518</td></tr>\n",
              "\t<tr><td>RS</td><td>07</td><td>127860</td></tr>\n",
              "\t<tr><td>SC</td><td>07</td><td> 63410</td></tr>\n",
              "\t<tr><td>SE</td><td>07</td><td> 17008</td></tr>\n",
              "\t<tr><td>SP</td><td>07</td><td>285542</td></tr>\n",
              "\t<tr><td>TO</td><td>07</td><td> 28746</td></tr>\n",
              "</tbody>\n",
              "</table>\n"
            ],
            "text/markdown": "\nA data.frame: 189 × 3\n\n| estado &lt;chr&gt; | month &lt;chr&gt; | casosNovos &lt;int&gt; |\n|---|---|---|\n| AC | 01 |  25752 |\n| AL | 01 |  32320 |\n| AM | 01 | 192126 |\n| AP | 01 |  49954 |\n| BA | 01 | 184908 |\n| CE | 01 | 336702 |\n| DF | 01 | 173908 |\n| ES | 01 | 426590 |\n| GO | 01 | 178684 |\n| MA | 01 |  31844 |\n| MG | 01 | 979192 |\n| MS | 01 |  85678 |\n| MT | 01 | 142290 |\n| PA | 01 |  45352 |\n| PB | 01 |  69176 |\n| PE | 01 | 105172 |\n| PI | 01 |  17148 |\n| PR | 01 | 707518 |\n| RJ | 01 | 808654 |\n| RN | 01 |  77328 |\n| RO | 01 |  67374 |\n| RR | 01 |  26960 |\n| RS | 01 | 638356 |\n| SC | 01 | 397952 |\n| SE | 01 |  30372 |\n| SP | 01 | 379996 |\n| TO | 01 |  67140 |\n| AC | 02 |  38646 |\n| AL | 02 |  66598 |\n| AM | 02 |  87402 |\n| ⋮ | ⋮ | ⋮ |\n| SE | 06 |   5738 |\n| SP | 06 | 413106 |\n| TO | 06 |  28580 |\n| AC | 07 |  22590 |\n| AL | 07 |  21452 |\n| AM | 07 |  27728 |\n| AP | 07 |  23188 |\n| BA | 07 | 128418 |\n| CE | 07 | 156774 |\n| DF | 07 |  41838 |\n| ES | 07 | 137658 |\n| GO | 07 | 171212 |\n| MA | 07 |  22770 |\n| MG | 07 | 302132 |\n| MS | 07 |  21770 |\n| MT | 07 |  77988 |\n| PA | 07 |  29618 |\n| PB | 07 |  39846 |\n| PE | 07 |  81004 |\n| PI | 07 |  18726 |\n| PR | 07 |  99222 |\n| RJ | 07 | 151322 |\n| RN | 07 |  32328 |\n| RO | 07 |  40884 |\n| RR | 07 |  21518 |\n| RS | 07 | 127860 |\n| SC | 07 |  63410 |\n| SE | 07 |  17008 |\n| SP | 07 | 285542 |\n| TO | 07 |  28746 |\n\n",
            "text/latex": "A data.frame: 189 × 3\n\\begin{tabular}{lll}\n estado & month & casosNovos\\\\\n <chr> & <chr> & <int>\\\\\n\\hline\n\t AC & 01 &  25752\\\\\n\t AL & 01 &  32320\\\\\n\t AM & 01 & 192126\\\\\n\t AP & 01 &  49954\\\\\n\t BA & 01 & 184908\\\\\n\t CE & 01 & 336702\\\\\n\t DF & 01 & 173908\\\\\n\t ES & 01 & 426590\\\\\n\t GO & 01 & 178684\\\\\n\t MA & 01 &  31844\\\\\n\t MG & 01 & 979192\\\\\n\t MS & 01 &  85678\\\\\n\t MT & 01 & 142290\\\\\n\t PA & 01 &  45352\\\\\n\t PB & 01 &  69176\\\\\n\t PE & 01 & 105172\\\\\n\t PI & 01 &  17148\\\\\n\t PR & 01 & 707518\\\\\n\t RJ & 01 & 808654\\\\\n\t RN & 01 &  77328\\\\\n\t RO & 01 &  67374\\\\\n\t RR & 01 &  26960\\\\\n\t RS & 01 & 638356\\\\\n\t SC & 01 & 397952\\\\\n\t SE & 01 &  30372\\\\\n\t SP & 01 & 379996\\\\\n\t TO & 01 &  67140\\\\\n\t AC & 02 &  38646\\\\\n\t AL & 02 &  66598\\\\\n\t AM & 02 &  87402\\\\\n\t ⋮ & ⋮ & ⋮\\\\\n\t SE & 06 &   5738\\\\\n\t SP & 06 & 413106\\\\\n\t TO & 06 &  28580\\\\\n\t AC & 07 &  22590\\\\\n\t AL & 07 &  21452\\\\\n\t AM & 07 &  27728\\\\\n\t AP & 07 &  23188\\\\\n\t BA & 07 & 128418\\\\\n\t CE & 07 & 156774\\\\\n\t DF & 07 &  41838\\\\\n\t ES & 07 & 137658\\\\\n\t GO & 07 & 171212\\\\\n\t MA & 07 &  22770\\\\\n\t MG & 07 & 302132\\\\\n\t MS & 07 &  21770\\\\\n\t MT & 07 &  77988\\\\\n\t PA & 07 &  29618\\\\\n\t PB & 07 &  39846\\\\\n\t PE & 07 &  81004\\\\\n\t PI & 07 &  18726\\\\\n\t PR & 07 &  99222\\\\\n\t RJ & 07 & 151322\\\\\n\t RN & 07 &  32328\\\\\n\t RO & 07 &  40884\\\\\n\t RR & 07 &  21518\\\\\n\t RS & 07 & 127860\\\\\n\t SC & 07 &  63410\\\\\n\t SE & 07 &  17008\\\\\n\t SP & 07 & 285542\\\\\n\t TO & 07 &  28746\\\\\n\\end{tabular}\n",
            "text/plain": [
              "    estado month casosNovos\n",
              "1   AC     01     25752    \n",
              "2   AL     01     32320    \n",
              "3   AM     01    192126    \n",
              "4   AP     01     49954    \n",
              "5   BA     01    184908    \n",
              "6   CE     01    336702    \n",
              "7   DF     01    173908    \n",
              "8   ES     01    426590    \n",
              "9   GO     01    178684    \n",
              "10  MA     01     31844    \n",
              "11  MG     01    979192    \n",
              "12  MS     01     85678    \n",
              "13  MT     01    142290    \n",
              "14  PA     01     45352    \n",
              "15  PB     01     69176    \n",
              "16  PE     01    105172    \n",
              "17  PI     01     17148    \n",
              "18  PR     01    707518    \n",
              "19  RJ     01    808654    \n",
              "20  RN     01     77328    \n",
              "21  RO     01     67374    \n",
              "22  RR     01     26960    \n",
              "23  RS     01    638356    \n",
              "24  SC     01    397952    \n",
              "25  SE     01     30372    \n",
              "26  SP     01    379996    \n",
              "27  TO     01     67140    \n",
              "28  AC     02     38646    \n",
              "29  AL     02     66598    \n",
              "30  AM     02     87402    \n",
              "⋮   ⋮      ⋮     ⋮         \n",
              "160 SE     06      5738    \n",
              "161 SP     06    413106    \n",
              "162 TO     06     28580    \n",
              "163 AC     07     22590    \n",
              "164 AL     07     21452    \n",
              "165 AM     07     27728    \n",
              "166 AP     07     23188    \n",
              "167 BA     07    128418    \n",
              "168 CE     07    156774    \n",
              "169 DF     07     41838    \n",
              "170 ES     07    137658    \n",
              "171 GO     07    171212    \n",
              "172 MA     07     22770    \n",
              "173 MG     07    302132    \n",
              "174 MS     07     21770    \n",
              "175 MT     07     77988    \n",
              "176 PA     07     29618    \n",
              "177 PB     07     39846    \n",
              "178 PE     07     81004    \n",
              "179 PI     07     18726    \n",
              "180 PR     07     99222    \n",
              "181 RJ     07    151322    \n",
              "182 RN     07     32328    \n",
              "183 RO     07     40884    \n",
              "184 RR     07     21518    \n",
              "185 RS     07    127860    \n",
              "186 SC     07     63410    \n",
              "187 SE     07     17008    \n",
              "188 SP     07    285542    \n",
              "189 TO     07     28746    "
            ]
          },
          "metadata": {}
        }
      ]
    },
    {
      "cell_type": "markdown",
      "source": [
        "* **The function to apply**:\n",
        "\n",
        "We can have more than one function:"
      ],
      "metadata": {
        "id": "rF7P8vYzTvvF"
      }
    },
    {
      "cell_type": "code",
      "source": [
        "# sum and mean of cases by estado and week\n",
        "casesSumAndMeanByStateAndWeek=aggregate(data=covid,casosNovos~estado + semanaEpi,\n",
        "          function(x) c(mean = mean(x), sum = sum(x) ) )\n",
        "\n",
        "\n",
        "head(casesSumAndMeanByStateAndWeek,30)"
      ],
      "metadata": {
        "id": "iuXRZSxBjerW",
        "colab": {
          "base_uri": "https://localhost:8080/",
          "height": 1000
        },
        "outputId": "b6d2d84b-084e-4ab1-9164-134ac076c012"
      },
      "execution_count": null,
      "outputs": [
        {
          "output_type": "display_data",
          "data": {
            "text/html": [
              "<table class=\"dataframe\">\n",
              "<caption>A data.frame: 30 × 3</caption>\n",
              "<thead>\n",
              "\t<tr><th></th><th scope=col>estado</th><th scope=col>semanaEpi</th><th scope=col>casosNovos</th></tr>\n",
              "\t<tr><th></th><th scope=col>&lt;chr&gt;</th><th scope=col>&lt;int&gt;</th><th scope=col>&lt;dbl[,2]&gt;</th></tr>\n",
              "</thead>\n",
              "<tbody>\n",
              "\t<tr><th scope=row>1</th><td>AC</td><td>1</td><td>  0.2111801,    34</td></tr>\n",
              "\t<tr><th scope=row>2</th><td>AL</td><td>1</td><td>  1.8159341,  1322</td></tr>\n",
              "\t<tr><th scope=row>3</th><td>AM</td><td>1</td><td>  6.9569161,  3068</td></tr>\n",
              "\t<tr><th scope=row>4</th><td>AP</td><td>1</td><td>  7.8487395,   934</td></tr>\n",
              "\t<tr><th scope=row>5</th><td>BA</td><td>1</td><td>  3.9570406, 11606</td></tr>\n",
              "\t<tr><th scope=row>6</th><td>CE</td><td>1</td><td>  6.0890937,  7928</td></tr>\n",
              "\t<tr><th scope=row>7</th><td>DF</td><td>1</td><td>729.2857143, 10210</td></tr>\n",
              "\t<tr><th scope=row>8</th><td>ES</td><td>1</td><td> 16.7678571,  9390</td></tr>\n",
              "\t<tr><th scope=row>9</th><td>GO</td><td>1</td><td>  6.2926267, 10924</td></tr>\n",
              "\t<tr><th scope=row>10</th><td>MA</td><td>1</td><td>  1.6086106,  2466</td></tr>\n",
              "\t<tr><th scope=row>11</th><td>MG</td><td>1</td><td> 11.0843776, 66340</td></tr>\n",
              "\t<tr><th scope=row>12</th><td>MS</td><td>1</td><td> 11.3535714,  6358</td></tr>\n",
              "\t<tr><th scope=row>13</th><td>MT</td><td>1</td><td> 10.2537463, 10264</td></tr>\n",
              "\t<tr><th scope=row>14</th><td>PA</td><td>1</td><td>  6.4926108,  6590</td></tr>\n",
              "\t<tr><th scope=row>15</th><td>PB</td><td>1</td><td>  1.0946032,  1724</td></tr>\n",
              "\t<tr><th scope=row>16</th><td>PE</td><td>1</td><td>  4.5362872,  5938</td></tr>\n",
              "\t<tr><th scope=row>17</th><td>PI</td><td>1</td><td> 12.5246523, 19814</td></tr>\n",
              "\t<tr><th scope=row>18</th><td>PR</td><td>1</td><td> 19.5404346, 54850</td></tr>\n",
              "\t<tr><th scope=row>19</th><td>RJ</td><td>1</td><td> 90.0668693, 59264</td></tr>\n",
              "\t<tr><th scope=row>20</th><td>RN</td><td>1</td><td>  4.6187658,  5464</td></tr>\n",
              "\t<tr><th scope=row>21</th><td>RO</td><td>1</td><td>  8.5714286,  3240</td></tr>\n",
              "\t<tr><th scope=row>22</th><td>RR</td><td>1</td><td> 13.3949580,  1594</td></tr>\n",
              "\t<tr><th scope=row>23</th><td>RS</td><td>1</td><td> 13.1188090, 45824</td></tr>\n",
              "\t<tr><th scope=row>24</th><td>SC</td><td>1</td><td> 16.6782107, 34674</td></tr>\n",
              "\t<tr><th scope=row>25</th><td>SE</td><td>1</td><td>  1.0241187,   552</td></tr>\n",
              "\t<tr><th scope=row>26</th><td>SP</td><td>1</td><td>  6.4667697, 29288</td></tr>\n",
              "\t<tr><th scope=row>27</th><td>TO</td><td>1</td><td>  6.4599797,  6376</td></tr>\n",
              "\t<tr><th scope=row>28</th><td>AC</td><td>2</td><td> 15.3043478,  2464</td></tr>\n",
              "\t<tr><th scope=row>29</th><td>AL</td><td>2</td><td>  6.3241758,  4604</td></tr>\n",
              "\t<tr><th scope=row>30</th><td>AM</td><td>2</td><td> 51.2290249, 22592</td></tr>\n",
              "</tbody>\n",
              "</table>\n"
            ],
            "text/markdown": "\nA data.frame: 30 × 3\n\n| <!--/--> | estado &lt;chr&gt; | semanaEpi &lt;int&gt; | casosNovos &lt;dbl[,2]&gt; |\n|---|---|---|---|\n| 1 | AC | 1 |   0.2111801,    34 |\n| 2 | AL | 1 |   1.8159341,  1322 |\n| 3 | AM | 1 |   6.9569161,  3068 |\n| 4 | AP | 1 |   7.8487395,   934 |\n| 5 | BA | 1 |   3.9570406, 11606 |\n| 6 | CE | 1 |   6.0890937,  7928 |\n| 7 | DF | 1 | 729.2857143, 10210 |\n| 8 | ES | 1 |  16.7678571,  9390 |\n| 9 | GO | 1 |   6.2926267, 10924 |\n| 10 | MA | 1 |   1.6086106,  2466 |\n| 11 | MG | 1 |  11.0843776, 66340 |\n| 12 | MS | 1 |  11.3535714,  6358 |\n| 13 | MT | 1 |  10.2537463, 10264 |\n| 14 | PA | 1 |   6.4926108,  6590 |\n| 15 | PB | 1 |   1.0946032,  1724 |\n| 16 | PE | 1 |   4.5362872,  5938 |\n| 17 | PI | 1 |  12.5246523, 19814 |\n| 18 | PR | 1 |  19.5404346, 54850 |\n| 19 | RJ | 1 |  90.0668693, 59264 |\n| 20 | RN | 1 |   4.6187658,  5464 |\n| 21 | RO | 1 |   8.5714286,  3240 |\n| 22 | RR | 1 |  13.3949580,  1594 |\n| 23 | RS | 1 |  13.1188090, 45824 |\n| 24 | SC | 1 |  16.6782107, 34674 |\n| 25 | SE | 1 |   1.0241187,   552 |\n| 26 | SP | 1 |   6.4667697, 29288 |\n| 27 | TO | 1 |   6.4599797,  6376 |\n| 28 | AC | 2 |  15.3043478,  2464 |\n| 29 | AL | 2 |   6.3241758,  4604 |\n| 30 | AM | 2 |  51.2290249, 22592 |\n\n",
            "text/latex": "A data.frame: 30 × 3\n\\begin{tabular}{r|lll}\n  & estado & semanaEpi & casosNovos\\\\\n  & <chr> & <int> & <dbl{[},2{]}>\\\\\n\\hline\n\t1 & AC & 1 &   0.2111801,    34\\\\\n\t2 & AL & 1 &   1.8159341,  1322\\\\\n\t3 & AM & 1 &   6.9569161,  3068\\\\\n\t4 & AP & 1 &   7.8487395,   934\\\\\n\t5 & BA & 1 &   3.9570406, 11606\\\\\n\t6 & CE & 1 &   6.0890937,  7928\\\\\n\t7 & DF & 1 & 729.2857143, 10210\\\\\n\t8 & ES & 1 &  16.7678571,  9390\\\\\n\t9 & GO & 1 &   6.2926267, 10924\\\\\n\t10 & MA & 1 &   1.6086106,  2466\\\\\n\t11 & MG & 1 &  11.0843776, 66340\\\\\n\t12 & MS & 1 &  11.3535714,  6358\\\\\n\t13 & MT & 1 &  10.2537463, 10264\\\\\n\t14 & PA & 1 &   6.4926108,  6590\\\\\n\t15 & PB & 1 &   1.0946032,  1724\\\\\n\t16 & PE & 1 &   4.5362872,  5938\\\\\n\t17 & PI & 1 &  12.5246523, 19814\\\\\n\t18 & PR & 1 &  19.5404346, 54850\\\\\n\t19 & RJ & 1 &  90.0668693, 59264\\\\\n\t20 & RN & 1 &   4.6187658,  5464\\\\\n\t21 & RO & 1 &   8.5714286,  3240\\\\\n\t22 & RR & 1 &  13.3949580,  1594\\\\\n\t23 & RS & 1 &  13.1188090, 45824\\\\\n\t24 & SC & 1 &  16.6782107, 34674\\\\\n\t25 & SE & 1 &   1.0241187,   552\\\\\n\t26 & SP & 1 &   6.4667697, 29288\\\\\n\t27 & TO & 1 &   6.4599797,  6376\\\\\n\t28 & AC & 2 &  15.3043478,  2464\\\\\n\t29 & AL & 2 &   6.3241758,  4604\\\\\n\t30 & AM & 2 &  51.2290249, 22592\\\\\n\\end{tabular}\n",
            "text/plain": [
              "   estado semanaEpi casosNovos        \n",
              "1  AC     1           0.2111801,    34\n",
              "2  AL     1           1.8159341,  1322\n",
              "3  AM     1           6.9569161,  3068\n",
              "4  AP     1           7.8487395,   934\n",
              "5  BA     1           3.9570406, 11606\n",
              "6  CE     1           6.0890937,  7928\n",
              "7  DF     1         729.2857143, 10210\n",
              "8  ES     1          16.7678571,  9390\n",
              "9  GO     1           6.2926267, 10924\n",
              "10 MA     1           1.6086106,  2466\n",
              "11 MG     1          11.0843776, 66340\n",
              "12 MS     1          11.3535714,  6358\n",
              "13 MT     1          10.2537463, 10264\n",
              "14 PA     1           6.4926108,  6590\n",
              "15 PB     1           1.0946032,  1724\n",
              "16 PE     1           4.5362872,  5938\n",
              "17 PI     1          12.5246523, 19814\n",
              "18 PR     1          19.5404346, 54850\n",
              "19 RJ     1          90.0668693, 59264\n",
              "20 RN     1           4.6187658,  5464\n",
              "21 RO     1           8.5714286,  3240\n",
              "22 RR     1          13.3949580,  1594\n",
              "23 RS     1          13.1188090, 45824\n",
              "24 SC     1          16.6782107, 34674\n",
              "25 SE     1           1.0241187,   552\n",
              "26 SP     1           6.4667697, 29288\n",
              "27 TO     1           6.4599797,  6376\n",
              "28 AC     2          15.3043478,  2464\n",
              "29 AL     2           6.3241758,  4604\n",
              "30 AM     2          51.2290249, 22592"
            ]
          },
          "metadata": {}
        }
      ]
    },
    {
      "cell_type": "markdown",
      "source": [
        "...or better:"
      ],
      "metadata": {
        "id": "_d5TPfMKU4kp"
      }
    },
    {
      "cell_type": "code",
      "source": [
        "casesSumAndMeanByStateAndWeek=do.call(data.frame, aggregate(data=covid,casosNovos~estado + semanaEpi,\n",
        "function(x) c(mean = mean(x), sum = sum(x) ) ))\n",
        "head(casesSumAndMeanByStateAndWeek,30)"
      ],
      "metadata": {
        "id": "5FjLfIVqok6I",
        "colab": {
          "base_uri": "https://localhost:8080/",
          "height": 1000
        },
        "outputId": "7a7be2d7-9112-48dc-af15-d4c5ae2041ac"
      },
      "execution_count": null,
      "outputs": [
        {
          "output_type": "display_data",
          "data": {
            "text/html": [
              "<table class=\"dataframe\">\n",
              "<caption>A data.frame: 30 × 4</caption>\n",
              "<thead>\n",
              "\t<tr><th></th><th scope=col>estado</th><th scope=col>semanaEpi</th><th scope=col>casosNovos.mean</th><th scope=col>casosNovos.sum</th></tr>\n",
              "\t<tr><th></th><th scope=col>&lt;chr&gt;</th><th scope=col>&lt;int&gt;</th><th scope=col>&lt;dbl&gt;</th><th scope=col>&lt;dbl&gt;</th></tr>\n",
              "</thead>\n",
              "<tbody>\n",
              "\t<tr><th scope=row>1</th><td>AC</td><td>1</td><td>  0.2111801</td><td>   34</td></tr>\n",
              "\t<tr><th scope=row>2</th><td>AL</td><td>1</td><td>  1.8159341</td><td> 1322</td></tr>\n",
              "\t<tr><th scope=row>3</th><td>AM</td><td>1</td><td>  6.9569161</td><td> 3068</td></tr>\n",
              "\t<tr><th scope=row>4</th><td>AP</td><td>1</td><td>  7.8487395</td><td>  934</td></tr>\n",
              "\t<tr><th scope=row>5</th><td>BA</td><td>1</td><td>  3.9570406</td><td>11606</td></tr>\n",
              "\t<tr><th scope=row>6</th><td>CE</td><td>1</td><td>  6.0890937</td><td> 7928</td></tr>\n",
              "\t<tr><th scope=row>7</th><td>DF</td><td>1</td><td>729.2857143</td><td>10210</td></tr>\n",
              "\t<tr><th scope=row>8</th><td>ES</td><td>1</td><td> 16.7678571</td><td> 9390</td></tr>\n",
              "\t<tr><th scope=row>9</th><td>GO</td><td>1</td><td>  6.2926267</td><td>10924</td></tr>\n",
              "\t<tr><th scope=row>10</th><td>MA</td><td>1</td><td>  1.6086106</td><td> 2466</td></tr>\n",
              "\t<tr><th scope=row>11</th><td>MG</td><td>1</td><td> 11.0843776</td><td>66340</td></tr>\n",
              "\t<tr><th scope=row>12</th><td>MS</td><td>1</td><td> 11.3535714</td><td> 6358</td></tr>\n",
              "\t<tr><th scope=row>13</th><td>MT</td><td>1</td><td> 10.2537463</td><td>10264</td></tr>\n",
              "\t<tr><th scope=row>14</th><td>PA</td><td>1</td><td>  6.4926108</td><td> 6590</td></tr>\n",
              "\t<tr><th scope=row>15</th><td>PB</td><td>1</td><td>  1.0946032</td><td> 1724</td></tr>\n",
              "\t<tr><th scope=row>16</th><td>PE</td><td>1</td><td>  4.5362872</td><td> 5938</td></tr>\n",
              "\t<tr><th scope=row>17</th><td>PI</td><td>1</td><td> 12.5246523</td><td>19814</td></tr>\n",
              "\t<tr><th scope=row>18</th><td>PR</td><td>1</td><td> 19.5404346</td><td>54850</td></tr>\n",
              "\t<tr><th scope=row>19</th><td>RJ</td><td>1</td><td> 90.0668693</td><td>59264</td></tr>\n",
              "\t<tr><th scope=row>20</th><td>RN</td><td>1</td><td>  4.6187658</td><td> 5464</td></tr>\n",
              "\t<tr><th scope=row>21</th><td>RO</td><td>1</td><td>  8.5714286</td><td> 3240</td></tr>\n",
              "\t<tr><th scope=row>22</th><td>RR</td><td>1</td><td> 13.3949580</td><td> 1594</td></tr>\n",
              "\t<tr><th scope=row>23</th><td>RS</td><td>1</td><td> 13.1188090</td><td>45824</td></tr>\n",
              "\t<tr><th scope=row>24</th><td>SC</td><td>1</td><td> 16.6782107</td><td>34674</td></tr>\n",
              "\t<tr><th scope=row>25</th><td>SE</td><td>1</td><td>  1.0241187</td><td>  552</td></tr>\n",
              "\t<tr><th scope=row>26</th><td>SP</td><td>1</td><td>  6.4667697</td><td>29288</td></tr>\n",
              "\t<tr><th scope=row>27</th><td>TO</td><td>1</td><td>  6.4599797</td><td> 6376</td></tr>\n",
              "\t<tr><th scope=row>28</th><td>AC</td><td>2</td><td> 15.3043478</td><td> 2464</td></tr>\n",
              "\t<tr><th scope=row>29</th><td>AL</td><td>2</td><td>  6.3241758</td><td> 4604</td></tr>\n",
              "\t<tr><th scope=row>30</th><td>AM</td><td>2</td><td> 51.2290249</td><td>22592</td></tr>\n",
              "</tbody>\n",
              "</table>\n"
            ],
            "text/markdown": "\nA data.frame: 30 × 4\n\n| <!--/--> | estado &lt;chr&gt; | semanaEpi &lt;int&gt; | casosNovos.mean &lt;dbl&gt; | casosNovos.sum &lt;dbl&gt; |\n|---|---|---|---|---|\n| 1 | AC | 1 |   0.2111801 |    34 |\n| 2 | AL | 1 |   1.8159341 |  1322 |\n| 3 | AM | 1 |   6.9569161 |  3068 |\n| 4 | AP | 1 |   7.8487395 |   934 |\n| 5 | BA | 1 |   3.9570406 | 11606 |\n| 6 | CE | 1 |   6.0890937 |  7928 |\n| 7 | DF | 1 | 729.2857143 | 10210 |\n| 8 | ES | 1 |  16.7678571 |  9390 |\n| 9 | GO | 1 |   6.2926267 | 10924 |\n| 10 | MA | 1 |   1.6086106 |  2466 |\n| 11 | MG | 1 |  11.0843776 | 66340 |\n| 12 | MS | 1 |  11.3535714 |  6358 |\n| 13 | MT | 1 |  10.2537463 | 10264 |\n| 14 | PA | 1 |   6.4926108 |  6590 |\n| 15 | PB | 1 |   1.0946032 |  1724 |\n| 16 | PE | 1 |   4.5362872 |  5938 |\n| 17 | PI | 1 |  12.5246523 | 19814 |\n| 18 | PR | 1 |  19.5404346 | 54850 |\n| 19 | RJ | 1 |  90.0668693 | 59264 |\n| 20 | RN | 1 |   4.6187658 |  5464 |\n| 21 | RO | 1 |   8.5714286 |  3240 |\n| 22 | RR | 1 |  13.3949580 |  1594 |\n| 23 | RS | 1 |  13.1188090 | 45824 |\n| 24 | SC | 1 |  16.6782107 | 34674 |\n| 25 | SE | 1 |   1.0241187 |   552 |\n| 26 | SP | 1 |   6.4667697 | 29288 |\n| 27 | TO | 1 |   6.4599797 |  6376 |\n| 28 | AC | 2 |  15.3043478 |  2464 |\n| 29 | AL | 2 |   6.3241758 |  4604 |\n| 30 | AM | 2 |  51.2290249 | 22592 |\n\n",
            "text/latex": "A data.frame: 30 × 4\n\\begin{tabular}{r|llll}\n  & estado & semanaEpi & casosNovos.mean & casosNovos.sum\\\\\n  & <chr> & <int> & <dbl> & <dbl>\\\\\n\\hline\n\t1 & AC & 1 &   0.2111801 &    34\\\\\n\t2 & AL & 1 &   1.8159341 &  1322\\\\\n\t3 & AM & 1 &   6.9569161 &  3068\\\\\n\t4 & AP & 1 &   7.8487395 &   934\\\\\n\t5 & BA & 1 &   3.9570406 & 11606\\\\\n\t6 & CE & 1 &   6.0890937 &  7928\\\\\n\t7 & DF & 1 & 729.2857143 & 10210\\\\\n\t8 & ES & 1 &  16.7678571 &  9390\\\\\n\t9 & GO & 1 &   6.2926267 & 10924\\\\\n\t10 & MA & 1 &   1.6086106 &  2466\\\\\n\t11 & MG & 1 &  11.0843776 & 66340\\\\\n\t12 & MS & 1 &  11.3535714 &  6358\\\\\n\t13 & MT & 1 &  10.2537463 & 10264\\\\\n\t14 & PA & 1 &   6.4926108 &  6590\\\\\n\t15 & PB & 1 &   1.0946032 &  1724\\\\\n\t16 & PE & 1 &   4.5362872 &  5938\\\\\n\t17 & PI & 1 &  12.5246523 & 19814\\\\\n\t18 & PR & 1 &  19.5404346 & 54850\\\\\n\t19 & RJ & 1 &  90.0668693 & 59264\\\\\n\t20 & RN & 1 &   4.6187658 &  5464\\\\\n\t21 & RO & 1 &   8.5714286 &  3240\\\\\n\t22 & RR & 1 &  13.3949580 &  1594\\\\\n\t23 & RS & 1 &  13.1188090 & 45824\\\\\n\t24 & SC & 1 &  16.6782107 & 34674\\\\\n\t25 & SE & 1 &   1.0241187 &   552\\\\\n\t26 & SP & 1 &   6.4667697 & 29288\\\\\n\t27 & TO & 1 &   6.4599797 &  6376\\\\\n\t28 & AC & 2 &  15.3043478 &  2464\\\\\n\t29 & AL & 2 &   6.3241758 &  4604\\\\\n\t30 & AM & 2 &  51.2290249 & 22592\\\\\n\\end{tabular}\n",
            "text/plain": [
              "   estado semanaEpi casosNovos.mean casosNovos.sum\n",
              "1  AC     1           0.2111801        34         \n",
              "2  AL     1           1.8159341      1322         \n",
              "3  AM     1           6.9569161      3068         \n",
              "4  AP     1           7.8487395       934         \n",
              "5  BA     1           3.9570406     11606         \n",
              "6  CE     1           6.0890937      7928         \n",
              "7  DF     1         729.2857143     10210         \n",
              "8  ES     1          16.7678571      9390         \n",
              "9  GO     1           6.2926267     10924         \n",
              "10 MA     1           1.6086106      2466         \n",
              "11 MG     1          11.0843776     66340         \n",
              "12 MS     1          11.3535714      6358         \n",
              "13 MT     1          10.2537463     10264         \n",
              "14 PA     1           6.4926108      6590         \n",
              "15 PB     1           1.0946032      1724         \n",
              "16 PE     1           4.5362872      5938         \n",
              "17 PI     1          12.5246523     19814         \n",
              "18 PR     1          19.5404346     54850         \n",
              "19 RJ     1          90.0668693     59264         \n",
              "20 RN     1           4.6187658      5464         \n",
              "21 RO     1           8.5714286      3240         \n",
              "22 RR     1          13.3949580      1594         \n",
              "23 RS     1          13.1188090     45824         \n",
              "24 SC     1          16.6782107     34674         \n",
              "25 SE     1           1.0241187       552         \n",
              "26 SP     1           6.4667697     29288         \n",
              "27 TO     1           6.4599797      6376         \n",
              "28 AC     2          15.3043478      2464         \n",
              "29 AL     2           6.3241758      4604         \n",
              "30 AM     2          51.2290249     22592         "
            ]
          },
          "metadata": {}
        }
      ]
    },
    {
      "cell_type": "markdown",
      "source": [
        "* **The variables transformed**:\n",
        "\n",
        "We can apply the function to more than one variable:"
      ],
      "metadata": {
        "id": "TJ31uhBnnZTV"
      }
    },
    {
      "cell_type": "code",
      "source": [
        "# sum of cases and deaths by estado\n",
        "\n",
        "CasesAndDeathsByState=aggregate(data=covid,\n",
        "                                cbind(casosNovos,obitosNovos)~estado,\n",
        "                                sum)\n",
        "\n",
        "head(CasesAndDeathsByState,30)"
      ],
      "metadata": {
        "id": "OTspJpO-plnD",
        "colab": {
          "base_uri": "https://localhost:8080/",
          "height": 945
        },
        "outputId": "851477fc-69b1-407c-800e-9d33cd3a09ae"
      },
      "execution_count": null,
      "outputs": [
        {
          "output_type": "display_data",
          "data": {
            "text/html": [
              "<table class=\"dataframe\">\n",
              "<caption>A data.frame: 27 × 3</caption>\n",
              "<thead>\n",
              "\t<tr><th></th><th scope=col>estado</th><th scope=col>casosNovos</th><th scope=col>obitosNovos</th></tr>\n",
              "\t<tr><th></th><th scope=col>&lt;chr&gt;</th><th scope=col>&lt;int&gt;</th><th scope=col>&lt;int&gt;</th></tr>\n",
              "</thead>\n",
              "<tbody>\n",
              "\t<tr><th scope=row>1</th><td>AC</td><td>  98212</td><td>  318</td></tr>\n",
              "\t<tr><th scope=row>2</th><td>AL</td><td> 147788</td><td> 1302</td></tr>\n",
              "\t<tr><th scope=row>3</th><td>AM</td><td> 330308</td><td>  734</td></tr>\n",
              "\t<tr><th scope=row>4</th><td>AP</td><td>  91570</td><td>  254</td></tr>\n",
              "\t<tr><th scope=row>5</th><td>BA</td><td> 739720</td><td> 5438</td></tr>\n",
              "\t<tr><th scope=row>6</th><td>CE</td><td> 776922</td><td> 5106</td></tr>\n",
              "\t<tr><th scope=row>7</th><td>DF</td><td> 613688</td><td> 1406</td></tr>\n",
              "\t<tr><th scope=row>8</th><td>ES</td><td>1116860</td><td> 2594</td></tr>\n",
              "\t<tr><th scope=row>9</th><td>GO</td><td>1279760</td><td> 4834</td></tr>\n",
              "\t<tr><th scope=row>10</th><td>MA</td><td> 167962</td><td> 1088</td></tr>\n",
              "\t<tr><th scope=row>11</th><td>MG</td><td>3096646</td><td>11986</td></tr>\n",
              "\t<tr><th scope=row>12</th><td>MS</td><td> 360654</td><td> 1906</td></tr>\n",
              "\t<tr><th scope=row>13</th><td>MT</td><td> 489366</td><td> 2058</td></tr>\n",
              "\t<tr><th scope=row>14</th><td>PA</td><td> 344476</td><td> 2822</td></tr>\n",
              "\t<tr><th scope=row>15</th><td>PB</td><td> 348380</td><td> 1458</td></tr>\n",
              "\t<tr><th scope=row>16</th><td>PE</td><td> 742412</td><td> 3074</td></tr>\n",
              "\t<tr><th scope=row>17</th><td>PI</td><td>  95070</td><td> 1136</td></tr>\n",
              "\t<tr><th scope=row>18</th><td>PR</td><td>2148870</td><td> 6822</td></tr>\n",
              "\t<tr><th scope=row>19</th><td>RJ</td><td>2142644</td><td>10174</td></tr>\n",
              "\t<tr><th scope=row>20</th><td>RN</td><td> 310882</td><td> 1508</td></tr>\n",
              "\t<tr><th scope=row>21</th><td>RO</td><td> 305848</td><td> 1092</td></tr>\n",
              "\t<tr><th scope=row>22</th><td>RR</td><td>  82642</td><td>  160</td></tr>\n",
              "\t<tr><th scope=row>23</th><td>RS</td><td>2208120</td><td> 7778</td></tr>\n",
              "\t<tr><th scope=row>24</th><td>SC</td><td>1164718</td><td> 3972</td></tr>\n",
              "\t<tr><th scope=row>25</th><td>SE</td><td> 120602</td><td>  676</td></tr>\n",
              "\t<tr><th scope=row>26</th><td>SP</td><td>2810310</td><td>34144</td></tr>\n",
              "\t<tr><th scope=row>27</th><td>TO</td><td> 199116</td><td>  482</td></tr>\n",
              "</tbody>\n",
              "</table>\n"
            ],
            "text/markdown": "\nA data.frame: 27 × 3\n\n| <!--/--> | estado &lt;chr&gt; | casosNovos &lt;int&gt; | obitosNovos &lt;int&gt; |\n|---|---|---|---|\n| 1 | AC |   98212 |   318 |\n| 2 | AL |  147788 |  1302 |\n| 3 | AM |  330308 |   734 |\n| 4 | AP |   91570 |   254 |\n| 5 | BA |  739720 |  5438 |\n| 6 | CE |  776922 |  5106 |\n| 7 | DF |  613688 |  1406 |\n| 8 | ES | 1116860 |  2594 |\n| 9 | GO | 1279760 |  4834 |\n| 10 | MA |  167962 |  1088 |\n| 11 | MG | 3096646 | 11986 |\n| 12 | MS |  360654 |  1906 |\n| 13 | MT |  489366 |  2058 |\n| 14 | PA |  344476 |  2822 |\n| 15 | PB |  348380 |  1458 |\n| 16 | PE |  742412 |  3074 |\n| 17 | PI |   95070 |  1136 |\n| 18 | PR | 2148870 |  6822 |\n| 19 | RJ | 2142644 | 10174 |\n| 20 | RN |  310882 |  1508 |\n| 21 | RO |  305848 |  1092 |\n| 22 | RR |   82642 |   160 |\n| 23 | RS | 2208120 |  7778 |\n| 24 | SC | 1164718 |  3972 |\n| 25 | SE |  120602 |   676 |\n| 26 | SP | 2810310 | 34144 |\n| 27 | TO |  199116 |   482 |\n\n",
            "text/latex": "A data.frame: 27 × 3\n\\begin{tabular}{r|lll}\n  & estado & casosNovos & obitosNovos\\\\\n  & <chr> & <int> & <int>\\\\\n\\hline\n\t1 & AC &   98212 &   318\\\\\n\t2 & AL &  147788 &  1302\\\\\n\t3 & AM &  330308 &   734\\\\\n\t4 & AP &   91570 &   254\\\\\n\t5 & BA &  739720 &  5438\\\\\n\t6 & CE &  776922 &  5106\\\\\n\t7 & DF &  613688 &  1406\\\\\n\t8 & ES & 1116860 &  2594\\\\\n\t9 & GO & 1279760 &  4834\\\\\n\t10 & MA &  167962 &  1088\\\\\n\t11 & MG & 3096646 & 11986\\\\\n\t12 & MS &  360654 &  1906\\\\\n\t13 & MT &  489366 &  2058\\\\\n\t14 & PA &  344476 &  2822\\\\\n\t15 & PB &  348380 &  1458\\\\\n\t16 & PE &  742412 &  3074\\\\\n\t17 & PI &   95070 &  1136\\\\\n\t18 & PR & 2148870 &  6822\\\\\n\t19 & RJ & 2142644 & 10174\\\\\n\t20 & RN &  310882 &  1508\\\\\n\t21 & RO &  305848 &  1092\\\\\n\t22 & RR &   82642 &   160\\\\\n\t23 & RS & 2208120 &  7778\\\\\n\t24 & SC & 1164718 &  3972\\\\\n\t25 & SE &  120602 &   676\\\\\n\t26 & SP & 2810310 & 34144\\\\\n\t27 & TO &  199116 &   482\\\\\n\\end{tabular}\n",
            "text/plain": [
              "   estado casosNovos obitosNovos\n",
              "1  AC       98212      318      \n",
              "2  AL      147788     1302      \n",
              "3  AM      330308      734      \n",
              "4  AP       91570      254      \n",
              "5  BA      739720     5438      \n",
              "6  CE      776922     5106      \n",
              "7  DF      613688     1406      \n",
              "8  ES     1116860     2594      \n",
              "9  GO     1279760     4834      \n",
              "10 MA      167962     1088      \n",
              "11 MG     3096646    11986      \n",
              "12 MS      360654     1906      \n",
              "13 MT      489366     2058      \n",
              "14 PA      344476     2822      \n",
              "15 PB      348380     1458      \n",
              "16 PE      742412     3074      \n",
              "17 PI       95070     1136      \n",
              "18 PR     2148870     6822      \n",
              "19 RJ     2142644    10174      \n",
              "20 RN      310882     1508      \n",
              "21 RO      305848     1092      \n",
              "22 RR       82642      160      \n",
              "23 RS     2208120     7778      \n",
              "24 SC     1164718     3972      \n",
              "25 SE      120602      676      \n",
              "26 SP     2810310    34144      \n",
              "27 TO      199116      482      "
            ]
          },
          "metadata": {}
        }
      ]
    },
    {
      "cell_type": "markdown",
      "source": [
        "* Function **according** to variable\n",
        "\n",
        "The function can vary according to variable.  In this case, using **dplyr** is needed:"
      ],
      "metadata": {
        "id": "JZqCJTb1p2H-"
      }
    },
    {
      "cell_type": "code",
      "source": [
        "library(dplyr)\n",
        "covid |>\n",
        "  group_by(month) |>\n",
        "  summarize(casosNovos_VAR = var(casosNovos),\n",
        "            casosNovos_SD = sd(casosNovos),\n",
        "            obitosNovos_Median = median(obitosNovos),\n",
        "            obitosNovos_Mean = mean(obitosNovos))"
      ],
      "metadata": {
        "id": "GquyvCA3qFF9",
        "colab": {
          "base_uri": "https://localhost:8080/",
          "height": 568
        },
        "outputId": "7f562147-07e6-472e-cace-d6ee4fad8c1f"
      },
      "execution_count": null,
      "outputs": [
        {
          "output_type": "stream",
          "name": "stderr",
          "text": [
            "\n",
            "Attaching package: ‘dplyr’\n",
            "\n",
            "\n",
            "The following objects are masked from ‘package:stats’:\n",
            "\n",
            "    filter, lag\n",
            "\n",
            "\n",
            "The following objects are masked from ‘package:base’:\n",
            "\n",
            "    intersect, setdiff, setequal, union\n",
            "\n",
            "\n"
          ]
        },
        {
          "output_type": "display_data",
          "data": {
            "text/html": [
              "<table class=\"dataframe\">\n",
              "<caption>A tibble: 7 × 5</caption>\n",
              "<thead>\n",
              "\t<tr><th scope=col>month</th><th scope=col>casosNovos_VAR</th><th scope=col>casosNovos_SD</th><th scope=col>obitosNovos_Median</th><th scope=col>obitosNovos_Mean</th></tr>\n",
              "\t<tr><th scope=col>&lt;chr&gt;</th><th scope=col>&lt;dbl&gt;</th><th scope=col>&lt;dbl&gt;</th><th scope=col>&lt;dbl&gt;</th><th scope=col>&lt;dbl&gt;</th></tr>\n",
              "</thead>\n",
              "<tbody>\n",
              "\t<tr><td>01</td><td>326469.20</td><td>571.3748</td><td>0</td><td>0.09281227</td></tr>\n",
              "\t<tr><td>02</td><td>306066.65</td><td>553.2329</td><td>0</td><td>0.28219244</td></tr>\n",
              "\t<tr><td>03</td><td> 72432.53</td><td>269.1329</td><td>0</td><td>0.11970739</td></tr>\n",
              "\t<tr><td>04</td><td> 82381.53</td><td>287.0218</td><td>0</td><td>0.04438116</td></tr>\n",
              "\t<tr><td>05</td><td> 89456.42</td><td>299.0927</td><td>0</td><td>0.03650708</td></tr>\n",
              "\t<tr><td>06</td><td> 61557.08</td><td>248.1070</td><td>0</td><td>0.05624778</td></tr>\n",
              "\t<tr><td>07</td><td> 74893.74</td><td>273.6672</td><td>0</td><td>0.08545746</td></tr>\n",
              "</tbody>\n",
              "</table>\n"
            ],
            "text/markdown": "\nA tibble: 7 × 5\n\n| month &lt;chr&gt; | casosNovos_VAR &lt;dbl&gt; | casosNovos_SD &lt;dbl&gt; | obitosNovos_Median &lt;dbl&gt; | obitosNovos_Mean &lt;dbl&gt; |\n|---|---|---|---|---|\n| 01 | 326469.20 | 571.3748 | 0 | 0.09281227 |\n| 02 | 306066.65 | 553.2329 | 0 | 0.28219244 |\n| 03 |  72432.53 | 269.1329 | 0 | 0.11970739 |\n| 04 |  82381.53 | 287.0218 | 0 | 0.04438116 |\n| 05 |  89456.42 | 299.0927 | 0 | 0.03650708 |\n| 06 |  61557.08 | 248.1070 | 0 | 0.05624778 |\n| 07 |  74893.74 | 273.6672 | 0 | 0.08545746 |\n\n",
            "text/latex": "A tibble: 7 × 5\n\\begin{tabular}{lllll}\n month & casosNovos\\_VAR & casosNovos\\_SD & obitosNovos\\_Median & obitosNovos\\_Mean\\\\\n <chr> & <dbl> & <dbl> & <dbl> & <dbl>\\\\\n\\hline\n\t 01 & 326469.20 & 571.3748 & 0 & 0.09281227\\\\\n\t 02 & 306066.65 & 553.2329 & 0 & 0.28219244\\\\\n\t 03 &  72432.53 & 269.1329 & 0 & 0.11970739\\\\\n\t 04 &  82381.53 & 287.0218 & 0 & 0.04438116\\\\\n\t 05 &  89456.42 & 299.0927 & 0 & 0.03650708\\\\\n\t 06 &  61557.08 & 248.1070 & 0 & 0.05624778\\\\\n\t 07 &  74893.74 & 273.6672 & 0 & 0.08545746\\\\\n\\end{tabular}\n",
            "text/plain": [
              "  month casosNovos_VAR casosNovos_SD obitosNovos_Median obitosNovos_Mean\n",
              "1 01    326469.20      571.3748      0                  0.09281227      \n",
              "2 02    306066.65      553.2329      0                  0.28219244      \n",
              "3 03     72432.53      269.1329      0                  0.11970739      \n",
              "4 04     82381.53      287.0218      0                  0.04438116      \n",
              "5 05     89456.42      299.0927      0                  0.03650708      \n",
              "6 06     61557.08      248.1070      0                  0.05624778      \n",
              "7 07     74893.74      273.6672      0                  0.08545746      "
            ]
          },
          "metadata": {}
        }
      ]
    },
    {
      "cell_type": "code",
      "source": [],
      "metadata": {
        "id": "v72pofbdqO-6"
      },
      "execution_count": null,
      "outputs": []
    }
  ]
}