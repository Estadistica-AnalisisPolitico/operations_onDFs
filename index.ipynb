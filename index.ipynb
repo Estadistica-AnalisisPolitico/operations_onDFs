{
 "cells": [
  {
   "cell_type": "markdown",
   "id": "a012afb4",
   "metadata": {},
   "source": [
    "<center><img src=\"https://github.com/Estadistica-AnalisisPolitico/operations_onDFs/blob/main/Logo2025.png?raw=true\" width=\"900\"/></center>\n",
    "\n",
    "<br>\n",
    "<br>\n",
    "\n",
    "Profesor:[Dr. José Manuel MAGALLANES REYES, Ph.D](http://www.pucp.edu.pe/profesor/jose-manuel-magallanes/\" target=\"_blank) <br>\n",
    "\n",
    "-   Profesor Principal del Departamento de Ciencias Sociales, Sección de Ciencia Política y Gobierno.\n",
    "\n",
    "-   [Oficina 223](https://goo.gl/maps/xuGeG6o9di1i1y5m6) - Edificio CISEPA / ECONOMIA / CCSS\n",
    "-   Telefono: (51) 1 - 6262000 anexo 4302\n",
    "-   Correo Electrónico: [jmagallanes\\@pucp.edu.pe](mailto:jmagallanes@pucp.edu.pe)\n",
    "\n",
    "------------------------------------------------------------------------"
   ]
  },
  {
   "cell_type": "code",
   "execution_count": 1,
   "id": "73b5a722",
   "metadata": {
    "Rmd_chunk_options": "klippy, echo=FALSE, include=TRUE",
    "jupyter": {
     "output_hidden": false,
     "source_hidden": true
    },
    "kernel": "R",
    "tags": [
     "report_output"
    ]
   },
   "outputs": [],
   "source": [
    "library(magrittr)\n",
    "klippy::klippy(position = c('top', 'right'))"
   ]
  },
  {
   "cell_type": "markdown",
   "id": "1588b6a5",
   "metadata": {},
   "source": [
    "# Operations on Data Frames"
   ]
  },
  {
   "cell_type": "markdown",
   "id": "c422e79f",
   "metadata": {},
   "source": [
    "[RUN in GoogleColab](https://drive.google.com/file/d/1FUCy7zCFewQemw0K0hTyHizcYo3DEr30/view?usp=sharing)"
   ]
  },
  {
   "cell_type": "markdown",
   "id": "89a3541d",
   "metadata": {},
   "source": [
    "## Aggregation"
   ]
  },
  {
   "cell_type": "markdown",
   "id": "7cee769c",
   "metadata": {},
   "source": [
    "Let's bring some data of COVID from [Brazil](https://infoms.saude.gov.br/extensions/covid-19_html/covid-19_html.html):"
   ]
  },
  {
   "cell_type": "code",
   "execution_count": 2,
   "id": "5be5667b",
   "metadata": {
    "kernel": "R",
    "tags": [
     "report_cell"
    ]
   },
   "outputs": [],
   "source": [
    "rm(list = ls())\n",
    "linkCovid='https://github.com/Estadistica-AnalisisPolitico/operations_onDFs/raw/refs/heads/main/data/BrasilCovid.rds'\n",
    "dataCovid=readRDS(url(linkCovid))"
   ]
  },
  {
   "cell_type": "markdown",
   "id": "04975811",
   "metadata": {},
   "source": [
    "Now, check the data available:"
   ]
  },
  {
   "cell_type": "code",
   "execution_count": 3,
   "id": "4a0027ba",
   "metadata": {
    "kernel": "R",
    "tags": [
     "report_cell"
    ]
   },
   "outputs": [],
   "source": [
    "str(dataCovid)"
   ]
  },
  {
   "cell_type": "markdown",
   "id": "851c9d88",
   "metadata": {},
   "source": [
    "Let's keep complete data by \"ESTADO\":"
   ]
  },
  {
   "cell_type": "code",
   "execution_count": 4,
   "id": "70f7e0f4",
   "metadata": {
    "kernel": "R",
    "tags": [
     "report_cell"
    ]
   },
   "outputs": [],
   "source": [
    "dataCovid=dataCovid[dataCovid$estado!=\"\",]"
   ]
  },
  {
   "cell_type": "markdown",
   "id": "301d4144",
   "metadata": {},
   "source": [
    "Let's keep some columns:"
   ]
  },
  {
   "cell_type": "code",
   "execution_count": 5,
   "id": "dc2c6916",
   "metadata": {
    "kernel": "R",
    "tags": [
     "report_cell"
    ]
   },
   "outputs": [],
   "source": [
    "toSelect=c('regiao', 'estado', 'municipio','data', 'semanaEpi','casosNovos', 'obitosNovos','day','year','month')\n",
    "covid=dataCovid[,toSelect]\n",
    "\n",
    "head(covid)"
   ]
  },
  {
   "cell_type": "markdown",
   "id": "a8d228cf",
   "metadata": {},
   "source": [
    "Let's find out about years available:"
   ]
  },
  {
   "cell_type": "code",
   "execution_count": 6,
   "id": "d2a30989",
   "metadata": {
    "kernel": "R",
    "tags": [
     "report_cell"
    ]
   },
   "outputs": [],
   "source": [
    "unique(covid$year)"
   ]
  },
  {
   "cell_type": "code",
   "execution_count": 7,
   "id": "fa14b448",
   "metadata": {
    "kernel": "R",
    "tags": [
     "report_cell"
    ]
   },
   "outputs": [],
   "source": [
    "unique(covid$month)"
   ]
  },
  {
   "cell_type": "markdown",
   "id": "655bc9af",
   "metadata": {},
   "source": [
    "So, we have data from January to July 2022. Let's find out: **count of new positive cases per month**:"
   ]
  },
  {
   "cell_type": "code",
   "execution_count": 8,
   "id": "4099f400",
   "metadata": {
    "kernel": "R",
    "tags": [
     "report_cell"
    ]
   },
   "outputs": [],
   "source": [
    "for (month in unique(covid$month)) {\n",
    "    print(paste(month,sum(covid$casosNovos[covid$month==month])))}"
   ]
  },
  {
   "cell_type": "markdown",
   "id": "1d969f8c",
   "metadata": {},
   "source": [
    "We use **aggregation** to simplify the previous steps:"
   ]
  },
  {
   "cell_type": "code",
   "execution_count": 9,
   "id": "f1b749a0",
   "metadata": {
    "kernel": "R",
    "tags": [
     "report_cell"
    ]
   },
   "outputs": [],
   "source": [
    "# sum of cases by month\n",
    "casesSumByMonth=aggregate(data=covid,casosNovos~month,sum)\n",
    "casesSumByMonth"
   ]
  },
  {
   "cell_type": "markdown",
   "id": "8379367d",
   "metadata": {},
   "source": [
    "Notice the structure:"
   ]
  },
  {
   "cell_type": "code",
   "execution_count": 10,
   "id": "cffb07f7",
   "metadata": {
    "kernel": "R",
    "tags": [
     "report_cell"
    ]
   },
   "outputs": [],
   "source": [
    "is.data.frame(casesSumByMonth)"
   ]
  },
  {
   "cell_type": "markdown",
   "id": "3387e5e2",
   "metadata": {},
   "source": [
    "**AGGREGATING** capabilities allow us to produce useful output with few code:\n",
    "\n",
    "-   **The groupings**:\n",
    "\n",
    "In the last example, *month* was the **grouping** variable. We can have more than one:"
   ]
  },
  {
   "cell_type": "code",
   "execution_count": 11,
   "id": "2061752d",
   "metadata": {
    "kernel": "R",
    "tags": [
     "report_cell"
    ]
   },
   "outputs": [],
   "source": [
    "# sum of cases by estado and month\n",
    "theModel=casosNovos~estado + month\n",
    "theFun=sum\n",
    "casesSumByStateAndMonth=aggregate(data=covid,\n",
    "                                  theModel,\n",
    "                                  theFun)\n",
    "# see some\n",
    "casesSumByStateAndMonth%>%head(30)"
   ]
  },
  {
   "cell_type": "markdown",
   "id": "f6a4cb4b",
   "metadata": {},
   "source": [
    "-   **The function to apply**:\n",
    "\n",
    "We can have more than one function:"
   ]
  },
  {
   "cell_type": "code",
   "execution_count": 12,
   "id": "4a63534d",
   "metadata": {
    "kernel": "R",
    "tags": [
     "report_cell"
    ]
   },
   "outputs": [],
   "source": [
    "# sum and mean of cases by estado and week\n",
    "theModel=casosNovos~estado + semanaEpi\n",
    "theFun=function(x) c(mean = mean(x), sum = sum(x) )\n",
    "casesSumAndMeanByStateAndWeek=aggregate(data=covid,\n",
    "                                        theModel,\n",
    "                                        theFun)\n",
    "\n",
    "# sometimes you can not see this (when in RStudio)\n",
    "# see some\n",
    "casesSumAndMeanByStateAndWeek%>%head(30)"
   ]
  },
  {
   "cell_type": "markdown",
   "id": "3f82ac06",
   "metadata": {},
   "source": [
    "If you do not see the above result, turn the aggregation explicitly into a dataframe:"
   ]
  },
  {
   "cell_type": "code",
   "execution_count": 13,
   "id": "470ca36b",
   "metadata": {
    "kernel": "R",
    "tags": [
     "report_cell"
    ]
   },
   "outputs": [],
   "source": [
    "casesSumAndMeanByStateAndWeek=do.call(data.frame,\n",
    "                                      aggregate(data=covid,\n",
    "                                                theModel,\n",
    "                                                theFun))\n",
    "# see some\n",
    "casesSumAndMeanByStateAndWeek%>%head(30)"
   ]
  },
  {
   "cell_type": "markdown",
   "id": "4812d7eb",
   "metadata": {},
   "source": [
    "-   **The variables transformed**:\n",
    "\n",
    "We can apply the function to more than one variable:"
   ]
  },
  {
   "cell_type": "code",
   "execution_count": 14,
   "id": "adac4572",
   "metadata": {
    "kernel": "R",
    "tags": [
     "report_cell"
    ]
   },
   "outputs": [],
   "source": [
    "# sum of cases and deaths by estado\n",
    "theModel=cbind(casosNovos,obitosNovos)~estado\n",
    "theFun=sum\n",
    "CasesAndDeathsByState=aggregate(data=covid,\n",
    "                                theModel,\n",
    "                                theFun)\n",
    "\n",
    "# see some\n",
    "CasesAndDeathsByState%>%head(30)"
   ]
  },
  {
   "cell_type": "markdown",
   "id": "afd2270f",
   "metadata": {},
   "source": [
    "-   Function **according** to variable\n",
    "\n",
    "The function can vary according to variable. In this case, using **dplyr** is needed:"
   ]
  },
  {
   "cell_type": "code",
   "execution_count": 15,
   "id": "bf459222",
   "metadata": {
    "Rmd_chunk_options": "warning=FALSE, message=FALSE",
    "kernel": "R",
    "tags": [
     "report_cell"
    ]
   },
   "outputs": [],
   "source": [
    "library(dplyr)\n",
    "covid |>\n",
    "  group_by(month) |>\n",
    "  summarize(casosNovos_VAR = var(casosNovos),\n",
    "            casosNovos_SD = sd(casosNovos),\n",
    "            obitosNovos_Median = median(obitosNovos),\n",
    "            obitosNovos_Mean = mean(obitosNovos))"
   ]
  },
  {
   "cell_type": "markdown",
   "id": "002a01a5",
   "metadata": {},
   "source": [
    "------------------------------------------------------------------------"
   ]
  },
  {
   "cell_type": "markdown",
   "id": "52821075",
   "metadata": {},
   "source": [
    "## Concatenation"
   ]
  },
  {
   "cell_type": "markdown",
   "id": "e77bae38",
   "metadata": {},
   "source": [
    "As the name implies, it is the process to unite dataframes.\n",
    "\n",
    "For this example, there is a webpage in **[fragilestatesindex.org](https://fragilestatesindex.org/excel/)** where we can find several links to excel files. Let me get all the links:"
   ]
  },
  {
   "cell_type": "code",
   "execution_count": 16,
   "id": "fec97e08",
   "metadata": {
    "Rmd_chunk_options": "eval=TRUE",
    "kernel": "R",
    "tags": [
     "report_cell"
    ]
   },
   "outputs": [],
   "source": [
    "library(rvest)\n",
    "\n",
    "# Read the HTML content of the website\n",
    "webpage <- read_html(\"https://fragilestatesindex.org/excel/\")\n",
    "\n",
    "\n",
    "allLinks=html_nodes(webpage,\"table\") %>%\n",
    "            html_nodes(\"a\") %>% #“a” nodes contain linked text.\n",
    "                html_attr(\"href\")%>% # the url (an html attribute)\n",
    "                    trimws()%>%unique() # cleaning and keeping non duplicated\n",
    "allLinks"
   ]
  },
  {
   "cell_type": "markdown",
   "id": "d24f3ee6",
   "metadata": {},
   "source": [
    "Now, I will create a list of data frames by loading the data from those links:"
   ]
  },
  {
   "cell_type": "code",
   "execution_count": 17,
   "id": "fd2e72da",
   "metadata": {
    "Rmd_chunk_options": "eval=TRUE",
    "kernel": "R",
    "tags": [
     "report_cell"
    ]
   },
   "outputs": [],
   "source": [
    "dfs = lapply(allLinks, rio::import,col_types = \"text\")"
   ]
  },
  {
   "cell_type": "markdown",
   "id": "920a4893",
   "metadata": {},
   "source": [
    "Can we concatenate the files now?"
   ]
  },
  {
   "cell_type": "code",
   "execution_count": 18,
   "id": "0a263d51",
   "metadata": {
    "Rmd_chunk_options": "eval=FALSE",
    "kernel": "R",
    "tags": [
     "report_cell"
    ]
   },
   "outputs": [],
   "source": [
    "do.call(rbind, dfs)"
   ]
  },
  {
   "cell_type": "markdown",
   "id": "bf7874b4",
   "metadata": {},
   "source": [
    "It is not possible due to the column names differences in each dataframe (DF).\n",
    "\n",
    "We can solve this. Let's build a list where each element is the column names of each DF:"
   ]
  },
  {
   "cell_type": "code",
   "execution_count": 19,
   "id": "f3de6588",
   "metadata": {
    "Rmd_chunk_options": "eval=TRUE",
    "kernel": "R",
    "tags": [
     "report_cell"
    ]
   },
   "outputs": [],
   "source": [
    "allNames=list()\n",
    "i=1\n",
    "for (df in dfs){\n",
    "    allNames[[i]]=names(df)\n",
    "    i=i+1\n",
    "}"
   ]
  },
  {
   "cell_type": "markdown",
   "id": "4af221a2",
   "metadata": {},
   "source": [
    "Let me find WHAT is common in all DFs:"
   ]
  },
  {
   "cell_type": "code",
   "execution_count": 20,
   "id": "f506411b",
   "metadata": {
    "Rmd_chunk_options": "eval=TRUE",
    "kernel": "R",
    "tags": [
     "report_cell"
    ]
   },
   "outputs": [],
   "source": [
    "Reduce(intersect, allNames)"
   ]
  },
  {
   "cell_type": "markdown",
   "id": "fcf2a54f",
   "metadata": {},
   "source": [
    "If this is the union of all the column names:"
   ]
  },
  {
   "cell_type": "code",
   "execution_count": 21,
   "id": "0d8757fa",
   "metadata": {
    "Rmd_chunk_options": "eval=TRUE",
    "kernel": "R",
    "tags": [
     "report_cell"
    ]
   },
   "outputs": [],
   "source": [
    "Reduce(union, allNames)"
   ]
  },
  {
   "cell_type": "markdown",
   "id": "b6b87e32",
   "metadata": {},
   "source": [
    "This is what is NOT common:"
   ]
  },
  {
   "cell_type": "code",
   "execution_count": 22,
   "id": "a0646479",
   "metadata": {
    "Rmd_chunk_options": "eval=TRUE",
    "kernel": "R",
    "tags": [
     "report_cell"
    ]
   },
   "outputs": [],
   "source": [
    "setdiff(Reduce(union, allNames),Reduce(intersect, allNames))"
   ]
  },
  {
   "cell_type": "markdown",
   "id": "f6c7102f",
   "metadata": {},
   "source": [
    "I will force that each DF has the same names and is located in the same position:"
   ]
  },
  {
   "cell_type": "code",
   "execution_count": 23,
   "id": "7676723f",
   "metadata": {
    "Rmd_chunk_options": "eval=TRUE",
    "kernel": "R",
    "tags": [
     "report_cell"
    ]
   },
   "outputs": [],
   "source": [
    "allInCommon=Reduce(intersect, allNames)\n",
    "\n",
    "for (i in 1:length(dfs)){\n",
    "    dfs[[i]]=dfs[[i]][,allInCommon] #forcing!\n",
    "}"
   ]
  },
  {
   "cell_type": "markdown",
   "id": "9949916a",
   "metadata": {},
   "source": [
    "Now we can concatenate all of them:"
   ]
  },
  {
   "cell_type": "code",
   "execution_count": 24,
   "id": "ec6b3f08",
   "metadata": {
    "Rmd_chunk_options": "eval=TRUE",
    "kernel": "R",
    "tags": [
     "report_cell"
    ]
   },
   "outputs": [],
   "source": [
    "allFragility=do.call(rbind, dfs)"
   ]
  },
  {
   "cell_type": "markdown",
   "id": "ff89a272",
   "metadata": {},
   "source": [
    "Let's check:"
   ]
  },
  {
   "cell_type": "code",
   "execution_count": 25,
   "id": "09df9830",
   "metadata": {
    "Rmd_chunk_options": "eval=TRUE",
    "kernel": "R",
    "tags": [
     "report_cell"
    ]
   },
   "outputs": [],
   "source": [
    "str(allFragility)"
   ]
  },
  {
   "cell_type": "markdown",
   "id": "b39ba3d3",
   "metadata": {},
   "source": [
    "The concatenation is done, but the result needs cleaning and formatting.\n",
    "\n",
    "Let's use the column name patterns to create more useful names:"
   ]
  },
  {
   "cell_type": "code",
   "execution_count": 26,
   "id": "2981936b",
   "metadata": {
    "Rmd_chunk_options": "eval=TRUE",
    "kernel": "R",
    "tags": [
     "report_cell"
    ]
   },
   "outputs": [],
   "source": [
    "# woking on the names that have a ':'\n",
    "grep(':',names(allFragility),value = T)"
   ]
  },
  {
   "cell_type": "code",
   "execution_count": 27,
   "id": "e237a6b6",
   "metadata": {
    "Rmd_chunk_options": "eval=TRUE",
    "kernel": "R",
    "tags": [
     "report_cell"
    ]
   },
   "outputs": [],
   "source": [
    "columnNamesToClean=grep(':',names(allFragility),value = T)\n",
    "\n",
    "# Cleaning: no spaces and to lowercase\n",
    "gsub(\":\\\\s|\\\\s\",\"_\",columnNamesToClean)%>%tolower()"
   ]
  },
  {
   "cell_type": "markdown",
   "id": "869f9390",
   "metadata": {},
   "source": [
    "Let's make the replacement:"
   ]
  },
  {
   "cell_type": "code",
   "execution_count": 28,
   "id": "04ef83f3",
   "metadata": {
    "Rmd_chunk_options": "eval=TRUE",
    "kernel": "R",
    "tags": [
     "report_cell"
    ]
   },
   "outputs": [],
   "source": [
    "# sorted new names\n",
    "newNames=gsub(\":\\\\s|\\\\s\",\"_\",columnNamesToClean)%>%\n",
    "            tolower()\n",
    "\n",
    "# then\n",
    "names(allFragility)=c(names(allFragility)[1:4],newNames)\n",
    "str(allFragility)"
   ]
  },
  {
   "cell_type": "markdown",
   "id": "ad551111",
   "metadata": {},
   "source": [
    "We can have a better ordering in the column names:"
   ]
  },
  {
   "cell_type": "code",
   "execution_count": 29,
   "id": "5a9d34dd",
   "metadata": {
    "kernel": "R",
    "tags": [
     "report_cell"
    ]
   },
   "outputs": [],
   "source": [
    "allFragility=cbind(allFragility[,c(1:4)],allFragility[,sort(names(allFragility)[-c(1:4)])])"
   ]
  },
  {
   "cell_type": "markdown",
   "id": "c0bd7860",
   "metadata": {},
   "source": [
    "Now:"
   ]
  },
  {
   "cell_type": "code",
   "execution_count": 30,
   "id": "5ffae2d9",
   "metadata": {
    "kernel": "R",
    "tags": [
     "report_cell"
    ]
   },
   "outputs": [],
   "source": [
    "head(allFragility)"
   ]
  },
  {
   "cell_type": "markdown",
   "id": "d4412cbe",
   "metadata": {},
   "source": [
    "Let's check some possible errors knowing the origin was an excel file:\n",
    "\n",
    "- The year:"
   ]
  },
  {
   "cell_type": "code",
   "execution_count": 31,
   "id": "21a59e73",
   "metadata": {
    "Rmd_chunk_options": "eval=TRUE",
    "kernel": "R",
    "tags": [
     "report_cell"
    ]
   },
   "outputs": [],
   "source": [
    "table(allFragility$Year)"
   ]
  },
  {
   "cell_type": "markdown",
   "id": "ba579869",
   "metadata": {},
   "source": [
    "The numeric format tells us the representation of a date:"
   ]
  },
  {
   "cell_type": "code",
   "execution_count": 32,
   "id": "860e4005",
   "metadata": {
    "Rmd_chunk_options": "eval=TRUE",
    "kernel": "R",
    "tags": [
     "report_cell"
    ]
   },
   "outputs": [],
   "source": [
    "as.Date(38718, origin=\"1899-12-30\")"
   ]
  },
  {
   "cell_type": "markdown",
   "id": "14fc31eb",
   "metadata": {},
   "source": [
    "This looks like an easy fix, just verify we have integers:"
   ]
  },
  {
   "cell_type": "code",
   "execution_count": 33,
   "id": "5f8d90ba",
   "metadata": {
    "Rmd_chunk_options": "eval=TRUE",
    "kernel": "R",
    "tags": [
     "report_cell"
    ]
   },
   "outputs": [],
   "source": [
    "str(allFragility$Year)"
   ]
  },
  {
   "cell_type": "markdown",
   "id": "2004aeb3",
   "metadata": {},
   "source": [
    "Then,"
   ]
  },
  {
   "cell_type": "code",
   "execution_count": 34,
   "id": "5fbcd285",
   "metadata": {
    "Rmd_chunk_options": "eval=TRUE",
    "kernel": "R",
    "tags": [
     "report_cell"
    ]
   },
   "outputs": [],
   "source": [
    "allFragility$Year=as.numeric(allFragility$Year)"
   ]
  },
  {
   "cell_type": "markdown",
   "id": "abc3cdc1",
   "metadata": {},
   "source": [
    "We have two years well written, then:"
   ]
  },
  {
   "cell_type": "code",
   "execution_count": 35,
   "id": "acb2e9eb",
   "metadata": {
    "Rmd_chunk_options": "eval=TRUE",
    "kernel": "R",
    "tags": [
     "report_cell"
    ]
   },
   "outputs": [],
   "source": [
    "# temporal Column:\n",
    "allFragility$Year2=format(as.Date(allFragility$Year,\n",
    "                                  origin=\"1899-12-30\"),\n",
    "                          \"%Y\") # I will just recover the year.\n",
    "\n",
    "# improved column\n",
    "allFragility$Year=ifelse(allFragility$Year%in%c(2021,2023),\n",
    "                         allFragility$Year,\n",
    "                         allFragility$Year2)\n",
    "\n",
    "# deleting temporal\n",
    "allFragility$Year2=NULL\n",
    "\n",
    "# as numeric\n",
    "allFragility$Year=as.numeric(allFragility$Year)\n",
    "# now\n",
    "table(allFragility$Year)"
   ]
  },
  {
   "cell_type": "markdown",
   "id": "0b20559b",
   "metadata": {},
   "source": [
    "Recheck data types:"
   ]
  },
  {
   "cell_type": "code",
   "execution_count": 36,
   "id": "2f7a1a93",
   "metadata": {
    "kernel": "R",
    "tags": [
     "report_cell"
    ]
   },
   "outputs": [],
   "source": [
    "str(allFragility)"
   ]
  },
  {
   "cell_type": "markdown",
   "id": "977b1068",
   "metadata": {},
   "source": [
    "- Formatting the numeric columns:"
   ]
  },
  {
   "cell_type": "code",
   "execution_count": 37,
   "id": "221b5783",
   "metadata": {
    "Rmd_chunk_options": "eval=TRUE",
    "kernel": "R",
    "tags": [
     "report_cell"
    ]
   },
   "outputs": [],
   "source": [
    "allFragility[,-c(1:3)]=lapply(allFragility[,-c(1:3)],as.numeric)"
   ]
  },
  {
   "cell_type": "markdown",
   "id": "96165c3a",
   "metadata": {},
   "source": [
    "Verifying:"
   ]
  },
  {
   "cell_type": "code",
   "execution_count": 38,
   "id": "7d2636e0",
   "metadata": {
    "Rmd_chunk_options": "eval=TRUE",
    "kernel": "R",
    "tags": [
     "report_cell"
    ]
   },
   "outputs": [],
   "source": [
    "str(allFragility)"
   ]
  },
  {
   "cell_type": "markdown",
   "id": "b99fb77a",
   "metadata": {},
   "source": [
    "We have concatenated, cleaned and formatted successfully"
   ]
  },
  {
   "cell_type": "code",
   "execution_count": 39,
   "id": "ae416a4f",
   "metadata": {
    "Rmd_chunk_options": "eval=TRUE",
    "kernel": "R",
    "tags": [
     "report_cell"
    ]
   },
   "outputs": [],
   "source": [
    "saveRDS(allFragility,'allFragility_ok.rds')"
   ]
  },
  {
   "cell_type": "markdown",
   "id": "6d2900c1",
   "metadata": {},
   "source": [
    "------------------------------------------------------------------------"
   ]
  },
  {
   "cell_type": "markdown",
   "id": "6f46a91f",
   "metadata": {},
   "source": [
    "## Reshaping"
   ]
  },
  {
   "cell_type": "markdown",
   "id": "d3345e6a",
   "metadata": {},
   "source": [
    "Let me recover that data:"
   ]
  },
  {
   "cell_type": "code",
   "execution_count": 40,
   "id": "640a60a6",
   "metadata": {
    "kernel": "R",
    "tags": [
     "report_cell"
    ]
   },
   "outputs": [],
   "source": [
    "linkFragile='https://github.com/Estadistica-AnalisisPolitico/operations_onDFs/raw/refs/heads/main/data/allFragility_ok.rds'\n",
    "fragile=readRDS(url(linkFragile))"
   ]
  },
  {
   "cell_type": "markdown",
   "id": "40428db8",
   "metadata": {},
   "source": [
    "A basic look:"
   ]
  },
  {
   "cell_type": "code",
   "execution_count": 41,
   "id": "91e2d692",
   "metadata": {
    "kernel": "R",
    "tags": [
     "report_cell"
    ]
   },
   "outputs": [],
   "source": [
    "str(fragile)"
   ]
  },
  {
   "cell_type": "markdown",
   "id": "4b6731ec",
   "metadata": {},
   "source": [
    "We have data about countries (index of fragility and its components). The data is from several years:"
   ]
  },
  {
   "cell_type": "code",
   "execution_count": 42,
   "id": "29123197",
   "metadata": {
    "kernel": "R",
    "tags": [
     "report_cell"
    ]
   },
   "outputs": [],
   "source": [
    "table(fragile$Year)"
   ]
  },
  {
   "cell_type": "markdown",
   "id": "c789d55f",
   "metadata": {},
   "source": [
    "Take a look:"
   ]
  },
  {
   "cell_type": "code",
   "execution_count": 43,
   "id": "d720c5bc",
   "metadata": {
    "kernel": "R",
    "tags": [
     "report_cell"
    ]
   },
   "outputs": [],
   "source": [
    "head(fragile)"
   ]
  },
  {
   "cell_type": "markdown",
   "id": "7bdb02de",
   "metadata": {},
   "source": [
    "What **shape** does the table have? The presence of year in a column could make us think it is in a long shape.\n",
    "\n",
    "This could be a LONG:"
   ]
  },
  {
   "cell_type": "code",
   "execution_count": 44,
   "id": "620ef474",
   "metadata": {
    "kernel": "R",
    "tags": [
     "report_cell"
    ]
   },
   "outputs": [],
   "source": [
    "head(fragile[,c('Country','Year','Total')])"
   ]
  },
  {
   "cell_type": "markdown",
   "id": "3c251ed2",
   "metadata": {},
   "source": [
    "And you also have WIDE:"
   ]
  },
  {
   "cell_type": "code",
   "execution_count": 45,
   "id": "654dda7c",
   "metadata": {
    "kernel": "R",
    "tags": [
     "report_cell"
    ]
   },
   "outputs": [],
   "source": [
    "head(fragile[fragile$Year==2023,c('Country','c1_security_apparatus',\t'c2_factionalized_elites',\t'c3_group_grievance')])"
   ]
  },
  {
   "cell_type": "markdown",
   "id": "70380182",
   "metadata": {},
   "source": [
    "### From Long to Wide"
   ]
  },
  {
   "cell_type": "code",
   "execution_count": 46,
   "id": "ce7734fb",
   "metadata": {
    "kernel": "R",
    "tags": [
     "report_cell"
    ]
   },
   "outputs": [],
   "source": [
    "fragileWide=tidyr::pivot_wider(fragile[,c('Country','Year','Total')],\n",
    "                               names_from = Year,\n",
    "                               values_from = Total,\n",
    "                               names_sort=T)\n",
    "fragileWide"
   ]
  },
  {
   "cell_type": "markdown",
   "id": "1c279e77",
   "metadata": {},
   "source": [
    "Notice that for the column to be sorted properly you need to adding *names_sort*.\n",
    "\n",
    "The wide format is useful in several cases. In general, it looks easy.\n",
    "\n",
    "In **base R**, you can use it directly for plotting:"
   ]
  },
  {
   "cell_type": "code",
   "execution_count": 47,
   "id": "e8aae1fe",
   "metadata": {
    "kernel": "R",
    "tags": [
     "report_cell"
    ]
   },
   "outputs": [],
   "source": [
    "boxplot(fragileWide[,-1])"
   ]
  },
  {
   "cell_type": "markdown",
   "id": "15cbf68e",
   "metadata": {},
   "source": [
    "BUT in others such as GGPLOT, it is troublesome to use that format:"
   ]
  },
  {
   "cell_type": "code",
   "execution_count": 48,
   "id": "95737f90",
   "metadata": {
    "kernel": "R",
    "tags": [
     "report_cell"
    ]
   },
   "outputs": [],
   "source": [
    "library(ggplot2)\n",
    "base=ggplot(fragileWide)\n",
    "base+geom_boxplot(aes(x=as.ordered(2006),y=`2006`)) +\n",
    "     geom_boxplot(aes(x=as.ordered(2010),y=`2010`)) +\n",
    "     geom_boxplot(aes(x=as.ordered(2015),y=`2015`)) + labs(y='')"
   ]
  },
  {
   "cell_type": "markdown",
   "id": "e8b2ae92",
   "metadata": {},
   "source": [
    "### From Wide to Long\n",
    "\n",
    "We have  **pivot_longer** :"
   ]
  },
  {
   "cell_type": "code",
   "execution_count": 49,
   "id": "755e564d",
   "metadata": {
    "kernel": "R",
    "tags": [
     "report_cell"
    ]
   },
   "outputs": [],
   "source": [
    "fragileLong=tidyr::pivot_longer(fragileWide,!Country, names_to = \"Year\", values_to = \"FragilityIndex\")\n",
    "fragileLong"
   ]
  },
  {
   "cell_type": "markdown",
   "id": "aab824ea",
   "metadata": {},
   "source": [
    "GGPLOT will work with this:"
   ]
  },
  {
   "cell_type": "code",
   "execution_count": 50,
   "id": "06e1c8a8",
   "metadata": {
    "kernel": "R",
    "tags": [
     "report_cell"
    ]
   },
   "outputs": [],
   "source": [
    "base = ggplot(data=fragileLong)\n",
    "base + geom_boxplot(aes(x=Year,y=FragilityIndex))"
   ]
  },
  {
   "cell_type": "markdown",
   "id": "3dd98bbb",
   "metadata": {},
   "source": [
    "We can also use **base R**:"
   ]
  },
  {
   "cell_type": "code",
   "execution_count": 51,
   "id": "c04f3673",
   "metadata": {
    "kernel": "R",
    "tags": [
     "report_cell"
    ]
   },
   "outputs": [],
   "source": [
    "boxplot(data=fragileLong,FragilityIndex~Year)"
   ]
  },
  {
   "cell_type": "markdown",
   "id": "2c9525dc",
   "metadata": {},
   "source": [
    "This is another example without years.\n",
    "\n",
    "Let me keep one year, and some wide-shaped columns:"
   ]
  },
  {
   "cell_type": "code",
   "execution_count": 52,
   "id": "c7089a7a",
   "metadata": {
    "kernel": "R",
    "tags": [
     "report_cell"
    ]
   },
   "outputs": [],
   "source": [
    "CVars_columns=c('c1_security_apparatus',\t'c2_factionalized_elites',\t'c3_group_grievance')\n",
    "\n",
    "#only one year\n",
    "fragile_CVars_wide=fragile[fragile$Year==2020,c('Country',CVars_columns)]\n",
    "\n",
    "# see some\n",
    "fragile_CVars_wide%>%head(30)"
   ]
  },
  {
   "cell_type": "code",
   "execution_count": 53,
   "id": "cc6501a8",
   "metadata": {
    "kernel": "R",
    "tags": [
     "report_cell"
    ]
   },
   "outputs": [],
   "source": [
    "boxplot(fragile_CVars_wide[,-1])"
   ]
  },
  {
   "cell_type": "code",
   "execution_count": 54,
   "id": "ef44d2ea",
   "metadata": {
    "kernel": "R",
    "tags": [
     "report_cell"
    ]
   },
   "outputs": [],
   "source": [
    "fragile_CVars_long=tidyr::pivot_longer(fragile_CVars_wide,!Country, names_to = \"CVars_name\", values_to = \"CVars_value\")\n",
    "fragile_CVars_long"
   ]
  },
  {
   "cell_type": "code",
   "execution_count": 55,
   "id": "0d2be540",
   "metadata": {
    "kernel": "R",
    "tags": [
     "report_cell"
    ]
   },
   "outputs": [],
   "source": [
    "base=ggplot(data=fragile_CVars_long)\n",
    "base+geom_boxplot(aes(x=CVars_name,y=CVars_value))"
   ]
  },
  {
   "cell_type": "markdown",
   "id": "d39cd531",
   "metadata": {},
   "source": [
    "### LONG and WIDE madness\n",
    "\n",
    "Let me keep both long and wide elements:"
   ]
  },
  {
   "cell_type": "code",
   "execution_count": 56,
   "id": "6d131714",
   "metadata": {
    "kernel": "R",
    "tags": [
     "report_cell"
    ]
   },
   "outputs": [],
   "source": [
    "fragile_since2020=fragile[fragile$Year>=2020,c('Country','Year',CVars_columns)]\n",
    "\n",
    "# see some\n",
    "fragile_since2020%>%head(30)"
   ]
  },
  {
   "cell_type": "markdown",
   "id": "005ef0d3",
   "metadata": {},
   "source": [
    "See this result when sending a long column into a wide format when other variables are already wide:"
   ]
  },
  {
   "cell_type": "code",
   "execution_count": 57,
   "id": "d0f99691",
   "metadata": {
    "kernel": "R",
    "tags": [
     "report_cell"
    ]
   },
   "outputs": [],
   "source": [
    "fragile_since2020_wide=tidyr::pivot_wider(fragile_since2020,names_from = Year, values_from = all_of(CVars_columns))\n",
    "fragile_since2020_wide"
   ]
  },
  {
   "cell_type": "markdown",
   "id": "f6fe2134",
   "metadata": {},
   "source": [
    "As you saw, the conversion into the wide format changed the column names.\n",
    "\n",
    "Now, sending the wide columns next to the long column:"
   ]
  },
  {
   "cell_type": "code",
   "execution_count": 58,
   "id": "1e4a366b",
   "metadata": {
    "kernel": "R",
    "tags": [
     "report_cell"
    ]
   },
   "outputs": [],
   "source": [
    "fragile_since2020_long=tidyr::pivot_longer(fragile_since2020,\n",
    "                                           !c(Country,Year),\n",
    "                                           names_to = \"CVars_name\",\n",
    "                                           values_to = \"CVars_value\")\n",
    "fragile_since2020_long"
   ]
  },
  {
   "cell_type": "markdown",
   "id": "aaf928d1",
   "metadata": {},
   "source": [
    "## Merging"
   ]
  },
  {
   "cell_type": "markdown",
   "id": "aff7b064",
   "metadata": {},
   "source": [
    "Let me bring two data sets. This is their location:"
   ]
  },
  {
   "cell_type": "code",
   "execution_count": 59,
   "id": "cd366956",
   "metadata": {
    "kernel": "R",
    "tags": [
     "report_cell"
    ]
   },
   "outputs": [],
   "source": [
    "demoIndex=\"https://docs.google.com/spreadsheets/d/e/2PACX-1vQWJnw11Xd2TvEd0p6_6d2NhtG29T9D_85ooNB4yddfIVH_LBaqiYroAD3sZzD1wvOxBPpj68gPcPsi/pub?gid=0&single=true&output=csv\"\n",
    "debtIndex=\"https://docs.google.com/spreadsheets/d/e/2PACX-1vQWJnw11Xd2TvEd0p6_6d2NhtG29T9D_85ooNB4yddfIVH_LBaqiYroAD3sZzD1wvOxBPpj68gPcPsi/pub?gid=1301926611&single=true&output=csv\""
   ]
  },
  {
   "cell_type": "markdown",
   "id": "0ae4485d",
   "metadata": {},
   "source": [
    "Opening the data frames:"
   ]
  },
  {
   "cell_type": "code",
   "execution_count": 60,
   "id": "0c7a0fc0",
   "metadata": {
    "kernel": "R",
    "tags": [
     "report_cell"
    ]
   },
   "outputs": [],
   "source": [
    "demo=read.csv(demoIndex)\n",
    "debt=read.csv(debtIndex)"
   ]
  },
  {
   "cell_type": "markdown",
   "id": "8fbda63f",
   "metadata": {},
   "source": [
    "The contents of democracy related variables:"
   ]
  },
  {
   "cell_type": "code",
   "execution_count": 61,
   "id": "6c15708d",
   "metadata": {
    "kernel": "R",
    "tags": [
     "report_cell"
    ]
   },
   "outputs": [],
   "source": [
    "str(demo)"
   ]
  },
  {
   "cell_type": "markdown",
   "id": "423cddf6",
   "metadata": {},
   "source": [
    "The contents of public debt:"
   ]
  },
  {
   "cell_type": "code",
   "execution_count": 62,
   "id": "0151fe78",
   "metadata": {
    "kernel": "R",
    "tags": [
     "report_cell"
    ]
   },
   "outputs": [],
   "source": [
    "str(debt)"
   ]
  },
  {
   "cell_type": "markdown",
   "id": "23550e46",
   "metadata": {},
   "source": [
    "If we are to merge both tables, we do this:"
   ]
  },
  {
   "cell_type": "code",
   "execution_count": 63,
   "id": "03cee253",
   "metadata": {
    "kernel": "R",
    "tags": [
     "report_cell"
    ]
   },
   "outputs": [],
   "source": [
    "# by.x='name', by.y='name' are NOT NEEDED\n",
    "merge(demo,debt, by.x='name', by.y='name')"
   ]
  },
  {
   "cell_type": "markdown",
   "id": "17bdae03",
   "metadata": {},
   "source": [
    "As you see, merge is done, but at the expense of losing countries.\n",
    "\n",
    "The goal here is to lose less rows. Let's find out what was not matched in each case:"
   ]
  },
  {
   "cell_type": "code",
   "execution_count": 64,
   "id": "5cb9d84f",
   "metadata": {
    "kernel": "R",
    "tags": [
     "report_cell"
    ]
   },
   "outputs": [],
   "source": [
    "onlyInDemo=sort(setdiff(demo$name,debt$name))\n",
    "onlyInDemo"
   ]
  },
  {
   "cell_type": "code",
   "execution_count": 65,
   "id": "83713a45",
   "metadata": {
    "kernel": "R",
    "tags": [
     "report_cell"
    ]
   },
   "outputs": [],
   "source": [
    "onlyInDebt=sort(setdiff(debt$name,demo$name))\n",
    "onlyInDebt"
   ]
  },
  {
   "cell_type": "markdown",
   "id": "b015fbab",
   "metadata": {},
   "source": [
    "Let's install **stringdist**:"
   ]
  },
  {
   "cell_type": "code",
   "execution_count": 66,
   "id": "b2587f0a",
   "metadata": {
    "kernel": "R",
    "tags": [
     "report_cell"
    ]
   },
   "outputs": [],
   "source": [
    "# install.packages(\"stringdist\")"
   ]
  },
  {
   "cell_type": "markdown",
   "id": "89113636",
   "metadata": {},
   "source": [
    "This is a first try:"
   ]
  },
  {
   "cell_type": "code",
   "execution_count": 67,
   "id": "5ee257af",
   "metadata": {
    "kernel": "R",
    "tags": [
     "report_cell"
    ]
   },
   "outputs": [],
   "source": [
    "TheMatch<-character()\n",
    "mindist<-integer()\n",
    "sortedmatches<-character()\n",
    "\n",
    "for (i in 1:length(onlyInDemo) ) {\n",
    "  allDistances<-stringdist::stringdist(onlyInDemo[i],onlyInDebt,method = 'jw')\n",
    "  mindist[i]=min(allDistances)\n",
    "  TheMatch[i]<-onlyInDebt[which.min(allDistances)]\n",
    "}\n",
    "fuzzyOutput=data.frame(input=onlyInDemo,possible_match=TheMatch,divergence=mindist,  stringsAsFactors = F)\n",
    "\n",
    "fuzzyOutput[order(-fuzzyOutput$divergence),]"
   ]
  },
  {
   "cell_type": "markdown",
   "id": "4d07b417",
   "metadata": {},
   "source": [
    "We can keep matches above some threshold:"
   ]
  },
  {
   "cell_type": "code",
   "execution_count": 68,
   "id": "fc6b1aa8",
   "metadata": {
    "kernel": "R",
    "tags": [
     "report_cell"
    ]
   },
   "outputs": [],
   "source": [
    "best_fuzzy_1=fuzzyOutput[fuzzyOutput$divergence<=0.23,]\n",
    "best_fuzzy_1"
   ]
  },
  {
   "cell_type": "markdown",
   "id": "8221db8a",
   "metadata": {},
   "source": [
    "Here we update with the matches:"
   ]
  },
  {
   "cell_type": "code",
   "execution_count": 69,
   "id": "a6ccbeaa",
   "metadata": {
    "kernel": "R",
    "tags": [
     "report_cell"
    ]
   },
   "outputs": [],
   "source": [
    "demo$name[match(best_fuzzy_1$input, demo$name)] = best_fuzzy_1$possible_match"
   ]
  },
  {
   "cell_type": "markdown",
   "id": "87e84a15",
   "metadata": {},
   "source": [
    "And redo previous steps:"
   ]
  },
  {
   "cell_type": "code",
   "execution_count": 70,
   "id": "4c40d914",
   "metadata": {
    "kernel": "R",
    "tags": [
     "report_cell"
    ]
   },
   "outputs": [],
   "source": [
    "onlyInDemo=sort(setdiff(demo$name,debt$name))\n",
    "onlyInDebt=sort(setdiff(debt$name,demo$name))\n",
    "\n",
    "TheMatch<-character()\n",
    "mindist<-integer()\n",
    "sortedmatches<-character()\n",
    "\n",
    "for (i in 1:length(onlyInDemo) ) {\n",
    "  allDistances<-stringdist::stringdist(onlyInDemo[i],onlyInDebt,method = 'jw')\n",
    "  mindist[i]=min(allDistances)\n",
    "  TheMatch[i]<-onlyInDebt[which.min(allDistances)]\n",
    "}\n",
    "fuzzyOutput=data.frame(input=onlyInDemo,possible_match=TheMatch,divergence=mindist,  stringsAsFactors = F)\n",
    "\n",
    "fuzzyOutput[order(-fuzzyOutput$divergence),]"
   ]
  },
  {
   "cell_type": "markdown",
   "id": "9513ec70",
   "metadata": {},
   "source": [
    "We can choose some rows:"
   ]
  },
  {
   "cell_type": "code",
   "execution_count": 71,
   "id": "39864260",
   "metadata": {
    "kernel": "R",
    "tags": [
     "report_cell"
    ]
   },
   "outputs": [],
   "source": [
    "best_fuzzy_2=fuzzyOutput[c(4,3,9,1,2),]\n",
    "best_fuzzy_2"
   ]
  },
  {
   "cell_type": "markdown",
   "id": "190fee03",
   "metadata": {},
   "source": [
    "And then update and retry:"
   ]
  },
  {
   "cell_type": "code",
   "execution_count": 72,
   "id": "40802b4b",
   "metadata": {
    "kernel": "R",
    "tags": [
     "report_cell"
    ]
   },
   "outputs": [],
   "source": [
    "demo$name[match(best_fuzzy_2$input, demo$name)] = best_fuzzy_2$possible_match\n",
    "\n",
    "onlyInDemo=sort(setdiff(demo$name,debt$name))\n",
    "onlyInDebt=sort(setdiff(debt$name,demo$name))\n",
    "\n",
    "TheMatch<-character()\n",
    "mindist<-integer()\n",
    "sortedmatches<-character()\n",
    "\n",
    "for (i in 1:length(onlyInDemo) ) {\n",
    "  allDistances<-stringdist::stringdist(onlyInDemo[i],onlyInDebt,method = 'jw')\n",
    "  mindist[i]=min(allDistances)\n",
    "  TheMatch[i]<-onlyInDebt[which.min(allDistances)]\n",
    "}\n",
    "fuzzyOutput=data.frame(input=onlyInDemo,possible_match=TheMatch,divergence=mindist,  stringsAsFactors = F)\n",
    "\n",
    "fuzzyOutput[order(-fuzzyOutput$divergence),]"
   ]
  },
  {
   "cell_type": "markdown",
   "id": "afb71d92",
   "metadata": {},
   "source": [
    "The algorithm can be changed:"
   ]
  },
  {
   "cell_type": "code",
   "execution_count": 73,
   "id": "7b093fd5",
   "metadata": {
    "kernel": "R",
    "tags": [
     "report_cell"
    ]
   },
   "outputs": [],
   "source": [
    "TheMatch<-character()\n",
    "mindist<-integer()\n",
    "sortedmatches<-character()\n",
    "\n",
    "for (i in 1:length(onlyInDemo) ) {\n",
    "  allDistances<-stringdist::stringdist(onlyInDemo[i],onlyInDebt,method = 'cosine')\n",
    "  mindist[i]=min(allDistances)\n",
    "  TheMatch[i]<-onlyInDebt[which.min(allDistances)]\n",
    "}\n",
    "fuzzyOutput=data.frame(input=onlyInDemo,possible_match=TheMatch,divergence=mindist,  stringsAsFactors = F)\n",
    "\n",
    "fuzzyOutput[order(-fuzzyOutput$divergence),]"
   ]
  },
  {
   "cell_type": "markdown",
   "id": "dfe00edf",
   "metadata": {},
   "source": [
    "So, we recovered more:"
   ]
  },
  {
   "cell_type": "code",
   "execution_count": 74,
   "id": "87d2486f",
   "metadata": {
    "kernel": "R",
    "tags": [
     "report_cell"
    ]
   },
   "outputs": [],
   "source": [
    "best_fuzzy_3=fuzzyOutput[c(1,5),]\n",
    "best_fuzzy_3"
   ]
  },
  {
   "cell_type": "markdown",
   "id": "ff802c5f",
   "metadata": {},
   "source": [
    "We could add some manually:"
   ]
  },
  {
   "cell_type": "code",
   "execution_count": 75,
   "id": "f89461ce",
   "metadata": {
    "kernel": "R",
    "tags": [
     "report_cell"
    ]
   },
   "outputs": [],
   "source": [
    "best_fuzzy_3=rbind(best_fuzzy_3,c('Swaziland','Eswatini',NA))\n",
    "best_fuzzy_3"
   ]
  },
  {
   "cell_type": "markdown",
   "id": "f2853898",
   "metadata": {},
   "source": [
    "Then update:"
   ]
  },
  {
   "cell_type": "code",
   "execution_count": 76,
   "id": "70d79ef9",
   "metadata": {
    "kernel": "R",
    "tags": [
     "report_cell"
    ]
   },
   "outputs": [],
   "source": [
    "demo$name[match(best_fuzzy_3$input, demo$name)] = best_fuzzy_3$possible_match"
   ]
  },
  {
   "cell_type": "markdown",
   "id": "60f077f1",
   "metadata": {},
   "source": [
    "We should stop here, and get the best posible merge:"
   ]
  },
  {
   "cell_type": "code",
   "execution_count": 77,
   "id": "e140f153",
   "metadata": {
    "kernel": "R",
    "tags": [
     "report_cell"
    ]
   },
   "outputs": [],
   "source": [
    "demodebt=merge(demo,debt, by.x='name', by.y='name')\n",
    "str(demodebt)"
   ]
  }
 ],
 "metadata": {
  "kernelspec": {
   "display_name": "R",
   "language": "R",
   "name": "ir"
  },
  "language_info": {
   "codemirror_mode": "r",
   "file_extension": ".r",
   "mimetype": "text/x-r-source",
   "name": "R",
   "pygments_lexer": "r",
   "version": "3.6.3"
  }
 },
 "nbformat": 4,
 "nbformat_minor": 5
}
