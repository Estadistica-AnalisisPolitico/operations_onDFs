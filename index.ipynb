{
 "cells": [
  {
   "cell_type": "markdown",
   "id": "f6e981ac",
   "metadata": {},
   "source": [
    "<center><img src=\"https://github.com/Estadistica-AnalisisPolitico/operations_onDFs/blob/main/Logo2025.png?raw=true\" width=\"900\"/></center>\n",
    "\n",
    "<br>\n",
    "<br>\n",
    "\n",
    "Profesor:[Dr. José Manuel MAGALLANES REYES, Ph.D](http://www.pucp.edu.pe/profesor/jose-manuel-magallanes/\" target=\"_blank) <br>\n",
    "\n",
    "-   Profesor Principal del Departamento de Ciencias Sociales, Sección de Ciencia Política y Gobierno.\n",
    "\n",
    "-   [Oficina 223](https://goo.gl/maps/xuGeG6o9di1i1y5m6) - Edificio CISEPA / ECONOMIA / CCSS\n",
    "-   Telefono: (51) 1 - 6262000 anexo 4302\n",
    "-   Correo Electrónico: [jmagallanes\\@pucp.edu.pe](mailto:jmagallanes@pucp.edu.pe)\n",
    "\n",
    "_____________"
   ]
  },
  {
   "cell_type": "markdown",
   "id": "11ff6dec",
   "metadata": {},
   "source": [
    "# Operations on Data Frames"
   ]
  },
  {
   "cell_type": "markdown",
   "id": "31ead78d",
   "metadata": {},
   "source": [
    "## Aggregation"
   ]
  },
  {
   "cell_type": "markdown",
   "id": "7c4bfb04",
   "metadata": {},
   "source": [
    "Let's bring some data of COVID from Brazil:"
   ]
  },
  {
   "cell_type": "code",
   "execution_count": 1,
   "id": "a9362fda",
   "metadata": {
    "kernel": "R",
    "tags": [
     "report_cell"
    ]
   },
   "outputs": [],
   "source": [
    "rm(list = ls())\n",
    "linkCovid='https://github.com/Estadistica-AnalisisPolitico/operations_onDFs/raw/refs/heads/main/data/BrasilCovid.rds'\n",
    "dataCovid=readRDS(url(linkCovid))"
   ]
  },
  {
   "cell_type": "markdown",
   "id": "fa6ed57b",
   "metadata": {},
   "source": [
    "Now, check the data available:"
   ]
  },
  {
   "cell_type": "code",
   "execution_count": 2,
   "id": "17eba3fb",
   "metadata": {
    "kernel": "R",
    "tags": [
     "report_cell"
    ]
   },
   "outputs": [],
   "source": [
    "str(dataCovid)"
   ]
  },
  {
   "cell_type": "markdown",
   "id": "b7010020",
   "metadata": {},
   "source": [
    "Let's keep complete data by \"ESTADO\":"
   ]
  },
  {
   "cell_type": "code",
   "execution_count": 3,
   "id": "bb1be863",
   "metadata": {
    "kernel": "R",
    "tags": [
     "report_cell"
    ]
   },
   "outputs": [],
   "source": [
    "dataCovid=dataCovid[dataCovid$estado!=\"\",]"
   ]
  },
  {
   "cell_type": "markdown",
   "id": "c4f0e14c",
   "metadata": {},
   "source": [
    "Let's keep some columns:"
   ]
  },
  {
   "cell_type": "code",
   "execution_count": 4,
   "id": "4d9ace03",
   "metadata": {
    "kernel": "R",
    "tags": [
     "report_cell"
    ]
   },
   "outputs": [],
   "source": [
    "toSelect=c('regiao', 'estado', 'municipio','data', 'semanaEpi','casosNovos', 'obitosNovos','day','year','month')\n",
    "covid=dataCovid[,toSelect]\n",
    "\n",
    "head(covid)"
   ]
  },
  {
   "cell_type": "markdown",
   "id": "ce45b158",
   "metadata": {},
   "source": [
    "Let's find out about years available:"
   ]
  },
  {
   "cell_type": "code",
   "execution_count": 5,
   "id": "6843d96f",
   "metadata": {
    "kernel": "R",
    "tags": [
     "report_cell"
    ]
   },
   "outputs": [],
   "source": [
    "unique(covid$year)"
   ]
  },
  {
   "cell_type": "code",
   "execution_count": 6,
   "id": "7e5a689b",
   "metadata": {
    "kernel": "R",
    "tags": [
     "report_cell"
    ]
   },
   "outputs": [],
   "source": [
    "unique(covid$month)"
   ]
  },
  {
   "cell_type": "markdown",
   "id": "63d0e143",
   "metadata": {},
   "source": [
    "So, we have data from January to July 2022. Let's find out: **count of new positive cases per month**:"
   ]
  },
  {
   "cell_type": "code",
   "execution_count": 7,
   "id": "02542613",
   "metadata": {
    "kernel": "R",
    "tags": [
     "report_cell"
    ]
   },
   "outputs": [],
   "source": [
    "for (month in unique(covid$month)) {\n",
    "    print(paste(month,sum(covid$casosNovos[covid$month==month])))}"
   ]
  },
  {
   "cell_type": "markdown",
   "id": "d9d1aba1",
   "metadata": {},
   "source": [
    "We use **aggregation** to simplify the previous steps:"
   ]
  },
  {
   "cell_type": "code",
   "execution_count": 8,
   "id": "23d48ebc",
   "metadata": {
    "kernel": "R",
    "tags": [
     "report_cell"
    ]
   },
   "outputs": [],
   "source": [
    "# sum of cases by month\n",
    "casesSumByMonth=aggregate(data=covid,casosNovos~month,sum)\n",
    "casesSumByMonth"
   ]
  },
  {
   "cell_type": "markdown",
   "id": "21a5a9ad",
   "metadata": {},
   "source": [
    "Notice the structure:"
   ]
  },
  {
   "cell_type": "code",
   "execution_count": 9,
   "id": "899b0d85",
   "metadata": {
    "kernel": "R",
    "tags": [
     "report_cell"
    ]
   },
   "outputs": [],
   "source": [
    "is.data.frame(casesSumByMonth)"
   ]
  },
  {
   "cell_type": "markdown",
   "id": "9a8d0ad4",
   "metadata": {},
   "source": [
    "**AGGREGATING** capabilities allow us to produce useful output with few code:\n",
    "\n",
    "-   **The groupings**:\n",
    "\n",
    "In the last example, *month* was the **grouping** variable. We can have more than one:"
   ]
  },
  {
   "cell_type": "code",
   "execution_count": 10,
   "id": "5ea423b0",
   "metadata": {
    "kernel": "R",
    "tags": [
     "report_cell"
    ]
   },
   "outputs": [],
   "source": [
    "# sum of cases by estado and month\n",
    "theModel=casosNovos~estado + month\n",
    "theFun=sum\n",
    "casesSumByStateAndMonth=aggregate(data=covid,\n",
    "                                  theModel,\n",
    "                                  theFun)\n",
    "casesSumByStateAndMonth"
   ]
  },
  {
   "cell_type": "markdown",
   "id": "326df9e1",
   "metadata": {},
   "source": [
    "-   **The function to apply**:\n",
    "\n",
    "We can have more than one function:"
   ]
  },
  {
   "cell_type": "code",
   "execution_count": 11,
   "id": "63df4d70",
   "metadata": {
    "kernel": "R",
    "tags": [
     "report_cell"
    ]
   },
   "outputs": [],
   "source": [
    "# sum and mean of cases by estado and week\n",
    "theModel=casosNovos~estado + semanaEpi\n",
    "theFun=function(x) c(mean = mean(x), sum = sum(x) )\n",
    "casesSumAndMeanByStateAndWeek=aggregate(data=covid,\n",
    "                                        theModel,\n",
    "                                        theFun)\n",
    "\n",
    "# can you see?\n",
    "head(casesSumAndMeanByStateAndWeek,30)"
   ]
  },
  {
   "cell_type": "code",
   "execution_count": 12,
   "id": "38034ac0",
   "metadata": {
    "kernel": "R",
    "tags": [
     "report_cell"
    ]
   },
   "outputs": [],
   "source": [
    "is.data.frame(casesSumAndMeanByStateAndWeek)"
   ]
  },
  {
   "cell_type": "markdown",
   "id": "9b34b9b9",
   "metadata": {},
   "source": [
    "So, turn the aggregation explicitly into a dataframe:"
   ]
  },
  {
   "cell_type": "code",
   "execution_count": 13,
   "id": "9e307fed",
   "metadata": {
    "kernel": "R",
    "tags": [
     "report_cell"
    ]
   },
   "outputs": [],
   "source": [
    "casesSumAndMeanByStateAndWeek=do.call(data.frame,\n",
    "                                      aggregate(data=covid,\n",
    "                                                theModel,\n",
    "                                                theFun))\n",
    "head(casesSumAndMeanByStateAndWeek,30)"
   ]
  },
  {
   "cell_type": "markdown",
   "id": "1c9ed792",
   "metadata": {},
   "source": [
    "-   **The variables transformed**:\n",
    "\n",
    "We can apply the function to more than one variable:"
   ]
  },
  {
   "cell_type": "code",
   "execution_count": 14,
   "id": "d0096440",
   "metadata": {
    "kernel": "R",
    "tags": [
     "report_cell"
    ]
   },
   "outputs": [],
   "source": [
    "# sum of cases and deaths by estado\n",
    "theModel=cbind(casosNovos,obitosNovos)~estado\n",
    "theFun=sum\n",
    "CasesAndDeathsByState=aggregate(data=covid,\n",
    "                                theModel,\n",
    "                                theFun)\n",
    "\n",
    "head(CasesAndDeathsByState,30)"
   ]
  },
  {
   "cell_type": "markdown",
   "id": "2e679423",
   "metadata": {},
   "source": [
    "-   Function **according** to variable\n",
    "\n",
    "The function can vary according to variable. In this case, using **dplyr** is needed:"
   ]
  },
  {
   "cell_type": "code",
   "execution_count": 15,
   "id": "7fc790c9",
   "metadata": {
    "Rmd_chunk_options": "warning=FALSE",
    "kernel": "R",
    "tags": [
     "report_cell"
    ]
   },
   "outputs": [],
   "source": [
    "library(dplyr)\n",
    "covid |>\n",
    "  group_by(month) |>\n",
    "  summarize(casosNovos_VAR = var(casosNovos),\n",
    "            casosNovos_SD = sd(casosNovos),\n",
    "            obitosNovos_Median = median(obitosNovos),\n",
    "            obitosNovos_Mean = mean(obitosNovos))"
   ]
  },
  {
   "cell_type": "markdown",
   "id": "12d163a5",
   "metadata": {},
   "source": [
    "## Concatenation"
   ]
  },
  {
   "cell_type": "markdown",
   "id": "fab83092",
   "metadata": {},
   "source": [
    "As the name implies, it is the process to unite dataframes.\n",
    "\n",
    "For this example, there is a webpage in **fragilestatesindex.org** where we can find several links to excel files. Let me get all the links:"
   ]
  },
  {
   "cell_type": "code",
   "execution_count": 16,
   "id": "74027108",
   "metadata": {
    "Rmd_chunk_options": "eval=TRUE",
    "kernel": "R",
    "tags": [
     "report_cell"
    ]
   },
   "outputs": [],
   "source": [
    "library(rvest)\n",
    "\n",
    "# Read the HTML content of the website\n",
    "webpage <- read_html(\"https://fragilestatesindex.org/excel/\")\n",
    "\n",
    "\n",
    "allLinks=html_nodes(webpage,\"table\") %>%\n",
    "            html_nodes(\"a\") %>% #“a” nodes contain linked text.\n",
    "                html_attr(\"href\")%>% # the url (an html attribute)\n",
    "                    trimws()%>%unique() # cleaning and keeping non duplicated\n",
    "allLinks"
   ]
  },
  {
   "cell_type": "markdown",
   "id": "e385db32",
   "metadata": {},
   "source": [
    "Now, I will create a list of data frames by loading the data from those links:"
   ]
  },
  {
   "cell_type": "code",
   "execution_count": 17,
   "id": "bbadd01a",
   "metadata": {
    "Rmd_chunk_options": "eval=TRUE",
    "kernel": "R",
    "tags": [
     "report_cell"
    ]
   },
   "outputs": [],
   "source": [
    "dfs = lapply(allLinks, rio::import,col_types = \"text\")"
   ]
  },
  {
   "cell_type": "markdown",
   "id": "0a7b0083",
   "metadata": {},
   "source": [
    "Can we concatenate the files now?"
   ]
  },
  {
   "cell_type": "code",
   "execution_count": 18,
   "id": "5883ec18",
   "metadata": {
    "Rmd_chunk_options": "eval=FALSE",
    "kernel": "R",
    "tags": [
     "report_cell"
    ]
   },
   "outputs": [],
   "source": [
    "do.call(rbind, dfs)"
   ]
  },
  {
   "cell_type": "markdown",
   "id": "16844753",
   "metadata": {},
   "source": [
    "It is not possible due to the column names differences in each dataframe (DF).\n",
    "\n",
    "We can solve this. Let's build a list where each element is the column names of each DF:"
   ]
  },
  {
   "cell_type": "code",
   "execution_count": 19,
   "id": "038f1382",
   "metadata": {
    "Rmd_chunk_options": "eval=TRUE",
    "kernel": "R",
    "tags": [
     "report_cell"
    ]
   },
   "outputs": [],
   "source": [
    "allNames=list()\n",
    "i=1\n",
    "for (df in dfs){\n",
    "    allNames[[i]]=names(df)\n",
    "    i=i+1\n",
    "}"
   ]
  },
  {
   "cell_type": "markdown",
   "id": "3429eb8c",
   "metadata": {},
   "source": [
    "Let me find WHAT is common in all DFs:"
   ]
  },
  {
   "cell_type": "code",
   "execution_count": 20,
   "id": "db801af0",
   "metadata": {
    "Rmd_chunk_options": "eval=TRUE",
    "kernel": "R",
    "tags": [
     "report_cell"
    ]
   },
   "outputs": [],
   "source": [
    "Reduce(intersect, allNames)"
   ]
  },
  {
   "cell_type": "markdown",
   "id": "534eee03",
   "metadata": {},
   "source": [
    "If this is the union of all the column names:"
   ]
  },
  {
   "cell_type": "code",
   "execution_count": 21,
   "id": "e1a46725",
   "metadata": {
    "Rmd_chunk_options": "eval=TRUE",
    "kernel": "R",
    "tags": [
     "report_cell"
    ]
   },
   "outputs": [],
   "source": [
    "Reduce(union, allNames)"
   ]
  },
  {
   "cell_type": "markdown",
   "id": "b5cfc386",
   "metadata": {},
   "source": [
    "This is what is NOT common:"
   ]
  },
  {
   "cell_type": "code",
   "execution_count": 22,
   "id": "1f6c1b72",
   "metadata": {
    "Rmd_chunk_options": "eval=TRUE",
    "kernel": "R",
    "tags": [
     "report_cell"
    ]
   },
   "outputs": [],
   "source": [
    "setdiff(Reduce(union, allNames),Reduce(intersect, allNames))"
   ]
  },
  {
   "cell_type": "markdown",
   "id": "1b7ce402",
   "metadata": {},
   "source": [
    "I will force that each DF has the same names and in the same position:"
   ]
  },
  {
   "cell_type": "code",
   "execution_count": 23,
   "id": "88e196f0",
   "metadata": {
    "Rmd_chunk_options": "eval=TRUE",
    "kernel": "R",
    "tags": [
     "report_cell"
    ]
   },
   "outputs": [],
   "source": [
    "allInCommon=Reduce(intersect, allNames)\n",
    "\n",
    "for (i in 1:length(dfs)){\n",
    "    dfs[[i]]=dfs[[i]][,allInCommon] #forcing!\n",
    "}"
   ]
  },
  {
   "cell_type": "markdown",
   "id": "309b1cde",
   "metadata": {},
   "source": [
    "Now we can concatenate all of them:"
   ]
  },
  {
   "cell_type": "code",
   "execution_count": 24,
   "id": "eb806ec8",
   "metadata": {
    "Rmd_chunk_options": "eval=TRUE",
    "kernel": "R",
    "tags": [
     "report_cell"
    ]
   },
   "outputs": [],
   "source": [
    "allFragility=do.call(rbind, dfs)"
   ]
  },
  {
   "cell_type": "markdown",
   "id": "e805b4b3",
   "metadata": {},
   "source": [
    "Let's check:"
   ]
  },
  {
   "cell_type": "code",
   "execution_count": 25,
   "id": "1cf391fa",
   "metadata": {
    "Rmd_chunk_options": "eval=TRUE",
    "kernel": "R",
    "tags": [
     "report_cell"
    ]
   },
   "outputs": [],
   "source": [
    "str(allFragility)"
   ]
  },
  {
   "cell_type": "markdown",
   "id": "8b3ea7da",
   "metadata": {},
   "source": [
    "The names can be cleaned and reorganized (sort):"
   ]
  },
  {
   "cell_type": "code",
   "execution_count": 26,
   "id": "4321a5f5",
   "metadata": {
    "Rmd_chunk_options": "eval=TRUE",
    "kernel": "R",
    "tags": [
     "report_cell"
    ]
   },
   "outputs": [],
   "source": [
    "# what names?\n",
    "grep(':',names(allFragility),value = T)"
   ]
  },
  {
   "cell_type": "code",
   "execution_count": 27,
   "id": "a85f6552",
   "metadata": {
    "Rmd_chunk_options": "eval=TRUE",
    "kernel": "R",
    "tags": [
     "report_cell"
    ]
   },
   "outputs": [],
   "source": [
    "# no spaces and to lowercase\n",
    "gsub(\":\\\\s|\\\\s\",\"_\",grep(':',names(allFragility),value = T))%>%tolower()"
   ]
  },
  {
   "cell_type": "code",
   "execution_count": 28,
   "id": "48e17e6d",
   "metadata": {
    "Rmd_chunk_options": "eval=TRUE",
    "kernel": "R",
    "tags": [
     "report_cell"
    ]
   },
   "outputs": [],
   "source": [
    "# sorted new names\n",
    "newNames=sort(gsub(\":\\\\s|\\\\s\",\"_\",grep(':',names(allFragility),value = T))%>%tolower())\n",
    "\n",
    "# then\n",
    "names(allFragility)=c(names(allFragility)[1:4],newNames)\n",
    "str(allFragility)"
   ]
  },
  {
   "cell_type": "markdown",
   "id": "c9adf461",
   "metadata": {},
   "source": [
    "Let's check some possible errors knowing the origin was an excel file:\n",
    "\n",
    "- The year:"
   ]
  },
  {
   "cell_type": "code",
   "execution_count": 29,
   "id": "89d49a54",
   "metadata": {
    "Rmd_chunk_options": "eval=TRUE",
    "kernel": "R",
    "tags": [
     "report_cell"
    ]
   },
   "outputs": [],
   "source": [
    "table(allFragility$Year)"
   ]
  },
  {
   "cell_type": "markdown",
   "id": "e1eb64e7",
   "metadata": {},
   "source": [
    "The numeric format tells us the representation of a date:"
   ]
  },
  {
   "cell_type": "code",
   "execution_count": 30,
   "id": "411a3684",
   "metadata": {
    "Rmd_chunk_options": "eval=TRUE",
    "kernel": "R",
    "tags": [
     "report_cell"
    ]
   },
   "outputs": [],
   "source": [
    "as.Date(38718, origin=\"1899-12-30\")"
   ]
  },
  {
   "cell_type": "markdown",
   "id": "0bd11fed",
   "metadata": {},
   "source": [
    "This looks like an easy fix, just verify we have integers:"
   ]
  },
  {
   "cell_type": "code",
   "execution_count": 31,
   "id": "1afc0721",
   "metadata": {
    "Rmd_chunk_options": "eval=TRUE",
    "kernel": "R",
    "tags": [
     "report_cell"
    ]
   },
   "outputs": [],
   "source": [
    "str(allFragility$Year)"
   ]
  },
  {
   "cell_type": "markdown",
   "id": "94a2dd10",
   "metadata": {},
   "source": [
    "Then,"
   ]
  },
  {
   "cell_type": "code",
   "execution_count": 32,
   "id": "496300ab",
   "metadata": {
    "Rmd_chunk_options": "eval=TRUE",
    "kernel": "R",
    "tags": [
     "report_cell"
    ]
   },
   "outputs": [],
   "source": [
    "allFragility$Year=as.numeric(allFragility$Year)"
   ]
  },
  {
   "cell_type": "markdown",
   "id": "9d006300",
   "metadata": {},
   "source": [
    "We have two years well written, then:"
   ]
  },
  {
   "cell_type": "code",
   "execution_count": 33,
   "id": "362dbe9d",
   "metadata": {
    "Rmd_chunk_options": "eval=TRUE",
    "kernel": "R",
    "tags": [
     "report_cell"
    ]
   },
   "outputs": [],
   "source": [
    "# temproral Column:\n",
    "allFragility$Year2=format(as.Date(allFragility$Year,\n",
    "                                  origin=\"1899-12-30\"),\n",
    "                          \"%Y\") # I will just recover the year.\n",
    "\n",
    "# improved column\n",
    "allFragility$Year=ifelse(allFragility$Year%in%c(2021,2023),\n",
    "                         allFragility$Year,\n",
    "                         allFragility$Year2)\n",
    "\n",
    "# deleting temporal\n",
    "allFragility$Year2=NULL\n",
    "\n",
    "# as numeric\n",
    "allFragility$Year=as.numeric(allFragility$Year)\n",
    "# now\n",
    "table(allFragility$Year)"
   ]
  },
  {
   "cell_type": "markdown",
   "id": "62e720d9",
   "metadata": {},
   "source": [
    "Recheck data types:"
   ]
  },
  {
   "cell_type": "code",
   "execution_count": 34,
   "id": "5ea702c8",
   "metadata": {
    "kernel": "R",
    "tags": [
     "report_cell"
    ]
   },
   "outputs": [],
   "source": [
    "str(allFragility)"
   ]
  },
  {
   "cell_type": "markdown",
   "id": "529f0909",
   "metadata": {},
   "source": [
    "- The numeric columns as numeric:"
   ]
  },
  {
   "cell_type": "code",
   "execution_count": 35,
   "id": "d7ff0c08",
   "metadata": {
    "Rmd_chunk_options": "eval=TRUE",
    "kernel": "R",
    "tags": [
     "report_cell"
    ]
   },
   "outputs": [],
   "source": [
    "allFragility[,-c(1:3)]=lapply(allFragility[,-c(1:3)],as.numeric)"
   ]
  },
  {
   "cell_type": "markdown",
   "id": "051449e9",
   "metadata": {},
   "source": [
    "Verifying:"
   ]
  },
  {
   "cell_type": "code",
   "execution_count": 36,
   "id": "7d4f196f",
   "metadata": {
    "Rmd_chunk_options": "eval=TRUE",
    "kernel": "R",
    "tags": [
     "report_cell"
    ]
   },
   "outputs": [],
   "source": [
    "str(allFragility)"
   ]
  },
  {
   "cell_type": "markdown",
   "id": "cedfdf91",
   "metadata": {},
   "source": [
    "We have concatenated, cleaned and formatted successfully"
   ]
  },
  {
   "cell_type": "code",
   "execution_count": 37,
   "id": "3d53314f",
   "metadata": {
    "Rmd_chunk_options": "eval=TRUE",
    "kernel": "R",
    "tags": [
     "report_cell"
    ]
   },
   "outputs": [],
   "source": [
    "saveRDS(allFragility,'allFragility.rds')"
   ]
  },
  {
   "cell_type": "markdown",
   "id": "35c46677",
   "metadata": {},
   "source": [
    "## Reshaping"
   ]
  },
  {
   "cell_type": "markdown",
   "id": "af700512",
   "metadata": {},
   "source": [
    "Let me recover that data:"
   ]
  },
  {
   "cell_type": "code",
   "execution_count": 38,
   "id": "48a96f91",
   "metadata": {
    "kernel": "R",
    "tags": [
     "report_cell"
    ]
   },
   "outputs": [],
   "source": [
    "linkFragile='https://github.com/Estadistica-AnalisisPolitico/operations_onDFs/raw/refs/heads/main/data/allFragility.rds'\n",
    "fragile=readRDS(url(linkFragile))"
   ]
  },
  {
   "cell_type": "markdown",
   "id": "661af66c",
   "metadata": {},
   "source": [
    "A basic look:"
   ]
  },
  {
   "cell_type": "code",
   "execution_count": 39,
   "id": "1595d8fe",
   "metadata": {
    "kernel": "R",
    "tags": [
     "report_cell"
    ]
   },
   "outputs": [],
   "source": [
    "str(fragile)"
   ]
  },
  {
   "cell_type": "markdown",
   "id": "8266bad2",
   "metadata": {},
   "source": [
    "We have data about countries (index of fragility and its components). The data is from several years:"
   ]
  },
  {
   "cell_type": "code",
   "execution_count": 40,
   "id": "82bf4347",
   "metadata": {
    "kernel": "R",
    "tags": [
     "report_cell"
    ]
   },
   "outputs": [],
   "source": [
    "table(fragile$Year)"
   ]
  },
  {
   "cell_type": "markdown",
   "id": "6a7829c0",
   "metadata": {},
   "source": [
    "Take a look:"
   ]
  },
  {
   "cell_type": "code",
   "execution_count": 41,
   "id": "aac6ab03",
   "metadata": {
    "kernel": "R",
    "tags": [
     "report_cell"
    ]
   },
   "outputs": [],
   "source": [
    "head(fragile)"
   ]
  },
  {
   "cell_type": "markdown",
   "id": "a6239cf2",
   "metadata": {},
   "source": [
    "What **shape** does the table have? The presence of year in a column could make us think it is in a long shape.\n",
    "\n",
    "This could be a LONG:"
   ]
  },
  {
   "cell_type": "code",
   "execution_count": 42,
   "id": "cd7e1b9e",
   "metadata": {
    "kernel": "R",
    "tags": [
     "report_cell"
    ]
   },
   "outputs": [],
   "source": [
    "head(fragile[,c('Country','Year','Total')])"
   ]
  },
  {
   "cell_type": "markdown",
   "id": "047113f3",
   "metadata": {},
   "source": [
    "And you also have WIDE:"
   ]
  },
  {
   "cell_type": "code",
   "execution_count": 43,
   "id": "708954a5",
   "metadata": {
    "kernel": "R",
    "tags": [
     "report_cell"
    ]
   },
   "outputs": [],
   "source": [
    "head(fragile[fragile$Year==2023,c('Country','c1_security_apparatus',\t'c2_factionalized_elites',\t'c3_group_grievance')])"
   ]
  },
  {
   "cell_type": "markdown",
   "id": "26a00a2f",
   "metadata": {},
   "source": [
    "## From Long to Wide"
   ]
  },
  {
   "cell_type": "code",
   "execution_count": 44,
   "id": "575c5ad4",
   "metadata": {
    "kernel": "R",
    "tags": [
     "report_cell"
    ]
   },
   "outputs": [],
   "source": [
    "fragileWide=tidyr::pivot_wider(fragile[,c('Country','Year','Total')],\n",
    "                               names_from = Year,\n",
    "                               values_from = Total,\n",
    "                               names_sort=T)\n",
    "fragileWide"
   ]
  },
  {
   "cell_type": "markdown",
   "id": "4dbc1a10",
   "metadata": {},
   "source": [
    "Notice that for the column to be sorted properly you need to adding *names_sort*.\n",
    "\n",
    "The wide format is useful in several cases. In general, it looks easy.\n",
    "\n",
    "In **base R**, you can use it directly for plotting:"
   ]
  },
  {
   "cell_type": "code",
   "execution_count": 45,
   "id": "2e8313de",
   "metadata": {
    "kernel": "R",
    "tags": [
     "report_cell"
    ]
   },
   "outputs": [],
   "source": [
    "boxplot(fragileWide[,-1])"
   ]
  },
  {
   "cell_type": "markdown",
   "id": "945dcc76",
   "metadata": {},
   "source": [
    "BUT in others such as GGPLOT, it is troublesome to use that format:"
   ]
  },
  {
   "cell_type": "code",
   "execution_count": 46,
   "id": "86dc846b",
   "metadata": {
    "kernel": "R",
    "tags": [
     "report_cell"
    ]
   },
   "outputs": [],
   "source": [
    "library(ggplot2)\n",
    "base=ggplot(fragileWide)\n",
    "base+geom_boxplot(aes(x=as.ordered(2006),y=`2006`)) +\n",
    "     geom_boxplot(aes(x=as.ordered(2010),y=`2010`)) +\n",
    "     geom_boxplot(aes(x=as.ordered(2015),y=`2015`)) + labs(y='')"
   ]
  },
  {
   "cell_type": "markdown",
   "id": "9e2db72a",
   "metadata": {},
   "source": [
    "## From Wide to Long"
   ]
  },
  {
   "cell_type": "markdown",
   "id": "04db4829",
   "metadata": {},
   "source": [
    "We have  **pivot_longer** :"
   ]
  },
  {
   "cell_type": "code",
   "execution_count": 47,
   "id": "6f8e4106",
   "metadata": {
    "kernel": "R",
    "tags": [
     "report_cell"
    ]
   },
   "outputs": [],
   "source": [
    "fragileLong=tidyr::pivot_longer(fragileWide,!Country, names_to = \"Year\", values_to = \"FragilityIndex\")\n",
    "fragileLong"
   ]
  },
  {
   "cell_type": "markdown",
   "id": "1783ba0c",
   "metadata": {},
   "source": [
    "GGPLOT will work with this:"
   ]
  },
  {
   "cell_type": "code",
   "execution_count": 48,
   "id": "a9d84963",
   "metadata": {
    "kernel": "R",
    "tags": [
     "report_cell"
    ]
   },
   "outputs": [],
   "source": [
    "base = ggplot(data=fragileLong)\n",
    "base + geom_boxplot(aes(x=Year,y=FragilityIndex))"
   ]
  },
  {
   "cell_type": "markdown",
   "id": "c3a2ff22",
   "metadata": {},
   "source": [
    "We can also use **base R**:"
   ]
  },
  {
   "cell_type": "code",
   "execution_count": 49,
   "id": "90e4c7df",
   "metadata": {
    "kernel": "R",
    "tags": [
     "report_cell"
    ]
   },
   "outputs": [],
   "source": [
    "boxplot(data=fragileLong,FragilityIndex~Year)"
   ]
  },
  {
   "cell_type": "markdown",
   "id": "d562b21e",
   "metadata": {},
   "source": [
    "This is another example without years.\n",
    "\n",
    "Let me keep one year, and some wide-shaped columns:"
   ]
  },
  {
   "cell_type": "code",
   "execution_count": 50,
   "id": "4a677799",
   "metadata": {
    "kernel": "R",
    "tags": [
     "report_cell"
    ]
   },
   "outputs": [],
   "source": [
    "CVars_columns=c('c1_security_apparatus',\t'c2_factionalized_elites',\t'c3_group_grievance')\n",
    "\n",
    "#only one year\n",
    "fragile_CVars_wide=fragile[fragile$Year==2020,c('Country',CVars_columns)]\n",
    "\n",
    "fragile_CVars_wide"
   ]
  },
  {
   "cell_type": "code",
   "execution_count": 51,
   "id": "0f5079f0",
   "metadata": {
    "kernel": "R",
    "tags": [
     "report_cell"
    ]
   },
   "outputs": [],
   "source": [
    "boxplot(fragile_CVars_wide[,-1])"
   ]
  },
  {
   "cell_type": "code",
   "execution_count": 52,
   "id": "c77bf7eb",
   "metadata": {
    "kernel": "R",
    "tags": [
     "report_cell"
    ]
   },
   "outputs": [],
   "source": [
    "fragile_CVars_long=tidyr::pivot_longer(fragile_CVars_wide,!Country, names_to = \"CVars_name\", values_to = \"CVars_value\")\n",
    "fragile_CVars_long"
   ]
  },
  {
   "cell_type": "code",
   "execution_count": 53,
   "id": "12a56c9b",
   "metadata": {
    "kernel": "R",
    "tags": [
     "report_cell"
    ]
   },
   "outputs": [],
   "source": [
    "base=ggplot(data=fragile_CVars_long)\n",
    "base+geom_boxplot(aes(x=CVars_name,y=CVars_value))"
   ]
  },
  {
   "cell_type": "markdown",
   "id": "6a2bfcfd",
   "metadata": {},
   "source": [
    "## LONG and WIDE madness"
   ]
  },
  {
   "cell_type": "markdown",
   "id": "d8044595",
   "metadata": {},
   "source": [
    "Let me keep both long and wide elements:"
   ]
  },
  {
   "cell_type": "code",
   "execution_count": 54,
   "id": "ff721c10",
   "metadata": {
    "kernel": "R",
    "tags": [
     "report_cell"
    ]
   },
   "outputs": [],
   "source": [
    "fragile_since2020=fragile[fragile$Year>=2020,c('Country','Year',CVars_columns)]\n",
    "fragile_since2020"
   ]
  },
  {
   "cell_type": "markdown",
   "id": "9bd950c2",
   "metadata": {},
   "source": [
    "See this result when sending a long column into a wide format when other variables are already wide:"
   ]
  },
  {
   "cell_type": "code",
   "execution_count": 55,
   "id": "28fb3cbc",
   "metadata": {
    "kernel": "R",
    "tags": [
     "report_cell"
    ]
   },
   "outputs": [],
   "source": [
    "fragile_since2020_wide=tidyr::pivot_wider(fragile_since2020,names_from = Year, values_from = all_of(CVars_columns))\n",
    "fragile_since2020_wide"
   ]
  },
  {
   "cell_type": "markdown",
   "id": "1f06188b",
   "metadata": {},
   "source": [
    "As you saw, the conversion into the wide format changed the column names.\n",
    "\n",
    "Now, sending the wide columns next to the long column:"
   ]
  },
  {
   "cell_type": "code",
   "execution_count": 56,
   "id": "ea85ee48",
   "metadata": {
    "kernel": "R",
    "tags": [
     "report_cell"
    ]
   },
   "outputs": [],
   "source": [
    "fragile_since2020_long=tidyr::pivot_longer(fragile_since2020,\n",
    "                                           !c(Country,Year),\n",
    "                                           names_to = \"CVars_name\",\n",
    "                                           values_to = \"CVars_value\")\n",
    "fragile_since2020_long"
   ]
  }
 ],
 "metadata": {
  "kernelspec": {
   "display_name": "R",
   "language": "R",
   "name": "ir"
  },
  "language_info": {
   "codemirror_mode": "r",
   "file_extension": ".r",
   "mimetype": "text/x-r-source",
   "name": "R",
   "pygments_lexer": "r",
   "version": "3.6.3"
  }
 },
 "nbformat": 4,
 "nbformat_minor": 5
}
