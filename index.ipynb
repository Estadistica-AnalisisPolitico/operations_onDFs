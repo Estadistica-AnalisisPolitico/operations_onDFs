{
 "cells": [
  {
   "cell_type": "markdown",
   "id": "f0e87a2b",
   "metadata": {},
   "source": [
    "<center><img src=\"https://github.com/Estadistica-AnalisisPolitico/operations_onDFs/blob/main/Logo2025.png?raw=true\" width=\"900\"/></center>\n",
    "\n",
    "<br>\n",
    "<br>\n",
    "\n",
    "Profesor:[Dr. José Manuel MAGALLANES REYES, Ph.D](http://www.pucp.edu.pe/profesor/jose-manuel-magallanes/\" target=\"_blank) <br>\n",
    "\n",
    "-   Profesor Principal del Departamento de Ciencias Sociales, Sección de Ciencia Política y Gobierno.\n",
    "\n",
    "-   [Oficina 223](https://goo.gl/maps/xuGeG6o9di1i1y5m6) - Edificio CISEPA / ECONOMIA / CCSS\n",
    "-   Telefono: (51) 1 - 6262000 anexo 4302\n",
    "-   Correo Electrónico: [jmagallanes\\@pucp.edu.pe](mailto:jmagallanes@pucp.edu.pe)\n",
    "\n",
    "------------------------------------------------------------------------"
   ]
  },
  {
   "cell_type": "code",
   "execution_count": 1,
   "id": "5371f4e7",
   "metadata": {
    "Rmd_chunk_options": "klippy, echo=FALSE, include=TRUE",
    "jupyter": {
     "output_hidden": false,
     "source_hidden": true
    },
    "kernel": "R",
    "tags": [
     "report_output"
    ]
   },
   "outputs": [],
   "source": [
    "klippy::klippy(position = c('top', 'right'))"
   ]
  },
  {
   "cell_type": "markdown",
   "id": "e88fe789",
   "metadata": {},
   "source": [
    "# Operations on Data Frames"
   ]
  },
  {
   "cell_type": "markdown",
   "id": "01660277",
   "metadata": {},
   "source": [
    "## Aggregation"
   ]
  },
  {
   "cell_type": "markdown",
   "id": "642684df",
   "metadata": {},
   "source": [
    "Let's bring some data of COVID from [Brazil](https://infoms.saude.gov.br/extensions/covid-19_html/covid-19_html.html):"
   ]
  },
  {
   "cell_type": "code",
   "execution_count": 2,
   "id": "1cd2e64b",
   "metadata": {
    "kernel": "R",
    "tags": [
     "report_cell"
    ]
   },
   "outputs": [],
   "source": [
    "rm(list = ls())\n",
    "linkCovid='https://github.com/Estadistica-AnalisisPolitico/operations_onDFs/raw/refs/heads/main/data/BrasilCovid.rds'\n",
    "dataCovid=readRDS(url(linkCovid))"
   ]
  },
  {
   "cell_type": "markdown",
   "id": "c7fb62cb",
   "metadata": {},
   "source": [
    "Now, check the data available:"
   ]
  },
  {
   "cell_type": "code",
   "execution_count": 3,
   "id": "86796058",
   "metadata": {
    "kernel": "R",
    "tags": [
     "report_cell"
    ]
   },
   "outputs": [],
   "source": [
    "str(dataCovid)"
   ]
  },
  {
   "cell_type": "markdown",
   "id": "b510b35f",
   "metadata": {},
   "source": [
    "Let's keep complete data by \"ESTADO\":"
   ]
  },
  {
   "cell_type": "code",
   "execution_count": 4,
   "id": "3db6a07a",
   "metadata": {
    "kernel": "R",
    "tags": [
     "report_cell"
    ]
   },
   "outputs": [],
   "source": [
    "dataCovid=dataCovid[dataCovid$estado!=\"\",]"
   ]
  },
  {
   "cell_type": "markdown",
   "id": "0d606791",
   "metadata": {},
   "source": [
    "Let's keep some columns:"
   ]
  },
  {
   "cell_type": "code",
   "execution_count": 5,
   "id": "ae02b29e",
   "metadata": {
    "kernel": "R",
    "tags": [
     "report_cell"
    ]
   },
   "outputs": [],
   "source": [
    "toSelect=c('regiao', 'estado', 'municipio','data', 'semanaEpi','casosNovos', 'obitosNovos','day','year','month')\n",
    "covid=dataCovid[,toSelect]\n",
    "\n",
    "head(covid)"
   ]
  },
  {
   "cell_type": "markdown",
   "id": "60d1cdaf",
   "metadata": {},
   "source": [
    "Let's find out about years available:"
   ]
  },
  {
   "cell_type": "code",
   "execution_count": 6,
   "id": "0009465b",
   "metadata": {
    "kernel": "R",
    "tags": [
     "report_cell"
    ]
   },
   "outputs": [],
   "source": [
    "unique(covid$year)"
   ]
  },
  {
   "cell_type": "code",
   "execution_count": 7,
   "id": "5a539fe2",
   "metadata": {
    "kernel": "R",
    "tags": [
     "report_cell"
    ]
   },
   "outputs": [],
   "source": [
    "unique(covid$month)"
   ]
  },
  {
   "cell_type": "markdown",
   "id": "e4e280ae",
   "metadata": {},
   "source": [
    "So, we have data from January to July 2022. Let's find out: **count of new positive cases per month**:"
   ]
  },
  {
   "cell_type": "code",
   "execution_count": 8,
   "id": "67ef46f6",
   "metadata": {
    "kernel": "R",
    "tags": [
     "report_cell"
    ]
   },
   "outputs": [],
   "source": [
    "for (month in unique(covid$month)) {\n",
    "    print(paste(month,sum(covid$casosNovos[covid$month==month])))}"
   ]
  },
  {
   "cell_type": "markdown",
   "id": "817535c5",
   "metadata": {},
   "source": [
    "We use **aggregation** to simplify the previous steps:"
   ]
  },
  {
   "cell_type": "code",
   "execution_count": 9,
   "id": "2e9d03e9",
   "metadata": {
    "kernel": "R",
    "tags": [
     "report_cell"
    ]
   },
   "outputs": [],
   "source": [
    "# sum of cases by month\n",
    "casesSumByMonth=aggregate(data=covid,casosNovos~month,sum)\n",
    "casesSumByMonth"
   ]
  },
  {
   "cell_type": "markdown",
   "id": "fbd5f4f8",
   "metadata": {},
   "source": [
    "Notice the structure:"
   ]
  },
  {
   "cell_type": "code",
   "execution_count": 10,
   "id": "01c31b8f",
   "metadata": {
    "kernel": "R",
    "tags": [
     "report_cell"
    ]
   },
   "outputs": [],
   "source": [
    "is.data.frame(casesSumByMonth)"
   ]
  },
  {
   "cell_type": "markdown",
   "id": "5681e6b6",
   "metadata": {},
   "source": [
    "**AGGREGATING** capabilities allow us to produce useful output with few code:\n",
    "\n",
    "-   **The groupings**:\n",
    "\n",
    "In the last example, *month* was the **grouping** variable. We can have more than one:"
   ]
  },
  {
   "cell_type": "code",
   "execution_count": 11,
   "id": "1a7fdc22",
   "metadata": {
    "kernel": "R",
    "tags": [
     "report_cell"
    ]
   },
   "outputs": [],
   "source": [
    "# sum of cases by estado and month\n",
    "theModel=casosNovos~estado + month\n",
    "theFun=sum\n",
    "casesSumByStateAndMonth=aggregate(data=covid,\n",
    "                                  theModel,\n",
    "                                  theFun)\n",
    "casesSumByStateAndMonth"
   ]
  },
  {
   "cell_type": "markdown",
   "id": "4c3ecf68",
   "metadata": {},
   "source": [
    "-   **The function to apply**:\n",
    "\n",
    "We can have more than one function:"
   ]
  },
  {
   "cell_type": "code",
   "execution_count": 12,
   "id": "2c5107dc",
   "metadata": {
    "kernel": "R",
    "tags": [
     "report_cell"
    ]
   },
   "outputs": [],
   "source": [
    "# sum and mean of cases by estado and week\n",
    "theModel=casosNovos~estado + semanaEpi\n",
    "theFun=function(x) c(mean = mean(x), sum = sum(x) )\n",
    "casesSumAndMeanByStateAndWeek=aggregate(data=covid,\n",
    "                                        theModel,\n",
    "                                        theFun)\n",
    "\n",
    "# sometimes you can not see this (when in RStudio)\n",
    "head(casesSumAndMeanByStateAndWeek,30)"
   ]
  },
  {
   "cell_type": "markdown",
   "id": "62bfc0da",
   "metadata": {},
   "source": [
    "If you do not see the above result, turn the aggregation explicitly into a dataframe:"
   ]
  },
  {
   "cell_type": "code",
   "execution_count": 13,
   "id": "522866fa",
   "metadata": {
    "kernel": "R",
    "tags": [
     "report_cell"
    ]
   },
   "outputs": [],
   "source": [
    "casesSumAndMeanByStateAndWeek=do.call(data.frame,\n",
    "                                      aggregate(data=covid,\n",
    "                                                theModel,\n",
    "                                                theFun))\n",
    "head(casesSumAndMeanByStateAndWeek,30)"
   ]
  },
  {
   "cell_type": "markdown",
   "id": "5a0287b6",
   "metadata": {},
   "source": [
    "-   **The variables transformed**:\n",
    "\n",
    "We can apply the function to more than one variable:"
   ]
  },
  {
   "cell_type": "code",
   "execution_count": 14,
   "id": "010edf2f",
   "metadata": {
    "kernel": "R",
    "tags": [
     "report_cell"
    ]
   },
   "outputs": [],
   "source": [
    "# sum of cases and deaths by estado\n",
    "theModel=cbind(casosNovos,obitosNovos)~estado\n",
    "theFun=sum\n",
    "CasesAndDeathsByState=aggregate(data=covid,\n",
    "                                theModel,\n",
    "                                theFun)\n",
    "\n",
    "head(CasesAndDeathsByState,30)"
   ]
  },
  {
   "cell_type": "markdown",
   "id": "ce06033e",
   "metadata": {},
   "source": [
    "-   Function **according** to variable\n",
    "\n",
    "The function can vary according to variable. In this case, using **dplyr** is needed:"
   ]
  },
  {
   "cell_type": "code",
   "execution_count": 15,
   "id": "9927fd48",
   "metadata": {
    "Rmd_chunk_options": "warning=FALSE, message=FALSE",
    "kernel": "R",
    "tags": [
     "report_cell"
    ]
   },
   "outputs": [],
   "source": [
    "library(dplyr)\n",
    "covid |>\n",
    "  group_by(month) |>\n",
    "  summarize(casosNovos_VAR = var(casosNovos),\n",
    "            casosNovos_SD = sd(casosNovos),\n",
    "            obitosNovos_Median = median(obitosNovos),\n",
    "            obitosNovos_Mean = mean(obitosNovos))"
   ]
  },
  {
   "cell_type": "markdown",
   "id": "840da72d",
   "metadata": {},
   "source": [
    "------------------------------------------------------------------------"
   ]
  },
  {
   "cell_type": "markdown",
   "id": "51a86275",
   "metadata": {},
   "source": [
    "## Concatenation"
   ]
  },
  {
   "cell_type": "markdown",
   "id": "414ef698",
   "metadata": {},
   "source": [
    "As the name implies, it is the process to unite dataframes.\n",
    "\n",
    "For this example, there is a webpage in **[fragilestatesindex.org](https://fragilestatesindex.org/excel/)** where we can find several links to excel files. Let me get all the links:"
   ]
  },
  {
   "cell_type": "code",
   "execution_count": 16,
   "id": "b69130d8",
   "metadata": {
    "Rmd_chunk_options": "eval=TRUE",
    "kernel": "R",
    "tags": [
     "report_cell"
    ]
   },
   "outputs": [],
   "source": [
    "library(rvest)\n",
    "\n",
    "# Read the HTML content of the website\n",
    "webpage <- read_html(\"https://fragilestatesindex.org/excel/\")\n",
    "\n",
    "\n",
    "allLinks=html_nodes(webpage,\"table\") %>%\n",
    "            html_nodes(\"a\") %>% #“a” nodes contain linked text.\n",
    "                html_attr(\"href\")%>% # the url (an html attribute)\n",
    "                    trimws()%>%unique() # cleaning and keeping non duplicated\n",
    "allLinks"
   ]
  },
  {
   "cell_type": "markdown",
   "id": "c950971e",
   "metadata": {},
   "source": [
    "Now, I will create a list of data frames by loading the data from those links:"
   ]
  },
  {
   "cell_type": "code",
   "execution_count": 17,
   "id": "cbb24190",
   "metadata": {
    "Rmd_chunk_options": "eval=TRUE",
    "kernel": "R",
    "tags": [
     "report_cell"
    ]
   },
   "outputs": [],
   "source": [
    "dfs = lapply(allLinks, rio::import,col_types = \"text\")"
   ]
  },
  {
   "cell_type": "markdown",
   "id": "b2770646",
   "metadata": {},
   "source": [
    "Can we concatenate the files now?"
   ]
  },
  {
   "cell_type": "code",
   "execution_count": 18,
   "id": "0547e951",
   "metadata": {
    "Rmd_chunk_options": "eval=FALSE",
    "kernel": "R",
    "tags": [
     "report_cell"
    ]
   },
   "outputs": [],
   "source": [
    "do.call(rbind, dfs)"
   ]
  },
  {
   "cell_type": "markdown",
   "id": "898dc4c3",
   "metadata": {},
   "source": [
    "It is not possible due to the column names differences in each dataframe (DF).\n",
    "\n",
    "We can solve this. Let's build a list where each element is the column names of each DF:"
   ]
  },
  {
   "cell_type": "code",
   "execution_count": 19,
   "id": "440c75fc",
   "metadata": {
    "Rmd_chunk_options": "eval=TRUE",
    "kernel": "R",
    "tags": [
     "report_cell"
    ]
   },
   "outputs": [],
   "source": [
    "allNames=list()\n",
    "i=1\n",
    "for (df in dfs){\n",
    "    allNames[[i]]=names(df)\n",
    "    i=i+1\n",
    "}"
   ]
  },
  {
   "cell_type": "markdown",
   "id": "640e5dfa",
   "metadata": {},
   "source": [
    "Let me find WHAT is common in all DFs:"
   ]
  },
  {
   "cell_type": "code",
   "execution_count": 20,
   "id": "79dd0d1b",
   "metadata": {
    "Rmd_chunk_options": "eval=TRUE",
    "kernel": "R",
    "tags": [
     "report_cell"
    ]
   },
   "outputs": [],
   "source": [
    "Reduce(intersect, allNames)"
   ]
  },
  {
   "cell_type": "markdown",
   "id": "f13cce2a",
   "metadata": {},
   "source": [
    "If this is the union of all the column names:"
   ]
  },
  {
   "cell_type": "code",
   "execution_count": 21,
   "id": "5682288b",
   "metadata": {
    "Rmd_chunk_options": "eval=TRUE",
    "kernel": "R",
    "tags": [
     "report_cell"
    ]
   },
   "outputs": [],
   "source": [
    "Reduce(union, allNames)"
   ]
  },
  {
   "cell_type": "markdown",
   "id": "ffb33289",
   "metadata": {},
   "source": [
    "This is what is NOT common:"
   ]
  },
  {
   "cell_type": "code",
   "execution_count": 22,
   "id": "dbfad7d3",
   "metadata": {
    "Rmd_chunk_options": "eval=TRUE",
    "kernel": "R",
    "tags": [
     "report_cell"
    ]
   },
   "outputs": [],
   "source": [
    "setdiff(Reduce(union, allNames),Reduce(intersect, allNames))"
   ]
  },
  {
   "cell_type": "markdown",
   "id": "16bc4691",
   "metadata": {},
   "source": [
    "I will force that each DF has the same names and is located in the same position:"
   ]
  },
  {
   "cell_type": "code",
   "execution_count": 23,
   "id": "6c830b1e",
   "metadata": {
    "Rmd_chunk_options": "eval=TRUE",
    "kernel": "R",
    "tags": [
     "report_cell"
    ]
   },
   "outputs": [],
   "source": [
    "allInCommon=Reduce(intersect, allNames)\n",
    "\n",
    "for (i in 1:length(dfs)){\n",
    "    dfs[[i]]=dfs[[i]][,allInCommon] #forcing!\n",
    "}"
   ]
  },
  {
   "cell_type": "markdown",
   "id": "dc874377",
   "metadata": {},
   "source": [
    "Now we can concatenate all of them:"
   ]
  },
  {
   "cell_type": "code",
   "execution_count": 24,
   "id": "79dd4035",
   "metadata": {
    "Rmd_chunk_options": "eval=TRUE",
    "kernel": "R",
    "tags": [
     "report_cell"
    ]
   },
   "outputs": [],
   "source": [
    "allFragility=do.call(rbind, dfs)"
   ]
  },
  {
   "cell_type": "markdown",
   "id": "942f6c71",
   "metadata": {},
   "source": [
    "Let's check:"
   ]
  },
  {
   "cell_type": "code",
   "execution_count": 25,
   "id": "69c0ada0",
   "metadata": {
    "Rmd_chunk_options": "eval=TRUE",
    "kernel": "R",
    "tags": [
     "report_cell"
    ]
   },
   "outputs": [],
   "source": [
    "str(allFragility)"
   ]
  },
  {
   "cell_type": "markdown",
   "id": "a6b9c3fd",
   "metadata": {},
   "source": [
    "The concatenation is done, but the result needs cleaning and formatting.\n",
    "\n",
    "Let's use the column name patterns to create more useful names:"
   ]
  },
  {
   "cell_type": "code",
   "execution_count": 26,
   "id": "bd18e33e",
   "metadata": {
    "Rmd_chunk_options": "eval=TRUE",
    "kernel": "R",
    "tags": [
     "report_cell"
    ]
   },
   "outputs": [],
   "source": [
    "# woking on the names that have a ':'\n",
    "grep(':',names(allFragility),value = T)"
   ]
  },
  {
   "cell_type": "code",
   "execution_count": 27,
   "id": "7ae4a237",
   "metadata": {
    "Rmd_chunk_options": "eval=TRUE",
    "kernel": "R",
    "tags": [
     "report_cell"
    ]
   },
   "outputs": [],
   "source": [
    "columnNamesToClean=grep(':',names(allFragility),value = T)\n",
    "\n",
    "# Cleaning: no spaces and to lowercase\n",
    "gsub(\":\\\\s|\\\\s\",\"_\",columnNamesToClean)%>%tolower()"
   ]
  },
  {
   "cell_type": "markdown",
   "id": "651261da",
   "metadata": {},
   "source": [
    "Let's make the replacement:"
   ]
  },
  {
   "cell_type": "code",
   "execution_count": 28,
   "id": "6de5a2c2",
   "metadata": {
    "Rmd_chunk_options": "eval=TRUE",
    "kernel": "R",
    "tags": [
     "report_cell"
    ]
   },
   "outputs": [],
   "source": [
    "# sorted new names\n",
    "newNames=gsub(\":\\\\s|\\\\s\",\"_\",columnNamesToClean)%>%\n",
    "            tolower()\n",
    "\n",
    "# then\n",
    "names(allFragility)=c(names(allFragility)[1:4],newNames)\n",
    "str(allFragility)"
   ]
  },
  {
   "cell_type": "markdown",
   "id": "ac5d8b78",
   "metadata": {},
   "source": [
    "We can have a better ordering in the column names:"
   ]
  },
  {
   "cell_type": "code",
   "execution_count": 29,
   "id": "2985c35b",
   "metadata": {
    "kernel": "R",
    "tags": [
     "report_cell"
    ]
   },
   "outputs": [],
   "source": [
    "allFragility=cbind(allFragility[,c(1:4)],allFragility[,sort(names(allFragility)[-c(1:4)])])"
   ]
  },
  {
   "cell_type": "markdown",
   "id": "ff7e4061",
   "metadata": {},
   "source": [
    "Now:"
   ]
  },
  {
   "cell_type": "code",
   "execution_count": 30,
   "id": "9a9bdc1e",
   "metadata": {
    "kernel": "R",
    "tags": [
     "report_cell"
    ]
   },
   "outputs": [],
   "source": [
    "head(allFragility)"
   ]
  },
  {
   "cell_type": "markdown",
   "id": "357b7ea7",
   "metadata": {},
   "source": [
    "Let's check some possible errors knowing the origin was an excel file:\n",
    "\n",
    "- The year:"
   ]
  },
  {
   "cell_type": "code",
   "execution_count": 31,
   "id": "a457895f",
   "metadata": {
    "Rmd_chunk_options": "eval=TRUE",
    "kernel": "R",
    "tags": [
     "report_cell"
    ]
   },
   "outputs": [],
   "source": [
    "table(allFragility$Year)"
   ]
  },
  {
   "cell_type": "markdown",
   "id": "975871e7",
   "metadata": {},
   "source": [
    "The numeric format tells us the representation of a date:"
   ]
  },
  {
   "cell_type": "code",
   "execution_count": 32,
   "id": "bdde64cd",
   "metadata": {
    "Rmd_chunk_options": "eval=TRUE",
    "kernel": "R",
    "tags": [
     "report_cell"
    ]
   },
   "outputs": [],
   "source": [
    "as.Date(38718, origin=\"1899-12-30\")"
   ]
  },
  {
   "cell_type": "markdown",
   "id": "daddd45e",
   "metadata": {},
   "source": [
    "This looks like an easy fix, just verify we have integers:"
   ]
  },
  {
   "cell_type": "code",
   "execution_count": 33,
   "id": "2766dad8",
   "metadata": {
    "Rmd_chunk_options": "eval=TRUE",
    "kernel": "R",
    "tags": [
     "report_cell"
    ]
   },
   "outputs": [],
   "source": [
    "str(allFragility$Year)"
   ]
  },
  {
   "cell_type": "markdown",
   "id": "4bea8822",
   "metadata": {},
   "source": [
    "Then,"
   ]
  },
  {
   "cell_type": "code",
   "execution_count": 34,
   "id": "d14ebde7",
   "metadata": {
    "Rmd_chunk_options": "eval=TRUE",
    "kernel": "R",
    "tags": [
     "report_cell"
    ]
   },
   "outputs": [],
   "source": [
    "allFragility$Year=as.numeric(allFragility$Year)"
   ]
  },
  {
   "cell_type": "markdown",
   "id": "66da8846",
   "metadata": {},
   "source": [
    "We have two years well written, then:"
   ]
  },
  {
   "cell_type": "code",
   "execution_count": 35,
   "id": "5dbc7213",
   "metadata": {
    "Rmd_chunk_options": "eval=TRUE",
    "kernel": "R",
    "tags": [
     "report_cell"
    ]
   },
   "outputs": [],
   "source": [
    "# temporal Column:\n",
    "allFragility$Year2=format(as.Date(allFragility$Year,\n",
    "                                  origin=\"1899-12-30\"),\n",
    "                          \"%Y\") # I will just recover the year.\n",
    "\n",
    "# improved column\n",
    "allFragility$Year=ifelse(allFragility$Year%in%c(2021,2023),\n",
    "                         allFragility$Year,\n",
    "                         allFragility$Year2)\n",
    "\n",
    "# deleting temporal\n",
    "allFragility$Year2=NULL\n",
    "\n",
    "# as numeric\n",
    "allFragility$Year=as.numeric(allFragility$Year)\n",
    "# now\n",
    "table(allFragility$Year)"
   ]
  },
  {
   "cell_type": "markdown",
   "id": "b050389c",
   "metadata": {},
   "source": [
    "Recheck data types:"
   ]
  },
  {
   "cell_type": "code",
   "execution_count": 36,
   "id": "be320329",
   "metadata": {
    "kernel": "R",
    "tags": [
     "report_cell"
    ]
   },
   "outputs": [],
   "source": [
    "str(allFragility)"
   ]
  },
  {
   "cell_type": "markdown",
   "id": "0ac15ee4",
   "metadata": {},
   "source": [
    "- Formatting the numeric columns:"
   ]
  },
  {
   "cell_type": "code",
   "execution_count": 37,
   "id": "21d1c1f5",
   "metadata": {
    "Rmd_chunk_options": "eval=TRUE",
    "kernel": "R",
    "tags": [
     "report_cell"
    ]
   },
   "outputs": [],
   "source": [
    "allFragility[,-c(1:3)]=lapply(allFragility[,-c(1:3)],as.numeric)"
   ]
  },
  {
   "cell_type": "markdown",
   "id": "454f1240",
   "metadata": {},
   "source": [
    "Verifying:"
   ]
  },
  {
   "cell_type": "code",
   "execution_count": 38,
   "id": "ef77205c",
   "metadata": {
    "Rmd_chunk_options": "eval=TRUE",
    "kernel": "R",
    "tags": [
     "report_cell"
    ]
   },
   "outputs": [],
   "source": [
    "str(allFragility)"
   ]
  },
  {
   "cell_type": "markdown",
   "id": "0c569a2c",
   "metadata": {},
   "source": [
    "We have concatenated, cleaned and formatted successfully"
   ]
  },
  {
   "cell_type": "code",
   "execution_count": 39,
   "id": "7447a2e4",
   "metadata": {
    "Rmd_chunk_options": "eval=TRUE",
    "kernel": "R",
    "tags": [
     "report_cell"
    ]
   },
   "outputs": [],
   "source": [
    "saveRDS(allFragility,'allFragility_ok.rds')"
   ]
  },
  {
   "cell_type": "markdown",
   "id": "4760fd82",
   "metadata": {},
   "source": [
    "------------------------------------------------------------------------"
   ]
  },
  {
   "cell_type": "markdown",
   "id": "eb3bbdac",
   "metadata": {},
   "source": [
    "## Reshaping"
   ]
  },
  {
   "cell_type": "markdown",
   "id": "fab23e95",
   "metadata": {},
   "source": [
    "Let me recover that data:"
   ]
  },
  {
   "cell_type": "code",
   "execution_count": 40,
   "id": "c69958ef",
   "metadata": {
    "kernel": "R",
    "tags": [
     "report_cell"
    ]
   },
   "outputs": [],
   "source": [
    "linkFragile='https://github.com/Estadistica-AnalisisPolitico/operations_onDFs/raw/refs/heads/main/data/allFragility_ok.rds'\n",
    "fragile=readRDS(url(linkFragile))"
   ]
  },
  {
   "cell_type": "markdown",
   "id": "2957e2f0",
   "metadata": {},
   "source": [
    "A basic look:"
   ]
  },
  {
   "cell_type": "code",
   "execution_count": 41,
   "id": "1f0d60ed",
   "metadata": {
    "kernel": "R",
    "tags": [
     "report_cell"
    ]
   },
   "outputs": [],
   "source": [
    "str(fragile)"
   ]
  },
  {
   "cell_type": "markdown",
   "id": "e3c53929",
   "metadata": {},
   "source": [
    "We have data about countries (index of fragility and its components). The data is from several years:"
   ]
  },
  {
   "cell_type": "code",
   "execution_count": 42,
   "id": "3b5fcf9a",
   "metadata": {
    "kernel": "R",
    "tags": [
     "report_cell"
    ]
   },
   "outputs": [],
   "source": [
    "table(fragile$Year)"
   ]
  },
  {
   "cell_type": "markdown",
   "id": "7063cc80",
   "metadata": {},
   "source": [
    "Take a look:"
   ]
  },
  {
   "cell_type": "code",
   "execution_count": 43,
   "id": "f250dee9",
   "metadata": {
    "kernel": "R",
    "tags": [
     "report_cell"
    ]
   },
   "outputs": [],
   "source": [
    "head(fragile)"
   ]
  },
  {
   "cell_type": "markdown",
   "id": "83b11381",
   "metadata": {},
   "source": [
    "What **shape** does the table have? The presence of year in a column could make us think it is in a long shape.\n",
    "\n",
    "This could be a LONG:"
   ]
  },
  {
   "cell_type": "code",
   "execution_count": 44,
   "id": "542541fe",
   "metadata": {
    "kernel": "R",
    "tags": [
     "report_cell"
    ]
   },
   "outputs": [],
   "source": [
    "head(fragile[,c('Country','Year','Total')])"
   ]
  },
  {
   "cell_type": "markdown",
   "id": "da9ac8be",
   "metadata": {},
   "source": [
    "And you also have WIDE:"
   ]
  },
  {
   "cell_type": "code",
   "execution_count": 45,
   "id": "4b1b3937",
   "metadata": {
    "kernel": "R",
    "tags": [
     "report_cell"
    ]
   },
   "outputs": [],
   "source": [
    "head(fragile[fragile$Year==2023,c('Country','c1_security_apparatus',\t'c2_factionalized_elites',\t'c3_group_grievance')])"
   ]
  },
  {
   "cell_type": "markdown",
   "id": "637687e8",
   "metadata": {},
   "source": [
    "## From Long to Wide"
   ]
  },
  {
   "cell_type": "code",
   "execution_count": 46,
   "id": "d8d22c08",
   "metadata": {
    "kernel": "R",
    "tags": [
     "report_cell"
    ]
   },
   "outputs": [],
   "source": [
    "fragileWide=tidyr::pivot_wider(fragile[,c('Country','Year','Total')],\n",
    "                               names_from = Year,\n",
    "                               values_from = Total,\n",
    "                               names_sort=T)\n",
    "fragileWide"
   ]
  },
  {
   "cell_type": "markdown",
   "id": "47f9d613",
   "metadata": {},
   "source": [
    "Notice that for the column to be sorted properly you need to adding *names_sort*.\n",
    "\n",
    "The wide format is useful in several cases. In general, it looks easy.\n",
    "\n",
    "In **base R**, you can use it directly for plotting:"
   ]
  },
  {
   "cell_type": "code",
   "execution_count": 47,
   "id": "ad0d9232",
   "metadata": {
    "kernel": "R",
    "tags": [
     "report_cell"
    ]
   },
   "outputs": [],
   "source": [
    "boxplot(fragileWide[,-1])"
   ]
  },
  {
   "cell_type": "markdown",
   "id": "50110de1",
   "metadata": {},
   "source": [
    "BUT in others such as GGPLOT, it is troublesome to use that format:"
   ]
  },
  {
   "cell_type": "code",
   "execution_count": 48,
   "id": "cd4d33fe",
   "metadata": {
    "kernel": "R",
    "tags": [
     "report_cell"
    ]
   },
   "outputs": [],
   "source": [
    "library(ggplot2)\n",
    "base=ggplot(fragileWide)\n",
    "base+geom_boxplot(aes(x=as.ordered(2006),y=`2006`)) +\n",
    "     geom_boxplot(aes(x=as.ordered(2010),y=`2010`)) +\n",
    "     geom_boxplot(aes(x=as.ordered(2015),y=`2015`)) + labs(y='')"
   ]
  },
  {
   "cell_type": "markdown",
   "id": "a9e9bda3",
   "metadata": {},
   "source": [
    "## From Wide to Long"
   ]
  },
  {
   "cell_type": "markdown",
   "id": "5dc6ae92",
   "metadata": {},
   "source": [
    "We have  **pivot_longer** :"
   ]
  },
  {
   "cell_type": "code",
   "execution_count": 49,
   "id": "f1e1ece2",
   "metadata": {
    "kernel": "R",
    "tags": [
     "report_cell"
    ]
   },
   "outputs": [],
   "source": [
    "fragileLong=tidyr::pivot_longer(fragileWide,!Country, names_to = \"Year\", values_to = \"FragilityIndex\")\n",
    "fragileLong"
   ]
  },
  {
   "cell_type": "markdown",
   "id": "b014891b",
   "metadata": {},
   "source": [
    "GGPLOT will work with this:"
   ]
  },
  {
   "cell_type": "code",
   "execution_count": 50,
   "id": "da8e3663",
   "metadata": {
    "kernel": "R",
    "tags": [
     "report_cell"
    ]
   },
   "outputs": [],
   "source": [
    "base = ggplot(data=fragileLong)\n",
    "base + geom_boxplot(aes(x=Year,y=FragilityIndex))"
   ]
  },
  {
   "cell_type": "markdown",
   "id": "c7931400",
   "metadata": {},
   "source": [
    "We can also use **base R**:"
   ]
  },
  {
   "cell_type": "code",
   "execution_count": 51,
   "id": "e5bb3f3f",
   "metadata": {
    "kernel": "R",
    "tags": [
     "report_cell"
    ]
   },
   "outputs": [],
   "source": [
    "boxplot(data=fragileLong,FragilityIndex~Year)"
   ]
  },
  {
   "cell_type": "markdown",
   "id": "7c452a37",
   "metadata": {},
   "source": [
    "This is another example without years.\n",
    "\n",
    "Let me keep one year, and some wide-shaped columns:"
   ]
  },
  {
   "cell_type": "code",
   "execution_count": 52,
   "id": "76b05269",
   "metadata": {
    "kernel": "R",
    "tags": [
     "report_cell"
    ]
   },
   "outputs": [],
   "source": [
    "CVars_columns=c('c1_security_apparatus',\t'c2_factionalized_elites',\t'c3_group_grievance')\n",
    "\n",
    "#only one year\n",
    "fragile_CVars_wide=fragile[fragile$Year==2020,c('Country',CVars_columns)]\n",
    "\n",
    "fragile_CVars_wide"
   ]
  },
  {
   "cell_type": "code",
   "execution_count": 53,
   "id": "45919e2f",
   "metadata": {
    "kernel": "R",
    "tags": [
     "report_cell"
    ]
   },
   "outputs": [],
   "source": [
    "boxplot(fragile_CVars_wide[,-1])"
   ]
  },
  {
   "cell_type": "code",
   "execution_count": 54,
   "id": "38a50292",
   "metadata": {
    "kernel": "R",
    "tags": [
     "report_cell"
    ]
   },
   "outputs": [],
   "source": [
    "fragile_CVars_long=tidyr::pivot_longer(fragile_CVars_wide,!Country, names_to = \"CVars_name\", values_to = \"CVars_value\")\n",
    "fragile_CVars_long"
   ]
  },
  {
   "cell_type": "code",
   "execution_count": 55,
   "id": "503ac3cf",
   "metadata": {
    "kernel": "R",
    "tags": [
     "report_cell"
    ]
   },
   "outputs": [],
   "source": [
    "base=ggplot(data=fragile_CVars_long)\n",
    "base+geom_boxplot(aes(x=CVars_name,y=CVars_value))"
   ]
  },
  {
   "cell_type": "markdown",
   "id": "644f07f4",
   "metadata": {},
   "source": [
    "## LONG and WIDE madness"
   ]
  },
  {
   "cell_type": "markdown",
   "id": "a2fc24cd",
   "metadata": {},
   "source": [
    "Let me keep both long and wide elements:"
   ]
  },
  {
   "cell_type": "code",
   "execution_count": 56,
   "id": "97bc45e3",
   "metadata": {
    "kernel": "R",
    "tags": [
     "report_cell"
    ]
   },
   "outputs": [],
   "source": [
    "fragile_since2020=fragile[fragile$Year>=2020,c('Country','Year',CVars_columns)]\n",
    "fragile_since2020"
   ]
  },
  {
   "cell_type": "markdown",
   "id": "4b982798",
   "metadata": {},
   "source": [
    "See this result when sending a long column into a wide format when other variables are already wide:"
   ]
  },
  {
   "cell_type": "code",
   "execution_count": 57,
   "id": "45282755",
   "metadata": {
    "kernel": "R",
    "tags": [
     "report_cell"
    ]
   },
   "outputs": [],
   "source": [
    "fragile_since2020_wide=tidyr::pivot_wider(fragile_since2020,names_from = Year, values_from = all_of(CVars_columns))\n",
    "fragile_since2020_wide"
   ]
  },
  {
   "cell_type": "markdown",
   "id": "91b04db6",
   "metadata": {},
   "source": [
    "As you saw, the conversion into the wide format changed the column names.\n",
    "\n",
    "Now, sending the wide columns next to the long column:"
   ]
  },
  {
   "cell_type": "code",
   "execution_count": 58,
   "id": "2f6e4a69",
   "metadata": {
    "kernel": "R",
    "tags": [
     "report_cell"
    ]
   },
   "outputs": [],
   "source": [
    "fragile_since2020_long=tidyr::pivot_longer(fragile_since2020,\n",
    "                                           !c(Country,Year),\n",
    "                                           names_to = \"CVars_name\",\n",
    "                                           values_to = \"CVars_value\")\n",
    "fragile_since2020_long"
   ]
  }
 ],
 "metadata": {
  "kernelspec": {
   "display_name": "R",
   "language": "R",
   "name": "ir"
  },
  "language_info": {
   "codemirror_mode": "r",
   "file_extension": ".r",
   "mimetype": "text/x-r-source",
   "name": "R",
   "pygments_lexer": "r",
   "version": "3.6.3"
  }
 },
 "nbformat": 4,
 "nbformat_minor": 5
}
