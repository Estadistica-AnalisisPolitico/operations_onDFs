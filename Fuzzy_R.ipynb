{
  "nbformat": 4,
  "nbformat_minor": 0,
  "metadata": {
    "colab": {
      "provenance": []
    },
    "kernelspec": {
      "name": "ir",
      "display_name": "R"
    },
    "language_info": {
      "name": "R"
    }
  },
  "cells": [
    {
      "cell_type": "code",
      "execution_count": null,
      "metadata": {
        "id": "3VAwBqg67Xfj"
      },
      "outputs": [],
      "source": [
        "demoIndex=\"https://docs.google.com/spreadsheets/d/e/2PACX-1vQWJnw11Xd2TvEd0p6_6d2NhtG29T9D_85ooNB4yddfIVH_LBaqiYroAD3sZzD1wvOxBPpj68gPcPsi/pub?gid=0&single=true&output=csv\"\n",
        "debtIndex=\"https://docs.google.com/spreadsheets/d/e/2PACX-1vQWJnw11Xd2TvEd0p6_6d2NhtG29T9D_85ooNB4yddfIVH_LBaqiYroAD3sZzD1wvOxBPpj68gPcPsi/pub?gid=1301926611&single=true&output=csv\""
      ]
    },
    {
      "cell_type": "markdown",
      "source": [
        "Opening the data frames:"
      ],
      "metadata": {
        "id": "DzWq7LQg704B"
      }
    },
    {
      "cell_type": "code",
      "source": [
        "demo=read.csv(demoIndex)\n",
        "debt=read.csv(debtIndex)"
      ],
      "metadata": {
        "id": "NUhDHtf07yfh"
      },
      "execution_count": null,
      "outputs": []
    },
    {
      "cell_type": "code",
      "source": [
        "str(demo)"
      ],
      "metadata": {
        "id": "lY90pp157-hv"
      },
      "execution_count": null,
      "outputs": []
    },
    {
      "cell_type": "code",
      "source": [
        "str(debt)"
      ],
      "metadata": {
        "id": "oI8yrkes8Csw"
      },
      "execution_count": null,
      "outputs": []
    },
    {
      "cell_type": "markdown",
      "source": [
        "We can not create a non-missing data merged dataframe with more rows than the smaller data frame, which is the Democracy Index data."
      ],
      "metadata": {
        "id": "0wxFrWGB8H7-"
      }
    },
    {
      "cell_type": "code",
      "source": [
        "str(merge(demo,debt, by.x='name', by.y='name'))"
      ],
      "metadata": {
        "id": "W8EuqXw-8GZX"
      },
      "execution_count": null,
      "outputs": []
    },
    {
      "cell_type": "markdown",
      "source": [
        "Can we recover some rows in the **inner** merge?\n",
        "\n",
        "Let's find out what was not matched in each case:"
      ],
      "metadata": {
        "id": "828bXhwS8xzs"
      }
    },
    {
      "cell_type": "code",
      "source": [
        "onlyInDemo=sort(setdiff(demo$name,debt$name))\n",
        "onlyInDemo"
      ],
      "metadata": {
        "id": "UW1bttia8qZr"
      },
      "execution_count": null,
      "outputs": []
    },
    {
      "cell_type": "code",
      "source": [
        "onlyInDebt=sort(setdiff(debt$name,demo$name))\n",
        "onlyInDebt"
      ],
      "metadata": {
        "id": "tUCsvKCx9CV_"
      },
      "execution_count": null,
      "outputs": []
    },
    {
      "cell_type": "markdown",
      "source": [
        "Let's install **stringdist**:"
      ],
      "metadata": {
        "id": "3oTv1iZd9aCZ"
      }
    },
    {
      "cell_type": "code",
      "source": [
        "# install.packages(\"stringdist\")"
      ],
      "metadata": {
        "id": "Yc46-DDs9Fy-"
      },
      "execution_count": null,
      "outputs": []
    },
    {
      "cell_type": "code",
      "source": [
        "stringdist::stringdist(onlyInDemo[1],onlyInDebt,method = 'jaccard')"
      ],
      "metadata": {
        "id": "dhfNHuU6D8Rq"
      },
      "execution_count": null,
      "outputs": []
    },
    {
      "cell_type": "code",
      "source": [
        "TheMatch<-character()\n",
        "mindist<-integer()\n",
        "sortedmatches<-character()\n",
        "\n",
        "for (i in 1:length(onlyInDemo) ) {\n",
        "  allDistances<-stringdist::stringdist(onlyInDemo[i],onlyInDebt,method = 'jw')\n",
        "  mindist[i]=min(allDistances)\n",
        "  TheMatch[i]<-onlyInDebt[which.min(allDistances)]\n",
        "}\n",
        "fuzzyOutput=data.frame(input=onlyInDemo,possible_match=TheMatch,divergence=mindist,  stringsAsFactors = F)\n",
        "\n",
        "fuzzyOutput[order(-fuzzyOutput$divergence),]"
      ],
      "metadata": {
        "id": "TmE8bAB19jwE"
      },
      "execution_count": null,
      "outputs": []
    },
    {
      "cell_type": "code",
      "source": [
        "best_fuzzy_1=fuzzyOutput[fuzzyOutput$divergence<=0.23,]\n",
        "best_fuzzy_1"
      ],
      "metadata": {
        "id": "Jj3YYL4-EmME"
      },
      "execution_count": null,
      "outputs": []
    },
    {
      "cell_type": "code",
      "source": [
        "demo$name[match(best_fuzzy_1$input, demo$name)] = best_fuzzy_1$possible_match\n",
        "\n",
        "onlyInDemo=sort(setdiff(demo$name,debt$name))\n",
        "onlyInDebt=sort(setdiff(debt$name,demo$name))\n",
        "\n",
        "TheMatch<-character()\n",
        "mindist<-integer()\n",
        "sortedmatches<-character()\n",
        "\n",
        "for (i in 1:length(onlyInDemo) ) {\n",
        "  allDistances<-stringdist::stringdist(onlyInDemo[i],onlyInDebt,method = 'jw')\n",
        "  mindist[i]=min(allDistances)\n",
        "  TheMatch[i]<-onlyInDebt[which.min(allDistances)]\n",
        "}\n",
        "fuzzyOutput=data.frame(input=onlyInDemo,possible_match=TheMatch,divergence=mindist,  stringsAsFactors = F)\n",
        "\n",
        "fuzzyOutput[order(-fuzzyOutput$divergence),]"
      ],
      "metadata": {
        "id": "F7lAh3YGKBZ1"
      },
      "execution_count": null,
      "outputs": []
    },
    {
      "cell_type": "code",
      "source": [
        "best_fuzzy_2=fuzzyOutput[c(4,3,9,1,2),]\n",
        "best_fuzzy_2"
      ],
      "metadata": {
        "id": "3rEkh5WeKCl4"
      },
      "execution_count": null,
      "outputs": []
    },
    {
      "cell_type": "code",
      "source": [
        "demo$name[match(best_fuzzy_2$input, demo$name)] = best_fuzzy_2$possible_match\n",
        "\n",
        "onlyInDemo=sort(setdiff(demo$name,debt$name))\n",
        "onlyInDebt=sort(setdiff(debt$name,demo$name))\n",
        "\n",
        "TheMatch<-character()\n",
        "mindist<-integer()\n",
        "sortedmatches<-character()\n",
        "\n",
        "for (i in 1:length(onlyInDemo) ) {\n",
        "  allDistances<-stringdist::stringdist(onlyInDemo[i],onlyInDebt,method = 'jw')\n",
        "  mindist[i]=min(allDistances)\n",
        "  TheMatch[i]<-onlyInDebt[which.min(allDistances)]\n",
        "}\n",
        "fuzzyOutput=data.frame(input=onlyInDemo,possible_match=TheMatch,divergence=mindist,  stringsAsFactors = F)\n",
        "\n",
        "fuzzyOutput[order(-fuzzyOutput$divergence),]"
      ],
      "metadata": {
        "id": "GT61gc_jk0an"
      },
      "execution_count": null,
      "outputs": []
    },
    {
      "cell_type": "code",
      "source": [
        "TheMatch<-character()\n",
        "mindist<-integer()\n",
        "sortedmatches<-character()\n",
        "\n",
        "for (i in 1:length(onlyInDemo) ) {\n",
        "  allDistances<-stringdist::stringdist(onlyInDemo[i],onlyInDebt,method = 'cosine')\n",
        "  mindist[i]=min(allDistances)\n",
        "  TheMatch[i]<-onlyInDebt[which.min(allDistances)]\n",
        "}\n",
        "fuzzyOutput=data.frame(input=onlyInDemo,possible_match=TheMatch,divergence=mindist,  stringsAsFactors = F)\n",
        "\n",
        "fuzzyOutput[order(-fuzzyOutput$divergence),]"
      ],
      "metadata": {
        "id": "Sgihf5SllHnw"
      },
      "execution_count": null,
      "outputs": []
    },
    {
      "cell_type": "code",
      "source": [
        "best_fuzzy_3=fuzzyOutput[c(1,5),]\n",
        "best_fuzzy_3"
      ],
      "metadata": {
        "id": "lrEJ80qzliE6"
      },
      "execution_count": null,
      "outputs": []
    },
    {
      "cell_type": "code",
      "source": [
        "best_fuzzy_3=rbind(best_fuzzy_3,c('Swaziland','Eswatini',NA))\n",
        "best_fuzzy_3"
      ],
      "metadata": {
        "id": "B3HsEjrll025"
      },
      "execution_count": null,
      "outputs": []
    },
    {
      "cell_type": "code",
      "source": [
        "demo$name[match(best_fuzzy_3$input, demo$name)] = best_fuzzy_3$possible_match"
      ],
      "metadata": {
        "id": "UuB9MEUuK7oj"
      },
      "execution_count": null,
      "outputs": []
    },
    {
      "cell_type": "code",
      "source": [
        "str(merge(demo,debt, by.x='name', by.y='name'))"
      ],
      "metadata": {
        "id": "3zH_LpEuiSc-"
      },
      "execution_count": null,
      "outputs": []
    },
    {
      "cell_type": "code",
      "source": [],
      "metadata": {
        "id": "_ySUYWkumT-m"
      },
      "execution_count": null,
      "outputs": []
    }
  ]
}